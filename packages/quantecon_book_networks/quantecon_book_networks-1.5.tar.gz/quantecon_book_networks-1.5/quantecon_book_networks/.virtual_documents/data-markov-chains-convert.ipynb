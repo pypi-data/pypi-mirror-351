from pandas_datareader import wb
import pandas as pd
import numpy as np





data = wb.get_countries()
data = data[data['region'] != 'Aggregates']
countries = list(data['iso2c'])
ind = ['NY.GDP.PCAP.CD']


data





dat = wb.download(indicator=ind, country=countries, start=1960, end=2019, errors="ignore")


dat


dat.to_csv("data/markov_chains_networks/wb_gdppc.csv")


dat2 = pd.read_csv("data/markov_chains_networks/wb_gdppc.csv", index_col=["country","year"])


dat2





dat0 = wb.download(indicator=ind, country='WLD', start=1960, end=2019, errors="ignore")


dat0


dat0.to_csv("data/markov_chains_networks/wb_gdppc_wld.csv")


dat02 = pd.read_csv("data/markov_chains_networks/wb_gdppc_wld.csv", index_col=["country","year"])


dat02


def markov_chains_and_networks():
    """
    Load data used in Markov Chains and Networks chapter. 

        Returns:
            ch_data (dict): Dictionary of data names and associated data objects. Note: some data objects are further nested as dictionaries. 
    """

    # See data-markov-chains-convert.ipynb for data generation
    # data = wb.get_countries()
    # data = data[data['region'] != 'Aggregates']
    data = pd.read_csv("data/markov_chains_networks/wb_countries.csv")
    countries = list(data['iso2c'])
    ind = ['NY.GDP.PCAP.CD']

    # NY.GDP.PCAP.CD GDP per capita in current US$ and NY.GDP.PCAP.PP.CD GDP per capita in current international $
    # dat = wb.download(indicator=ind, country=countries, start=1960, end=2019, errors="ignore")
    dat = pd.read_csv("data/markov_chains_networks/wb_gdppc.csv", index_col=["country","year"])
    dat = dat.reset_index()
    dat.columns = 'country', 'year', 'gdppc'

    # dat0 = wb.download(indicator=ind, country='WLD', start=1960, end=2019, errors="ignore")
    dat0 = pd.read_csv("data/markov_chains_networks/wb_gdppc_wld.csv", index_col=["country","year"])
    dat0 = dat0.reset_index()
    dat0.columns = 'country', 'year', 'gdppc_w'
 
    dat0 = dat0[['year', 'gdppc_w']]

    df = pd.merge(dat, dat0, on='year').set_index(['country','year'])
    df['gdppc_r'] = df['gdppc'] / df['gdppc_w']

    ch_data = {
        'gdppc_df': df 

    }

    return ch_data


df = markov_chains_and_networks()


df



