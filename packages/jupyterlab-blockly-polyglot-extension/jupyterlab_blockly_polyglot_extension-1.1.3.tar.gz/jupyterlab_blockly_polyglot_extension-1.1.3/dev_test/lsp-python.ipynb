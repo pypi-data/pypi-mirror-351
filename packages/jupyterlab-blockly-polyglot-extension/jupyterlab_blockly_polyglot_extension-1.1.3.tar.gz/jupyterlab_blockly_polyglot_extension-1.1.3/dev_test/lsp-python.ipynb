{
 "cells": [
  {
   "attachments": {},
   "cell_type": "markdown",
   "id": "8e7159d6-d6d1-4387-962b-913105d30188",
   "metadata": {},
   "source": [
    "# start\n",
    "\n",
    "Load 'datasets/iris.csv' into a dataframe\n",
    "\n"
   ]
  },
  {
   "cell_type": "code",
   "execution_count": 2,
   "id": "ae6d8e94-2b82-44a2-b29a-4a6fe75525bf",
   "metadata": {
    "editable": true,
    "slideshow": {
     "slide_type": ""
    },
    "tags": [],
    "user_blocks": [
     "importAs",
     "importAs"
    ],
    "user_blocks_xml": "<xml xmlns=\"https://developers.google.com/blockly/xml\"><variables><variable id=\"sSFVK3z!rqGlufEk(OC`\">px</variable><variable id=\"oIoZ:~IYMv}UCdRU.n)Z\">pd</variable></variables><block type=\"importAs\" id=\"Kh(b^qDxfn1j$5y{mKbS\" x=\"-50\" y=\"260\"><field name=\"libraryName\">plotly.express</field><field name=\"VAR\" id=\"sSFVK3z!rqGlufEk(OC`\">px</field><next><block type=\"importAs\" id=\"EI2`[V?s2JweihtG(y;T\"><field name=\"libraryName\">pandas</field><field name=\"VAR\" id=\"oIoZ:~IYMv}UCdRU.n)Z\">pd</field></block></next></block></xml>",
    "user_code_from_blocks": "import plotly.express as px\nimport pandas as pd\n"
   },
   "outputs": [],
   "source": [
    "import plotly.express as px\n",
    "import pandas as pd\n",
    "\n",
    "#<xml xmlns=\"https://developers.google.com/blockly/xml\"><variables><variable id=\"sSFVK3z!rqGlufEk(OC`\">px</variable><variable id=\"oIoZ:~IYMv}UCdRU.n)Z\">pd</variable></variables><block type=\"importAs\" id=\"Kh(b^qDxfn1j$5y{mKbS\" x=\"-50\" y=\"260\"><field name=\"libraryName\">plotly.express</field><field name=\"VAR\" id=\"sSFVK3z!rqGlufEk(OC`\">px</field><next><block type=\"importAs\" id=\"EI2`[V?s2JweihtG(y;T\"><field name=\"libraryName\">pandas</field><field name=\"VAR\" id=\"oIoZ:~IYMv}UCdRU.n)Z\">pd</field></block></next></block></xml>"
   ]
  },
  {
   "cell_type": "code",
   "execution_count": 4,
   "id": "4cd00762-256f-4ac7-b9ed-c63a62a73aba",
   "metadata": {
    "user_blocks": [
     "variables_set",
     "varDoMethod",
     "text",
     "variables_set",
     "indexer",
     "text",
     "varDoMethod",
     "variables_set",
     "varGetProperty",
     "varDoMethod"
    ],
    "user_blocks_xml": "<xml xmlns=\"https://developers.google.com/blockly/xml\"><variables><variable id=\"CA!Q$oN[]8p-|fEA7na|\">df</variable><variable id=\"ku#PM`EX-Rq:eCd#P@O[\">sl</variable><variable id=\"?=c^;wF+$g.4Z?#`=!.b\">sw</variable><variable id=\"oIoZ:~IYMv}UCdRU.n)Z\">pd</variable></variables><block type=\"variables_set\" id=\"i*_nJ2lyQu_l7kM2SG0h\" x=\"-18\" y=\"112\"><field name=\"VAR\" id=\"CA!Q$oN[]8p-|fEA7na|\">df</field><value name=\"VALUE\"><block type=\"varDoMethod\" id=\"{VQfx)P*`yo^8kl]HBqx\"><mutation items=\"1\"></mutation><field name=\"VAR\" id=\"oIoZ:~IYMv}UCdRU.n)Z\">pd</field><field name=\"MEMBER\">read_csv</field><data>pd:read_csv</data><value name=\"ADD0\"><block type=\"text\" id=\"kT1^mlW|K8kC=#VR{?l2\"><field name=\"TEXT\">datasets/iris.csv</field></block></value></block></value></block><block type=\"variables_set\" id=\"%*-WcI(wk1B{)HvQL=Q-\" x=\"-17\" y=\"212\"><field name=\"VAR\" id=\"ku#PM`EX-Rq:eCd#P@O[\">sl</field><value name=\"VALUE\"><block type=\"indexer\" id=\"yT=~PJqFM30wlKj*Ld)e\"><field name=\"VAR\" id=\"CA!Q$oN[]8p-|fEA7na|\">df</field><value name=\"INDEX\"><block type=\"text\" id=\"X56G7xvCihC2w90@WOU-\"><field name=\"TEXT\">SepalLength</field></block></value></block></value></block><block type=\"varDoMethod\" id=\"ls6Js4:SWJ[$IS=6o,fL\" x=\"-23\" y=\"319\"><mutation items=\"1\"></mutation><field name=\"VAR\" id=\"ku#PM`EX-Rq:eCd#P@O[\">sl</field><field name=\"MEMBER\">undefined</field><data>sl:undefined</data></block><block type=\"variables_set\" id=\"QqOY_|Z;EI:MzSJR4_w,\" x=\"-21\" y=\"407\"><field name=\"VAR\" id=\"?=c^;wF+$g.4Z?#`=!.b\">sw</field><value name=\"VALUE\"><block type=\"varGetProperty\" id=\"Z)O2d{wnQU{q1o|VA$1@\"><field name=\"VAR\" id=\"CA!Q$oN[]8p-|fEA7na|\">df</field><field name=\"MEMBER\">SepalWidth</field><data>df:SepalWidth</data></block></value></block><block type=\"varDoMethod\" id=\"(Oo^H7GB~XaPLxV%^yv|\" x=\"-24\" y=\"459\"><mutation items=\"1\"></mutation><field name=\"VAR\" id=\"?=c^;wF+$g.4Z?#`=!.b\">sw</field><field name=\"MEMBER\">as_integer_ratio</field><data>sw:as_integer_ratio</data></block></xml>",
    "user_code_from_blocks": "df = pd.read_csv('datasets/iris.csv')\n\nsl = df['SepalLength']\n\nsl.undefined()\n\nsw = df.SepalWidth\n\nsw.as_integer_ratio()\n"
   },
   "outputs": [],
   "source": [
    "df = pd.read_csv('datasets/iris.csv')\n",
    "\n",
    "sl = df['SepalLength']\n",
    "\n",
    "sl.undefined()\n",
    "\n",
    "sw = df.SepalWidth\n",
    "\n",
    "sw.as_integer_ratio()\n",
    "\n",
    "#<xml xmlns=\"https://developers.google.com/blockly/xml\"><variables><variable id=\"CA!Q$oN[]8p-|fEA7na|\">df</variable><variable id=\"ku#PM`EX-Rq:eCd#P@O[\">sl</variable><variable id=\"?=c^;wF+$g.4Z?#`=!.b\">sw</variable><variable id=\"oIoZ:~IYMv}UCdRU.n)Z\">pd</variable></variables><block type=\"variables_set\" id=\"i*_nJ2lyQu_l7kM2SG0h\" x=\"-18\" y=\"112\"><field name=\"VAR\" id=\"CA!Q$oN[]8p-|fEA7na|\">df</field><value name=\"VALUE\"><block type=\"varDoMethod\" id=\"{VQfx)P*`yo^8kl]HBqx\"><mutation items=\"1\"></mutation><field name=\"VAR\" id=\"oIoZ:~IYMv}UCdRU.n)Z\">pd</field><field name=\"MEMBER\">read_csv</field><data>pd:read_csv</data><value name=\"ADD0\"><block type=\"text\" id=\"kT1^mlW|K8kC=#VR{?l2\"><field name=\"TEXT\">datasets/iris.csv</field></block></value></block></value></block><block type=\"variables_set\" id=\"%*-WcI(wk1B{)HvQL=Q-\" x=\"-17\" y=\"212\"><field name=\"VAR\" id=\"ku#PM`EX-Rq:eCd#P@O[\">sl</field><value name=\"VALUE\"><block type=\"indexer\" id=\"yT=~PJqFM30wlKj*Ld)e\"><field name=\"VAR\" id=\"CA!Q$oN[]8p-|fEA7na|\">df</field><value name=\"INDEX\"><block type=\"text\" id=\"X56G7xvCihC2w90@WOU-\"><field name=\"TEXT\">SepalLength</field></block></value></block></value></block><block type=\"varDoMethod\" id=\"ls6Js4:SWJ[$IS=6o,fL\" x=\"-23\" y=\"319\"><mutation items=\"1\"></mutation><field name=\"VAR\" id=\"ku#PM`EX-Rq:eCd#P@O[\">sl</field><field name=\"MEMBER\">undefined</field><data>sl:undefined</data></block><block type=\"variables_set\" id=\"QqOY_|Z;EI:MzSJR4_w,\" x=\"-21\" y=\"407\"><field name=\"VAR\" id=\"?=c^;wF+$g.4Z?#`=!.b\">sw</field><value name=\"VALUE\"><block type=\"varGetProperty\" id=\"Z)O2d{wnQU{q1o|VA$1@\"><field name=\"VAR\" id=\"CA!Q$oN[]8p-|fEA7na|\">df</field><field name=\"MEMBER\">SepalWidth</field><data>df:SepalWidth</data></block></value></block><block type=\"varDoMethod\" id=\"(Oo^H7GB~XaPLxV%^yv|\" x=\"-24\" y=\"459\"><mutation items=\"1\"></mutation><field name=\"VAR\" id=\"?=c^;wF+$g.4Z?#`=!.b\">sw</field><field name=\"MEMBER\">as_integer_ratio</field><data>sw:as_integer_ratio</data></block></xml>"
   ]
  },
  {
   "cell_type": "code",
   "execution_count": null,
   "id": "003653c9-6698-4db6-b396-8f95afafc1b5",
   "metadata": {
    "user_blocks": [
     "varDoMethod"
    ],
    "user_blocks_xml": "<xml xmlns=\"https://developers.google.com/blockly/xml\"><variables><variable id=\"?=c^;wF+$g.4Z?#`=!.b\">sw</variable></variables><block type=\"varDoMethod\" id=\"%-R{aTsx:nCIe775MP)C\" x=\"183\" y=\"112\"><mutation items=\"1\"></mutation><field name=\"VAR\" id=\"?=c^;wF+$g.4Z?#`=!.b\">sw</field><field name=\"MEMBER\">undefined</field><data>sw:undefined</data></block></xml>",
    "user_code_from_blocks": "sw.undefined()\n"
   },
   "outputs": [],
   "source": [
    "sw.undefined()\n",
    "\n",
    "#<xml xmlns=\"https://developers.google.com/blockly/xml\"><variables><variable id=\"?=c^;wF+$g.4Z?#`=!.b\">sw</variable></variables><block type=\"varDoMethod\" id=\"%-R{aTsx:nCIe775MP)C\" x=\"183\" y=\"112\"><mutation items=\"1\"></mutation><field name=\"VAR\" id=\"?=c^;wF+$g.4Z?#`=!.b\">sw</field><field name=\"MEMBER\">undefined</field><data>sw:undefined</data></block></xml>"
   ]
  }
 ],
 "metadata": {
  "kernelspec": {
   "display_name": "Python 3 (ipykernel)",
   "language": "python",
   "name": "python3"
  },
  "language_info": {
   "codemirror_mode": {
    "name": "ipython",
    "version": 3
   },
   "file_extension": ".py",
   "mimetype": "text/x-python",
   "name": "python",
   "nbconvert_exporter": "python",
   "pygments_lexer": "ipython3",
   "version": "3.10.6"
  }
 },
 "nbformat": 4,
 "nbformat_minor": 5
}
