{
 "cells": [
  {
   "attachments": {},
   "cell_type": "markdown",
   "id": "8e7159d6-d6d1-4387-962b-913105d30188",
   "metadata": {},
   "source": [
    "# start\n",
    "\n",
    "Load 'datasets/iris.csv' into a dataframe\n",
    "\n"
   ]
  },
  {
   "cell_type": "code",
   "execution_count": 56,
   "id": "ae6d8e94-2b82-44a2-b29a-4a6fe75525bf",
   "metadata": {
    "editable": true,
    "slideshow": {
     "slide_type": ""
    },
    "tags": [],
    "user_blocks": [
     "varDoMethod",
     "importAs",
     "importAs"
    ],
    "user_blocks_xml": "<xml xmlns=\"https://developers.google.com/blockly/xml\"><variables><variable id=\"oIoZ:~IYMv}UCdRU.n)Z\">pd</variable><variable id=\"sSFVK3z!rqGlufEk(OC`\">px</variable></variables><block type=\"varDoMethod\" id=\"Uhp+^pi?zu~g6^DnC_HV\" x=\"-42\" y=\"186\"><mutation items=\"1\"></mutation><field name=\"VAR\" id=\"oIoZ:~IYMv}UCdRU.n)Z\">pd</field><field name=\"MEMBER\">array</field><data>pd:array</data></block><block type=\"importAs\" id=\"Kh(b^qDxfn1j$5y{mKbS\" x=\"-50\" y=\"260\"><field name=\"libraryName\">plotly.express</field><field name=\"VAR\" id=\"sSFVK3z!rqGlufEk(OC`\">px</field><next><block type=\"importAs\" id=\"EI2`[V?s2JweihtG(y;T\"><field name=\"libraryName\">pandas</field><field name=\"VAR\" id=\"oIoZ:~IYMv}UCdRU.n)Z\">pd</field></block></next></block></xml>",
    "user_code_from_blocks": "pd.array()\n\nimport plotly.express as px\nimport pandas as pd\n"
   },
   "outputs": [],
   "source": [
    "pd.array()\n",
    "\n",
    "import plotly.express as px\n",
    "import pandas as pd\n",
    "\n",
    "#<xml xmlns=\"https://developers.google.com/blockly/xml\"><variables><variable id=\"oIoZ:~IYMv}UCdRU.n)Z\">pd</variable><variable id=\"sSFVK3z!rqGlufEk(OC`\">px</variable></variables><block type=\"varDoMethod\" id=\"Uhp+^pi?zu~g6^DnC_HV\" x=\"-42\" y=\"186\"><mutation items=\"1\"></mutation><field name=\"VAR\" id=\"oIoZ:~IYMv}UCdRU.n)Z\">pd</field><field name=\"MEMBER\">array</field><data>pd:array</data></block><block type=\"importAs\" id=\"Kh(b^qDxfn1j$5y{mKbS\" x=\"-50\" y=\"260\"><field name=\"libraryName\">plotly.express</field><field name=\"VAR\" id=\"sSFVK3z!rqGlufEk(OC`\">px</field><next><block type=\"importAs\" id=\"EI2`[V?s2JweihtG(y;T\"><field name=\"libraryName\">pandas</field><field name=\"VAR\" id=\"oIoZ:~IYMv}UCdRU.n)Z\">pd</field></block></next></block></xml>"
   ]
  },
  {
   "cell_type": "code",
   "execution_count": null,
   "id": "4cd00762-256f-4ac7-b9ed-c63a62a73aba",
   "metadata": {
    "user_blocks": [
     "variables_get"
    ],
    "user_blocks_xml": "<xml xmlns=\"https://developers.google.com/blockly/xml\"><variables><variable id=\"Ah#b{e|-=#w%_Z]awdy,\">y</variable></variables><block type=\"variables_get\" id=\"xyaBx~3I}s(#)Q!-djSs\" x=\"-32\" y=\"330\"><field name=\"VAR\" id=\"Ah#b{e|-=#w%_Z]awdy,\">y</field></block></xml>",
    "user_code_from_blocks": "y\n"
   },
   "outputs": [],
   "source": [
    "y\n",
    "\n",
    "#<xml xmlns=\"https://developers.google.com/blockly/xml\"><variables><variable id=\"Ah#b{e|-=#w%_Z]awdy,\">y</variable></variables><block type=\"variables_get\" id=\"xyaBx~3I}s(#)Q!-djSs\" x=\"-32\" y=\"330\"><field name=\"VAR\" id=\"Ah#b{e|-=#w%_Z]awdy,\">y</field></block></xml>"
   ]
  }
 ],
 "metadata": {
  "kernelspec": {
   "display_name": "Python 3 (ipykernel)",
   "language": "python",
   "name": "python3"
  },
  "language_info": {
   "codemirror_mode": {
    "name": "ipython",
    "version": 3
   },
   "file_extension": ".py",
   "mimetype": "text/x-python",
   "name": "python",
   "nbconvert_exporter": "python",
   "pygments_lexer": "ipython3",
   "version": "3.10.6"
  }
 },
 "nbformat": 4,
 "nbformat_minor": 5
}
