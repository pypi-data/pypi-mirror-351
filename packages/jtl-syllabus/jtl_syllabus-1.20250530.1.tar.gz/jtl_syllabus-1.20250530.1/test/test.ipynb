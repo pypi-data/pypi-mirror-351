{
 "cells": [
  {
   "cell_type": "code",
   "execution_count": null,
   "id": "d0a26ae4",
   "metadata": {},
   "outputs": [
    {
     "name": "stdout",
     "output_type": "stream",
     "text": [
      "The autoreload extension is already loaded. To reload it, use:\n",
      "  %reload_ext autoreload\n"
     ]
    }
   ],
   "source": [
    "%load_ext autoreload\n",
    "%autoreload 2\n",
    "\n",
    "\n",
    "from syllabus.sync import * \n",
    "from syllabus.util import *\n",
    "from pathlib import  Path"
   ]
  },
  {
   "cell_type": "code",
   "execution_count": 9,
   "id": "700ba815",
   "metadata": {},
   "outputs": [
    {
     "data": {
      "text/plain": [
       "[('01', 'Types_and_Logic'), None, None]"
      ]
     },
     "execution_count": 9,
     "metadata": {},
     "output_type": "execute_result"
    }
   ],
   "source": [
    "def match_rank_name(f: Path) -> str:\n",
    "    name_p = re.compile(r'^(\\d+\\w?)_([^\\.]+)$')\n",
    "    \n",
    "    match = name_p.match(f.stem)\n",
    "    if match:\n",
    "        rank, base = match.groups()\n",
    "        return rank, base\n",
    "    else:\n",
    "        return None\n",
    "    \n",
    "f = Path('01_Types_and_Logic/lib/lago')\n",
    "\n",
    "[match_rank_name(Path(p)) for p in f.parts ]"
   ]
  },
  {
   "cell_type": "code",
   "execution_count": null,
   "id": "f1c497bd",
   "metadata": {},
   "outputs": [],
   "source": []
  }
 ],
 "metadata": {
  "kernelspec": {
   "display_name": ".venv",
   "language": "python",
   "name": "python3"
  },
  "language_info": {
   "codemirror_mode": {
    "name": "ipython",
    "version": 3
   },
   "file_extension": ".py",
   "mimetype": "text/x-python",
   "name": "python",
   "nbconvert_exporter": "python",
   "pygments_lexer": "ipython3",
   "version": "3.12.8"
  }
 },
 "nbformat": 4,
 "nbformat_minor": 5
}
