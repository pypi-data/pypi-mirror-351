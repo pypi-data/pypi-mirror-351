{
 "cells": [
  {
   "cell_type": "code",
   "execution_count": 1,
   "metadata": {},
   "outputs": [],
   "source": [
    "%load_ext autoreload\n",
    "%autoreload 2"
   ]
  },
  {
   "cell_type": "code",
   "execution_count": 2,
   "metadata": {},
   "outputs": [],
   "source": [
    "from pathlib import Path\n",
    "from pydantic import BaseModel, Field, TypeAdapter"
   ]
  },
  {
   "cell_type": "code",
   "execution_count": 3,
   "metadata": {},
   "outputs": [],
   "source": [
    "import os\n",
    "from langgraph.pregel.remote import RemoteGraph\n",
    "from langgraph.types import Command as LGCommand"
   ]
  },
  {
   "cell_type": "code",
   "execution_count": 4,
   "metadata": {},
   "outputs": [],
   "source": [
    "from imandra.u.agents.code_logician.graph import GraphState\n",
    "from imandra.u.agents.code_logician.command import Command, InitStateCommand"
   ]
  },
  {
   "cell_type": "code",
   "execution_count": 6,
   "metadata": {},
   "outputs": [
    {
     "data": {
      "text/plain": [
       "'https://api.dev.imandracapital.com/v1beta1/agents/code_logician'"
      ]
     },
     "execution_count": 6,
     "metadata": {},
     "output_type": "execute_result"
    }
   ],
   "source": [
    "# Connect to deployed agent in dev\n",
    "from imandra import auth\n",
    "from imandra.u.agents import create_thread_sync, get_remote_graph\n",
    "agent = \"code_logician\"\n",
    "# agent = \"cogito\"\n",
    "# agent = \"code_logician_python\"\n",
    "c = auth.Config()\n",
    "url = c.get_url() + \"/agents/\" + agent\n",
    "# url = \"https://cogito.core-europe-west1.internal.dev.imandracapital.com/universe-agents/cogito\"\n",
    "graph = RemoteGraph(agent, url=url, headers=c.get_headers(), config={\"configurable\": {}})\n",
    "create_thread_sync(graph)\n",
    "url"
   ]
  },
  {
   "cell_type": "code",
   "execution_count": 7,
   "metadata": {},
   "outputs": [],
   "source": [
    "# url = \"http://127.0.0.1:2024\"\n",
    "# graph = RemoteGraph(\n",
    "#     \"code_logician\",\n",
    "#     url=url,\n",
    "# )\n",
    "# thread = await graph.client.threads.create()\n",
    "# config = {\"configurable\": {\"thread_id\": thread[\"thread_id\"]}}"
   ]
  },
  {
   "cell_type": "code",
   "execution_count": 8,
   "metadata": {},
   "outputs": [],
   "source": [
    "from imandra.u.agents.code_logician.graph import GraphState"
   ]
  },
  {
   "cell_type": "code",
   "execution_count": 17,
   "metadata": {},
   "outputs": [],
   "source": [
    "gs = GraphState()\n",
    "src_code = \"\"\"def g(x: int) -> int:\n",
    "    if x > 22:\n",
    "        return 9\n",
    "    else:\n",
    "        return 100 + x\n",
    "\n",
    "def f(x: int) -> int:\n",
    "    if x > 99:\n",
    "        return 100\n",
    "    elif 70 > x > 23:\n",
    "        return 89 + x\n",
    "    elif x > 20:\n",
    "        return g(x) + 20\n",
    "    elif x > -2:\n",
    "        return 103\n",
    "    else:\n",
    "        return 99\"\"\"\n",
    "\n",
    "gs = gs.add_commands(\n",
    "    [\n",
    "        Command(type=\"init_state\", src_code=src_code, src_lang=\"python\"),\n",
    "        Command(type=\"gen_formalization_data\"),\n",
    "        Command(type=\"gen_model\"),\n",
    "    ]\n",
    ")\n",
    "res = await gs.run(graph)\n",
    "gs = res[0]"
   ]
  },
  {
   "cell_type": "code",
   "execution_count": 20,
   "metadata": {},
   "outputs": [
    {
     "data": {
      "text/plain": [
       "True"
      ]
     },
     "execution_count": 20,
     "metadata": {},
     "output_type": "execute_result"
    }
   ],
   "source": [
    "assert gs.last_fstate.status.name == \"TRANSPARENT\"\n"
   ]
  },
  {
   "cell_type": "code",
   "execution_count": 23,
   "metadata": {},
   "outputs": [],
   "source": [
    "assert gs.steps[-1].meta.status == \"done\""
   ]
  },
  {
   "cell_type": "code",
   "execution_count": null,
   "metadata": {},
   "outputs": [],
   "source": []
  },
  {
   "cell_type": "code",
   "execution_count": null,
   "metadata": {},
   "outputs": [],
   "source": [
    "# Verify the workflow completed successfully\n",
    "assert gs.steps[-1][\"meta\"][\"status\"] == \"done\"\n",
    "\n",
    "# Check that we have a formalization status\n",
    "assert hasattr(gs.last_fstate, \"status\")\n",
    "# Status should be either 'Transparent' or another valid status\n",
    "assert gs.last_fstate.status is not None"
   ]
  },
  {
   "cell_type": "code",
   "execution_count": null,
   "metadata": {},
   "outputs": [],
   "source": []
  },
  {
   "cell_type": "code",
   "execution_count": 15,
   "metadata": {},
   "outputs": [],
   "source": [
    "assert gs.steps[-1]\n",
    "assert gs.steps[-1].meta.status == \"done\"\n",
    "fstate = gs.last_fstate\n",
    "assert fstate.iml_code == \"sadasd\""
   ]
  },
  {
   "cell_type": "code",
   "execution_count": null,
   "metadata": {},
   "outputs": [],
   "source": []
  },
  {
   "cell_type": "code",
   "execution_count": null,
   "metadata": {},
   "outputs": [],
   "source": []
  },
  {
   "cell_type": "code",
   "execution_count": 13,
   "metadata": {},
   "outputs": [],
   "source": [
    "gs = GraphState()\n",
    "src_code = \"\"\"\n",
    "def f(x):\n",
    "    return x + 1\n",
    "\"\"\"\n",
    "gs = gs.add_commands([\n",
    "    Command(type=\"init_state\", src_code=src_code, src_lang=\"python\"),\n",
    "    Command(type=\"edit_state_element\", update={\"iml_code\": \"sadasd\"})\n",
    "])\n",
    "res = await gs.run(graph)\n",
    "gs = res[0]"
   ]
  },
  {
   "cell_type": "code",
   "execution_count": 24,
   "metadata": {},
   "outputs": [],
   "source": [
    "gs = GraphState()\n",
    "src_code = \"\"\"def g(x: int) -> int:\n",
    "    if x > 22:\n",
    "        return 9\n",
    "    else:\n",
    "        return 100 + x\n",
    "\n",
    "def f(x: int) -> int:\n",
    "    if x > 99:\n",
    "        return 100\n",
    "    elif 70 > x > 23:\n",
    "        return 89 + x\n",
    "    elif x > 20:\n",
    "        return g(x) + 20\n",
    "    elif x > -2:\n",
    "        return 103\n",
    "    else:\n",
    "        return 99\"\"\"\n",
    "gs = GraphState()\n",
    "gs = gs.add_commands([\n",
    "    Command(type=\"init_state\", src_code=src_code, src_lang=\"python\"),\n",
    "    Command(type=\"gen_formalization_data\"),\n",
    "    Command(type=\"gen_model\"),\n",
    "])\n",
    "res = await gs.run(graph)\n",
    "gs = res[0]\n",
    "assert gs.last_fstate.status.name == \"TRANSPARENT\"\n",
    "gs2 = gs.add_commands([\n",
    "    Command(type=\"gen_region_decomps\", function_name=\"f\"),\n",
    "    Command(type=\"gen_test_cases\", decomp_idx=0),\n",
    "])\n",
    "res2 = await gs2.run(graph)\n",
    "gs2 = res2[0]\n",
    "assert gs2.steps[-1].meta.status == \"done\"\n",
    "test_cases = gs2.last_fstate.region_decomps[0][\"test_cases\"]\n",
    "assert len(test_cases['iml']) > 0\n",
    "assert len(test_cases['src']) > 0"
   ]
  }
 ],
 "metadata": {
  "kernelspec": {
   "display_name": ".venv",
   "language": "python",
   "name": "python3"
  },
  "language_info": {
   "codemirror_mode": {
    "name": "ipython",
    "version": 3
   },
   "file_extension": ".py",
   "mimetype": "text/x-python",
   "name": "python",
   "nbconvert_exporter": "python",
   "pygments_lexer": "ipython3",
   "version": "3.13.1"
  }
 },
 "nbformat": 4,
 "nbformat_minor": 2
}
