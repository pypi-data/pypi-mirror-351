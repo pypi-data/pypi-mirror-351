{
 "cells": [
  {
   "cell_type": "code",
   "execution_count": 1,
   "id": "53bc9780",
   "metadata": {},
   "outputs": [],
   "source": [
    "from sentinel_tiles import sentinel_tiles\n",
    "import global_forecasting_system\n",
    "from global_forecasting_system import forecast_Ta_C"
   ]
  },
  {
   "cell_type": "code",
   "execution_count": 2,
   "id": "1f3871fc",
   "metadata": {},
   "outputs": [],
   "source": [
    "time_UTC = \"2025-05-22 21:11:22.358885\""
   ]
  },
  {
   "cell_type": "code",
   "execution_count": 3,
   "id": "6fd7e7f9",
   "metadata": {},
   "outputs": [
    {
     "data": {
      "text/plain": [
       "{\n",
       "  \"dimensions\": {\n",
       "    \"rows\": 3660,\n",
       "    \"cols\": 3660\n",
       "  },\n",
       "  \"bbox\": {\n",
       "    \"xmin\": 600000.0,\n",
       "    \"ymin\": 3590220.0,\n",
       "    \"xmax\": 709800.0,\n",
       "    \"ymax\": 3700020.0\n",
       "  },\n",
       "  \"crs\": \"EPSG:32611\",\n",
       "  \"resolution\": {\n",
       "    \"cell_width\": 30.0,\n",
       "    \"cell_height\": -30.0\n",
       "  }\n",
       "}"
      ]
     },
     "execution_count": 3,
     "metadata": {},
     "output_type": "execute_result"
    }
   ],
   "source": [
    "geometry = sentinel_tiles.grid(\"11SPS\")\n",
    "geometry"
   ]
  },
  {
   "cell_type": "code",
   "execution_count": 6,
   "id": "b77ff62c",
   "metadata": {},
   "outputs": [
    {
     "data": {
      "text/plain": [
       "Timestamp('2025-05-28 00:00:00')"
      ]
     },
     "execution_count": 6,
     "metadata": {},
     "output_type": "execute_result"
    }
   ],
   "source": [
    "from global_forecasting_system import earliest_time_UTC\n",
    "\n",
    "earliest = earliest_time_UTC()\n",
    "earliest"
   ]
  },
  {
   "cell_type": "code",
   "execution_count": 9,
   "id": "4f2aec61",
   "metadata": {},
   "outputs": [
    {
     "data": {
      "text/plain": [
       "datetime.date(2025, 5, 28)"
      ]
     },
     "execution_count": 9,
     "metadata": {},
     "output_type": "execute_result"
    }
   ],
   "source": [
    "earliest.to_pydatetime().date()"
   ]
  },
  {
   "cell_type": "code",
   "execution_count": 7,
   "id": "229d091f",
   "metadata": {},
   "outputs": [
    {
     "data": {
      "text/plain": [
       "pandas._libs.tslibs.timestamps.Timestamp"
      ]
     },
     "execution_count": 7,
     "metadata": {},
     "output_type": "execute_result"
    }
   ],
   "source": [
    "type(earliest)"
   ]
  },
  {
   "cell_type": "code",
   "execution_count": 4,
   "id": "3dd386bd",
   "metadata": {},
   "outputs": [
    {
     "ename": "ValueError",
     "evalue": "no GFS files found before time 2025-05-22 21:11:22.358885 UTC",
     "output_type": "error",
     "traceback": [
      "\u001b[0;31m---------------------------------------------------------------------------\u001b[0m",
      "\u001b[0;31mValueError\u001b[0m                                Traceback (most recent call last)",
      "Cell \u001b[0;32mIn[4], line 1\u001b[0m\n\u001b[0;32m----> 1\u001b[0m Ta_C \u001b[38;5;241m=\u001b[39m \u001b[43mforecast_Ta_C\u001b[49m\u001b[43m(\u001b[49m\n\u001b[1;32m      2\u001b[0m \u001b[43m    \u001b[49m\u001b[43mtime_UTC\u001b[49m\u001b[38;5;241;43m=\u001b[39;49m\u001b[43mtime_UTC\u001b[49m\u001b[43m,\u001b[49m\n\u001b[1;32m      3\u001b[0m \u001b[43m    \u001b[49m\u001b[43mgeometry\u001b[49m\u001b[38;5;241;43m=\u001b[39;49m\u001b[43mgeometry\u001b[49m\u001b[43m,\u001b[49m\n\u001b[1;32m      4\u001b[0m \u001b[43m)\u001b[49m\n\u001b[1;32m      6\u001b[0m Ta_C\n",
      "File \u001b[0;32m~/Projects/global-forecasting-system/global_forecasting_system/global_forecasting_system.py:297\u001b[0m, in \u001b[0;36mforecast_Ta_C\u001b[0;34m(time_UTC, geometry, resampling, directory, listing)\u001b[0m\n\u001b[1;32m    291\u001b[0m \u001b[38;5;28;01mdef\u001b[39;00m\u001b[38;5;250m \u001b[39m\u001b[38;5;21mforecast_Ta_C\u001b[39m(\n\u001b[1;32m    292\u001b[0m         time_UTC: datetime,\n\u001b[1;32m    293\u001b[0m         geometry: rt\u001b[38;5;241m.\u001b[39mRasterGeometry \u001b[38;5;241m=\u001b[39m \u001b[38;5;28;01mNone\u001b[39;00m,\n\u001b[1;32m    294\u001b[0m         resampling: \u001b[38;5;28mstr\u001b[39m \u001b[38;5;241m=\u001b[39m \u001b[38;5;124m\"\u001b[39m\u001b[38;5;124mcubic\u001b[39m\u001b[38;5;124m\"\u001b[39m,\n\u001b[1;32m    295\u001b[0m         directory: \u001b[38;5;28mstr\u001b[39m \u001b[38;5;241m=\u001b[39m \u001b[38;5;28;01mNone\u001b[39;00m,\n\u001b[1;32m    296\u001b[0m         listing: pd\u001b[38;5;241m.\u001b[39mDataFrame \u001b[38;5;241m=\u001b[39m \u001b[38;5;28;01mNone\u001b[39;00m) \u001b[38;5;241m-\u001b[39m\u001b[38;5;241m>\u001b[39m rt\u001b[38;5;241m.\u001b[39mRaster:\n\u001b[0;32m--> 297\u001b[0m     \u001b[38;5;28;01mreturn\u001b[39;00m \u001b[43mforecast_Ta_K\u001b[49m\u001b[43m(\u001b[49m\u001b[43mtime_UTC\u001b[49m\u001b[38;5;241;43m=\u001b[39;49m\u001b[43mtime_UTC\u001b[49m\u001b[43m,\u001b[49m\u001b[43m \u001b[49m\u001b[43mgeometry\u001b[49m\u001b[38;5;241;43m=\u001b[39;49m\u001b[43mgeometry\u001b[49m\u001b[43m,\u001b[49m\u001b[43m \u001b[49m\u001b[43mresampling\u001b[49m\u001b[38;5;241;43m=\u001b[39;49m\u001b[43mresampling\u001b[49m\u001b[43m,\u001b[49m\u001b[43m \u001b[49m\u001b[43mdirectory\u001b[49m\u001b[38;5;241;43m=\u001b[39;49m\u001b[43mdirectory\u001b[49m\u001b[43m,\u001b[49m\u001b[43m \u001b[49m\u001b[43mlisting\u001b[49m\u001b[38;5;241;43m=\u001b[39;49m\u001b[43mlisting\u001b[49m\u001b[43m)\u001b[49m \u001b[38;5;241m-\u001b[39m \u001b[38;5;241m273.15\u001b[39m\n",
      "File \u001b[0;32m~/Projects/global-forecasting-system/global_forecasting_system/global_forecasting_system.py:289\u001b[0m, in \u001b[0;36mforecast_Ta_K\u001b[0;34m(time_UTC, geometry, resampling, directory, listing)\u001b[0m\n\u001b[1;32m    283\u001b[0m \u001b[38;5;28;01mdef\u001b[39;00m\u001b[38;5;250m \u001b[39m\u001b[38;5;21mforecast_Ta_K\u001b[39m(\n\u001b[1;32m    284\u001b[0m         time_UTC: datetime,\n\u001b[1;32m    285\u001b[0m         geometry: rt\u001b[38;5;241m.\u001b[39mRasterGeometry \u001b[38;5;241m=\u001b[39m \u001b[38;5;28;01mNone\u001b[39;00m,\n\u001b[1;32m    286\u001b[0m         resampling: \u001b[38;5;28mstr\u001b[39m \u001b[38;5;241m=\u001b[39m \u001b[38;5;124m\"\u001b[39m\u001b[38;5;124mcubic\u001b[39m\u001b[38;5;124m\"\u001b[39m,\n\u001b[1;32m    287\u001b[0m         directory: \u001b[38;5;28mstr\u001b[39m \u001b[38;5;241m=\u001b[39m \u001b[38;5;28;01mNone\u001b[39;00m,\n\u001b[1;32m    288\u001b[0m         listing: pd\u001b[38;5;241m.\u001b[39mDataFrame \u001b[38;5;241m=\u001b[39m \u001b[38;5;28;01mNone\u001b[39;00m) \u001b[38;5;241m-\u001b[39m\u001b[38;5;241m>\u001b[39m rt\u001b[38;5;241m.\u001b[39mRaster:\n\u001b[0;32m--> 289\u001b[0m     \u001b[38;5;28;01mreturn\u001b[39;00m \u001b[43mGFS_interpolate\u001b[49m\u001b[43m(\u001b[49m\u001b[43mmessage\u001b[49m\u001b[38;5;241;43m=\u001b[39;49m\u001b[43mGFS_TA_MESSAGE\u001b[49m\u001b[43m,\u001b[49m\u001b[43m \u001b[49m\u001b[43mtime_UTC\u001b[49m\u001b[38;5;241;43m=\u001b[39;49m\u001b[43mtime_UTC\u001b[49m\u001b[43m,\u001b[49m\u001b[43m \u001b[49m\u001b[43mgeometry\u001b[49m\u001b[38;5;241;43m=\u001b[39;49m\u001b[43mgeometry\u001b[49m\u001b[43m,\u001b[49m\u001b[43m \u001b[49m\u001b[43mresampling\u001b[49m\u001b[38;5;241;43m=\u001b[39;49m\u001b[43mresampling\u001b[49m\u001b[43m,\u001b[49m\u001b[43m \u001b[49m\u001b[43mdirectory\u001b[49m\u001b[38;5;241;43m=\u001b[39;49m\u001b[43mdirectory\u001b[49m\u001b[43m,\u001b[49m\u001b[43m \u001b[49m\u001b[43mlisting\u001b[49m\u001b[38;5;241;43m=\u001b[39;49m\u001b[43mlisting\u001b[49m\u001b[43m)\u001b[49m\n",
      "File \u001b[0;32m~/Projects/global-forecasting-system/global_forecasting_system/global_forecasting_system.py:247\u001b[0m, in \u001b[0;36mGFS_interpolate\u001b[0;34m(message, time_UTC, geometry, resampling, directory, listing)\u001b[0m\n\u001b[1;32m    240\u001b[0m \u001b[38;5;28;01mdef\u001b[39;00m\u001b[38;5;250m \u001b[39m\u001b[38;5;21mGFS_interpolate\u001b[39m(\n\u001b[1;32m    241\u001b[0m         message: \u001b[38;5;28mint\u001b[39m,\n\u001b[1;32m    242\u001b[0m         time_UTC: datetime,\n\u001b[0;32m   (...)\u001b[0m\n\u001b[1;32m    245\u001b[0m         directory: \u001b[38;5;28mstr\u001b[39m \u001b[38;5;241m=\u001b[39m \u001b[38;5;28;01mNone\u001b[39;00m,\n\u001b[1;32m    246\u001b[0m         listing: pd\u001b[38;5;241m.\u001b[39mDataFrame \u001b[38;5;241m=\u001b[39m \u001b[38;5;28;01mNone\u001b[39;00m) \u001b[38;5;241m-\u001b[39m\u001b[38;5;241m>\u001b[39m rt\u001b[38;5;241m.\u001b[39mRaster:\n\u001b[0;32m--> 247\u001b[0m     before_after \u001b[38;5;241m=\u001b[39m \u001b[43mGFS_before_after_addresses\u001b[49m\u001b[43m(\u001b[49m\u001b[43mtime_UTC\u001b[49m\u001b[43m,\u001b[49m\u001b[43m \u001b[49m\u001b[43mlisting\u001b[49m\u001b[38;5;241;43m=\u001b[39;49m\u001b[43mlisting\u001b[49m\u001b[43m)\u001b[49m\n\u001b[1;32m    249\u001b[0m     before_address \u001b[38;5;241m=\u001b[39m before_after\u001b[38;5;241m.\u001b[39miloc[\u001b[38;5;241m0\u001b[39m]\u001b[38;5;241m.\u001b[39maddress\n\u001b[1;32m    250\u001b[0m     logger\u001b[38;5;241m.\u001b[39minfo(\u001b[38;5;124mf\u001b[39m\u001b[38;5;124m\"\u001b[39m\u001b[38;5;124mbefore URL: \u001b[39m\u001b[38;5;132;01m{\u001b[39;00mcolored_logging\u001b[38;5;241m.\u001b[39mURL(before_address)\u001b[38;5;132;01m}\u001b[39;00m\u001b[38;5;124m\"\u001b[39m)\n",
      "File \u001b[0;32m~/Projects/global-forecasting-system/global_forecasting_system/global_forecasting_system.py:177\u001b[0m, in \u001b[0;36mGFS_before_after_addresses\u001b[0;34m(time_UTC, listing)\u001b[0m\n\u001b[1;32m    174\u001b[0m before_rows \u001b[38;5;241m=\u001b[39m listing[listing\u001b[38;5;241m.\u001b[39mforecast_time_UTC\u001b[38;5;241m.\u001b[39mapply(\u001b[38;5;28;01mlambda\u001b[39;00m forecast_time_UTC: \u001b[38;5;28mstr\u001b[39m(forecast_time_UTC) \u001b[38;5;241m<\u001b[39m\u001b[38;5;241m=\u001b[39m \u001b[38;5;28mstr\u001b[39m(time_UTC))]\n\u001b[1;32m    176\u001b[0m \u001b[38;5;28;01mif\u001b[39;00m \u001b[38;5;28mlen\u001b[39m(before_rows) \u001b[38;5;241m==\u001b[39m \u001b[38;5;241m0\u001b[39m:\n\u001b[0;32m--> 177\u001b[0m     \u001b[38;5;28;01mraise\u001b[39;00m \u001b[38;5;167;01mValueError\u001b[39;00m(\u001b[38;5;124mf\u001b[39m\u001b[38;5;124m\"\u001b[39m\u001b[38;5;124mno GFS files found before time \u001b[39m\u001b[38;5;132;01m{\u001b[39;00mtime_UTC\u001b[38;5;132;01m}\u001b[39;00m\u001b[38;5;124m UTC\u001b[39m\u001b[38;5;124m\"\u001b[39m)\n\u001b[1;32m    179\u001b[0m before \u001b[38;5;241m=\u001b[39m before_rows\u001b[38;5;241m.\u001b[39miloc[[\u001b[38;5;241m-\u001b[39m\u001b[38;5;241m1\u001b[39m]]\n\u001b[1;32m    181\u001b[0m after_rows \u001b[38;5;241m=\u001b[39m listing[listing\u001b[38;5;241m.\u001b[39mforecast_time_UTC\u001b[38;5;241m.\u001b[39mapply(\u001b[38;5;28;01mlambda\u001b[39;00m forecast_time_UTC: \u001b[38;5;28mstr\u001b[39m(forecast_time_UTC) \u001b[38;5;241m>\u001b[39m \u001b[38;5;28mstr\u001b[39m(time_UTC))]\n",
      "\u001b[0;31mValueError\u001b[0m: no GFS files found before time 2025-05-22 21:11:22.358885 UTC"
     ]
    }
   ],
   "source": [
    "Ta_C = forecast_Ta_C(\n",
    "    time_UTC=time_UTC,\n",
    "    geometry=geometry,\n",
    ")\n",
    "\n",
    "Ta_C"
   ]
  },
  {
   "cell_type": "code",
   "execution_count": null,
   "id": "31e6c9fc",
   "metadata": {},
   "outputs": [],
   "source": [
    "listing = global_forecasting_system.get_GFS_listing()\n",
    "listing"
   ]
  },
  {
   "cell_type": "code",
   "execution_count": null,
   "id": "99726c21",
   "metadata": {},
   "outputs": [],
   "source": [
    "listing[listing.forecast_time_UTC.apply(lambda forecast_time_UTC: str(forecast_time_UTC) <= str(time_UTC))]"
   ]
  },
  {
   "cell_type": "code",
   "execution_count": null,
   "id": "d9e02cc4",
   "metadata": {},
   "outputs": [],
   "source": [
    "before = listing[listing.forecast_time_UTC.apply(lambda forecast_time_UTC: str(forecast_time_UTC) <= str(time_UTC))].iloc[[-1]]"
   ]
  },
  {
   "cell_type": "code",
   "execution_count": null,
   "id": "f5d32c3b",
   "metadata": {},
   "outputs": [],
   "source": []
  },
  {
   "cell_type": "code",
   "execution_count": null,
   "id": "8ca59e87",
   "metadata": {},
   "outputs": [],
   "source": []
  }
 ],
 "metadata": {
  "kernelspec": {
   "display_name": "global-forecasting-system",
   "language": "python",
   "name": "python3"
  },
  "language_info": {
   "codemirror_mode": {
    "name": "ipython",
    "version": 3
   },
   "file_extension": ".py",
   "mimetype": "text/x-python",
   "name": "python",
   "nbconvert_exporter": "python",
   "pygments_lexer": "ipython3",
   "version": "3.10.17"
  }
 },
 "nbformat": 4,
 "nbformat_minor": 5
}
