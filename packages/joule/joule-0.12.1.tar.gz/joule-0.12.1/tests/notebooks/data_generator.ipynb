{
 "cells": [
  {
   "cell_type": "markdown",
   "id": "310f2b8f-d5cc-40d8-b750-5794b682e0b0",
   "metadata": {},
   "source": [
    "# Generate Dataset for Interactive Testing of Lumen and Joule"
   ]
  },
  {
   "cell_type": "code",
   "execution_count": 1,
   "id": "9fc8684b-da74-4d2c-b9c0-60850173ab42",
   "metadata": {},
   "outputs": [],
   "source": [
    "import joule"
   ]
  },
  {
   "cell_type": "code",
   "execution_count": null,
   "id": "2838b7fb-d2d9-44bc-a65e-a8b120b4a294",
   "metadata": {},
   "outputs": [],
   "source": [
    "node = joule.api.get_node()\n"
   ]
  }
 ],
 "metadata": {
  "kernelspec": {
   "display_name": "Python 3 (ipykernel)",
   "language": "python",
   "name": "python3"
  },
  "language_info": {
   "codemirror_mode": {
    "name": "ipython",
    "version": 3
   },
   "file_extension": ".py",
   "mimetype": "text/x-python",
   "name": "python",
   "nbconvert_exporter": "python",
   "pygments_lexer": "ipython3",
   "version": "3.11.0rc1"
  }
 },
 "nbformat": 4,
 "nbformat_minor": 5
}
