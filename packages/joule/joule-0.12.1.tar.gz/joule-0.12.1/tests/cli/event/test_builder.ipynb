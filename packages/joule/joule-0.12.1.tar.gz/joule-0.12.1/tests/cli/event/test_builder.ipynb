{
 "cells": [
  {
   "cell_type": "markdown",
   "id": "80e245d4-5248-46fd-ade0-bf8286868b84",
   "metadata": {},
   "source": [
    "# Create Test Data"
   ]
  },
  {
   "cell_type": "code",
   "execution_count": 5,
   "id": "263c1670-aa49-49e1-a9a8-f3f176704c10",
   "metadata": {},
   "outputs": [],
   "source": [
    "import joule\n",
    "import requests\n",
    "import json"
   ]
  },
  {
   "cell_type": "code",
   "execution_count": 6,
   "id": "2834e18d-5c62-407a-9513-1d78ffe20a6b",
   "metadata": {},
   "outputs": [],
   "source": [
    "event_stream =\"/NILM Training/UK Dale/Home 1/Simple\"\n",
    "filename = \"event_info.json\"\n",
    "node = joule.api.get_node(\"docker_debug\")\n",
    "resp = requests.get(f\"{node.url}/event.json?path={event_stream}\",\n",
    "                     verify=False,\n",
    "                     headers={\"X-API-KEY\": node._key})\n",
    "with open(filename,'w') as f:\n",
    "    f.write(json.dumps(resp.json(),indent=2))\n",
    "await node.close()"
   ]
  },
  {
   "cell_type": "code",
   "execution_count": 7,
   "id": "0a096bc9-e4a5-4b7e-8bf4-6d5338b800b0",
   "metadata": {},
   "outputs": [],
   "source": [
    "event_stream =\"/test/__unittest__/stream\"\n",
    "filename = \"empty_event_info.json\"\n",
    "node = joule.api.get_node(\"docker_debug\")\n",
    "await node.event_stream_get(\"/test/__unittest__/stream\",create=True)\n",
    "\n",
    "resp = requests.get(f\"{node.url}/event.json?path={event_stream}\",\n",
    "                     verify=False,\n",
    "                     headers={\"X-API-KEY\": node._key})\n",
    "with open(filename,'w') as f:\n",
    "    f.write(json.dumps(resp.json(),indent=2))\n",
    "await node.close()"
   ]
  },
  {
   "cell_type": "code",
   "execution_count": 9,
   "id": "7eb55d9e-41e0-4252-b94a-42792549e45c",
   "metadata": {},
   "outputs": [
    {
     "name": "stdout",
     "output_type": "stream",
     "text": [
      "WARNING: Only returning the first #10000 events in this stream, increase the limit parameter to retrieve more data or use differenttime bounds and/or filter parameters to reduce the number of events returned\n"
     ]
    }
   ],
   "source": [
    "event_stream = \"/testing/Events\"\n",
    "node = joule.api.get_node(\"docker_debug\")\n",
    "events = await node.event_stream_read(event_stream)\n",
    "await node.close()"
   ]
  },
  {
   "cell_type": "code",
   "execution_count": 10,
   "id": "9342f2be-38ab-426b-8715-60d6eb19bd29",
   "metadata": {},
   "outputs": [
    {
     "data": {
      "text/plain": [
       "10000"
      ]
     },
     "execution_count": 10,
     "metadata": {},
     "output_type": "execute_result"
    }
   ],
   "source": [
    "len(events)"
   ]
  },
  {
   "cell_type": "code",
   "execution_count": null,
   "id": "97d7223a-bd93-4273-b396-33a6f2ed3a85",
   "metadata": {},
   "outputs": [],
   "source": []
  }
 ],
 "metadata": {
  "kernelspec": {
   "display_name": "Python 3 (ipykernel)",
   "language": "python",
   "name": "python3"
  },
  "language_info": {
   "codemirror_mode": {
    "name": "ipython",
    "version": 3
   },
   "file_extension": ".py",
   "mimetype": "text/x-python",
   "name": "python",
   "nbconvert_exporter": "python",
   "pygments_lexer": "ipython3",
   "version": "3.11.0rc1"
  }
 },
 "nbformat": 4,
 "nbformat_minor": 5
}
