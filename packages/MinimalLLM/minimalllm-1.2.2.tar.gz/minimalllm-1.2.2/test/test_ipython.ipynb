{
 "cells": [
  {
   "cell_type": "code",
   "id": "initial_id",
   "metadata": {
    "collapsed": true,
    "ExecuteTime": {
     "end_time": "2024-06-10T20:31:28.727552Z",
     "start_time": "2024-06-10T20:31:24.913739Z"
    }
   },
   "source": [
    "from mllm.utils.maps import parallel_map\n",
    "import time\n",
    "\n",
    "def wait_for_1_second(x):\n",
    "    time.sleep(1)\n",
    "    return x\n",
    "\n",
    "for i, res in parallel_map(wait_for_1_second, [1, 2, 3], n_workers=1, title=\"test\"):\n",
    "    print(res)"
   ],
   "execution_count": 1,
   "outputs": []
  },
  {
   "metadata": {
    "ExecuteTime": {
     "end_time": "2024-06-10T20:31:29.629853Z",
     "start_time": "2024-06-10T20:31:29.624746Z"
    }
   },
   "cell_type": "code",
   "source": [
    "from mllm.display.show_html import show_json_table\n",
    "data = [\n",
    "        {\n",
    "            \"Name\": \"John\",\n",
    "            \"Age\": 30,\n",
    "            \"City\": \"New York\"\n",
    "        },\n",
    "        {\n",
    "            \"Name\": \"Peter\",\n",
    "            \"Age\": 45,\n",
    "            \"City\": \"Boston\"\n",
    "        }\n",
    "    ]\n",
    "show_json_table(data)"
   ],
   "id": "662c9a94dd2b99b6",
   "execution_count": 2,
   "outputs": []
  },
  {
   "metadata": {},
   "cell_type": "code",
   "source": [
    "from mllm.display.show_html import display_config\n",
    "\n",
    "display_config['show_in_notebook'] = False\n",
    "show_json_table(data)"
   ],
   "id": "c6b5564789fcb230",
   "execution_count": null,
   "outputs": []
  },
  {
   "metadata": {},
   "cell_type": "code",
   "source": "",
   "id": "42662fd469efd48e",
   "execution_count": null,
   "outputs": []
  }
 ],
 "metadata": {
  "kernelspec": {
   "display_name": "Python 3",
   "language": "python",
   "name": "python3"
  },
  "language_info": {
   "codemirror_mode": {
    "name": "ipython",
    "version": 2
   },
   "file_extension": ".py",
   "mimetype": "text/x-python",
   "name": "python",
   "nbconvert_exporter": "python",
   "pygments_lexer": "ipython2",
   "version": "2.7.6"
  }
 },
 "nbformat": 4,
 "nbformat_minor": 5
}
