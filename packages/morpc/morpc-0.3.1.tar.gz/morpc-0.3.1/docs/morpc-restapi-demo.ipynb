{
 "cells": [
  {
   "cell_type": "markdown",
   "id": "1fdc82bb-70cd-491d-8fea-4816c4dc0896",
   "metadata": {},
   "source": [
    "# MORPC ArcGIS REST API Tools"
   ]
  },
  {
   "cell_type": "markdown",
   "id": "eca17160-09c7-473d-be42-d75153fb8bb1",
   "metadata": {},
   "source": [
    "## Introduction"
   ]
  },
  {
   "cell_type": "markdown",
   "id": "a99f389c-9b32-4aca-862e-45e911f94f00",
   "metadata": {},
   "source": [
    "Many spatial data sets are stored in ArcGIS online and are available through the REST API. This set of scripts uses the frictionless framework to document and download data. It reads available metadata and iteratively downloads the data in GeoJSON format and returns a GDF, and optionally archives the file. "
   ]
  },
  {
   "cell_type": "code",
   "execution_count": 1,
   "id": "8c9b30de-6fac-4e18-a199-e9d368dc695e",
   "metadata": {},
   "outputs": [],
   "source": [
    "import morpc"
   ]
  },
  {
   "cell_type": "markdown",
   "id": "f1419055-38a5-4909-ab8f-c700897984f9",
   "metadata": {},
   "source": [
    "## Creating a resource file"
   ]
  },
  {
   "cell_type": "code",
   "execution_count": 2,
   "id": "b5397285-33b1-43de-be95-5167a08eba22",
   "metadata": {},
   "outputs": [],
   "source": [
    "test_url = 'https://tigerweb.geo.census.gov/arcgis/rest/services/TIGERweb/CBSA/MapServer/3'"
   ]
  },
  {
   "cell_type": "code",
   "execution_count": 3,
   "id": "890d4df1-9389-45ec-a966-fad24853bc09",
   "metadata": {},
   "outputs": [
    {
     "data": {
      "text/plain": [
       "{'name': 'metropolitan-statistical-areas',\n",
       " 'type': 'json',\n",
       " 'path': 'https://tigerweb.geo.census.gov/arcgis/rest/services/TIGERweb/CBSA/MapServer/3',\n",
       " 'scheme': 'https',\n",
       " 'format': 'json',\n",
       " 'mediatype': 'application/geo+json',\n",
       " 'schema': {'fields': [{'name': 'MTFCC', 'type': 'string', 'title': 'MTFCC'},\n",
       "                       {'name': 'OID', 'type': 'string', 'title': 'OID'},\n",
       "                       {'name': 'GEOID', 'type': 'string', 'title': 'GEOID'},\n",
       "                       {'name': 'CBSA', 'type': 'string', 'title': 'CBSA'},\n",
       "                       {'name': 'BASENAME',\n",
       "                        'type': 'string',\n",
       "                        'title': 'BASENAME'},\n",
       "                       {'name': 'NAME', 'type': 'string', 'title': 'NAME'},\n",
       "                       {'name': 'LSADC', 'type': 'string', 'title': 'LSADC'},\n",
       "                       {'name': 'FUNCSTAT',\n",
       "                        'type': 'string',\n",
       "                        'title': 'FUNCSTAT'},\n",
       "                       {'name': 'AREALAND',\n",
       "                        'type': 'string',\n",
       "                        'title': 'AREALAND'},\n",
       "                       {'name': 'AREAWATER',\n",
       "                        'type': 'string',\n",
       "                        'title': 'AREAWATER'},\n",
       "                       {'name': 'CSA', 'type': 'string', 'title': 'CSA'},\n",
       "                       {'name': 'CENTLAT',\n",
       "                        'type': 'string',\n",
       "                        'title': 'CENTLAT'},\n",
       "                       {'name': 'CENTLON',\n",
       "                        'type': 'string',\n",
       "                        'title': 'CENTLON'},\n",
       "                       {'name': 'INTPTLAT',\n",
       "                        'type': 'string',\n",
       "                        'title': 'INTPTLAT'},\n",
       "                       {'name': 'INTPTLON',\n",
       "                        'type': 'string',\n",
       "                        'title': 'INTPTLON'},\n",
       "                       {'name': 'OBJECTID',\n",
       "                        'type': 'string',\n",
       "                        'title': 'OBJECTID'}]},\n",
       " '_metadata': {'type': 'arcgis_service',\n",
       "               'total_records': 393,\n",
       "               'max_record_count': 100000}}"
      ]
     },
     "execution_count": 3,
     "metadata": {},
     "output_type": "execute_result"
    }
   ],
   "source": [
    "resource = morpc.rest_api.resource_from_services_url(test_url)\n",
    "resource"
   ]
  },
  {
   "cell_type": "code",
   "execution_count": 4,
   "id": "26f1748a-174d-4eaa-91af-b238b035f4e1",
   "metadata": {},
   "outputs": [
    {
     "data": {
      "text/plain": [
       "'{\\n  \"name\": \"metropolitan-statistical-areas\",\\n  \"type\": \"json\",\\n  \"path\": \"https://tigerweb.geo.census.gov/arcgis/rest/services/TIGERweb/CBSA/MapServer/3\",\\n  \"scheme\": \"https\",\\n  \"format\": \"json\",\\n  \"mediatype\": \"application/geo+json\",\\n  \"schema\": {\\n    \"fields\": [\\n      {\\n        \"name\": \"MTFCC\",\\n        \"type\": \"string\",\\n        \"title\": \"MTFCC\"\\n      },\\n      {\\n        \"name\": \"OID\",\\n        \"type\": \"string\",\\n        \"title\": \"OID\"\\n      },\\n      {\\n        \"name\": \"GEOID\",\\n        \"type\": \"string\",\\n        \"title\": \"GEOID\"\\n      },\\n      {\\n        \"name\": \"CBSA\",\\n        \"type\": \"string\",\\n        \"title\": \"CBSA\"\\n      },\\n      {\\n        \"name\": \"BASENAME\",\\n        \"type\": \"string\",\\n        \"title\": \"BASENAME\"\\n      },\\n      {\\n        \"name\": \"NAME\",\\n        \"type\": \"string\",\\n        \"title\": \"NAME\"\\n      },\\n      {\\n        \"name\": \"LSADC\",\\n        \"type\": \"string\",\\n        \"title\": \"LSADC\"\\n      },\\n      {\\n        \"name\": \"FUNCSTAT\",\\n        \"type\": \"string\",\\n        \"title\": \"FUNCSTAT\"\\n      },\\n      {\\n        \"name\": \"AREALAND\",\\n        \"type\": \"string\",\\n        \"title\": \"AREALAND\"\\n      },\\n      {\\n        \"name\": \"AREAWATER\",\\n        \"type\": \"string\",\\n        \"title\": \"AREAWATER\"\\n      },\\n      {\\n        \"name\": \"CSA\",\\n        \"type\": \"string\",\\n        \"title\": \"CSA\"\\n      },\\n      {\\n        \"name\": \"CENTLAT\",\\n        \"type\": \"string\",\\n        \"title\": \"CENTLAT\"\\n      },\\n      {\\n        \"name\": \"CENTLON\",\\n        \"type\": \"string\",\\n        \"title\": \"CENTLON\"\\n      },\\n      {\\n        \"name\": \"INTPTLAT\",\\n        \"type\": \"string\",\\n        \"title\": \"INTPTLAT\"\\n      },\\n      {\\n        \"name\": \"INTPTLON\",\\n        \"type\": \"string\",\\n        \"title\": \"INTPTLON\"\\n      },\\n      {\\n        \"name\": \"OBJECTID\",\\n        \"type\": \"string\",\\n        \"title\": \"OBJECTID\"\\n      }\\n    ]\\n  },\\n  \"_metadata\": {\\n    \"type\": \"arcgis_service\",\\n    \"total_records\": 393,\\n    \"max_record_count\": 100000\\n  }\\n}'"
      ]
     },
     "execution_count": 4,
     "metadata": {},
     "output_type": "execute_result"
    }
   ],
   "source": [
    "resource.to_json('../docs/temp_data/rest_resource.json')"
   ]
  },
  {
   "cell_type": "code",
   "execution_count": 5,
   "id": "4e974e63-8a8e-42f3-9071-5858b3d75d18",
   "metadata": {},
   "outputs": [],
   "source": [
    "key = morpc.rest_api.get_api_key('./temp_data/api_key.txt')"
   ]
  },
  {
   "cell_type": "code",
   "execution_count": 6,
   "id": "7e9e981f-bba4-4ed8-bd28-26ea59456e44",
   "metadata": {},
   "outputs": [
    {
     "data": {
      "text/plain": [
       "'https://tigerweb.geo.census.gov/arcgis/rest/services/TIGERweb/CBSA/MapServer/3/query?outFields=*&where=1%3D1&f=geojson&key=83269ff2739cb3bd485c75b091dcee493ad6fe70'"
      ]
     },
     "execution_count": 6,
     "metadata": {},
     "output_type": "execute_result"
    }
   ],
   "source": [
    "f\"{resource.path}/query?outFields=*&where=1%3D1&f=geojson&key={key}\""
   ]
  },
  {
   "cell_type": "code",
   "execution_count": null,
   "id": "9adb6406-2c07-476a-95ea-7ad2a8365acc",
   "metadata": {},
   "outputs": [],
   "source": [
    "morpc.rest_api.gdf_from_rest_resource('../docs/temp_data/rest_resource.json', api_key=key)"
   ]
  },
  {
   "cell_type": "code",
   "execution_count": null,
   "id": "74b2c7f8-a2f3-4d5d-bf1b-ea1f256b50f0",
   "metadata": {},
   "outputs": [],
   "source": []
  }
 ],
 "metadata": {
  "kernelspec": {
   "display_name": "Python 3 (ipykernel)",
   "language": "python",
   "name": "python3"
  },
  "language_info": {
   "codemirror_mode": {
    "name": "ipython",
    "version": 3
   },
   "file_extension": ".py",
   "mimetype": "text/x-python",
   "name": "python",
   "nbconvert_exporter": "python",
   "pygments_lexer": "ipython3",
   "version": "3.12.10"
  }
 },
 "nbformat": 4,
 "nbformat_minor": 5
}
