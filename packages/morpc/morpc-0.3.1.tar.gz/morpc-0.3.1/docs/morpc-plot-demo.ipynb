{
 "cells": [
  {
   "cell_type": "markdown",
   "id": "1741716a",
   "metadata": {},
   "source": [
    "# Demo for morpc.plot"
   ]
  },
  {
   "cell_type": "markdown",
   "id": "16abffe4",
   "metadata": {},
   "source": [
    "## Plot from Resource\n",
    "\n",
    "Plot a graph or chart from a frictionless resource based on schema and data types. "
   ]
  },
  {
   "cell_type": "code",
   "execution_count": null,
   "id": "f9e26076",
   "metadata": {},
   "outputs": [],
   "source": [
    "import morpc"
   ]
  },
  {
   "cell_type": "markdown",
   "id": "0e4c8328",
   "metadata": {},
   "source": [
    "## Build a sample resource file."
   ]
  },
  {
   "cell_type": "code",
   "execution_count": null,
   "id": "c92908b1",
   "metadata": {},
   "outputs": [],
   "source": [
    "df, resource, schema = morpc.frictionless.load_data('../../morpc-pop-collect/output_data/morpc-pop-collect.resource.yaml')"
   ]
  },
  {
   "cell_type": "code",
   "execution_count": null,
   "id": "f210bc10",
   "metadata": {},
   "outputs": [],
   "source": [
    "df = df.sort_values('VINTAGE_PERIOD', ascending=False).groupby(['GEOIDFQ', 'REFERENCE_PERIOD']).head(1).sort_values('REFERENCE_PERIOD')"
   ]
  },
  {
   "cell_type": "code",
   "execution_count": null,
   "id": "559eaa8c",
   "metadata": {},
   "outputs": [],
   "source": [
    "grouped = df.groupby('GEOIDFQ')"
   ]
  },
  {
   "cell_type": "code",
   "execution_count": null,
   "id": "e4f40bc7",
   "metadata": {},
   "outputs": [],
   "source": [
    "name, df = [x for x in grouped][0]"
   ]
  },
  {
   "cell_type": "code",
   "execution_count": null,
   "id": "cc17c5ad",
   "metadata": {},
   "outputs": [],
   "source": [
    "df"
   ]
  },
  {
   "cell_type": "code",
   "execution_count": null,
   "id": "a19e6852",
   "metadata": {},
   "outputs": [],
   "source": [
    "import pandas as pd\n",
    "conf_u = df[df['VALUE_TYPE']=='FORECAST'][['REFERENCE_PERIOD', 'CONF_LIMIT_UPPER']].rename(columns = {'CONF_LIMIT_UPPER':'POP'})\n",
    "conf_l = df[df['VALUE_TYPE']=='FORECAST'][['REFERENCE_PERIOD', 'CONF_LIMIT_LOWER']].rename(columns = {'CONF_LIMIT_LOWER':'POP'})\n",
    "conf_u = conf_u.sort_values('REFERENCE_PERIOD', ascending=False)\n",
    "conf = pd.concat([conf_u, conf_l])"
   ]
  },
  {
   "cell_type": "code",
   "execution_count": null,
   "id": "869979c4",
   "metadata": {},
   "outputs": [],
   "source": [
    "import plotnine\n",
    "plot = (plotnine.ggplot()\n",
    " + plotnine.geom_path(df, plotnine.aes(x='REFERENCE_PERIOD', y='POP', color='VALUE_TYPE'))\n",
    " + plotnine.theme_bw()\n",
    " + plotnine.scale_color_manual(morpc.color.get_colors().QUAL(2).hex_list)\n",
    " + plotnine.scale_x_date(breaks='5 years', date_labels='%Y')\n",
    " + plotnine.theme(\n",
    "     axis_text_x=(plotnine.element_text(rotation=65))\n",
    " )\n",
    " + plotnine.scale_y_continuous(breaks=ybreaks, limits=(ybreaks[0], ybreaks[-1]))\n",
    " )"
   ]
  }
 ],
 "metadata": {
  "kernelspec": {
   "display_name": "morpc_env",
   "language": "python",
   "name": "python3"
  },
  "language_info": {
   "codemirror_mode": {
    "name": "ipython",
    "version": 3
   },
   "file_extension": ".py",
   "mimetype": "text/x-python",
   "name": "python",
   "nbconvert_exporter": "python",
   "pygments_lexer": "ipython3",
   "version": "3.11.11"
  }
 },
 "nbformat": 4,
 "nbformat_minor": 5
}
