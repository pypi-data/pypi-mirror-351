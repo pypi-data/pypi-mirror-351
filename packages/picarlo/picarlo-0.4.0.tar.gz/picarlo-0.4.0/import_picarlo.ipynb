{
 "cells": [
  {
   "cell_type": "code",
   "execution_count": 1,
   "id": "aef50c04-b3f1-48f9-bb35-a31c7feca3b8",
   "metadata": {},
   "outputs": [
    {
     "name": "stdout",
     "output_type": "stream",
     "text": [
      "==> in picarlo/__init__.py\n",
      "dir(run): ['Config', '__builtins__', '__cached__', '__doc__', '__file__', '__loader__', '__name__', '__package__', '__spec__', 'dataclass', 'goodbye', 'hello', 'monte_carlo_pi', 'random', 'stringify_the_float']\n"
     ]
    }
   ],
   "source": [
    "import picarlo"
   ]
  },
  {
   "cell_type": "code",
   "execution_count": 2,
   "id": "71b66033-6c11-4748-b42a-536b189a165b",
   "metadata": {},
   "outputs": [
    {
     "name": "stdout",
     "output_type": "stream",
     "text": [
      "inside hello!\n"
     ]
    },
    {
     "data": {
      "text/plain": [
       "'hello'"
      ]
     },
     "execution_count": 2,
     "metadata": {},
     "output_type": "execute_result"
    }
   ],
   "source": [
    "picarlo.sim.hello()"
   ]
  },
  {
   "cell_type": "code",
   "execution_count": 3,
   "id": "b6673a10-288c-49f1-a0fe-bd0bd3c3c7ea",
   "metadata": {},
   "outputs": [],
   "source": [
    "cfg = picarlo.sim.Config()"
   ]
  },
  {
   "cell_type": "code",
   "execution_count": 4,
   "id": "48ced158-c28a-4955-b092-377a61f5e4d5",
   "metadata": {},
   "outputs": [
    {
     "data": {
      "text/plain": [
       "10000"
      ]
     },
     "execution_count": 4,
     "metadata": {},
     "output_type": "execute_result"
    }
   ],
   "source": [
    "cfg.num_samples"
   ]
  },
  {
   "cell_type": "code",
   "execution_count": 7,
   "id": "1e32b9d2-5c8e-487f-a531-c90e3fd78626",
   "metadata": {},
   "outputs": [
    {
     "data": {
      "text/plain": [
       "3.141701"
      ]
     },
     "execution_count": 7,
     "metadata": {},
     "output_type": "execute_result"
    }
   ],
   "source": [
    "picarlo.sim.monte_carlo_pi(cfg.num_samples * 10000)"
   ]
  },
  {
   "cell_type": "code",
   "execution_count": 8,
   "id": "a6e7105c-e437-4b4a-8c9d-30a766c2d092",
   "metadata": {},
   "outputs": [
    {
     "name": "stdout",
     "output_type": "stream",
     "text": [
      "inside goodbye!\n"
     ]
    },
    {
     "data": {
      "text/plain": [
       "'goodbye'"
      ]
     },
     "execution_count": 8,
     "metadata": {},
     "output_type": "execute_result"
    }
   ],
   "source": [
    "picarlo.sim.goodbye()"
   ]
  },
  {
   "cell_type": "code",
   "execution_count": 10,
   "id": "d10604a4-e4b1-41cd-9b78-cb04950c1548",
   "metadata": {},
   "outputs": [
    {
     "data": {
      "text/plain": [
       "Config(num_samples=10)"
      ]
     },
     "execution_count": 10,
     "metadata": {},
     "output_type": "execute_result"
    }
   ],
   "source": [
    "picarlo.sim.Config(10)"
   ]
  },
  {
   "cell_type": "code",
   "execution_count": null,
   "id": "ae458d89",
   "metadata": {},
   "outputs": [],
   "source": []
  }
 ],
 "metadata": {
  "kernelspec": {
   "display_name": ".venv",
   "language": "python",
   "name": "python3"
  },
  "language_info": {
   "codemirror_mode": {
    "name": "ipython",
    "version": 3
   },
   "file_extension": ".py",
   "mimetype": "text/x-python",
   "name": "python",
   "nbconvert_exporter": "python",
   "pygments_lexer": "ipython3",
   "version": "3.12.3"
  }
 },
 "nbformat": 4,
 "nbformat_minor": 5
}
