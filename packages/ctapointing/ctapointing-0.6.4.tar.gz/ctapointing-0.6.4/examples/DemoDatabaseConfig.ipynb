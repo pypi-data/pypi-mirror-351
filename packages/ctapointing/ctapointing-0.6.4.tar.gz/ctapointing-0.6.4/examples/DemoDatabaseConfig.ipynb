{
 "cells": [
  {
   "cell_type": "code",
   "execution_count": 1,
   "id": "finite-layer",
   "metadata": {},
   "outputs": [
    {
     "ename": "ImportError",
     "evalue": "cannot import name 'CCDCamera' from 'ctapointing.camera' (/Users/vaneldik/Analysis/ctapointing/ctapointing/camera/__init__.py)",
     "output_type": "error",
     "traceback": [
      "\u001b[0;31m---------------------------------------------------------------------------\u001b[0m",
      "\u001b[0;31mImportError\u001b[0m                               Traceback (most recent call last)",
      "\u001b[0;32m<ipython-input-1-ba66d694ee78>\u001b[0m in \u001b[0;36m<module>\u001b[0;34m\u001b[0m\n\u001b[1;32m      9\u001b[0m \u001b[0;34m\u001b[0m\u001b[0m\n\u001b[1;32m     10\u001b[0m \u001b[0;32mfrom\u001b[0m \u001b[0mctapointing\u001b[0m\u001b[0;34m.\u001b[0m\u001b[0mexposure\u001b[0m \u001b[0;32mimport\u001b[0m \u001b[0mExposure\u001b[0m\u001b[0;34m\u001b[0m\u001b[0;34m\u001b[0m\u001b[0m\n\u001b[0;32m---> 11\u001b[0;31m \u001b[0;32mfrom\u001b[0m \u001b[0mctapointing\u001b[0m\u001b[0;34m.\u001b[0m\u001b[0mcamera\u001b[0m \u001b[0;32mimport\u001b[0m \u001b[0mCCDCamera\u001b[0m\u001b[0;34m\u001b[0m\u001b[0;34m\u001b[0m\u001b[0m\n\u001b[0m\u001b[1;32m     12\u001b[0m \u001b[0;32mfrom\u001b[0m \u001b[0mctapointing\u001b[0m\u001b[0;34m.\u001b[0m\u001b[0mcamera\u001b[0m\u001b[0;34m.\u001b[0m\u001b[0mcameraconfig\u001b[0m \u001b[0;32mimport\u001b[0m \u001b[0mget_known_configs\u001b[0m\u001b[0;34m\u001b[0m\u001b[0;34m\u001b[0m\u001b[0m\n",
      "\u001b[0;31mImportError\u001b[0m: cannot import name 'CCDCamera' from 'ctapointing.camera' (/Users/vaneldik/Analysis/ctapointing/ctapointing/camera/__init__.py)"
     ]
    }
   ],
   "source": [
    "from ctapointing.config import (\n",
    "    Config\n",
    ")\n",
    "\n",
    "from ctapointing.imagesolver import (\n",
    "    SpotExtractor,\n",
    "    ImageMask\n",
    ")\n",
    "\n",
    "from ctapointing.exposure import Exposure\n",
    "from ctapointing.camera import PointingCamera\n",
    "from ctapointing.camera.cameraconfig import get_known_configs"
   ]
  },
  {
   "cell_type": "code",
   "execution_count": null,
   "id": "unlike-smith",
   "metadata": {},
   "outputs": [],
   "source": [
    "configs = get_known_configs()\n",
    "print(configs)\n",
    "\n",
    "c = PointingCamera.from_name('ZWO ASI2600-MM-Pro')\n",
    "print(c)"
   ]
  },
  {
   "cell_type": "code",
   "execution_count": null,
   "id": "northern-colors",
   "metadata": {},
   "outputs": [],
   "source": [
    "from ctapointing.camera.cameraconfig import write_cameraconfig\n",
    "import numpy as np\n",
    "\n",
    "c.name = 'ZWO ASI2600-MM-Pro'\n",
    "c.dtype = np.uint16\n",
    "result = write_cameraconfig(c, filename='test_camera.json', replace=True, write_to_file=True)\n",
    "print(result)"
   ]
  },
  {
   "cell_type": "code",
   "execution_count": null,
   "id": "hollow-petersburg",
   "metadata": {},
   "outputs": [],
   "source": [
    "d = PointingCamera.from_name('ZWO ASI2600-MM-Pro', read_from_file=True)\n",
    "print(d)"
   ]
  },
  {
   "cell_type": "code",
   "execution_count": null,
   "id": "located-columbus",
   "metadata": {},
   "outputs": [],
   "source": [
    "Config.get_known_configs()"
   ]
  },
  {
   "cell_type": "code",
   "execution_count": null,
   "id": "agreed-arbitration",
   "metadata": {},
   "outputs": [],
   "source": [
    "Config.read_config('test_MAGIC_MSTmask_CvE')\n",
    "print(Config.star_extractor_config_name)"
   ]
  },
  {
   "cell_type": "code",
   "execution_count": null,
   "id": "increased-remainder",
   "metadata": {},
   "outputs": [],
   "source": [
    "print(SpotExtractor.get_known_configs())"
   ]
  },
  {
   "cell_type": "code",
   "execution_count": null,
   "id": "thrown-crisis",
   "metadata": {},
   "outputs": [],
   "source": [
    "spot_extractor = SpotExtractor.from_name(Config.star_extractor_config_name)\n",
    "print(spot_extractor)"
   ]
  },
  {
   "cell_type": "code",
   "execution_count": null,
   "id": "stupid-cookbook",
   "metadata": {},
   "outputs": [],
   "source": [
    "result = spot_extractor.write_config(replace=True, write_to_file=True)\n",
    "print(result)"
   ]
  },
  {
   "cell_type": "code",
   "execution_count": null,
   "id": "optimum-mistake",
   "metadata": {},
   "outputs": [],
   "source": [
    "spot_extractor2 = SpotExtractor.from_name(spot_extractor.name, read_from_file=True)\n",
    "print(spot_extractor2)"
   ]
  },
  {
   "cell_type": "code",
   "execution_count": null,
   "id": "distributed-carbon",
   "metadata": {},
   "outputs": [],
   "source": [
    "masks = ImageMask.get_known_configs()\n",
    "print(masks)"
   ]
  },
  {
   "cell_type": "code",
   "execution_count": null,
   "id": "measured-chart",
   "metadata": {},
   "outputs": [],
   "source": [
    "mask = ImageMask.from_name(\"MST_2019_50mm\")\n",
    "print(mask)\n",
    "print(mask.filename)"
   ]
  },
  {
   "cell_type": "code",
   "execution_count": null,
   "id": "wireless-beauty",
   "metadata": {},
   "outputs": [],
   "source": [
    "mask.read_mask_from_fits()\n",
    "print(mask.image)"
   ]
  },
  {
   "cell_type": "code",
   "execution_count": null,
   "id": "marine-thesis",
   "metadata": {},
   "outputs": [],
   "source": [
    "mask.write_config(replace=True, write_to_file=True)"
   ]
  },
  {
   "cell_type": "code",
   "execution_count": null,
   "id": "hollywood-arabic",
   "metadata": {},
   "outputs": [],
   "source": [
    "mask2 = ImageMask.from_name(mask.name, read_from_file=True)\n",
    "print(mask2)"
   ]
  },
  {
   "cell_type": "code",
   "execution_count": null,
   "id": "fuzzy-hours",
   "metadata": {},
   "outputs": [],
   "source": [
    "exposure = Exposure.from_name(name='image_1602642712_with_uuid.fits.gz', collection='MAGIC-Campaign')"
   ]
  },
  {
   "cell_type": "code",
   "execution_count": null,
   "id": "billion-westminster",
   "metadata": {},
   "outputs": [],
   "source": [
    "print(exposure)"
   ]
  },
  {
   "cell_type": "code",
   "execution_count": null,
   "id": "bacterial-dialogue",
   "metadata": {},
   "outputs": [],
   "source": [
    "print(exposure.camera)"
   ]
  },
  {
   "cell_type": "code",
   "execution_count": null,
   "id": "handy-sperm",
   "metadata": {},
   "outputs": [],
   "source": [
    "print(exposure.image)"
   ]
  },
  {
   "cell_type": "code",
   "execution_count": null,
   "id": "stuck-address",
   "metadata": {
    "scrolled": false
   },
   "outputs": [],
   "source": [
    "spotlist = spot_extractor.process(exposure)\n",
    "print(spotlist)"
   ]
  },
  {
   "cell_type": "code",
   "execution_count": null,
   "id": "failing-marketing",
   "metadata": {},
   "outputs": [],
   "source": [
    "print(spotlist.data)"
   ]
  },
  {
   "cell_type": "code",
   "execution_count": null,
   "id": "altered-democracy",
   "metadata": {},
   "outputs": [],
   "source": []
  }
 ],
 "metadata": {
  "kernelspec": {
   "display_name": "Python 3",
   "language": "python",
   "name": "python3"
  },
  "language_info": {
   "codemirror_mode": {
    "name": "ipython",
    "version": 3
   },
   "file_extension": ".py",
   "mimetype": "text/x-python",
   "name": "python",
   "nbconvert_exporter": "python",
   "pygments_lexer": "ipython3",
   "version": "3.7.10"
  }
 },
 "nbformat": 4,
 "nbformat_minor": 5
}
