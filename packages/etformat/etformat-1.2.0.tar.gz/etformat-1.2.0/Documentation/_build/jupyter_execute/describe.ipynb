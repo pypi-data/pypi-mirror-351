{
 "cells": [
  {
   "cell_type": "markdown",
   "metadata": {},
   "source": [
    "# 📖 describe\n",
    "\n",
    "## Analyze EDF Trials and Extract Statistics"
   ]
  },
  {
   "cell_type": "markdown",
   "metadata": {},
   "source": [
    "The describe() function allows users to analyze eye-tracking trial data from an EDF (Eye Data Format) file. It computes key statistics for a given trial or all trials, including:\n",
    "\n",
    "- Total duration of the trial\n",
    "- Number of fixations, saccades, and blinks\n",
    "- Average fixation duration\n",
    "- Average saccade amplitude\n",
    "- This function is useful for summarizing eye movement behavior from recorded trials.\n",
    "\n"
   ]
  },
  {
   "cell_type": "markdown",
   "metadata": {},
   "source": [
    "`describe` can directly work with EDF file or you can first Convert data using [export](export.md) function and then import files and use `describe` function."
   ]
  },
  {
   "cell_type": "code",
   "execution_count": 1,
   "metadata": {},
   "outputs": [
    {
     "name": "stdout",
     "output_type": "stream",
     "text": [
      "📖 etformat 1.1.1 - For Documentation, visit: https://ahsankhodami.github.io/etformat/intro.html\n"
     ]
    },
    {
     "ename": "KeyboardInterrupt",
     "evalue": "",
     "output_type": "error",
     "traceback": [
      "\u001b[31m---------------------------------------------------------------------------\u001b[39m",
      "\u001b[31mKeyboardInterrupt\u001b[39m                         Traceback (most recent call last)",
      "\u001b[36mCell\u001b[39m\u001b[36m \u001b[39m\u001b[32mIn[1]\u001b[39m\u001b[32m, line 2\u001b[39m\n\u001b[32m      1\u001b[39m \u001b[38;5;28;01mimport\u001b[39;00m\u001b[38;5;250m \u001b[39m\u001b[34;01metformat\u001b[39;00m\u001b[38;5;250m \u001b[39m\u001b[38;5;28;01mas\u001b[39;00m\u001b[38;5;250m \u001b[39m\u001b[34;01met\u001b[39;00m\n\u001b[32m----> \u001b[39m\u001b[32m2\u001b[39m \u001b[43met\u001b[49m\u001b[43m.\u001b[49m\u001b[43mdescribe\u001b[49m\u001b[43m(\u001b[49m\u001b[33;43mr\u001b[39;49m\u001b[33;43m\"\u001b[39;49m\u001b[33;43mD:\u001b[39;49m\u001b[33;43m\\\u001b[39;49m\u001b[33;43mGithub_web_page_website\u001b[39;49m\u001b[33;43m\\\u001b[39;49m\u001b[33;43mtest.EDF\u001b[39;49m\u001b[33;43m\"\u001b[39;49m\u001b[43m)\u001b[49m\n",
      "\u001b[36mFile \u001b[39m\u001b[32m~\\AppData\\Local\\Programs\\Python\\Python312\\Lib\\site-packages\\etformat\\describe.py:34\u001b[39m, in \u001b[36mdescribe\u001b[39m\u001b[34m(data_source, trial_number)\u001b[39m\n\u001b[32m     31\u001b[39m     \u001b[38;5;28;01mreturn\u001b[39;00m \u001b[38;5;28;01mNone\u001b[39;00m\n\u001b[32m     33\u001b[39m \u001b[38;5;66;03m# Load EDF file\u001b[39;00m\n\u001b[32m---> \u001b[39m\u001b[32m34\u001b[39m edf = \u001b[43mEDFFile\u001b[49m\u001b[43m(\u001b[49m\u001b[43medf_file_path\u001b[49m\u001b[43m,\u001b[49m\u001b[43m \u001b[49m\u001b[43mloadevents\u001b[49m\u001b[43m=\u001b[49m\u001b[38;5;28;43;01mTrue\u001b[39;49;00m\u001b[43m,\u001b[49m\u001b[43m \u001b[49m\u001b[43mloadsamples\u001b[49m\u001b[43m=\u001b[49m\u001b[38;5;28;43;01mTrue\u001b[39;49;00m\u001b[43m)\u001b[49m\n\u001b[32m     36\u001b[39m \u001b[38;5;28;01mif\u001b[39;00m edf.samples \u001b[38;5;129;01mis\u001b[39;00m \u001b[38;5;28;01mNone\u001b[39;00m \u001b[38;5;129;01mor\u001b[39;00m edf.events \u001b[38;5;129;01mis\u001b[39;00m \u001b[38;5;28;01mNone\u001b[39;00m:\n\u001b[32m     37\u001b[39m     \u001b[38;5;28mprint\u001b[39m(\u001b[33m\"\u001b[39m\u001b[33m⚠️ No valid sample or event data found in the EDF file.\u001b[39m\u001b[33m\"\u001b[39m)\n",
      "\u001b[36mFile \u001b[39m\u001b[32m~\\AppData\\Local\\Programs\\Python\\Python312\\Lib\\site-packages\\etformat\\edffile.py:103\u001b[39m, in \u001b[36mEDFFile.__init__\u001b[39m\u001b[34m(self, filename, consistency, loadevents, loadsamples, sample_fields, start_marker_string, end_marker_string, parse_events, wide_variables, trigger_marker, verbose, libpath)\u001b[39m\n\u001b[32m    101\u001b[39m data_type = \u001b[38;5;28mself\u001b[39m._edfapi.edf_get_next_data(\u001b[38;5;28mself\u001b[39m._file)\n\u001b[32m    102\u001b[39m \u001b[38;5;28;01mwhile\u001b[39;00m data_type != EDF_NO_PENDING_ITEMS:\n\u001b[32m--> \u001b[39m\u001b[32m103\u001b[39m     allf_data_ptr = \u001b[38;5;28;43mself\u001b[39;49m\u001b[43m.\u001b[49m\u001b[43m_edfapi\u001b[49m\u001b[43m.\u001b[49m\u001b[43medf_get_float_data\u001b[49m\u001b[43m(\u001b[49m\u001b[38;5;28;43mself\u001b[39;49m\u001b[43m.\u001b[49m\u001b[43m_file\u001b[49m\u001b[43m)\u001b[49m\n\u001b[32m    104\u001b[39m     \u001b[38;5;28;01mif\u001b[39;00m data_type \u001b[38;5;129;01min\u001b[39;00m EDF_EVENT_CODES.keys():\n\u001b[32m    105\u001b[39m         \u001b[38;5;66;03m# trial start\u001b[39;00m\n\u001b[32m    106\u001b[39m         \u001b[38;5;28;01mif\u001b[39;00m data_type == EDF_EVENTS[\u001b[33m\"\u001b[39m\u001b[33mMESSAGEEVENT\u001b[39m\u001b[33m\"\u001b[39m] \u001b[38;5;129;01mand\u001b[39;00m \\\n\u001b[32m    107\u001b[39m            allf_data_ptr.contents.fe[\u001b[33m\"\u001b[39m\u001b[33mmessage\u001b[39m\u001b[33m\"\u001b[39m].startswith(start_marker_string):\n",
      "\u001b[31mKeyboardInterrupt\u001b[39m: "
     ]
    }
   ],
   "source": [
    "import etformat as et\n",
    "et.describe(r\"D:\\Github_web_page_website\\test.EDF\")"
   ]
  },
  {
   "cell_type": "markdown",
   "metadata": {},
   "source": [
    "```{note}\n",
    "As and Per quesitons, the reason you see a NaN is because some meta data from binary files are reproduced which includes the calibration and other detail, that is why you need to use `clean` code to clean your data and remove the unneccessary row\n",
    "```"
   ]
  },
  {
   "cell_type": "markdown",
   "metadata": {},
   "source": []
  },
  {
   "cell_type": "markdown",
   "metadata": {},
   "source": [
    "```{warning}\n",
    "if you see an error here regarding file is because of compiler error due to jupyter-book` code works in natural environment.\n",
    "```"
   ]
  },
  {
   "cell_type": "markdown",
   "metadata": {},
   "source": [
    "if you have already exported data there are two seperate files after conversion which are `EDFfilename_events.csv` and `EDFfilename_samples.csv` which can be used to analyze data."
   ]
  },
  {
   "cell_type": "code",
   "execution_count": 10,
   "metadata": {},
   "outputs": [],
   "source": [
    "# Load CSV files\n",
    "samples = pd.read_csv(r\"D:\\Github_web_page_website\\test_samples.csv\")\n",
    "events = pd.read_csv(r\"D:\\Github_web_page_website\\test_events.csv\")"
   ]
  },
  {
   "cell_type": "code",
   "execution_count": 6,
   "metadata": {},
   "outputs": [
    {
     "name": "stdout",
     "output_type": "stream",
     "text": [
      "🧹 Starting data cleaning for eye-tracking data\n",
      "   📊 Samples: DataFrame with shape (1520309, 56)\n",
      "   📊 Events: DataFrame with shape (18261, 38)\n",
      "============================================================\n",
      "\n",
      "🔍 Processing SAMPLES data...\n",
      "   Original samples shape: (1520309, 56)\n",
      "   Columns: 56\n",
      "   ❌ Removed 2522 rows with NaN trials\n",
      "   ❌ Removed 15 columns:\n",
      "      • time_rel (all_nan)\n",
      "      • pxL (all_nan)\n",
      "      • pyL (all_nan)\n",
      "      • hxL (all_nan)\n",
      "      • hyL (all_nan)\n",
      "      • paL (all_nan)\n",
      "      • gxL (all_nan)\n",
      "      • gyL (all_nan)\n",
      "      • hdata1 (all_zero)\n",
      "      • hdata6 (all_zero)\n",
      "      • hdata7 (all_zero)\n",
      "      • input (all_zero)\n",
      "      • buttons (all_zero)\n",
      "      • htype (all_nan)\n",
      "      • errors (all_zero)\n",
      "   ✅ Samples cleaned: (1520309, 56) → (1517787, 41)\n",
      "\n",
      "🔍 Processing EVENTS data...\n",
      "   Original events shape: (18261, 38)\n",
      "   Columns: 38\n",
      "   ❌ Removed 83 rows with NaN trials\n",
      "   ❌ Removed 7 columns:\n",
      "      • time (all_zero)\n",
      "      • sttime_rel (all_nan)\n",
      "      • entime_rel (all_nan)\n",
      "      • status (all_zero)\n",
      "      • flags (all_zero)\n",
      "      • input (all_zero)\n",
      "      • buttons (all_zero)\n",
      "   ✅ Events cleaned: (18261, 38) → (18178, 31)\n",
      "============================================================\n",
      "🎉 Cleaning completed!\n"
     ]
    },
    {
     "data": {
      "text/plain": [
       "(         trial     time     pxR     pyR    hxR    hyR     paR     gxR    gyR  \\\n",
       " 2522       1.0   392207 -3860.0 -2051.0  342.0  479.0  5275.0  1382.7  839.0   \n",
       " 2523       1.0   392208 -3862.0 -2048.0  341.0  481.0  5275.0  1382.3  839.7   \n",
       " 2524       1.0   392209 -3867.0 -2044.0  338.0  484.0  5276.0  1381.4  840.5   \n",
       " 2525       1.0   392210 -3873.0 -2042.0  334.0  486.0  5276.0  1380.2  841.1   \n",
       " 2526       1.0   392211 -3885.0 -2041.0  327.0  486.0  5276.0  1378.1  841.2   \n",
       " ...        ...      ...     ...     ...    ...    ...     ...     ...    ...   \n",
       " 1520304  480.0  1909989 -4790.0 -3160.0 -176.0 -336.0  4075.0  1226.6  594.4   \n",
       " 1520305  480.0  1909990 -4790.0 -3155.0 -176.0 -332.0  4061.0  1226.6  595.5   \n",
       " 1520306  480.0  1909991 -4794.0 -3135.0 -179.0 -317.0  4040.0  1225.7  599.9   \n",
       " 1520307  480.0  1909992 -4799.0 -3115.0 -182.0 -303.0  4019.0  1224.8  604.3   \n",
       " 1520308  480.0  1909993 -4803.0 -3095.0 -185.0 -288.0  3997.0  1224.0  608.7   \n",
       " \n",
       "            rx  ...      frxvelL       frxvelR       fryvelL       fryvelR  \\\n",
       " 2522     78.9  ...      -2010.0 -5.617007e+00  6.570000e-43  1.985040e+01   \n",
       " 2523     78.9  ...      -2010.0 -3.629450e+01  6.570000e-43  2.028193e+01   \n",
       " 2524     78.9  ...      -2010.0 -6.049084e+01  6.570000e-43  2.028193e+01   \n",
       " 2525     78.9  ...      -2010.0 -7.518147e+01  6.570000e-43  2.071346e+01   \n",
       " 2526     78.9  ...      -2010.0 -8.123055e+01  6.570000e-43  2.157653e+01   \n",
       " ...       ...  ...          ...           ...           ...           ...   \n",
       " 1520304  78.5  ...  100000000.0  1.000000e+08  6.570000e-43  1.000000e+08   \n",
       " 1520305  78.5  ...  100000000.0  1.000000e+08  6.570000e-43  1.000000e+08   \n",
       " 1520306  78.5  ...  100000000.0  1.000000e+08  6.570000e-43  1.000000e+08   \n",
       " 1520307  78.5  ...  100000000.0  1.000000e+08  6.570000e-43  1.000000e+08   \n",
       " 1520308  78.5  ...  100000000.0  1.000000e+08  6.570000e-43  1.000000e+08   \n",
       " \n",
       "          hdata0  hdata2  hdata3  hdata4  hdata5  flags  \n",
       " 2522        469     -16      -1      -1      -1  24545  \n",
       " 2523        469     -16      -1      -1      -1  24545  \n",
       " 2524        469     -16      -1      -1      -1  24545  \n",
       " 2525        469     -16      -1      -1      -1  24545  \n",
       " 2526        469     -16      -1      -1      -1  24545  \n",
       " ...         ...     ...     ...     ...     ...    ...  \n",
       " 1520304     469     -16      -1      -1      -1  24545  \n",
       " 1520305     469     -16      -1      -1      -1  24545  \n",
       " 1520306     469     -16      -1      -1      -1  24545  \n",
       " 1520307     469     -16      -1      -1      -1  24545  \n",
       " 1520308     469     -16      -1      -1      -1  24545  \n",
       " \n",
       " [1517787 rows x 41 columns],\n",
       "        trial          type  read   sttime   entime   hstx   hsty    gstx  \\\n",
       " 83       1.0        ENDFIX  7167   392195   392537  210.0  491.0  1342.9   \n",
       " 84       1.0  MESSAGEEVENT     1   392207        0    0.0    0.0     0.0   \n",
       " 85       1.0  MESSAGEEVENT     1   392207        0    0.0    0.0     0.0   \n",
       " 86       1.0       ENDSACC  7007   392538   392558  307.0  483.0  1372.2   \n",
       " 87       1.0     STARTSACC  6921   392538        0  307.0  483.0  1372.2   \n",
       " ...      ...           ...   ...      ...      ...    ...    ...     ...   \n",
       " 18256  480.0  MESSAGEEVENT     1  1909993        0    0.0    0.0     0.0   \n",
       " 18257  480.0     ENDEVENTS    64  1909994  1909994    0.0    0.0     0.0   \n",
       " 18258  480.0    ENDSAMPLES    64  1909994  1909994    0.0    0.0     0.0   \n",
       " 18259  480.0    INPUTEVENT     1  1909994        0    0.0    0.0     0.0   \n",
       " 18260  480.0   BUTTONEVENT     1  1909994        0    0.0    0.0     0.0   \n",
       " \n",
       "         gsty     sta  ...  pvel  svel  evel  supd_x  eupd_x  supd_y  eupd_y  \\\n",
       " 83     842.7  5268.0  ...  78.7  78.7  18.4    78.9    78.9    79.0    79.0   \n",
       " 84       0.0     0.0  ...   0.0   0.0   0.0     0.0     0.0     0.0     0.0   \n",
       " 85       0.0     0.0  ...   0.0   0.0   0.0     0.0     0.0     0.0     0.0   \n",
       " 86     840.2     0.0  ...  93.8  28.6  39.5    78.9    78.7    79.0    78.7   \n",
       " 87     840.2     0.0  ...   0.0  28.6   0.0    78.9     0.0    79.0     0.0   \n",
       " ...      ...     ...  ...   ...   ...   ...     ...     ...     ...     ...   \n",
       " 18256    0.0     0.0  ...   0.0   0.0   0.0     0.0     0.0     0.0     0.0   \n",
       " 18257    0.0     0.0  ...   0.0   0.0   0.0     0.0     0.0     0.0     0.0   \n",
       " 18258    0.0     0.0  ...   0.0   0.0   0.0     0.0     0.0     0.0     0.0   \n",
       " 18259    0.0     0.0  ...   0.0   0.0   0.0     0.0     0.0     0.0     0.0   \n",
       " 18260    0.0     0.0  ...   0.0   0.0   0.0     0.0     0.0     0.0     0.0   \n",
       " \n",
       "          eye  parsedby                                            message  \n",
       " 83     RIGHT       192                                                NaN  \n",
       " 84      LEFT         0                               Fixation Cross Shown  \n",
       " 85      LEFT         0                                          TRIALID 1  \n",
       " 86     RIGHT       192                                                NaN  \n",
       " 87     RIGHT       192                                                NaN  \n",
       " ...      ...       ...                                                ...  \n",
       " 18256   LEFT         0  Experiment ending, stopping eye tracker recording  \n",
       " 18257   LEFT       192                                                NaN  \n",
       " 18258   LEFT         0                                                NaN  \n",
       " 18259   LEFT         0                                                NaN  \n",
       " 18260   LEFT         0                                                NaN  \n",
       " \n",
       " [18178 rows x 31 columns])"
      ]
     },
     "execution_count": 6,
     "metadata": {},
     "output_type": "execute_result"
    }
   ],
   "source": [
    "et.clean(samples, events, copy = False)"
   ]
  },
  {
   "cell_type": "code",
   "execution_count": 13,
   "metadata": {},
   "outputs": [
    {
     "data": {
      "text/plain": [
       "{'Trial': 3.0,\n",
       " 'Total Duration (ms)': 2659.0,\n",
       " 'Total Samples': 2660.0,\n",
       " 'Number of Fixations': 5.0,\n",
       " 'Number of Saccades': 5.0,\n",
       " 'Number of Blinks': 0.0,\n",
       " 'Avg Fixation Duration (ms)': 531.8,\n",
       " 'Avg Saccade Amplitude': 1.6931468949603112}"
      ]
     },
     "execution_count": 13,
     "metadata": {},
     "output_type": "execute_result"
    }
   ],
   "source": [
    "# Describe trial #3 using CSV\n",
    "trial_stats = et.describe((events, samples), trial_number=3)\n",
    "trial_stats"
   ]
  }
 ],
 "metadata": {
  "kernelspec": {
   "display_name": "Python 3",
   "language": "python",
   "name": "python3"
  },
  "language_info": {
   "codemirror_mode": {
    "name": "ipython",
    "version": 3
   },
   "file_extension": ".py",
   "mimetype": "text/x-python",
   "name": "python",
   "nbconvert_exporter": "python",
   "pygments_lexer": "ipython3",
   "version": "3.12.10"
  }
 },
 "nbformat": 4,
 "nbformat_minor": 2
}