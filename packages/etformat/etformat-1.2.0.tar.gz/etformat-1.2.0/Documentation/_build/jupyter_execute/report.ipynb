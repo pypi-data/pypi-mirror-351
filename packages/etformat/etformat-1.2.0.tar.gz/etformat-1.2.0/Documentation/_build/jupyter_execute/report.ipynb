{
 "cells": [
  {
   "cell_type": "markdown",
   "id": "5de23a45",
   "metadata": {},
   "source": [
    "# 📑 report\n",
    "\n",
    "## Generate Comprehensive Trial Reports"
   ]
  },
  {
   "cell_type": "markdown",
   "id": "f4f89a19",
   "metadata": {},
   "source": [
    "The `report()` function generates a comprehensive analysis report for all trials in eye-tracking data. This report includes important metrics for each trial such as:\n",
    "\n",
    "- Recording duration\n",
    "- Total number of samples\n",
    "- Number of fixations, saccades, and blinks\n",
    "- Average fixation duration\n",
    "- Average saccade amplitude (in degrees)\n",
    "\n",
    "This function is useful for quickly obtaining an overview of eye movement behavior across all trials in your experiment."
   ]
  },
  {
   "cell_type": "markdown",
   "id": "31828728",
   "metadata": {},
   "source": [
    "## Parameters\n",
    "\n",
    "- `events` (str or DataFrame): Path to events CSV file or pandas DataFrame with events data\n",
    "- `output_path` (str, optional): Path to save the output report CSV file. If None and events is a path, a path will be generated based on the input file"
   ]
  },
  {
   "cell_type": "markdown",
   "id": "1121c146",
   "metadata": {},
   "source": [
    "## Returns\n",
    "\n",
    "- When output_path is provided: Path to the generated report file (string)\n",
    "- When output_path is None and events is a DataFrame: DataFrame with the complete trial report"
   ]
  },
  {
   "cell_type": "code",
   "execution_count": 1,
   "id": "adcb5893",
   "metadata": {},
   "outputs": [
    {
     "name": "stdout",
     "output_type": "stream",
     "text": [
      "📖 etformat 1.1.1 - For Documentation, visit: https://ahsankhodami.github.io/etformat/intro.html\n"
     ]
    },
    {
     "name": "stdout",
     "output_type": "stream",
     "text": [
      "Generating trial report from DataFrame\n",
      "Removed 7 empty or zero-filled columns\n",
      "Processing 480 trials...\n"
     ]
    },
    {
     "data": {
      "text/html": [
       "<div>\n",
       "<style scoped>\n",
       "    .dataframe tbody tr th:only-of-type {\n",
       "        vertical-align: middle;\n",
       "    }\n",
       "\n",
       "    .dataframe tbody tr th {\n",
       "        vertical-align: top;\n",
       "    }\n",
       "\n",
       "    .dataframe thead th {\n",
       "        text-align: right;\n",
       "    }\n",
       "</style>\n",
       "<table border=\"1\" class=\"dataframe\">\n",
       "  <thead>\n",
       "    <tr style=\"text-align: right;\">\n",
       "      <th></th>\n",
       "      <th>trial</th>\n",
       "      <th>recording_duration</th>\n",
       "      <th>total_samples</th>\n",
       "      <th>num_fixations</th>\n",
       "      <th>num_saccades</th>\n",
       "      <th>num_blinks</th>\n",
       "      <th>avg_fixation_duration</th>\n",
       "      <th>avg_saccade_amplitude</th>\n",
       "    </tr>\n",
       "  </thead>\n",
       "  <tbody>\n",
       "    <tr>\n",
       "      <th>0</th>\n",
       "      <td>1.0</td>\n",
       "      <td>4922</td>\n",
       "      <td>64</td>\n",
       "      <td>14</td>\n",
       "      <td>14</td>\n",
       "      <td>1</td>\n",
       "      <td>314.071429</td>\n",
       "      <td>2.671917</td>\n",
       "    </tr>\n",
       "    <tr>\n",
       "      <th>1</th>\n",
       "      <td>2.0</td>\n",
       "      <td>2704</td>\n",
       "      <td>26</td>\n",
       "      <td>5</td>\n",
       "      <td>5</td>\n",
       "      <td>0</td>\n",
       "      <td>517.800000</td>\n",
       "      <td>2.158233</td>\n",
       "    </tr>\n",
       "    <tr>\n",
       "      <th>2</th>\n",
       "      <td>3.0</td>\n",
       "      <td>2676</td>\n",
       "      <td>38</td>\n",
       "      <td>8</td>\n",
       "      <td>8</td>\n",
       "      <td>0</td>\n",
       "      <td>311.500000</td>\n",
       "      <td>1.861769</td>\n",
       "    </tr>\n",
       "    <tr>\n",
       "      <th>3</th>\n",
       "      <td>4.0</td>\n",
       "      <td>3104</td>\n",
       "      <td>32</td>\n",
       "      <td>6</td>\n",
       "      <td>6</td>\n",
       "      <td>1</td>\n",
       "      <td>459.833333</td>\n",
       "      <td>2.703100</td>\n",
       "    </tr>\n",
       "    <tr>\n",
       "      <th>4</th>\n",
       "      <td>5.0</td>\n",
       "      <td>2900</td>\n",
       "      <td>32</td>\n",
       "      <td>6</td>\n",
       "      <td>6</td>\n",
       "      <td>1</td>\n",
       "      <td>436.500000</td>\n",
       "      <td>1.435189</td>\n",
       "    </tr>\n",
       "  </tbody>\n",
       "</table>\n",
       "</div>"
      ],
      "text/plain": [
       "   trial  recording_duration  total_samples  num_fixations  num_saccades  \\\n",
       "0    1.0                4922             64             14            14   \n",
       "1    2.0                2704             26              5             5   \n",
       "2    3.0                2676             38              8             8   \n",
       "3    4.0                3104             32              6             6   \n",
       "4    5.0                2900             32              6             6   \n",
       "\n",
       "   num_blinks  avg_fixation_duration  avg_saccade_amplitude  \n",
       "0           1             314.071429               2.671917  \n",
       "1           0             517.800000               2.158233  \n",
       "2           0             311.500000               1.861769  \n",
       "3           1             459.833333               2.703100  \n",
       "4           1             436.500000               1.435189  "
      ]
     },
     "execution_count": 1,
     "metadata": {},
     "output_type": "execute_result"
    }
   ],
   "source": [
    "import etformat as et\n",
    "import pandas as pd\n",
    "\n",
    "# Load event data\n",
    "events = pd.read_csv(r\"D:\\Github_web_page_website\\test_events.csv\")\n",
    "\n",
    "# Generate report using DataFrame input\n",
    "report_df = et.report(events)\n",
    "report_df.head()"
   ]
  },
  {
   "cell_type": "markdown",
   "id": "8bffd269",
   "metadata": {},
   "source": [
    "You can also generate reports directly from files:"
   ]
  },
  {
   "cell_type": "code",
   "execution_count": 2,
   "id": "2e37ffed",
   "metadata": {},
   "outputs": [],
   "source": [
    "# # Generate report from a file path\n",
    "# output_path = et.report(\"test_events.csv\")\n",
    "# print(f\"Report saved to: {output_path}\")"
   ]
  },
  {
   "cell_type": "markdown",
   "id": "872d171e",
   "metadata": {},
   "source": [
    "## Understanding the Output\n",
    "\n",
    "The report includes the following metrics for each trial:\n",
    "\n",
    "- `trial`: The trial number/identifier\n",
    "- `recording_duration`: Total duration of the trial in milliseconds\n",
    "- `total_samples`: Total number of samples in the trial\n",
    "- `num_fixations`: Number of fixation events\n",
    "- `num_saccades`: Number of saccade events\n",
    "- `num_blinks`: Number of blink events\n",
    "- `avg_fixation_duration`: Average duration of fixations in milliseconds\n",
    "- `avg_saccade_amplitude`: Average saccade amplitude in degrees of visual angle\n",
    "\n",
    "These metrics provide a comprehensive overview of eye movement behavior for each trial, allowing for quick comparison across experimental conditions."
   ]
  }
 ],
 "metadata": {
  "kernelspec": {
   "display_name": "Python 3",
   "language": "python",
   "name": "python3"
  },
  "language_info": {
   "codemirror_mode": {
    "name": "ipython",
    "version": 3
   },
   "file_extension": ".py",
   "mimetype": "text/x-python",
   "name": "python",
   "nbconvert_exporter": "python",
   "pygments_lexer": "ipython3",
   "version": "3.12.10"
  }
 },
 "nbformat": 4,
 "nbformat_minor": 5
}