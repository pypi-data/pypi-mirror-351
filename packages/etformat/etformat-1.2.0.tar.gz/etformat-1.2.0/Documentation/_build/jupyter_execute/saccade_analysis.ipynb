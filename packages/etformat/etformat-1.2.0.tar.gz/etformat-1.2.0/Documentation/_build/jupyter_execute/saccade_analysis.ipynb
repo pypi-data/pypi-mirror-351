{
 "cells": [
  {
   "cell_type": "markdown",
   "id": "a8eebcb0",
   "metadata": {},
   "source": [
    "# 📊 saccade_amplitude_average\n",
    "\n",
    "## Calculate Average Saccade Amplitude"
   ]
  },
  {
   "cell_type": "markdown",
   "id": "b48feaca",
   "metadata": {},
   "source": [
    "The `saccade_amplitude_average()` function calculates the average saccade amplitude for each trial in eye-tracking data. This is useful for analyzing eye movement patterns across trials and understanding the magnitude of saccadic eye movements.\n",
    "\n",
    "The function:\n",
    "1. Processes each trial in the events data\n",
    "2. Identifies saccade events (ENDSACC)\n",
    "3. Calculates the Euclidean distance between start and end gaze positions\n",
    "4. Converts pixel distances to visual degrees\n",
    "5. Computes the average amplitude for each trial"
   ]
  },
  {
   "cell_type": "markdown",
   "id": "dbd1a536",
   "metadata": {},
   "source": [
    "## Parameters\n",
    "\n",
    "- `events` (str or DataFrame): Path to events CSV file or pandas DataFrame with events data\n",
    "- `output_path` (str, optional): Path to save the output CSV file. If None and events is a path, a path will be generated based on the input file"
   ]
  },
  {
   "cell_type": "markdown",
   "id": "67944f16",
   "metadata": {},
   "source": [
    "## Returns\n",
    "\n",
    "- When output_path is provided: Path to the output CSV file with average saccade amplitudes\n",
    "- When output_path is None and events is a DataFrame: DataFrame with average saccade amplitude results"
   ]
  },
  {
   "cell_type": "code",
   "execution_count": 1,
   "id": "aacae853",
   "metadata": {},
   "outputs": [
    {
     "name": "stdout",
     "output_type": "stream",
     "text": [
      "📖 etformat 1.1.1 - For Documentation, visit: https://ahsankhodami.github.io/etformat/intro.html\n"
     ]
    },
    {
     "name": "stdout",
     "output_type": "stream",
     "text": [
      "Calculating average saccade amplitudes from DataFrame\n",
      "Found 480 trials in the events file\n"
     ]
    },
    {
     "data": {
      "text/html": [
       "<div>\n",
       "<style scoped>\n",
       "    .dataframe tbody tr th:only-of-type {\n",
       "        vertical-align: middle;\n",
       "    }\n",
       "\n",
       "    .dataframe tbody tr th {\n",
       "        vertical-align: top;\n",
       "    }\n",
       "\n",
       "    .dataframe thead th {\n",
       "        text-align: right;\n",
       "    }\n",
       "</style>\n",
       "<table border=\"1\" class=\"dataframe\">\n",
       "  <thead>\n",
       "    <tr style=\"text-align: right;\">\n",
       "      <th></th>\n",
       "      <th>trial</th>\n",
       "      <th>average</th>\n",
       "    </tr>\n",
       "  </thead>\n",
       "  <tbody>\n",
       "    <tr>\n",
       "      <th>0</th>\n",
       "      <td>1.0</td>\n",
       "      <td>2.67</td>\n",
       "    </tr>\n",
       "    <tr>\n",
       "      <th>1</th>\n",
       "      <td>2.0</td>\n",
       "      <td>2.16</td>\n",
       "    </tr>\n",
       "    <tr>\n",
       "      <th>2</th>\n",
       "      <td>3.0</td>\n",
       "      <td>1.86</td>\n",
       "    </tr>\n",
       "    <tr>\n",
       "      <th>3</th>\n",
       "      <td>4.0</td>\n",
       "      <td>2.70</td>\n",
       "    </tr>\n",
       "    <tr>\n",
       "      <th>4</th>\n",
       "      <td>5.0</td>\n",
       "      <td>1.44</td>\n",
       "    </tr>\n",
       "  </tbody>\n",
       "</table>\n",
       "</div>"
      ],
      "text/plain": [
       "   trial  average\n",
       "0    1.0     2.67\n",
       "1    2.0     2.16\n",
       "2    3.0     1.86\n",
       "3    4.0     2.70\n",
       "4    5.0     1.44"
      ]
     },
     "execution_count": 1,
     "metadata": {},
     "output_type": "execute_result"
    }
   ],
   "source": [
    "import etformat as et\n",
    "import pandas as pd\n",
    "\n",
    "# Load event data\n",
    "events = pd.read_csv(r\"D:\\Github_web_page_website\\test_events.csv\")\n",
    "\n",
    "# Calculate average saccade amplitudes using DataFrame input\n",
    "results_df = et.saccade_amplitude_average(events)\n",
    "results_df.head()"
   ]
  },
  {
   "cell_type": "markdown",
   "id": "1431da26",
   "metadata": {},
   "source": [
    "You can also use file paths directly:"
   ]
  },
  {
   "cell_type": "code",
   "execution_count": 2,
   "id": "9f6ad112",
   "metadata": {},
   "outputs": [],
   "source": [
    "# # Calculate average saccade amplitudes from a file path\n",
    "# output_path = et.saccade_amplitude_average(\"test_events.csv\")\n",
    "# print(f\"Results saved to: {output_path}\")"
   ]
  },
  {
   "cell_type": "markdown",
   "id": "3b5ea03d",
   "metadata": {},
   "source": [
    "## Understanding the Output\n",
    "\n",
    "The output includes:\n",
    "- `trial`: The trial number/identifier\n",
    "- `average`: The average saccade amplitude in degrees of visual angle for that trial\n",
    "\n",
    "A higher value indicates larger saccadic eye movements, which could reflect increased search behavior or larger shifts of attention."
   ]
  }
 ],
 "metadata": {
  "kernelspec": {
   "display_name": "Python 3",
   "language": "python",
   "name": "python3"
  },
  "language_info": {
   "codemirror_mode": {
    "name": "ipython",
    "version": 3
   },
   "file_extension": ".py",
   "mimetype": "text/x-python",
   "name": "python",
   "nbconvert_exporter": "python",
   "pygments_lexer": "ipython3",
   "version": "3.12.10"
  }
 },
 "nbformat": 4,
 "nbformat_minor": 5
}