{
 "cells": [
  {
   "cell_type": "markdown",
   "id": "d8173cdf",
   "metadata": {},
   "source": [
    "# 🧹 clean\n",
    "\n",
    "## Clean Eye-Tracking Data"
   ]
  },
  {
   "cell_type": "markdown",
   "id": "68d94ca1",
   "metadata": {},
   "source": [
    "The `clean()` function helps you clean eye-tracking data by:\n",
    "\n",
    "1. Removing rows where the 'trial' column contains NaN values\n",
    "2. Removing columns that are entirely empty (all NaN) or filled with zeros\n",
    "\n",
    "This is particularly useful for preparing eye-tracking data for analysis by removing data points that might not be useful or could potentially affect the analysis results."
   ]
  },
  {
   "cell_type": "markdown",
   "id": "a94bdb3f",
   "metadata": {},
   "source": [
    "## Parameters\n",
    "\n",
    "- `samples` (str or DataFrame): Path to samples CSV file or pandas DataFrame with samples data\n",
    "- `events` (str or DataFrame): Path to events CSV file or pandas DataFrame with events data\n",
    "- `verbose` (bool): Print cleaning statistics (default: True)\n",
    "- `copy` (bool): If True, saves to new files instead of overwriting originals when path is provided (default: False)"
   ]
  },
  {
   "cell_type": "markdown",
   "id": "cde0bb64",
   "metadata": {},
   "source": [
    "## Returns\n",
    "\n",
    "- When file paths are provided and `copy=False`: (samples_path, events_path) - Paths to the cleaned files\n",
    "- When file paths are provided and `copy=True`: (new_samples_path, new_events_path) - Paths to the new cleaned files\n",
    "- When DataFrames are provided: (samples_df, events_df) - Cleaned DataFrames"
   ]
  },
  {
   "cell_type": "code",
   "execution_count": 1,
   "id": "b1a64bd8",
   "metadata": {},
   "outputs": [
    {
     "name": "stdout",
     "output_type": "stream",
     "text": [
      "📖 etformat 1.1.1 - For Documentation, visit: https://ahsankhodami.github.io/etformat/intro.html\n",
      "🧹 Starting data cleaning for eye-tracking data\n",
      "   📊 Samples: DataFrame with shape (1520309, 56)\n",
      "   📊 Events: DataFrame with shape (18261, 38)\n",
      "============================================================\n",
      "\n",
      "🔍 Processing SAMPLES data...\n",
      "   Original samples shape: (1520309, 56)\n",
      "   Columns: 56\n",
      "   ❌ Removed 2522 rows with NaN trials\n",
      "   ❌ Removed 15 columns:\n",
      "      • time_rel (all_nan)\n",
      "      • pxL (all_nan)\n",
      "      • pyL (all_nan)\n",
      "      • hxL (all_nan)\n",
      "      • hyL (all_nan)\n",
      "      • paL (all_nan)\n",
      "      • gxL (all_nan)\n",
      "      • gyL (all_nan)\n",
      "      • hdata1 (all_zero)\n",
      "      • hdata6 (all_zero)\n",
      "      • hdata7 (all_zero)\n",
      "      • input (all_zero)\n",
      "      • buttons (all_zero)\n",
      "      • htype (all_nan)\n",
      "      • errors (all_zero)\n",
      "   ✅ Samples cleaned: (1520309, 56) → (1517787, 41)\n",
      "\n",
      "🔍 Processing EVENTS data...\n",
      "   Original events shape: (18261, 38)\n",
      "   Columns: 38\n",
      "   ❌ Removed 83 rows with NaN trials\n",
      "   ❌ Removed 7 columns:\n",
      "      • time (all_zero)\n",
      "      • sttime_rel (all_nan)\n",
      "      • entime_rel (all_nan)\n",
      "      • status (all_zero)\n",
      "      • flags (all_zero)\n",
      "      • input (all_zero)\n",
      "      • buttons (all_zero)\n",
      "   ✅ Events cleaned: (18261, 38) → (18178, 31)\n",
      "============================================================\n",
      "🎉 Cleaning completed!\n"
     ]
    }
   ],
   "source": [
    "import etformat as et\n",
    "import pandas as pd\n",
    "\n",
    "# Load sample data\n",
    "samples = pd.read_csv(r\"D:\\Github_web_page_website\\test_samples.csv\")\n",
    "events = pd.read_csv(r\"D:\\Github_web_page_website\\test_events.csv\")\n",
    "\n",
    "# Clean the data using DataFrames\n",
    "cleaned_samples, cleaned_events = et.clean(samples, events)"
   ]
  }
 ],
 "metadata": {
  "kernelspec": {
   "display_name": "Python 3",
   "language": "python",
   "name": "python3"
  },
  "language_info": {
   "codemirror_mode": {
    "name": "ipython",
    "version": 3
   },
   "file_extension": ".py",
   "mimetype": "text/x-python",
   "name": "python",
   "nbconvert_exporter": "python",
   "pygments_lexer": "ipython3",
   "version": "3.12.10"
  }
 },
 "nbformat": 4,
 "nbformat_minor": 5
}
