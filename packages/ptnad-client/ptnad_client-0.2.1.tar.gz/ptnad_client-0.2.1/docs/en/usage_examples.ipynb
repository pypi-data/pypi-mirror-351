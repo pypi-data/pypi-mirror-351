{
 "cells": [
  {
   "cell_type": "markdown",
   "metadata": {},
   "source": [
    "## Connecting to PT NAD\n",
    "\n",
    "ptnad-client allows you to make requests to the system using various authentication methods.\n",
    "\n",
    "### Local Connection\n",
    "\n",
    "For quick testing and debugging, you can use a local connection. The default credentials are login \"administrator\" and password \"Administr@t0r\"."
   ]
  },
  {
   "cell_type": "code",
   "execution_count": null,
   "metadata": {},
   "outputs": [],
   "source": [
    "from ptnad import PTNADClient\n",
    "\n",
    "# Connecting to a local PT NAD instance (example for a test environment)\n",
    "client = PTNADClient(\"https://1.3.3.7\", verify_ssl=False)\n",
    "\n",
    "# Setting username and password\n",
    "client.set_auth(username=\"administrator\", password=\"Administr@t0r\")\n",
    "\n",
    "# Logging into the service\n",
    "client.login()"
   ]
  },
  {
   "cell_type": "markdown",
   "metadata": {},
   "source": [
    "### Connecting via SSO\n",
    "\n",
    "To connect via SSO, you need to use auth_type=\"sso\" along with parameters that can be obtained from the /opt/ptsecurity/etc/iam_cookie.json file on the PT NAD server.\n",
    "\n",
    "Here’s an example structure from the iam_cookie.json file:\n",
    "\n",
    "```bash\n",
    "cat /opt/ptsecurity/etc/iam_cookie.json\n",
    "```\n",
    "\n",
    "```json\n",
    "{\n",
    "    \"iam\": {\n",
    "        \"id\": \"ptnad\",\n",
    "        \"name\": \"PT NAD\",\n",
    "        \"redirect_url\": \"https://1.3.3.7\",\n",
    "        \"secret\": \"11111111-abcd-asdf-12334-0123456789ab\",\n",
    "        \"token\": \"your_token\",\n",
    "        \"token_type\": \"reference\",\n",
    "        \"url\": \"https://siem.example.local:3334\",\n",
    "        \"verify\": false\n",
    "    },\n",
    "    \"tms\": {\n",
    "        \"app_id\": \"your_app_id\",\n",
    "        \"display_name\": \"PT NAD\",\n",
    "        \"endpoint\": \"https://1.3.3.7\",\n",
    "        \"request_id\": \"your_request_id\",\n",
    "        \"token\": \"your_token\",\n",
    "        \"url\": \"https://siem.example.local:3334\"\n",
    "    }\n",
    "}\n",
    "```\n",
    "\n",
    "To establish the connection, extract the values from the \"id\", \"secret\", and \"url\" keys.\n",
    "Set auth_type to \"sso\", provide your login and password, and use the remaining fields from iam_cookie.json, where:\n",
    "- client_id = id\n",
    "- client_secret = secret\n",
    "- sso_url = url\n",
    "\n",
    "As a result we get:\n",
    "\n",
    "```python\n",
    "client = PTNADClient(\"https://1.3.3.7\", verify_ssl=False)\n",
    "client.set_auth(\n",
    "    auth_type=\"sso\",\n",
    "    username=\"user\",\n",
    "    password=\"pass\",\n",
    "    client_id=\"ptnad\",\n",
    "    client_secret=\"11111111-abcd-asdf-12334-0123456789ab\",\n",
    "    sso_url=\"https://siem.example.local:3334\"\n",
    ")\n",
    "client.login()\n",
    "```\n",
    "\n",
    "Here is a link to the source code where you can learn more about the authentication mechanisms: [Code Reference](https://security-experts-community.github.io/ptnad-client/reference)"
   ]
  },
  {
   "cell_type": "markdown",
   "metadata": {},
   "source": [
    "### Examples of using the library"
   ]
  },
  {
   "cell_type": "markdown",
   "metadata": {},
   "source": [
    "#### BQL Queries\n",
    "\n",
    "This example demonstrates working with custom filters stored in the file \"docs\\data\\filters.json\" and executing BQL queries to PT NAD. For this example, we'll select only two fields: source IP address (src.ip) and destination IP address (dst.ip):\n",
    "- Connect locally to PT NAD.\n",
    "- Load filters from the filters.json file, where each filter contains a BQL fragment, name, and category (with language selection capability).\n",
    "- Form a base query with a time range (last 3 days).\n",
    "- Combine the base query with filters.\n",
    "- Group queries by categories.\n",
    "- Execute each query and display results with:\n",
    "    - filter category;\n",
    "    - filter name;\n",
    "    - complete BQL query;\n",
    "    - results.\n",
    "\n",
    "For more detailed information about possible filtering parameters and their values, please refer to [PT NAD Documentation](https://help.ptsecurity.com/en-US/projects/nad/12.2/help/7083891595)"
   ]
  },
  {
   "cell_type": "code",
   "execution_count": null,
   "metadata": {},
   "outputs": [],
   "source": [
    "import json\n",
    "from datetime import datetime, timedelta\n",
    "from ptnad import PTNADClient\n",
    "\n",
    "client = PTNADClient(\"https://1.3.3.7\", verify_ssl=False)\n",
    "client.set_auth(username=\"administrator\", password=\"Administr@t0r\")\n",
    "client.login()\n",
    "\n",
    "with open(\"../data/filters.json\", \"r\", encoding=\"utf-8\") as f:\n",
    "    data = json.load(f)\n",
    "\n",
    "now = datetime.now()\n",
    "start_time = (now - timedelta(days=3)).strftime(\"%Y-%m-%dT%H:%M:%S\")\n",
    "end_time = now.strftime(\"%Y-%m-%dT%H:%M:%S\")\n",
    "\n",
    "base_query = f\"SELECT src.ip, dst.ip FROM flow WHERE start > '{start_time}' AND end < '{end_time}'\"\n",
    "\n",
    "grouped_queries = {}\n",
    "\n",
    "for item in data[\"filters\"]:\n",
    "    category = item[\"category\"][\"en\"]\n",
    "    name = item[\"name\"][\"en\"]\n",
    "    filter_query = item[\"filter\"].strip()\n",
    "    compiled_filter = client.filters.compile(filter_query)\n",
    "\n",
    "    if filter_query:\n",
    "        full_query = f\"{base_query} AND {compiled_filter}\"\n",
    "        if category not in grouped_queries:\n",
    "            grouped_queries[category] = []\n",
    "        grouped_queries[category].append((name, full_query))\n",
    "\n",
    "for category, filters in grouped_queries.items():\n",
    "    print(f\"\\n▶️ Category: {category}\")\n",
    "    for name, query in filters:\n",
    "        result = client.bql.execute(query)\n",
    "        print(f\"\\n🔹 {name}\\n{query}\")\n",
    "        print(\"Results:\")\n",
    "        if isinstance(result, list) and result:\n",
    "            for i, row in enumerate(result, 1):\n",
    "                print(f\"{i}. {row}\")\n",
    "        else:\n",
    "            print(\"No results.\")"
   ]
  },
  {
   "cell_type": "markdown",
   "metadata": {},
   "source": [
    "#### Monitoring"
   ]
  },
  {
   "cell_type": "markdown",
   "metadata": {},
   "source": [
    "Getting the general status of the system:"
   ]
  },
  {
   "cell_type": "code",
   "execution_count": null,
   "metadata": {},
   "outputs": [],
   "source": [
    "from ptnad import PTNADClient\n",
    "from ptnad.api.monitoring import MonitoringAPI\n",
    "\n",
    "client = PTNADClient(\"https://1.3.3.7\", verify_ssl=False)\n",
    "client.set_auth(username=\"administrator\", password=\"Administr@t0r\")\n",
    "client.login()\n",
    "\n",
    "monitoring = MonitoringAPI(client)\n",
    "\n",
    "status = monitoring.get_status()\n",
    "\n",
    "print(f\"Status: {status.status}\")\n",
    "for problem in status.problems:\n",
    "    print(f\"{problem}\")"
   ]
  },
  {
   "cell_type": "markdown",
   "metadata": {},
   "source": [
    "Getting a list of all triggers:"
   ]
  },
  {
   "cell_type": "code",
   "execution_count": null,
   "metadata": {},
   "outputs": [],
   "source": [
    "from ptnad import PTNADClient\n",
    "from ptnad.api.monitoring import MonitoringAPI\n",
    "\n",
    "client = PTNADClient(\"https://1.3.3.7\", verify_ssl=False)\n",
    "client.set_auth(username=\"administrator\", password=\"Administr@t0r\")\n",
    "client.login()\n",
    "\n",
    "monitoring = MonitoringAPI(client)\n",
    "\n",
    "triggers = monitoring.get_triggers()\n",
    "\n",
    "for trig in triggers:\n",
    "    print(f\"\\nTrigger ID: {trig.id}\")\n",
    "    print(f\"Type: {trig.type}\")\n",
    "    print(f\"Status: {trig.status}\")\n",
    "    print(f\"Last update: {trig.updated}\")"
   ]
  },
  {
   "cell_type": "markdown",
   "metadata": {},
   "source": [
    "#### Replists"
   ]
  },
  {
   "cell_type": "markdown",
   "metadata": {},
   "source": [
    "Getting all lists:"
   ]
  },
  {
   "cell_type": "code",
   "execution_count": null,
   "metadata": {},
   "outputs": [],
   "source": [
    "from ptnad import PTNADClient\n",
    "from ptnad.api.replists import RepListsAPI\n",
    "\n",
    "client = PTNADClient(\"https://1.3.3.7\", verify_ssl=False)\n",
    "client.set_auth(username=\"administrator\", password=\"Administr@t0r\")\n",
    "client.login()\n",
    "\n",
    "replists = RepListsAPI(client)\n",
    "\n",
    "lists = replists.get_all_lists()\n",
    "print(f\"Total number: {len(lists)}\")\n",
    "\n",
    "for r in lists:\n",
    "    print(f\"- [{r['id']}] {r['name']} ({r['type']}, items: {r['items_count']})\")\n"
   ]
  },
  {
   "cell_type": "markdown",
   "metadata": {},
   "source": [
    "Search by keyword:"
   ]
  },
  {
   "cell_type": "code",
   "execution_count": null,
   "metadata": {},
   "outputs": [],
   "source": [
    "from ptnad import PTNADClient\n",
    "from ptnad.api.replists import RepListsAPI\n",
    "\n",
    "client = PTNADClient(\"https://1.3.3.7\", verify_ssl=False)\n",
    "client.set_auth(username=\"administrator\", password=\"Administr@t0r\")\n",
    "client.login()\n",
    "\n",
    "replists = RepListsAPI(client)\n",
    "\n",
    "results = replists.get_lists(search=\"APT\")\n",
    "\n",
    "for r in results:\n",
    "    print(f\"{r['name']}\")"
   ]
  },
  {
   "cell_type": "markdown",
   "metadata": {},
   "source": [
    "Creating a new list:"
   ]
  },
  {
   "cell_type": "code",
   "execution_count": null,
   "metadata": {},
   "outputs": [],
   "source": [
    "from ptnad import PTNADClient\n",
    "from ptnad.api.replists import RepListsAPI\n",
    "\n",
    "client = PTNADClient(\"https://1.3.3.7\", verify_ssl=False)\n",
    "client.set_auth(username=\"administrator\", password=\"Administr@t0r\")\n",
    "client.login()\n",
    "\n",
    "replists = RepListsAPI(client)\n",
    "\n",
    "new_list = replists.create_list(\n",
    "    name=\"test_list_01\",\n",
    "    type=\"ip\",\n",
    "    color=\"1\",\n",
    "    description=\"Test list of IP addresses\",\n",
    "    content=\"1.1.1.1\\n2.2.2.2\"\n",
    ")\n",
    "print(f\"The list has been created: {new_list['id']}\")"
   ]
  },
  {
   "cell_type": "markdown",
   "metadata": {},
   "source": [
    "List update:"
   ]
  },
  {
   "cell_type": "code",
   "execution_count": null,
   "metadata": {},
   "outputs": [],
   "source": [
    "from ptnad import PTNADClient\n",
    "from ptnad.api.replists import RepListsAPI\n",
    "\n",
    "client = PTNADClient(\"https://1.3.3.7\", verify_ssl=False)\n",
    "client.set_auth(username=\"administrator\", password=\"Administr@t0r\")\n",
    "client.login()\n",
    "\n",
    "replists = RepListsAPI(client)\n",
    "\n",
    "updated = replists.update_list(list_id=new_list[\"id\"], description=\"Updated IP test list\")\n",
    "print(\"Description updated:\", updated[\"description\"])"
   ]
  },
  {
   "cell_type": "markdown",
   "metadata": {},
   "source": [
    "Deleting a list:"
   ]
  },
  {
   "cell_type": "code",
   "execution_count": null,
   "metadata": {},
   "outputs": [],
   "source": [
    "from ptnad import PTNADClient\n",
    "from ptnad.api.replists import RepListsAPI\n",
    "\n",
    "client = PTNADClient(\"https://1.3.3.7\", verify_ssl=False)\n",
    "client.set_auth(username=\"administrator\", password=\"Administr@t0r\")\n",
    "client.login()\n",
    "\n",
    "replists = RepListsAPI(client)\n",
    "\n",
    "replists.delete_list(list_id=new_list[\"id\"])\n",
    "print(\"The list has been removed\")"
   ]
  },
  {
   "cell_type": "markdown",
   "metadata": {},
   "source": [
    "#### Signatures"
   ]
  },
  {
   "cell_type": "markdown",
   "metadata": {},
   "source": [
    "Getting all signature classes:"
   ]
  },
  {
   "cell_type": "code",
   "execution_count": null,
   "metadata": {},
   "outputs": [],
   "source": [
    "from ptnad import PTNADClient\n",
    "from ptnad.api.signatures import SignaturesAPI\n",
    "\n",
    "client = PTNADClient(\"https://1.3.3.7\", verify_ssl=False)\n",
    "client.set_auth(username=\"administrator\", password=\"Administr@t0r\")\n",
    "client.login()\n",
    "\n",
    "signatures = SignaturesAPI(client)\n",
    "\n",
    "classes = signatures.get_classes()\n",
    "\n",
    "for cls in classes:\n",
    "    print(f\"{cls['title']} (priority: {cls['priority']})\")\n"
   ]
  },
  {
   "cell_type": "markdown",
   "metadata": {},
   "source": [
    "Getting complete information on one signature:"
   ]
  },
  {
   "cell_type": "code",
   "execution_count": null,
   "metadata": {},
   "outputs": [],
   "source": [
    "from ptnad import PTNADClient\n",
    "from ptnad.api.signatures import SignaturesAPI\n",
    "\n",
    "client = PTNADClient(\"https://1.3.3.7\", verify_ssl=False)\n",
    "client.set_auth(username=\"administrator\", password=\"Administr@t0r\")\n",
    "client.login()\n",
    "\n",
    "signatures = SignaturesAPI(client)\n",
    "\n",
    "rules = signatures.get_rules(search=\"ftp\", cls=\"Network scan\")\n",
    "\n",
    "for r in rules:\n",
    "    print(f\"\\nRule #{r['sid']} - {r['msg']}\")\n",
    "    print(f\"Vendor: {r['vendor']}, Enabled: {r['enabled']}\")"
   ]
  }
 ],
 "metadata": {
  "language_info": {
   "name": "python"
  }
 },
 "nbformat": 4,
 "nbformat_minor": 2
}
