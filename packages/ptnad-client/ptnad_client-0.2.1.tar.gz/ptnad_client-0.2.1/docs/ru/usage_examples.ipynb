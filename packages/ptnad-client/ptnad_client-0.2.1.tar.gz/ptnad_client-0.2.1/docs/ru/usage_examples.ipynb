{
 "cells": [
  {
   "cell_type": "markdown",
   "metadata": {},
   "source": [
    "## Подключение к PT NAD\n",
    "\n",
    "ptnad-client позволяет выполнять запросы к системе с использованием различных способов аутентификации.\n",
    "\n",
    "### Локальное подключение\n",
    "\n",
    "Для быстрого тестирования и отладки можно использовать локальное подключение. В качестве дефолтных значений используется логин \"administrator\" и пароль \"Administr@t0r\"."
   ]
  },
  {
   "cell_type": "code",
   "execution_count": null,
   "metadata": {},
   "outputs": [],
   "source": [
    "from ptnad import PTNADClient\n",
    "\n",
    "# Подключение к локальному инстансу PT NAD (пример для тестовой среды)\n",
    "client = PTNADClient(\"https://1.3.3.7\", verify_ssl=False)\n",
    "\n",
    "# Установка логина и пароля\n",
    "client.set_auth(username=\"administrator\", password=\"Administr@t0r\")\n",
    "\n",
    "# Подключаемся к сервису\n",
    "client.login()\n"
   ]
  },
  {
   "cell_type": "markdown",
   "metadata": {},
   "source": [
    "### Подключение через SSO\n",
    "\n",
    "Для подключения через SSO необходимо использовать auth_type=\"sso\" и параметры, которые можно получить из файла /opt/ptsecurity/etc/iam_cookie.json на сервере PT NAD.\n",
    "\n",
    "Пример структуры, получаемой при выводе содержимого \"iam_cookie.json\":\n",
    "\n",
    "```bash\n",
    "cat /opt/ptsecurity/etc/iam_cookie.json\n",
    "```\n",
    "\n",
    "```json\n",
    "{\n",
    "    \"iam\": {\n",
    "        \"id\": \"ptnad\",\n",
    "        \"name\": \"PT NAD\",\n",
    "        \"redirect_url\": \"https://1.3.3.7\",\n",
    "        \"secret\": \"11111111-abcd-asdf-12334-0123456789ab\",\n",
    "        \"token\": \"your_token\",\n",
    "        \"token_type\": \"reference\",\n",
    "        \"url\": \"https://siem.example.local:3334\",\n",
    "        \"verify\": false\n",
    "    },\n",
    "    \"tms\": {\n",
    "        \"app_id\": \"your_app_id\",\n",
    "        \"display_name\": \"PT NAD\",\n",
    "        \"endpoint\": \"https://1.3.3.7\",\n",
    "        \"request_id\": \"your_request_id\",\n",
    "        \"token\": \"your_token\",\n",
    "        \"url\": \"https://siem.example.local:3334\"\n",
    "    }\n",
    "}\n",
    "```\n",
    "\n",
    "Для подключения, необходимо взять информацию из ключей \"id\", \"secret\" и \"url\".\n",
    "В качестве auth_type указываем \"sso\", добавляем свои логин/пароль и оставшиеся поля из iam_cookie.json, где\n",
    "- client_id = id\n",
    "- client_secret = secret\n",
    "- sso_url = url\n",
    "\n",
    "По итогу получаем:\n",
    "\n",
    "```python\n",
    "client = PTNADClient(\"https://1.3.3.7\", verify_ssl=False)\n",
    "client.set_auth(\n",
    "    auth_type=\"sso\",\n",
    "    username=\"user\",\n",
    "    password=\"pass\",\n",
    "    client_id=\"ptnad\",\n",
    "    client_secret=\"11111111-abcd-asdf-12334-0123456789ab\",\n",
    "    sso_url=\"https://siem.example.local:3334\"\n",
    ")\n",
    "client.login()\n",
    "```\n",
    "\n",
    "Ссылка на код, где можно подробнее изучить механизмы авторизации: [Code Reference](https://security-experts-community.github.io/ptnad-client/reference)"
   ]
  },
  {
   "cell_type": "markdown",
   "metadata": {},
   "source": [
    "### Примеры работы с библиотекой"
   ]
  },
  {
   "cell_type": "markdown",
   "metadata": {},
   "source": [
    "#### BQL-запросы\n",
    "\n",
    "В этом примере демонстрируется работа с кастомными фильтрами, хранящимися в файле \"docs\\data\\filters.json\", и выполнение BQL-запросов к PT NAD. Для примера выберем только два поля: IP-адрес источника (src.ip) и IP-адрес назначения (dst.ip):\n",
    "- Локально подключаемся PT NAD.\n",
    "- Загружаем фильтры из файла filters.json, где каждый фильтр содержит BQL-фрагмент, имя и категорию (есть возможность выбора языка).\n",
    "- Формируем базовый запрос с временным диапазоном (последние 3 дня).\n",
    "- Объединяем базовый запрос с фильтрами.\n",
    "- Группируем запросы по категориям.\n",
    "- Выполняем каждый запрос и выводим результаты с указанием:\n",
    "    - категории фильтра;\n",
    "    - его названия;\n",
    "    - полного BQL-запроса;\n",
    "    - результата.\n",
    "\n",
    "Более подробно про возможные параметры фильтрации и их значения можно почитать тут - [PT NAD Справка](https://help.ptsecurity.com/ru-RU/projects/nad/12.2/help/7083891595)"
   ]
  },
  {
   "cell_type": "code",
   "execution_count": null,
   "metadata": {},
   "outputs": [],
   "source": [
    "import json\n",
    "from datetime import datetime, timedelta\n",
    "from ptnad import PTNADClient\n",
    "\n",
    "client = PTNADClient(\"https://1.3.3.7\", verify_ssl=False)\n",
    "client.set_auth(username=\"administrator\", password=\"Administr@t0r\")\n",
    "client.login()\n",
    "\n",
    "with open(\"../data/filters.json\", \"r\", encoding=\"utf-8\") as f:\n",
    "    data = json.load(f)\n",
    "\n",
    "now = datetime.now()\n",
    "start_time = (now - timedelta(days=3)).strftime(\"%Y-%m-%dT%H:%M:%S\")\n",
    "end_time = now.strftime(\"%Y-%m-%dT%H:%M:%S\")\n",
    "\n",
    "base_query = f\"SELECT src.ip, dst.ip FROM flow WHERE start > '{start_time}' AND end < '{end_time}'\"\n",
    "\n",
    "grouped_queries = {}\n",
    "\n",
    "for item in data[\"filters\"]:\n",
    "    category = item[\"category\"][\"en\"]\n",
    "    name = item[\"name\"][\"en\"]\n",
    "    filter_query = item[\"filter\"].strip()\n",
    "    compiled_filter = client.filters.compile(filter_query)\n",
    "\n",
    "    if filter_query:\n",
    "        full_query = f\"{base_query} AND {compiled_filter}\"\n",
    "        if category not in grouped_queries:\n",
    "            grouped_queries[category] = []\n",
    "        grouped_queries[category].append((name, full_query))\n",
    "\n",
    "for category, filters in grouped_queries.items():\n",
    "    print(f\"\\n▶️ Категория: {category}\")\n",
    "    for name, query in filters:\n",
    "        result = client.bql.execute(query)\n",
    "        print(f\"\\n🔹 {name}\\n{query}\")\n",
    "        print(\"Results:\")\n",
    "        if isinstance(result, list) and result:\n",
    "            for i, row in enumerate(result, 1):\n",
    "                print(f\"{i}. {row}\")\n",
    "        else:\n",
    "            print(\"Нет результатов.\")"
   ]
  },
  {
   "cell_type": "markdown",
   "metadata": {},
   "source": [
    "#### Monitoring"
   ]
  },
  {
   "cell_type": "markdown",
   "metadata": {},
   "source": [
    "Получение общего статуса системы:"
   ]
  },
  {
   "cell_type": "code",
   "execution_count": null,
   "metadata": {},
   "outputs": [],
   "source": [
    "from ptnad import PTNADClient\n",
    "from ptnad.api.monitoring import MonitoringAPI\n",
    "\n",
    "client = PTNADClient(\"https://1.3.3.7\", verify_ssl=False)\n",
    "client.set_auth(username=\"administrator\", password=\"Administr@t0r\")\n",
    "client.login()\n",
    "\n",
    "monitoring = MonitoringAPI(client)\n",
    "\n",
    "status = monitoring.get_status()\n",
    "\n",
    "print(f\"Статус: {status.status}\")\n",
    "for problem in status.problems:\n",
    "    print(f\"{problem}\")"
   ]
  },
  {
   "cell_type": "markdown",
   "metadata": {},
   "source": [
    "Получение списка всех триггеров:"
   ]
  },
  {
   "cell_type": "code",
   "execution_count": null,
   "metadata": {},
   "outputs": [],
   "source": [
    "from ptnad import PTNADClient\n",
    "from ptnad.api.monitoring import MonitoringAPI\n",
    "\n",
    "client = PTNADClient(\"https://1.3.3.7\", verify_ssl=False)\n",
    "client.set_auth(username=\"administrator\", password=\"Administr@t0r\")\n",
    "client.login()\n",
    "\n",
    "monitoring = MonitoringAPI(client)\n",
    "\n",
    "triggers = monitoring.get_triggers()\n",
    "\n",
    "for trig in triggers:\n",
    "    print(f\"\\nTrigger ID: {trig.id}\")\n",
    "    print(f\"Тип: {trig.type}\")\n",
    "    print(f\"Статус: {trig.status}\")\n",
    "    print(f\"Последнее обновление: {trig.updated}\")"
   ]
  },
  {
   "cell_type": "markdown",
   "metadata": {},
   "source": [
    "#### Replists"
   ]
  },
  {
   "cell_type": "markdown",
   "metadata": {},
   "source": [
    "Получение всех списков:"
   ]
  },
  {
   "cell_type": "code",
   "execution_count": null,
   "metadata": {},
   "outputs": [],
   "source": [
    "from ptnad import PTNADClient\n",
    "from ptnad.api.replists import RepListsAPI\n",
    "\n",
    "client = PTNADClient(\"https://1.3.3.7\", verify_ssl=False)\n",
    "client.set_auth(username=\"administrator\", password=\"Administr@t0r\")\n",
    "client.login()\n",
    "\n",
    "replists = RepListsAPI(client)\n",
    "\n",
    "lists = replists.get_all_lists()\n",
    "print(f\"Общее количество: {len(lists)}\")\n",
    "\n",
    "for r in lists:\n",
    "    print(f\"- [{r['id']}] {r['name']} ({r['type']}, items: {r['items_count']})\")\n"
   ]
  },
  {
   "cell_type": "markdown",
   "metadata": {},
   "source": [
    "Поиск по ключевому слову:"
   ]
  },
  {
   "cell_type": "code",
   "execution_count": null,
   "metadata": {},
   "outputs": [],
   "source": [
    "from ptnad import PTNADClient\n",
    "from ptnad.api.replists import RepListsAPI\n",
    "\n",
    "client = PTNADClient(\"https://1.3.3.7\", verify_ssl=False)\n",
    "client.set_auth(username=\"administrator\", password=\"Administr@t0r\")\n",
    "client.login()\n",
    "\n",
    "replists = RepListsAPI(client)\n",
    "\n",
    "results = replists.get_lists(search=\"APT\")\n",
    "\n",
    "for r in results:\n",
    "    print(f\"{r['name']}\")"
   ]
  },
  {
   "cell_type": "markdown",
   "metadata": {},
   "source": [
    "Создание нового списка:"
   ]
  },
  {
   "cell_type": "code",
   "execution_count": null,
   "metadata": {},
   "outputs": [],
   "source": [
    "from ptnad import PTNADClient\n",
    "from ptnad.api.replists import RepListsAPI\n",
    "\n",
    "client = PTNADClient(\"https://1.3.3.7\", verify_ssl=False)\n",
    "client.set_auth(username=\"administrator\", password=\"Administr@t0r\")\n",
    "client.login()\n",
    "\n",
    "replists = RepListsAPI(client)\n",
    "\n",
    "new_list = replists.create_list(\n",
    "    name=\"test_list_01\",\n",
    "    type=\"ip\",\n",
    "    color=\"1\",\n",
    "    description=\"Тестовый список IP-адресов\",\n",
    "    content=\"1.1.1.1\\n2.2.2.2\"\n",
    ")\n",
    "print(f\"Список создан: {new_list['id']}\")"
   ]
  },
  {
   "cell_type": "markdown",
   "metadata": {},
   "source": [
    "Обновление списка:"
   ]
  },
  {
   "cell_type": "code",
   "execution_count": null,
   "metadata": {},
   "outputs": [],
   "source": [
    "from ptnad import PTNADClient\n",
    "from ptnad.api.replists import RepListsAPI\n",
    "\n",
    "client = PTNADClient(\"https://1.3.3.7\", verify_ssl=False)\n",
    "client.set_auth(username=\"administrator\", password=\"Administr@t0r\")\n",
    "client.login()\n",
    "\n",
    "replists = RepListsAPI(client)\n",
    "\n",
    "updated = replists.update_list(list_id=new_list[\"id\"], description=\"Обновлённый тестовый список IP-адресов\")\n",
    "print(\"Описание обновлено:\", updated[\"description\"])"
   ]
  },
  {
   "cell_type": "markdown",
   "metadata": {},
   "source": [
    "Удаление списка:"
   ]
  },
  {
   "cell_type": "code",
   "execution_count": null,
   "metadata": {},
   "outputs": [],
   "source": [
    "from ptnad import PTNADClient\n",
    "from ptnad.api.replists import RepListsAPI\n",
    "\n",
    "client = PTNADClient(\"https://1.3.3.7\", verify_ssl=False)\n",
    "client.set_auth(username=\"administrator\", password=\"Administr@t0r\")\n",
    "client.login()\n",
    "\n",
    "replists = RepListsAPI(client)\n",
    "\n",
    "replists.delete_list(list_id=new_list[\"id\"])\n",
    "print(\"Список удалён\")"
   ]
  },
  {
   "cell_type": "markdown",
   "metadata": {},
   "source": [
    "#### Signatures"
   ]
  },
  {
   "cell_type": "markdown",
   "metadata": {},
   "source": [
    "Получение всех классов сигнатур:"
   ]
  },
  {
   "cell_type": "code",
   "execution_count": null,
   "metadata": {},
   "outputs": [],
   "source": [
    "from ptnad import PTNADClient\n",
    "from ptnad.api.signatures import SignaturesAPI\n",
    "\n",
    "client = PTNADClient(\"https://1.3.3.7\", verify_ssl=False)\n",
    "client.set_auth(username=\"administrator\", password=\"Administr@t0r\")\n",
    "client.login()\n",
    "\n",
    "signatures = SignaturesAPI(client)\n",
    "\n",
    "classes = signatures.get_classes()\n",
    "\n",
    "for cls in classes:\n",
    "    print(f\"{cls['title']} (priority: {cls['priority']})\")\n"
   ]
  },
  {
   "cell_type": "markdown",
   "metadata": {},
   "source": [
    "Получение полной информации по одной сигнатуре:"
   ]
  },
  {
   "cell_type": "code",
   "execution_count": null,
   "metadata": {},
   "outputs": [],
   "source": [
    "from ptnad import PTNADClient\n",
    "from ptnad.api.signatures import SignaturesAPI\n",
    "\n",
    "client = PTNADClient(\"https://1.3.3.7\", verify_ssl=False)\n",
    "client.set_auth(username=\"administrator\", password=\"Administr@t0r\")\n",
    "client.login()\n",
    "\n",
    "signatures = SignaturesAPI(client)\n",
    "\n",
    "rules = signatures.get_rules(search=\"ftp\", cls=\"Network scan\")\n",
    "\n",
    "for r in rules:\n",
    "    print(f\"\\nRule #{r['sid']} - {r['msg']}\")\n",
    "    print(f\"Vendor: {r['vendor']}, Enabled: {r['enabled']}\")"
   ]
  }
 ],
 "metadata": {
  "kernelspec": {
   "display_name": "Python 3",
   "language": "python",
   "name": "python3"
  },
  "language_info": {
   "codemirror_mode": {
    "name": "ipython",
    "version": 3
   },
   "file_extension": ".py",
   "mimetype": "text/x-python",
   "name": "python",
   "nbconvert_exporter": "python",
   "pygments_lexer": "ipython3",
   "version": "3.13.1"
  }
 },
 "nbformat": 4,
 "nbformat_minor": 2
}
