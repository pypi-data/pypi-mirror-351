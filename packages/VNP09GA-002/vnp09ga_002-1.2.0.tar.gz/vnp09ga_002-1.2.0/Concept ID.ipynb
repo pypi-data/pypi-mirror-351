{
 "cells": [
  {
   "cell_type": "code",
   "execution_count": 1,
   "metadata": {},
   "outputs": [],
   "source": [
    "import VIIRS_tiled_granules\n",
    "from VNP09GA_002 import VNP09GA_002_DOI"
   ]
  },
  {
   "cell_type": "code",
   "execution_count": 4,
   "metadata": {},
   "outputs": [
    {
     "name": "stdout",
     "output_type": "stream",
     "text": [
      "https://cmr.earthdata.nasa.gov/search/collections.json?doi=10.5067/VIIRS/VNP09GA.002\n",
      "C2631841556-LPCLOUD\n"
     ]
    }
   ],
   "source": [
    "concept_ID = VIIRS_tiled_granules.concept_ID_from_DOI(VNP09GA_002_DOI)\n",
    "print(concept_ID)"
   ]
  },
  {
   "cell_type": "code",
   "execution_count": null,
   "metadata": {},
   "outputs": [],
   "source": []
  }
 ],
 "metadata": {
  "kernelspec": {
   "display_name": "VNP09GA-002",
   "language": "python",
   "name": "python3"
  },
  "language_info": {
   "codemirror_mode": {
    "name": "ipython",
    "version": 3
   },
   "file_extension": ".py",
   "mimetype": "text/x-python",
   "name": "python",
   "nbconvert_exporter": "python",
   "pygments_lexer": "ipython3",
   "version": "3.11.10"
  }
 },
 "nbformat": 4,
 "nbformat_minor": 2
}
