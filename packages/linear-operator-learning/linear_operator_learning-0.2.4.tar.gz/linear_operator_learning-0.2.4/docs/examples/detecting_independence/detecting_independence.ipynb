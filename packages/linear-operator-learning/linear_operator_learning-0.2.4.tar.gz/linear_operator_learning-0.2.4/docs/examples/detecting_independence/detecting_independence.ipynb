{
 "cells": [
  {
   "cell_type": "markdown",
   "metadata": {},
   "source": [
    "# Detecting Independence\n",
    "\n",
    "In *Neural Conditional Probability for Uncertainty Quantification* (Kostic et al., 2024), the authors claim that the (deflated) conditional expectation operator can be used to detect the independence of two random variables X and Y by verifying whether it is zero. Here, we show this equivaliance in practice.\n",
    "\n",
    "## Dataset\n",
    "\n",
    "We consider the data model\n",
    "\n",
    "$$Y = tX + (1-t)X',$$\n",
    "\n",
    "where $X$ and $X'$ are independent standard Gaussians in $\\mathbb{R}$, and $t \\in [0,1]$ is an interpolating factor. This model allows us to explore both extreme cases ($t = 0$ for independence and $t = 1$ where $Y = X$) and the continuum in between, to assess the robustness of NCP in detecting independence."
   ]
  },
  {
   "cell_type": "code",
   "execution_count": 1,
   "metadata": {},
   "outputs": [],
   "source": [
    "import torch\n",
    "from torch.utils.data import DataLoader, TensorDataset, random_split\n",
    "\n",
    "\n",
    "def make_dataset(n_samples: int = 200, t: float = 0.0):\n",
    "    \"\"\"Draw sample from data model Y = tX + (1-t)X_, where X and X_ are independent gaussians.\n",
    "\n",
    "    If t = 0, then X and Y are independent. Otherwise, if t->1, X and Y become ever more dependent.\n",
    "\n",
    "    Args:\n",
    "        n_samples (int, optional): Number of samples. Defaults to 200.\n",
    "        t (float, optional): Interpolation factor. Defaults to 0.0.\n",
    "    \"\"\"\n",
    "    X = torch.normal(mean=0, std=1, size=(n_samples, 1))\n",
    "    X_ = torch.normal(mean=0, std=1, size=(n_samples, 1))\n",
    "    Y = t * X + (1 - t) * X_\n",
    "\n",
    "    ds = TensorDataset(X, Y)\n",
    "\n",
    "    # Split data into train and val sets\n",
    "    train_ds, val_ds = random_split(ds, lengths=[0.85, 0.15])\n",
    "\n",
    "    return train_ds, val_ds"
   ]
  },
  {
   "cell_type": "markdown",
   "metadata": {},
   "source": [
    "## Learning the conditional expectation operator\n",
    "\n",
    "Now, we go through the process of learning the conditional expectation operator $\\mathbb{E}_{Y \\mid X}: L^2_Y \\mapsto L^2_X$\n",
    "\n",
    "$$[\\mathbb{E}_{Y \\mid X}g](x) = \\mathbb{E}[g(Y) \\mid X = x],$$\n",
    "\n",
    "where $g \\in L^2_Y$. We begin by noting that, if $\\{u_i\\}_{i=1}^\\infty$ and $\\{v_j\\}_{j=1}^\\infty$ were orthonormal bases of $L^2_X$ and $L^2_Y$ [(Orthonormal basis wikipedia)](https://en.wikipedia.org/wiki/Orthonormal_basis), then we could see the conditional expectation operator as an (infinite) matrix $\\mathbf{E}$, where\n",
    "\n",
    "$$\\mathbf{E}_{ij} = \\langle u_i, \\mathbb{E}_{Y \\mid X}v_j \\rangle_{L^2_X} = \\mathbb{E}_X[u_i(X)[\\mathbb{E}_{Y \\mid X}v_j](X)] = \\mathbb{E}_{XY}[u_i(X)v_j(Y)].$$\n",
    "\n",
    "Hence, to learn the operator, we \"only\" need to learn the most important parts of $\\mathbf{E}$. The standard way to deal with such problems is to restrict oneself to finite subspaces of $L^2_X$ and $L^2_Y$ and then learn the (finite) matrix there. This corresponds to finding orthonormal functions  $\\{u_i\\}_{i=1}^d$ and $\\{v_j\\}_{j=1}^d$ s.t.\n",
    "\n",
    "$$\\lVert \\mathbb{E}_{Y \\mid X} - \\mathbb{E}_{Y \\mid X}^d \\rVert$$\n",
    "\n",
    "is minimized, where $d \\in \\mathbb{N}$ is the dimension and $\\mathbb{E}_{Y \\mid X}^d$ is the truncated operator that acts on $span\\{v_j\\}_{j=1}^d$ and $span\\{u_i\\}_{i=1}^d$. The theoretical solution of this problem is given by the truncated (rank d) Singular Value Decomposition [(Low-rank matrix approximation wikipedia)](https://en.wikipedia.org/wiki/Low-rank_approximation), which also has the nice benefit of ordering the bases by their importance a la PCA, meaning that $u_1$ is more important than $u_2$, and so on and so forth.\n",
    "\n",
    "## A representation learning problem\n",
    "\n",
    "A key insight of Kostic et al. (2024) is that this problem corresponds to a representation learning problem, where the goal is to find latent variables $u,v \\in \\mathbb{R}^d$ that are\n",
    "\n",
    "1. [(Whitened, wikipedia)](https://en.wikipedia.org/wiki/Whitening_transformation): $\\mathbb{E}[u_i(X)u_j(X)] = \\mathbb{E}[v_i(Y)v_j(Y)] = \\delta_{ij}$; and\n",
    "2. Minimize the contrastive loss\n",
    "\n",
    "$$\\frac{1}{N(N-1)}\\sum_{i \\neq j}\\langle u_{i}, Sv_{j} \\rangle^2 - \\frac{2}{N}\\sum_{i=1}\\langle u_{i}, Sv_{i} \\rangle,$$\n",
    "\n",
    "where $S$ is the matrix of the conditional expectation operator on these subspaces/features, which can be learned end-to-end with backpropagation or estimated with running means."
   ]
  },
  {
   "cell_type": "markdown",
   "metadata": {},
   "source": [
    "## Representation learning in Torch"
   ]
  },
  {
   "cell_type": "code",
   "execution_count": 2,
   "metadata": {},
   "outputs": [],
   "source": [
    "from torch.nn import Module\n",
    "import torch\n",
    "import math\n",
    "from torch import Tensor\n",
    "\n",
    "\n",
    "class _Matrix(Module):\n",
    "    \"\"\"Module representing the matrix form of the truncated conditional expectation operator.\"\"\"\n",
    "\n",
    "    def __init__(\n",
    "        self,\n",
    "        dim_u: int,\n",
    "        dim_v: int,\n",
    "    ) -> None:\n",
    "        super().__init__()\n",
    "        self.weights = torch.nn.Parameter(\n",
    "            torch.normal(mean=0.0, std=2.0 / math.sqrt(dim_u * dim_v), size=(dim_u, dim_v))\n",
    "        )\n",
    "\n",
    "    def forward(self, v: Tensor) -> Tensor:\n",
    "        \"\"\"Forward pass of the truncated conditional expectation operator's matrix (v -> Sv).\"\"\"\n",
    "        # TODO: Unify Pietro, Giacomo and Dani's ideas on how to normalize\\symmetrize the operator.\n",
    "        out = v @ self.weights.T\n",
    "        return out\n",
    "\n",
    "\n",
    "class NCP(Module):\n",
    "    \"\"\"Neural Conditional Probability in PyTorch.\n",
    "\n",
    "    Args:\n",
    "        embedding_x (Module): Neural embedding of x.\n",
    "        embedding_dim_x (int): Latent dimension of x.\n",
    "        embedding_y (Module): Neural embedding of y.\n",
    "        embedding_dim_y (int): Latent dimension of y.\n",
    "    \"\"\"\n",
    "\n",
    "    def __init__(\n",
    "        self,\n",
    "        embedding_x: Module,\n",
    "        embedding_y: Module,\n",
    "        embedding_dim_x: int,\n",
    "        embedding_dim_y: int,\n",
    "    ) -> None:\n",
    "        super().__init__()\n",
    "        self.U = embedding_x\n",
    "        self.V = embedding_y\n",
    "\n",
    "        self.dim_u = embedding_dim_x\n",
    "        self.dim_v = embedding_dim_y\n",
    "\n",
    "        self.S = _Matrix(self.dim_u, self.dim_v)\n",
    "\n",
    "    def forward(self, x: Tensor, y: Tensor) -> Tensor:\n",
    "        \"\"\"Forward pass of NCP.\"\"\"\n",
    "        u = self.U(x)\n",
    "        v = self.V(y)\n",
    "        Sv = self.S(v)\n",
    "\n",
    "        return u, Sv"
   ]
  },
  {
   "cell_type": "markdown",
   "metadata": {},
   "source": [
    "## Training NCP\n",
    "\n",
    "We now how to train the NCP module above with the contrastive loss from `linear_operator_learning.nn` with orthonormality regularization and standard deep learning techniques."
   ]
  },
  {
   "cell_type": "code",
   "execution_count": 3,
   "metadata": {},
   "outputs": [],
   "source": [
    "from torch.optim import Optimizer\n",
    "\n",
    "def train(\n",
    "    ncp: NCP,\n",
    "    train_dataloader: DataLoader,\n",
    "    device: str,\n",
    "    loss_fn: callable,\n",
    "    optimizer: Optimizer,\n",
    ") -> Tensor:\n",
    "    \"\"\"Training logic of NCP.\"\"\"\n",
    "    ncp.train()\n",
    "    for batch, (x, y) in enumerate(train_dataloader):\n",
    "        x, y = x.to(device), y.to(device)\n",
    "\n",
    "        u, Sv = ncp(x, y)\n",
    "        loss = loss_fn(u, Sv)\n",
    "        loss.backward()\n",
    "        optimizer.step()\n",
    "        optimizer.zero_grad()"
   ]
  },
  {
   "cell_type": "code",
   "execution_count": 4,
   "metadata": {},
   "outputs": [
    {
     "name": "stdout",
     "output_type": "stream",
     "text": [
      "Using cpu device\n",
      "run_id = (0.0, 0)\n",
      "run_id = (0.1, 0)\n",
      "run_id = (0.2, 0)\n",
      "run_id = (0.3, 0)\n",
      "run_id = (0.4, 0)\n",
      "run_id = (0.5, 0)\n",
      "run_id = (0.6, 0)\n",
      "run_id = (0.7, 0)\n",
      "run_id = (0.8, 0)\n",
      "run_id = (0.9, 0)\n",
      "run_id = (1.0, 0)\n"
     ]
    }
   ],
   "source": [
    "import torch\n",
    "import linear_operator_learning as lol\n",
    "\n",
    "\n",
    "\n",
    "SEED = 1\n",
    "REPEATS = 1\n",
    "BATCH_SIZE = 256\n",
    "N_SAMPLES = 5000\n",
    "MLP_PARAMS = dict(\n",
    "    output_shape=2,\n",
    "    n_hidden=2,\n",
    "    layer_size=32,\n",
    "    activation=torch.nn.ELU,\n",
    "    bias=False,\n",
    "    iterative_whitening=False,\n",
    ")\n",
    "EPOCHS = 100\n",
    "WHITENING_N_SAMPLES = 2000\n",
    "\n",
    "torch.manual_seed(SEED)\n",
    "\n",
    "# device = torch.accelerator.current_accelerator().type if torch.accelerator.is_available() else \"cpu\"\n",
    "device = \"cpu\"\n",
    "print(f\"Using {device} device\")\n",
    "\n",
    "results = dict()\n",
    "for t in torch.linspace(start=0, end=1, steps=11):\n",
    "    for r in range(REPEATS):\n",
    "        run_id = (round(t.item(), 2), r)\n",
    "        print(f\"run_id = {run_id}\")\n",
    "\n",
    "        # Load data_________________________________________________________________________________\n",
    "        train_ds, val_ds = make_dataset(n_samples=N_SAMPLES, t=t.item())\n",
    "\n",
    "        train_dl = DataLoader(train_ds, batch_size=BATCH_SIZE, shuffle=False)\n",
    "        val_dl = DataLoader(val_ds, batch_size=BATCH_SIZE, shuffle=False)\n",
    "\n",
    "        # Build NCP_________________________________________________________________________________\n",
    "        ncp = NCP(\n",
    "            embedding_x=lol.nn.MLP(input_shape=1, **MLP_PARAMS),\n",
    "            embedding_dim_x=MLP_PARAMS[\"output_shape\"],\n",
    "            embedding_y=lol.nn.MLP(input_shape=1, **MLP_PARAMS),\n",
    "            embedding_dim_y=MLP_PARAMS[\"output_shape\"],\n",
    "        ).to(device)\n",
    "\n",
    "        # Train NCP_________________________________________________________________________________\n",
    "        loss_fn = lol.nn.L2ContrastiveLoss()\n",
    "        optimizer = torch.optim.Adam(ncp.parameters(), lr=5e-4)\n",
    "\n",
    "        for epoch in range(EPOCHS):\n",
    "            train(ncp, train_dl, device, loss_fn, optimizer)\n",
    "\n",
    "        # Extract norm______________________________________________________________________________\n",
    "        x = torch.normal(mean=0, std=1, size=(WHITENING_N_SAMPLES, 1)).to(device)\n",
    "        x_ = torch.normal(mean=0, std=1, size=(WHITENING_N_SAMPLES, 1)).to(device)\n",
    "        y = t * x + (1 - t) * x_\n",
    "        u, Sv = ncp(x, y)\n",
    "\n",
    "        _, _, svals, _, _ = lol.nn.stats.whitening(u, Sv)\n",
    "        results[run_id] = svals.max().item()"
   ]
  },
  {
   "cell_type": "markdown",
   "metadata": {},
   "source": [
    "## Plots"
   ]
  },
  {
   "cell_type": "code",
   "execution_count": 5,
   "metadata": {},
   "outputs": [
    {
     "data": {
      "image/png": "[encoded data removed]",
      "text/plain": [
       "<Figure size 640x480 with 1 Axes>"
      ]
     },
     "metadata": {},
     "output_type": "display_data"
    }
   ],
   "source": [
    "import pandas as pd\n",
    "import seaborn as sns\n",
    "\n",
    "results_df = pd.DataFrame(\n",
    "    data=[(t, r, norm) for ((t, r), norm) in results.items()],\n",
    "    columns=[\"t\", \"r\", \"norm\"],\n",
    ")\n",
    "sns.pointplot(results_df, x=\"t\", y=\"norm\");"
   ]
  }
 ],
 "metadata": {
  "kernelspec": {
   "display_name": ".venv",
   "language": "python",
   "name": "python3"
  },
  "language_info": {
   "codemirror_mode": {
    "name": "ipython",
    "version": 3
   },
   "file_extension": ".py",
   "mimetype": "text/x-python",
   "name": "python",
   "nbconvert_exporter": "python",
   "pygments_lexer": "ipython3",
   "version": "3.11.11"
  }
 },
 "nbformat": 4,
 "nbformat_minor": 2
}
