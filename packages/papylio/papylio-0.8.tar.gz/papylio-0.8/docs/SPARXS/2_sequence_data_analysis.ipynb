{
 "cells": [
  {
   "cell_type": "markdown",
   "id": "0895c408-dab4-4fc8-95ed-ee5108c7a33b",
   "metadata": {},
   "source": [
    "# 2. Sequence data analysis\n",
    "Sequence analysis uses the fastq.gz files that are created by the sequencer as a starting point. These are compressed [fastq](https://en.wikipedia.org/wiki/FASTQ_format) text files containing the metadata (name, position, etc.), sequence and quality of each sequenced cluster. \n",
    "All these sequences have to be aligned to the input or reference sequence(s) because there might be some insertions,\n",
    "deletions or mismatches. If multiple samples are present, this step is also to determine which sequence matches which sample. The output of sequence alignment is a sam file, which is needed for the step where the single-molecule and sequencing data are linked.\n",
    "\n",
    "For our dataset we obtained two fastq files."
   ]
  },
  {
   "cell_type": "code",
   "execution_count": 1,
   "id": "84c51c34-159b-46ff-98a4-eb309d442a42",
   "metadata": {},
   "outputs": [],
   "source": [
    "from pathlib2 import Path\n",
    "import papylio as pp\n",
    "import matplotlib.pyplot as plt\n",
    "import subprocess\n",
    "import gzip"
   ]
  },
  {
   "cell_type": "code",
   "execution_count": 2,
   "id": "7ce090fb-870e-4a43-bd7e-45c38d200086",
   "metadata": {},
   "outputs": [],
   "source": [
    "experiment_path = Path(r'C:\\Users\\user\\Desktop\\SPARXS example dataset')"
   ]
  },
  {
   "cell_type": "code",
   "execution_count": 3,
   "id": "469c41f0-ea27-492d-9175-9db5b6caf180",
   "metadata": {},
   "outputs": [
    {
     "data": {
      "text/plain": [
       "WindowsPath('C:/Users/user/Desktop/SPARXS example dataset/Sequencing data')"
      ]
     },
     "execution_count": 3,
     "metadata": {},
     "output_type": "execute_result"
    }
   ],
   "source": [
    "sequencing_data_path = (experiment_path / 'Sequencing data').absolute()\n",
    "sequencing_data_path"
   ]
  },
  {
   "cell_type": "markdown",
   "id": "7cda458b-77dd-43f6-90de-bc0193e410b8",
   "metadata": {},
   "source": [
    "## Create reference fasta file"
   ]
  },
  {
   "cell_type": "markdown",
   "id": "90017812-0518-4a50-8f51-62093b5115a6",
   "metadata": {},
   "source": [
    "A reference fasta file needs to be created containing the reference sequences. These are the sequences to which the sequencing data will be aligned and should thus contain the (general) sequences that are present in the sequenced sample.\n",
    "Below, the reference sequences are specified in a dictionary. The name of each reference sequence can be chosen by the user."
   ]
  },
  {
   "cell_type": "code",
   "execution_count": 4,
   "id": "d2e1fe91-298f-4a7d-b9ae-edd33f3e6a1d",
   "metadata": {},
   "outputs": [],
   "source": [
    "reference_sequences = {\n",
    "    'CalSeq': 'CCAACAATGCCTAGCCGATCCGTAATGCCTNNNNNNNNNNNNNNNNNNNNNNNNNNNNNNNNNNNAGATCGGAAGAGCACACGTCTGAACTCCAGTCACAATGCCATCTCGTATGCCGTCTTCTGCTTG',\n",
    "    'HJ_general': 'CCCACCGCTCNNCTCAACTGGGTTTTCCCAGTTGAGNNCTTGCTAGGGTTTTCCCTAGCAAGNNGCTGCTACGGTTTTCCGTAGCAGCNNGAGCGGTGGG'\n",
    "}"
   ]
  },
  {
   "cell_type": "code",
   "execution_count": 5,
   "id": "2f5fe7a6-ca15-4e54-8b0a-d063dbe65160",
   "metadata": {},
   "outputs": [],
   "source": [
    "def create_reference_fasta(folder_path, reference_sequences):\n",
    "    with open(Path(folder_path) / 'Reference.fasta', 'wt') as fasta_file:\n",
    "        for key, value in reference_sequences.items():\n",
    "            fasta_file.write('>' + key + '\\n' + value + '\\n\\n')"
   ]
  },
  {
   "cell_type": "code",
   "execution_count": 6,
   "id": "afffdf6c-7c2e-4985-9655-c0205cd34abb",
   "metadata": {},
   "outputs": [],
   "source": [
    "create_reference_fasta(sequencing_data_path, reference_sequences)"
   ]
  },
  {
   "cell_type": "markdown",
   "id": "00be8b9b-183e-4734-921b-be9eeee58c41",
   "metadata": {},
   "source": [
    "## Merge fastq files"
   ]
  },
  {
   "cell_type": "markdown",
   "id": "11b6da8a-2905-4e64-8b6e-4c75c40c6af3",
   "metadata": {},
   "source": [
    "When using or configuring index reads, the sequencer may produce multiple fastq files.\n",
    "You can combine these into a single file."
   ]
  },
  {
   "cell_type": "code",
   "execution_count": 7,
   "id": "f0f78422-eddd-4282-90af-cf23e7e89ab2",
   "metadata": {},
   "outputs": [],
   "source": [
    "def merge_gz_files(input_files, output_file):\n",
    "    with open(output_file, 'wt') as file_out:\n",
    "        for input_file in input_files:\n",
    "            with gzip.open(input_file, 'rt') as file_in:\n",
    "                for line in file_in:\n",
    "                    file_out.write(line)"
   ]
  },
  {
   "cell_type": "code",
   "execution_count": 8,
   "id": "63853c5d-421e-4f4a-866c-a5be6e01cc4d",
   "metadata": {},
   "outputs": [
    {
     "data": {
      "text/plain": [
       "[WindowsPath('C:/Users/user/Desktop/SPARXS example dataset/Sequencing data/Main_S1_L001_R1_001.fastq.gz'),\n",
       " WindowsPath('C:/Users/user/Desktop/SPARXS example dataset/Sequencing data/Undetermined_S0_L001_R1_001.fastq.gz')]"
      ]
     },
     "execution_count": 8,
     "metadata": {},
     "output_type": "execute_result"
    }
   ],
   "source": [
    "list(sequencing_data_path.glob('*_R1_001.fastq.gz'))"
   ]
  },
  {
   "cell_type": "markdown",
   "id": "36e5aec4-ab11-44f7-8f27-687834603ba2",
   "metadata": {},
   "source": [
    "Combining two specific files:"
   ]
  },
  {
   "cell_type": "code",
   "execution_count": 9,
   "id": "904c2dfd-fca7-4e6a-a739-815405d7d6e5",
   "metadata": {},
   "outputs": [],
   "source": [
    "merge_gz_files(input_files = [sequencing_data_path / 'Main_S1_L001_R1_001.fastq.gz',\n",
    "                              sequencing_data_path / 'Undetermined_S0_L001_R1_001.fastq.gz'],\n",
    "               output_file = sequencing_data_path / 'Read1.fastq')"
   ]
  },
  {
   "cell_type": "markdown",
   "id": "6259367e-8299-4e94-9b08-1f7476f19f1e",
   "metadata": {},
   "source": [
    "Or combining all fastq files in the folder:"
   ]
  },
  {
   "cell_type": "code",
   "execution_count": 10,
   "id": "d35775cd-0f9e-4dd4-b260-0cffa817a264",
   "metadata": {},
   "outputs": [],
   "source": [
    "# merge_gz_files(sequencing_data_path.glob('*_R1_001.fastq.gz'), sequencing_data_path / 'Read1.fastq')"
   ]
  },
  {
   "cell_type": "markdown",
   "id": "59baecf9-e2bb-4db9-b9ba-1409b9ba8f27",
   "metadata": {},
   "source": [
    "## Run aligner\n",
    "Sequence alignment was performed using bowtie 2.5.3.\n",
    "\n",
    "To start using bowtie2, download and unzip the bowtie2 binaries from [Sourceforge](https://sourceforge.net/projects/bowtie-bio/files/bowtie2/), as explained in the [bowtie2 manual](https://bowtie-bio.sourceforge.net/bowtie2/manual.shtml).\n",
    "\n",
    "The steps below run several bowtie2 commands that can be run in the terminal or command prompt.\n",
    "\n",
    "We found that on Windows, it was neccesary to replace line 118 of bowtie2-build file by\n",
    "`if not (os.path.exists(build_bin_spec) | os.path.exists(build_bin_spec + '.exe')):`\n"
   ]
  },
  {
   "cell_type": "code",
   "execution_count": 11,
   "id": "32354c64-1c4b-4d14-a060-710abcba6c9d",
   "metadata": {},
   "outputs": [],
   "source": [
    "# Specify the location of Bowtie2\n",
    "bowtie2_path = r\"C:\\Users\\user\\Desktop\\bowtie2-2.5.3-mingw-aarch64\""
   ]
  },
  {
   "cell_type": "code",
   "execution_count": 12,
   "id": "002187b0-a5b9-4b9d-a13c-96d3f7c4683f",
   "metadata": {},
   "outputs": [
    {
     "data": {
      "text/plain": [
       "CompletedProcess(args=['conda', 'activate', 'papylio'], returncode=0, stdout=b'', stderr=b'')"
      ]
     },
     "execution_count": 12,
     "metadata": {},
     "output_type": "execute_result"
    }
   ],
   "source": [
    "# Assuming the use of a conda environment named \"papylio\"\n",
    "subprocess.run(\"conda activate papylio\".split(' '), shell=True, capture_output=True) "
   ]
  },
  {
   "cell_type": "markdown",
   "id": "f797fee8-e9f8-44fc-9508-c1fc842f1767",
   "metadata": {},
   "source": [
    "The following line runs bowtie2-build. For more information about the settings, see the [bowtie2 manual](https://bowtie-bio.sourceforge.net/bowtie2/manual.shtml)"
   ]
  },
  {
   "cell_type": "code",
   "execution_count": 13,
   "id": "5a2a90ca-dc77-4657-84d5-def8537cebfa",
   "metadata": {},
   "outputs": [
    {
     "name": "stdout",
     "output_type": "stream",
     "text": [
      "\n",
      "C:\\Users\\user\\Desktop\\bowtie2-2.5.3-mingw-aarch64\\bowtie2-build-s\n",
      "\n"
     ]
    }
   ],
   "source": [
    "out = subprocess.run(\n",
    "    [\n",
    "        'python', bowtie2_path + r'\\bowtie2-build', \n",
    "        \"--quiet\",\n",
    "        \"Reference.fasta\", \n",
    "        \"Reference\",\n",
    "    ], \n",
    "    cwd=str(sequencing_data_path.absolute()), \n",
    "    shell=True, \n",
    "    capture_output=True)\n",
    "\n",
    "print(out.stderr.decode())\n",
    "print(out.stdout.decode())"
   ]
  },
  {
   "cell_type": "markdown",
   "id": "17049adc-7435-42d4-b480-4ff715060a2b",
   "metadata": {},
   "source": [
    "The following line runs the bowtie2 aligner. "
   ]
  },
  {
   "cell_type": "code",
   "execution_count": 14,
   "id": "20380c0c-14b3-4085-ad01-343a63170e80",
   "metadata": {},
   "outputs": [
    {
     "name": "stdout",
     "output_type": "stream",
     "text": [
      "1358397 reads; of these:\n",
      "  1358397 (100.00%) were unpaired; of these:\n",
      "    237629 (17.49%) aligned 0 times\n",
      "    1118683 (82.35%) aligned exactly 1 time\n",
      "    2085 (0.15%) aligned >1 times\n",
      "82.51% overall alignment rate\n",
      "\n",
      "\n"
     ]
    }
   ],
   "source": [
    "out = subprocess.run(\n",
    "    [\n",
    "        bowtie2_path + r'\\bowtie2',\n",
    "        '-x', 'Reference',\n",
    "        '-U', 'Read1.fastq',\n",
    "        '-S', 'Alignment.sam',\n",
    "        '--local',\n",
    "        '--np', '0',\n",
    "        '--very-sensitive-local',\n",
    "        '-L', '7',\n",
    "        '--n-ceil', 'L,0,1',\n",
    "        '--threads 10',\n",
    "        '--norc',\n",
    "    ],\n",
    "    cwd=str(sequencing_data_path.absolute()), \n",
    "    shell=True, \n",
    "    capture_output=True)\n",
    "\n",
    "print(out.stderr.decode())\n",
    "print(out.stdout.decode())"
   ]
  },
  {
   "cell_type": "markdown",
   "id": "f69d8f30-5602-45ec-b9c7-84cd15650da5",
   "metadata": {},
   "source": [
    "The “local” setting allows soft clipping of the ends of the reads. The “very-sensitive-local” setting may be a good place to start. \n",
    "The “norc” setting will prevent alignment to the reverse complement of the reference. Depending on the length of the sequence region that is identical among similar samples, the seed length for searching will need to be adjusted using the “L” setting. If the reference contains “N”s then it is important to set “np” and “n-ceil” options. Currently out of all degenerate base codes only “N”s are supported by Bowtie 2. In addition, the “score-min” option may be used to change the threshold for including alignments. \n",
    "\n",
    "For more information about the settings, see the [bowtie2 manual](https://bowtie-bio.sourceforge.net/bowtie2/manual.shtml)"
   ]
  },
  {
   "cell_type": "markdown",
   "id": "d18dc8cc-9be8-459a-a356-e139a2011bf7",
   "metadata": {},
   "source": [
    "Bowtie2 produces a file with the [SAM file format](https://en.wikipedia.org/wiki/SAM_(file_format)), with the name Alignment.sam. This file contains all orginal sequences and information on how this sequence is best aligned in the form of a [CIGAR string](https://en.wikipedia.org/wiki/Sequence_alignment#Representations)."
   ]
  },
  {
   "cell_type": "markdown",
   "id": "fd2c1289-e006-4393-8f3b-61df01b0d0f7",
   "metadata": {},
   "source": [
    "## Import sequencing data into experiment"
   ]
  },
  {
   "cell_type": "markdown",
   "id": "56da0b32-01a8-4f59-9c5c-17f1191a78ea",
   "metadata": {},
   "source": [
    "Retreiving specific data from the text-based SAM file is relatively slow. Additionally the SAM file only states how to align the sequence but does not contain the actual aligned sequence. Therefore, we convert the SAM file to a NetCDF file for fast data retrieval and to enable inclusion of the actual aligned sequence."
   ]
  },
  {
   "cell_type": "code",
   "execution_count": 15,
   "id": "d0dd5708-d20d-4356-adfc-38165b91ff83",
   "metadata": {},
   "outputs": [
    {
     "name": "stderr",
     "output_type": "stream",
     "text": [
      "Import files: 100%|██████████████████████████████████████████████████████████████| 4190/4190 [00:00<00:00, 5935.58it/s]\n"
     ]
    },
    {
     "name": "stdout",
     "output_type": "stream",
     "text": [
      "\n",
      "File(Single-molecule data - bead slide\\Bead slide TIRF 561 001) used as mapping\n",
      "\n",
      "Initialize experiment: \n",
      "C:\\Users\\user\\Desktop\\SPARXS example dataset\n"
     ]
    }
   ],
   "source": [
    "exp = pp.Experiment(experiment_path)"
   ]
  },
  {
   "cell_type": "code",
   "execution_count": 16,
   "id": "7d626c62-82c9-409a-a6f7-69e64d9ce607",
   "metadata": {},
   "outputs": [
    {
     "name": "stderr",
     "output_type": "stream",
     "text": [
      "Determine number of primary alignments: 1358401it [00:04, 272598.57it/s]\n",
      "Parse sam file: 100%|████████████████████████████████████████████████████████████████| 136/136 [01:35<00:00,  1.43it/s]\n"
     ]
    }
   ],
   "source": [
    "aligned_sam_filepath = sequencing_data_path.joinpath('Alignment.sam')\n",
    "index1_fastq_filepath = None # If the index1 was sequenced as well, specify the path to the fastq file to import it into the sequencing data.\n",
    "extract_sequence_subset = [10, 11, 36, 37, 62, 63, 88, 89] # Positions in the sequence to be separately extracted for easy lookup\n",
    "\n",
    "exp.import_sequencing_data(aligned_sam_filepath, index1_file_path=index1_fastq_filepath, remove_duplicates=True,\n",
    "                           add_aligned_sequence=True, extract_sequence_subset=extract_sequence_subset)"
   ]
  },
  {
   "cell_type": "markdown",
   "id": "e3660780-d357-4de1-8f85-00512be4be1e",
   "metadata": {},
   "source": [
    "Arguments:\n",
    "- `remove_duplicates`: Depending on the configuration for bowtie2 the SAM file can contain multiple alignments for a single sequence. These can cause problems later on in the analysis. If set to `True` (recommended), duplicate alignments will be removed and only the best alignment will be kept.\n",
    "- `add_aligned_sequence`: If set to `True` (recommended), the aligned sequence will be added in the dataset.\n",
    "- `extract_sequence_subset`: A subset of the aligned sequence can be added as a separate entry in the dataset, which is useful to easily distinguish the sequences. The variable can be set to the indexes in the sequence to be used."
   ]
  }
 ],
 "metadata": {
  "kernelspec": {
   "display_name": "Python 3 (ipykernel)",
   "language": "python",
   "name": "python3"
  },
  "language_info": {
   "codemirror_mode": {
    "name": "ipython",
    "version": 3
   },
   "file_extension": ".py",
   "mimetype": "text/x-python",
   "name": "python",
   "nbconvert_exporter": "python",
   "pygments_lexer": "ipython3",
   "version": "3.9.15"
  },
  "widgets": {
   "application/vnd.jupyter.widget-state+json": {
    "state": {},
    "version_major": 2,
    "version_minor": 0
   }
  }
 },
 "nbformat": 4,
 "nbformat_minor": 5
}
