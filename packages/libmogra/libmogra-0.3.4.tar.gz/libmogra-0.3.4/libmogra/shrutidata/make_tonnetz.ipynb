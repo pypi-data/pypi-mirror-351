{
 "cells": [
  {
   "cell_type": "markdown",
   "metadata": {},
   "source": [
    "Imports"
   ]
  },
  {
   "cell_type": "code",
   "execution_count": null,
   "metadata": {},
   "outputs": [],
   "source": [
    "import os\n",
    "import pickle\n",
    "import numpy as np\n",
    "import itertools\n",
    "from libmogra.datatypes import Swar\n",
    "from libmogra.tonnetz import EFGenus, Tonnetz"
   ]
  },
  {
   "cell_type": "markdown",
   "metadata": {},
   "source": [
    "Look at Raag DB"
   ]
  },
  {
   "cell_type": "code",
   "execution_count": null,
   "metadata": {},
   "outputs": [],
   "source": [
    "from libmogra.raagfinder.parse import read_pickle, print_table\n",
    "raag_db, _ = read_pickle()"
   ]
  },
  {
   "cell_type": "code",
   "execution_count": null,
   "metadata": {},
   "outputs": [],
   "source": [
    "print_table(raag_db[\"bahar\"])"
   ]
  },
  {
   "cell_type": "markdown",
   "metadata": {},
   "source": [
    "Look at Tonnetz"
   ]
  },
  {
   "cell_type": "code",
   "execution_count": null,
   "metadata": {},
   "outputs": [],
   "source": [
    "from libmogra.tonnetz import Tonnetz\n",
    "tn = Tonnetz()\n",
    "# tn.plot_raag(\"bhoopali\")"
   ]
  },
  {
   "cell_type": "code",
   "execution_count": null,
   "metadata": {},
   "outputs": [],
   "source": []
  },
  {
   "cell_type": "markdown",
   "metadata": {},
   "source": [
    "कार्यक्षेत्र"
   ]
  },
  {
   "cell_type": "code",
   "execution_count": null,
   "metadata": {},
   "outputs": [],
   "source": [
    "gs = EFGenus.from_list([3, 3, 3, 3, 5, 5])\n",
    "tn = Tonnetz(gs)\n",
    "et_tones = np.arange(0, 12, 0.5)"
   ]
  },
  {
   "cell_type": "markdown",
   "metadata": {},
   "source": [
    "### Raag DB"
   ]
  },
  {
   "cell_type": "code",
   "execution_count": null,
   "metadata": {},
   "outputs": [],
   "source": [
    "raag_db = pickle.load(open(os.path.join(\"../raagfinder/\", \"raags.pkl\"), \"rb\"))"
   ]
  },
  {
   "cell_type": "code",
   "execution_count": null,
   "metadata": {},
   "outputs": [],
   "source": [
    "# raag_db[\"all\"] = {\n",
    "#     \"name\": \"all\",\n",
    "#     \"aaroha\": list(Swar.__members__),\n",
    "#     \"avaroha\": list(Swar.__members__)[::-1],\n",
    "#     \"mukhyanga\": [[]],\n",
    "# }\n",
    "# raag_db[\"none\"] = {\n",
    "#     \"name\": \"none\",\n",
    "#     \"aaroha\": [],\n",
    "#     \"avaroha\": [],\n",
    "#     \"mukhyanga\": [[]],\n",
    "# }\n",
    "# raag_db[\"prateeksha\"] = {\n",
    "#     \"name\": \"Prateeksha\",\n",
    "#     \"aaroha\": ['S', 'R', 'G', 'P', 'd', '`S'],\n",
    "#     \"avaroha\": ['`S', 'd', 'P', 'G', 'R', 'S'],\n",
    "#     \"mukhyanga\": [\n",
    "#         ['G', 'P', 'd'], ['P', 'd', '`S', '`R', '`G', '`R'], ['`R', '`S', 'd', 'P'], ['P', 'R', 'G', 'R']\n",
    "#     ],\n",
    "#     \"aarohi_nyas\": ['S', 'R', 'P', 'd'],\n",
    "#     \"avarohi_nyas\": ['S', 'R', 'P', 'd'],\n",
    "#     \"vaadi\": 'R',\n",
    "#     \"samvaadi\": 'P',\n",
    "#     \"thaat\": \"\",\n",
    "#     \"prahar\": \"night 3rd\"\n",
    "# }\n",
    "# TODO: amritavarshini [(0, 0), (0, 1), (1, 0), (1, 1), (2, 1)]"
   ]
  },
  {
   "cell_type": "code",
   "execution_count": null,
   "metadata": {},
   "outputs": [],
   "source": [
    "# TODO: alternative names\n",
    "\"\"\"\n",
    "champakali\n",
    "\"\"\""
   ]
  },
  {
   "cell_type": "code",
   "execution_count": null,
   "metadata": {},
   "outputs": [],
   "source": [
    "# pickle.dump(raag_db, open(os.path.join(\"../raagfinder/\", \"raags.pkl\"), \"wb\"))"
   ]
  },
  {
   "cell_type": "markdown",
   "metadata": {},
   "source": [
    "### Proposed Ground Truth Ratios (expressed as powers of 3, 5)"
   ]
  },
  {
   "cell_type": "code",
   "execution_count": null,
   "metadata": {},
   "outputs": [],
   "source": [
    "hypothesized_gt_3_5 = {\n",
    "    \"none\": [],\n",
    "    \"all\": list(itertools.product(range(-4, 5), range(-2, 3))),\n",
    "}"
   ]
  },
  {
   "cell_type": "code",
   "execution_count": null,
   "metadata": {},
   "outputs": [],
   "source": [
    "# basics\n",
    "hypothesized_gt_3_5.update({\n",
    "    \"alhaiya bilawal\": [(0, 0), (-1, 0), (1, 0), (2, 0), (0, 1), (-1, 1), (1, 1)],\n",
    "    \"bhoopali\": [(0, 0), (1, 0), (0, 1), (-1, 1), (-2, 1)],\n",
    "    \"deshkar\": [(0, 0), (1, 0), (2, 0), (3, 0), (4, 0)],\n",
    "    \"yaman\": [(0, 0), (1, 0), (2, 0), (1, 1), (2, 1), (0, 1), (3, 0)],\n",
    "})"
   ]
  },
  {
   "cell_type": "code",
   "execution_count": null,
   "metadata": {},
   "outputs": [],
   "source": [
    "# from oak\n",
    "hypothesized_gt_3_5.update({\n",
    "    \"aheer bhairav\": [(0, 0), (0, -1), (0, 1), (-1, 1), (-2, 0), (-1, 0), (1, 0)],\n",
    "    \"bageshree\": [(0, 0), (-1, 0), (-2, 0), (-3, 0), (0, 1), (-1, 1), (-2, 1), (1, 0)],\n",
    "    \"bahar\": [(0, 0), (-1, 0), (-2, 0), (-3, 0), (0, 1), (-1, 1), (1, 1), (1, 0), (2, 0)],\n",
    "    \"bairagi\": [(0, 0), (-1, 0), (-2, 0), (1, 0), (-1, -1)],\n",
    "    \"bhairav\": [(0, 0), (0, 1), (1, 1), (1, 0), (0, -1), (-1, -1), (-1, 0)],\n",
    "    \"bhairavi\": [(0, 0), (1, 0), (-1, -1), (0, -1), (1, -1), (2, -1), (3, -1)],\n",
    "    \"bheempalasi\": [(0, 0), (-2, 1), (-1, 1), (-3, 0), (-2, 0), (-1, 0), (1, 0)],\n",
    "    \"vibhas\": [(0, 0), (1, 0), (0, 1), (0, -1), (-1, -1)],\n",
    "    \"kaushik dhwani (bhinn shadj)\": [(0, 0), (-1, 0), (-1, 1), (0, 1), (1, 1)],\n",
    "    \"bihag\": [(0, 0), (-1, 0), (1, 0), (2, 0), (0, 1), (-1, 1), (1, 1), (2, 1)],\n",
    "    \"charukeshi\": [(0, 0), (-2, 0), (-1, 0), (1, 0), (2, 0), (0, -1), (0, 1)],\n",
    "    \"des\": [(0, 0), (-2, 0), (-1, 0), (1, 0), (2, 0), (-1, 1), (0, 1), (1, 1)],\n",
    "    \"dhani\": [(0, 0), (-1, 0), (1, 0), (1, -1), (2, -1)],\n",
    "    \"durga\": [(0, 0), (-1, 0), (1, 0), (-2, 1), (-1, 1)],\n",
    "    \"hindol\": [(0, 0), (-1, 1), (0, 1), (1, 1), (2, 1)],\n",
    "    \"kafi\": [(0, 0), (2, 0), (-1, 1), (-3, 0), (-2, 0), (-1, 0), (1, 0)],\n",
    "    \"kedar\": [(0, 0), (-1, 0), (1, 0), (2, 0), (3, 0), (0, 1), (1, 1), (2, 1)],\n",
    "    \"keerwani\": [(0, 0), (-1, 0), (1, 0), (2, 0), (0, -1), (1, -1), (1, 1)],\n",
    "    \"khamaj\": [(0, 0), (-2, 0), (-1, 0), (1, 0), (-2, 1), (-1, 1), (0, 1)],\n",
    "    \"malhar\": [(0, 0), (1, 0), (2, 0), (-3, 0), (-2, 0), (-1, 0), (-1, 1), (1, 1)],\n",
    "    \"maru bihag\": [(0, 0), (-1, 0), (1, 0), (2, 0), (3, 0), (0, 1), (1, 1), (2, 1)],\n",
    "    \"nand\": [(0, 0), (-1, 0), (1, 0), (2, 0), (3, 0), (0, 1), (1, 1), (2, 1)],\n",
    "    \"nut-bhairav\": [(0, 0), (-1, 0), (1, 0), (2, 0), (0, 1), (1, 1), (0, -1)],\n",
    "    \"poorvi\": [(0, 0), (1, 0), (0, 1), (1, 1), (2, 1), (3, 1), (4, 1)],\n",
    "    \"puriya\": [(0, 0), (0, 1), (1, 1), (2, 1), (3, 1), (-1, 1)],\n",
    "    \"puriya dhanashri\": [(0, 0), (1, 0), (0, 1), (1, 1), (2, 1), (3, 1), (4, 1)],\n",
    "    \"rageshree\": [(0, 0), (-1, 0), (-2, 0), (0, 1), (-1, 1), (-2, 1)],\n",
    "    \"shree\": [(0, 0), (1, 0), (-4, -1), (-3, -1), (-2, -1), (-1, -1), (0, 1)],\n",
    "    \"shankara\": [(0, 0), (1, 0), (-1, 1), (0, 1), (1, 1)],\n",
    "    \"shivranjani\": [(0, 0), (1, 0), (2, 0), (3, 0), (1, -1)],\n",
    "    \"shuddha kalyan\": [(0, 0), (1, 0), (2, 0), (1, 1), (2, 1), (3, 0), (4, 0)],\n",
    "    \"shuddha sarang\": [(0, 0), (1, 0), (2, 0), (1, 1), (2, 1), (3, 0), (-1, 0)],\n",
    "    \"shyam kalyan\": [(0, 0), (1, 0), (2, 0), (1, 1), (2, 1), (0, 1), (3, 0), (-1, 0)],\n",
    "    \"tilak kamod\": [(0, 0), (1, 0), (2, 0), (1, 1), (0, 1), (-1, 1), (-1, 0), (-2, 0)],\n",
    "    \"tilang\": [(0, 0), (1, 0), (2, 0), (1, 1), (0, 1), (-1, 0), (-2, 0)],\n",
    "    \"jhinjhoti\": [(0, 0), (1, 0), (-2, 0), (-1, 0), (-2, 1), (-1, 1), (0, 1)],\n",
    "    \"saraswati\": [(0, 0), (1, 0), (2, 0), (3, 0), (2, -1), (2, 1)],\n",
    "    \"vachaspati\": [(0, 0), (1, 0), (2, 0), (3, 0), (2, -1), (2, 1), (0, 1)],\n",
    "})"
   ]
  },
  {
   "cell_type": "code",
   "execution_count": null,
   "metadata": {},
   "outputs": [],
   "source": [
    "# some moorchhana-based inferences\n",
    "hypothesized_gt_3_5.update({\n",
    "    \"sarang (brindavani sarang)\": [(0, 0), (1, 0), (2, 0), (1, 1), (2, -1), (3, -1)],\n",
    "    \"jog\": [(0, 0), (-1, 0), (1, 0), (0, 1), (1, -1), (2, -1)],\n",
    "    \"gurjari todi\": [(0, 0), (-1, -1), (0, -1), (1, -1), (1, -2), (2, -2)],\n",
    "})\n",
    "hypothesized_gt_3_5.update({\n",
    "    \"hans dhwani\": [(0, 0), (1, 0), (2, 0), (0, 1), (1, 1)],\n",
    "    \"gorakh kalyan\": [(0, 0), (-1, 0), (-2, 0), (-1, 1), (-2, 1)],\n",
    "})"
   ]
  },
  {
   "cell_type": "code",
   "execution_count": null,
   "metadata": {},
   "outputs": [],
   "source": [
    "# my own hypotheses with 5^2\n",
    "hypothesized_gt_3_5.update({\n",
    "    \"chandrakauns\": [(0, 0), (-1, 0), (0, -1), (1, -1), (1, -2)],\n",
    "    \"madhukauns\": [(0, 0), (1, 0), (1, -1), (2, -1), (2, -2)],\n",
    "    \"prateeksha\": [(0, 0), (1, 0), (2, 0), (0, 1), (0, 2)],\n",
    "    # \"\": [(0, 0), ()],\n",
    "})"
   ]
  },
  {
   "cell_type": "code",
   "execution_count": null,
   "metadata": {},
   "outputs": [],
   "source": [
    "pickle.dump(hypothesized_gt_3_5, open(\"hypothesized_gt_3_5.pkl\", \"wb\"))"
   ]
  },
  {
   "cell_type": "code",
   "execution_count": null,
   "metadata": {},
   "outputs": [],
   "source": []
  },
  {
   "cell_type": "code",
   "execution_count": null,
   "metadata": {},
   "outputs": [],
   "source": []
  },
  {
   "cell_type": "markdown",
   "metadata": {},
   "source": [
    "Scratch"
   ]
  },
  {
   "cell_type": "code",
   "execution_count": null,
   "metadata": {},
   "outputs": [],
   "source": [
    "from libmogra.raagfinder.parse import best_match"
   ]
  },
  {
   "cell_type": "code",
   "execution_count": null,
   "metadata": {},
   "outputs": [],
   "source": [
    "best_match(\"vchaspati\")"
   ]
  },
  {
   "cell_type": "code",
   "execution_count": null,
   "metadata": {},
   "outputs": [],
   "source": [
    "raag_db[\"vachaspati\"]"
   ]
  },
  {
   "cell_type": "code",
   "execution_count": null,
   "metadata": {},
   "outputs": [],
   "source": []
  }
 ],
 "metadata": {
  "kernelspec": {
   "display_name": "libmogra-r5o_0kDL-py3.13",
   "language": "python",
   "name": "python3"
  },
  "language_info": {
   "codemirror_mode": {
    "name": "ipython",
    "version": 3
   },
   "file_extension": ".py",
   "mimetype": "text/x-python",
   "name": "python",
   "nbconvert_exporter": "python",
   "pygments_lexer": "ipython3",
   "version": "3.13.1"
  }
 },
 "nbformat": 4,
 "nbformat_minor": 2
}
