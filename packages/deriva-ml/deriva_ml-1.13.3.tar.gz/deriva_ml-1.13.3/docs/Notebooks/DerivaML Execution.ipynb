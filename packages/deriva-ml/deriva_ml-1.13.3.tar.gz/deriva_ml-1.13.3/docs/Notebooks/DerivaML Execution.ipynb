{
 "cells": [
  {
   "cell_type": "markdown",
   "id": "94ffee41-4986-4196-b35d-b38b6e10490a",
   "metadata": {},
   "source": [
    "# DerivaML Execution\n",
    "\n",
    "DerivaML is a class library built on the Deriva Scientific Asset management system that is designed to help simplify a number of the basic operations associated with building and testing ML libraries based on common toolkits such as TensorFlow.  This notebook reviews the basic features of the DerivaML library."
   ]
  },
  {
   "cell_type": "code",
   "id": "ff605747-195b-40a1-b915-0e799f8d0748",
   "metadata": {
    "ExecuteTime": {
     "end_time": "2025-04-22T01:25:23.535381Z",
     "start_time": "2025-04-22T01:25:23.521412Z"
    }
   },
   "source": [
    "%load_ext autoreload\n",
    "%autoreload 2"
   ],
   "outputs": [],
   "execution_count": 1
  },
  {
   "cell_type": "code",
   "id": "9493a5ef-86b9-490b-a1d5-f461fdcd68ef",
   "metadata": {
    "ExecuteTime": {
     "end_time": "2025-04-22T01:25:25.015721Z",
     "start_time": "2025-04-22T01:25:23.666614Z"
    }
   },
   "source": [
    "import builtins\n",
    "from deriva.core.utils.globus_auth_utils import GlobusNativeLogin\n",
    "from deriva_ml import ExecutionConfiguration, MLVocab, DerivaSystemColumns, DatasetSpec\n",
    "from deriva_ml.demo_catalog import create_demo_catalog, DemoML\n",
    "from IPython.display import display, Markdown, JSON\n",
    "import itertools\n",
    "import pandas as pd"
   ],
   "outputs": [],
   "execution_count": 2
  },
  {
   "cell_type": "markdown",
   "id": "ba06990f-6dc5-4805-9e82-0881a524bfef",
   "metadata": {},
   "source": [
    "Set the details for the catalog we want and authenticate to the server if needed."
   ]
  },
  {
   "cell_type": "code",
   "id": "9ee79ab7-a3f7-4c69-9c80-336871c13ec2",
   "metadata": {
    "ExecuteTime": {
     "end_time": "2025-04-22T01:25:25.272870Z",
     "start_time": "2025-04-22T01:25:25.226032Z"
    }
   },
   "source": [
    "hostname = 'dev.eye-ai.org'\n",
    "domain_schema = 'demo-schema'\n",
    "\n",
    "gnl = GlobusNativeLogin(host=hostname)\n",
    "if gnl.is_logged_in([hostname]):\n",
    "    print(\"You are already logged in.\")\n",
    "else:\n",
    "    gnl.login([hostname], no_local_server=True, no_browser=True, refresh_tokens=True, update_bdbag_keychain=True)\n",
    "    print(\"Login Successful\")\n"
   ],
   "outputs": [
    {
     "name": "stdout",
     "output_type": "stream",
     "text": [
      "You are already logged in.\n"
     ]
    }
   ],
   "execution_count": 3
  },
  {
   "cell_type": "markdown",
   "id": "a23e5177-106b-48b6-b5e0-a126d35f4084",
   "metadata": {},
   "source": "Create a test catalog and get an instance of the DerivaML class.  Use options so that we create some initial datasets and features.  Use the exploration API to find out what features and datasets we have."
  },
  {
   "cell_type": "code",
   "id": "e9bddcf0-27ea-40b3-a388-b77635586fad",
   "metadata": {
    "ExecuteTime": {
     "end_time": "2025-04-22T01:26:38.915946Z",
     "start_time": "2025-04-22T01:25:25.320544Z"
    }
   },
   "source": [
    "test_catalog = create_demo_catalog(hostname, domain_schema, create_features=True, create_datasets=True)\n",
    "ml_instance = DemoML(hostname, test_catalog.catalog_id)\n",
    "print(f'Creating catalog at {ml_instance.catalog_id}')"
   ],
   "outputs": [
    {
     "name": "stderr",
     "output_type": "stream",
     "text": [
      "2025-04-21 18:25:49,812 - deriva_ml.WARNING - File /Users/carl/Repos/Projects/deriva-ml/docs/Notebooks/DerivaML Execution.ipynb has been modified since last commit. Consider commiting before executing\n"
     ]
    },
    {
     "data": {
      "text/plain": [
       "<IPython.core.display.Markdown object>"
      ],
      "text/markdown": "Execution RID: https://dev.eye-ai.org/id/1944/3N4@336-MYXD-DREA"
     },
     "metadata": {},
     "output_type": "display_data"
    },
    {
     "name": "stderr",
     "output_type": "stream",
     "text": [
      "2025-04-21 18:26:02,976 - deriva_ml.WARNING - File /Users/carl/Repos/Projects/deriva-ml/docs/Notebooks/DerivaML Execution.ipynb has been modified since last commit. Consider commiting before executing\n"
     ]
    },
    {
     "data": {
      "text/plain": [
       "<IPython.core.display.Markdown object>"
      ],
      "text/markdown": "Execution RID: https://dev.eye-ai.org/id/1944/49W@336-MYY6-5W7Y"
     },
     "metadata": {},
     "output_type": "display_data"
    },
    {
     "name": "stdout",
     "output_type": "stream",
     "text": [
      "Creating catalog at 1944\n"
     ]
    }
   ],
   "execution_count": 4
  },
  {
   "metadata": {
    "ExecuteTime": {
     "end_time": "2025-04-22T01:26:39.506238Z",
     "start_time": "2025-04-22T01:26:38.945901Z"
    }
   },
   "cell_type": "code",
   "source": [
    "display(\n",
    "    Markdown('## Datasets'),\n",
    "    pd.DataFrame(ml_instance.find_datasets()).drop(columns=DerivaSystemColumns),\n",
    "\n",
    "    Markdown('## Features'),\n",
    "    [f'{f.target_table.name}:{f.feature_name}' for f in ml_instance.find_features(\"Subject\")],\n",
    "    [f'{f.target_table.name}:{f.feature_name}' for f in ml_instance.find_features(\"Image\")]\n",
    ")"
   ],
   "id": "9b151033-6eb5-4fbb-a8dd-8d9b2154299a",
   "outputs": [
    {
     "data": {
      "text/plain": [
       "<IPython.core.display.Markdown object>"
      ],
      "text/markdown": "## Datasets"
     },
     "metadata": {},
     "output_type": "display_data"
    },
    {
     "data": {
      "text/plain": [
       "             Description  Deleted Version MLVocab.dataset_type\n",
       "0            Dataset 3MR    False     4MR   [TestSet, Testing]\n",
       "1            Dataset 3MT    False     4MP   [TestSet, Testing]\n",
       "2       Nested Dataset 0    False     4MM  [TestSet, Training]\n",
       "3            Dataset 3MW    False     4MY   [TestSet, Testing]\n",
       "4            Dataset 3MY    False     4MW   [TestSet, Testing]\n",
       "5       Nested Dataset 2    False     4MT  [TestSet, Training]\n",
       "6  Double nested dataset    False     4MJ            [TestSet]"
      ],
      "text/html": [
       "<div>\n",
       "<style scoped>\n",
       "    .dataframe tbody tr th:only-of-type {\n",
       "        vertical-align: middle;\n",
       "    }\n",
       "\n",
       "    .dataframe tbody tr th {\n",
       "        vertical-align: top;\n",
       "    }\n",
       "\n",
       "    .dataframe thead th {\n",
       "        text-align: right;\n",
       "    }\n",
       "</style>\n",
       "<table border=\"1\" class=\"dataframe\">\n",
       "  <thead>\n",
       "    <tr style=\"text-align: right;\">\n",
       "      <th></th>\n",
       "      <th>Description</th>\n",
       "      <th>Deleted</th>\n",
       "      <th>Version</th>\n",
       "      <th>MLVocab.dataset_type</th>\n",
       "    </tr>\n",
       "  </thead>\n",
       "  <tbody>\n",
       "    <tr>\n",
       "      <th>0</th>\n",
       "      <td>Dataset 3MR</td>\n",
       "      <td>False</td>\n",
       "      <td>4MR</td>\n",
       "      <td>[TestSet, Testing]</td>\n",
       "    </tr>\n",
       "    <tr>\n",
       "      <th>1</th>\n",
       "      <td>Dataset 3MT</td>\n",
       "      <td>False</td>\n",
       "      <td>4MP</td>\n",
       "      <td>[TestSet, Testing]</td>\n",
       "    </tr>\n",
       "    <tr>\n",
       "      <th>2</th>\n",
       "      <td>Nested Dataset 0</td>\n",
       "      <td>False</td>\n",
       "      <td>4MM</td>\n",
       "      <td>[TestSet, Training]</td>\n",
       "    </tr>\n",
       "    <tr>\n",
       "      <th>3</th>\n",
       "      <td>Dataset 3MW</td>\n",
       "      <td>False</td>\n",
       "      <td>4MY</td>\n",
       "      <td>[TestSet, Testing]</td>\n",
       "    </tr>\n",
       "    <tr>\n",
       "      <th>4</th>\n",
       "      <td>Dataset 3MY</td>\n",
       "      <td>False</td>\n",
       "      <td>4MW</td>\n",
       "      <td>[TestSet, Testing]</td>\n",
       "    </tr>\n",
       "    <tr>\n",
       "      <th>5</th>\n",
       "      <td>Nested Dataset 2</td>\n",
       "      <td>False</td>\n",
       "      <td>4MT</td>\n",
       "      <td>[TestSet, Training]</td>\n",
       "    </tr>\n",
       "    <tr>\n",
       "      <th>6</th>\n",
       "      <td>Double nested dataset</td>\n",
       "      <td>False</td>\n",
       "      <td>4MJ</td>\n",
       "      <td>[TestSet]</td>\n",
       "    </tr>\n",
       "  </tbody>\n",
       "</table>\n",
       "</div>"
      ]
     },
     "metadata": {},
     "output_type": "display_data"
    },
    {
     "data": {
      "text/plain": [
       "<IPython.core.display.Markdown object>"
      ],
      "text/markdown": "## Features"
     },
     "metadata": {},
     "output_type": "display_data"
    },
    {
     "data": {
      "text/plain": [
       "['Subject:Health']"
      ]
     },
     "metadata": {},
     "output_type": "display_data"
    },
    {
     "data": {
      "text/plain": [
       "['Image:BoundingBox', 'Image:Quality']"
      ]
     },
     "metadata": {},
     "output_type": "display_data"
    }
   ],
   "execution_count": 5
  },
  {
   "metadata": {
    "ExecuteTime": {
     "end_time": "2025-04-22T01:26:41.514774Z",
     "start_time": "2025-04-22T01:26:39.587647Z"
    }
   },
   "cell_type": "code",
   "source": [
    "datasets = pd.DataFrame(ml_instance.find_datasets()).drop(columns=DerivaSystemColumns)\n",
    "training_dataset_rid = [ds['RID'] for ds in ml_instance.find_datasets() if 'Training' in ds['Dataset_Type']][0]\n",
    "testing_dataset_rid = [ds['RID'] for ds in ml_instance.find_datasets() if 'Testing' in ds['Dataset_Type']][0]\n",
    "\n",
    "display(\n",
    "    Markdown(f'Training Dataset: {training_dataset_rid}'),\n",
    "    Markdown('## Datasets'),\n",
    "    datasets)"
   ],
   "id": "29a0bd7230799257",
   "outputs": [
    {
     "data": {
      "text/plain": [
       "<IPython.core.display.Markdown object>"
      ],
      "text/markdown": "Training Dataset: 4K4"
     },
     "metadata": {},
     "output_type": "display_data"
    },
    {
     "data": {
      "text/plain": [
       "<IPython.core.display.Markdown object>"
      ],
      "text/markdown": "## Datasets"
     },
     "metadata": {},
     "output_type": "display_data"
    },
    {
     "data": {
      "text/plain": [
       "             Description  Deleted Version MLVocab.dataset_type\n",
       "0            Dataset 3MR    False     4MR   [TestSet, Testing]\n",
       "1            Dataset 3MT    False     4MP   [TestSet, Testing]\n",
       "2       Nested Dataset 0    False     4MM  [TestSet, Training]\n",
       "3            Dataset 3MW    False     4MY   [TestSet, Testing]\n",
       "4            Dataset 3MY    False     4MW   [TestSet, Testing]\n",
       "5       Nested Dataset 2    False     4MT  [TestSet, Training]\n",
       "6  Double nested dataset    False     4MJ            [TestSet]"
      ],
      "text/html": [
       "<div>\n",
       "<style scoped>\n",
       "    .dataframe tbody tr th:only-of-type {\n",
       "        vertical-align: middle;\n",
       "    }\n",
       "\n",
       "    .dataframe tbody tr th {\n",
       "        vertical-align: top;\n",
       "    }\n",
       "\n",
       "    .dataframe thead th {\n",
       "        text-align: right;\n",
       "    }\n",
       "</style>\n",
       "<table border=\"1\" class=\"dataframe\">\n",
       "  <thead>\n",
       "    <tr style=\"text-align: right;\">\n",
       "      <th></th>\n",
       "      <th>Description</th>\n",
       "      <th>Deleted</th>\n",
       "      <th>Version</th>\n",
       "      <th>MLVocab.dataset_type</th>\n",
       "    </tr>\n",
       "  </thead>\n",
       "  <tbody>\n",
       "    <tr>\n",
       "      <th>0</th>\n",
       "      <td>Dataset 3MR</td>\n",
       "      <td>False</td>\n",
       "      <td>4MR</td>\n",
       "      <td>[TestSet, Testing]</td>\n",
       "    </tr>\n",
       "    <tr>\n",
       "      <th>1</th>\n",
       "      <td>Dataset 3MT</td>\n",
       "      <td>False</td>\n",
       "      <td>4MP</td>\n",
       "      <td>[TestSet, Testing]</td>\n",
       "    </tr>\n",
       "    <tr>\n",
       "      <th>2</th>\n",
       "      <td>Nested Dataset 0</td>\n",
       "      <td>False</td>\n",
       "      <td>4MM</td>\n",
       "      <td>[TestSet, Training]</td>\n",
       "    </tr>\n",
       "    <tr>\n",
       "      <th>3</th>\n",
       "      <td>Dataset 3MW</td>\n",
       "      <td>False</td>\n",
       "      <td>4MY</td>\n",
       "      <td>[TestSet, Testing]</td>\n",
       "    </tr>\n",
       "    <tr>\n",
       "      <th>4</th>\n",
       "      <td>Dataset 3MY</td>\n",
       "      <td>False</td>\n",
       "      <td>4MW</td>\n",
       "      <td>[TestSet, Testing]</td>\n",
       "    </tr>\n",
       "    <tr>\n",
       "      <th>5</th>\n",
       "      <td>Nested Dataset 2</td>\n",
       "      <td>False</td>\n",
       "      <td>4MT</td>\n",
       "      <td>[TestSet, Training]</td>\n",
       "    </tr>\n",
       "    <tr>\n",
       "      <th>6</th>\n",
       "      <td>Double nested dataset</td>\n",
       "      <td>False</td>\n",
       "      <td>4MJ</td>\n",
       "      <td>[TestSet]</td>\n",
       "    </tr>\n",
       "  </tbody>\n",
       "</table>\n",
       "</div>"
      ]
     },
     "metadata": {},
     "output_type": "display_data"
    }
   ],
   "execution_count": 6
  },
  {
   "metadata": {},
   "cell_type": "markdown",
   "source": [
    "## Initializing the environment for an execution\n",
    "\n",
    "In DerivaML, the catalog is the source of record for all of the data created and used by a machine learning experiment.  While we can use the Deriva API to interact directly with the catalog, DerivaML provides a much simpler way of retrieving and adding data to a catalog.\n",
    "\n",
    "The core concept in this process is an execution.  An execution can be the process of training a model, of executing a model, for running analysis scripts, or even a manual operation.  Every execution in DerivaML is uniquely identified by a *resource identifier* (RID).\n",
    "\n",
    "The steps involved in creating and using an execution are:\n",
    "1. Create an Execution configuration object that identifies the inputs, and code for the execution.\n",
    "2. Create a workflow object to represent the code/operation that you will perform\n",
    "3. Create an execution instance, which will download all of the required inputs from the catalog\n",
    "Locate the input files using methods in the execution instance\n",
    "4. Perform your computation, placing output files in locations provided by the execution instance methods\n",
    "5. Upload the results of the computation using the execution instance methods. This will upload all of your files and tag them with the execution RID so you know how they were generated.  In addition, and new tabular data in CSV format will be uploaded to corrisponding tables in the catalog.\n",
    "\n",
    "\n",
    "### Creating an `ExectutionConfiguration`\n",
    "An execution can be described by the datasets and files that it needs, the code that it runs, and the resulting files that it creates.\n",
    "This information is captured in an ExecutionConfiguration object:\n",
    "\n",
    "\n",
    "    class ExecutionConfiguration:\n",
    "     \"\"\"\n",
    "        Define the parameters that are used to configure a specific execution.\n",
    "\n",
    "        Arguments:\n",
    "            datasets: List of dataset RIDS, MINIDS for datasets to be downloaded prior to execution.  By default,\n",
    "                     all  the datasets are materialized. However, if the assets associated with a dataset are not\n",
    "                     needed, a dictionary that defines the rid and the materialization parameter for the\n",
    "                     download_dataset_bag method can be specified, e.g.  datasets=[{'rid': RID, 'materialize': True}].\n",
    "            assets: List of assets to be downloaded prior to execution.  The values must be RIDs in an asset table\n",
    "            workflow: A workflow instance.  Must have a name, URI to the workflow instance, and a type.\n",
    "            description: A description of the execution.  Can use markdown format.\n",
    "\n",
    "## Creating a `Workflow`\n",
    "\n",
    "The actual code that is being run is represented by a `Workflow` class.  A workflow class is intended to be quite general and could be a Python script, a Jupyter notebook, a manual process, or even a Airflow or some other type of workflow system.  In order to create a workflow class instance, we will need to have a name for the workflow, a URI to name the resource that the workflow is capturing, and a workflow type.\n",
    "\n",
    "The url for the workflow will depend on what the workflow is actually doing. In general, its a good idea to make the URL a reference to a tagged code or repository in GitHub. This will require some disiplane on your process to ensure that you always have workflows that are commited and tagged in a repo.\n",
    "\n",
    "The workflow type is a controlled vocabulary.  You can create new workflow types using the standard APIs for adding terms.\n"
   ],
   "id": "353d51c9-b8a6-4b75-a0da-ffa2db134169"
  },
  {
   "metadata": {
    "ExecuteTime": {
     "end_time": "2025-04-22T03:13:53.363473Z",
     "start_time": "2025-04-22T03:13:45.344986Z"
    }
   },
   "cell_type": "code",
   "source": [
    "ml_instance.add_term(MLVocab.workflow_type, \"Execution Notebook\", description=\"Notebook for demonstrating executions\")\n",
    "ml_instance.add_term(MLVocab.asset_type, \"API_Model\", description=\"Model for our API workflow\")\n",
    "\n",
    "api_workflow = ml_instance.create_workflow(\n",
    "    name=\"Execution Notebook Workflow\",\n",
    "    workflow_type=\"Execution Notebook\",\n",
    "    description=\"Demonstration notebook\"\n",
    ")\n",
    "\n",
    "notebook_execution = ml_instance.create_execution(ExecutionConfiguration( description=\"Sample Execution\", workflow=api_workflow))\n",
    "\n",
    "# Now lets create model configuration for our program.\n",
    "model_file = notebook_execution.asset_file_path(\"Execution_Asset\",'modelfile.txt', asset_types=\"API_Model\")\n",
    "with builtins.open(model_file, \"w\") as fp:\n",
    "    fp.write(f\"My model\")\n",
    "\n",
    "# Now upload the file and retrieve the RID of the new asset from the returned results.\n",
    "uploaded_assets = notebook_execution.upload_execution_outputs()\n",
    "training_model_rid = [a.asset_rid  for a  in uploaded_assets['deriva-ml/Execution_Asset'] if 'API_Model' in a.asset_types][0]\n",
    "\n",
    "display(\n",
    "    Markdown(f'## Training Model: {training_model_rid}'),\n",
    "    JSON(ml_instance.retrieve_rid(training_model_rid))\n",
    ")"
   ],
   "id": "1d726b44-c60f-435a-9966-cfe3fc3da2e9",
   "outputs": [
    {
     "name": "stderr",
     "output_type": "stream",
     "text": [
      "2025-04-21 20:13:49,010 - deriva_ml.WARNING - File /Users/carl/Repos/Projects/deriva-ml/docs/Notebooks/DerivaML Execution.ipynb has been modified since last commit. Consider commiting before executing\n"
     ]
    },
    {
     "data": {
      "text/plain": [
       "<IPython.core.display.Markdown object>"
      ],
      "text/markdown": "Execution RID: https://dev.eye-ai.org/id/1944/4N8@336-NAZK-015A"
     },
     "metadata": {},
     "output_type": "display_data"
    },
    {
     "name": "stderr",
     "output_type": "stream",
     "text": [
      "2025-04-21 20:13:49,544 - deriva_ml.INFO - Downloading assets ...\n",
      "2025-04-21 20:13:50,264 - deriva_ml.INFO - Initialize status finished.\n",
      "2025-04-21 20:13:50,500 - deriva_ml.INFO - Uploading execution files...\n",
      "2025-04-21 20:13:50,616 - deriva.transfer.upload.deriva_upload.INFO - Initializing uploader: GenericUploader v1.7.7 [Python 3.10.16, macOS-15.4.1-x86_64-i386-64bit]\n",
      "2025-04-21 20:13:50,782 - deriva.transfer.upload.deriva_upload.INFO - Scanning files in directory [/Users/carl/deriva-ml/DemoML_working/deriva-ml/execution/4N8/asset]...\n",
      "2025-04-21 20:13:50,783 - deriva.transfer.upload.deriva_upload.INFO - Including file: [/Users/carl/deriva-ml/DemoML_working/deriva-ml/execution/4N8/asset/deriva-ml/Execution_Asset/modelfile.txt].\n",
      "2025-04-21 20:13:50,783 - deriva.transfer.upload.deriva_upload.INFO - Including file: [/Users/carl/deriva-ml/DemoML_working/deriva-ml/execution/4N8/asset/deriva-ml/Execution_Metadata/configuration.json].\n",
      "2025-04-21 20:13:50,784 - deriva.transfer.upload.deriva_upload.INFO - Including file: [/Users/carl/deriva-ml/DemoML_working/deriva-ml/execution/4N8/asset/deriva-ml/Execution_Metadata/environment_snapshot_20250421_201349.txt].\n",
      "2025-04-21 20:13:50,784 - deriva.transfer.upload.deriva_upload.INFO - Processing: [/Users/carl/deriva-ml/DemoML_working/deriva-ml/execution/4N8/asset/deriva-ml/Execution_Asset/modelfile.txt]\n",
      "2025-04-21 20:13:50,785 - deriva.transfer.upload.deriva_upload.INFO - Computed metadata for: [/Users/carl/deriva-ml/DemoML_working/deriva-ml/execution/4N8/asset/deriva-ml/Execution_Asset/modelfile.txt].\n",
      "2025-04-21 20:13:50,786 - deriva.transfer.upload.deriva_upload.INFO - Computing checksums for file: [/Users/carl/deriva-ml/DemoML_working/deriva-ml/execution/4N8/asset/deriva-ml/Execution_Asset/modelfile.txt]. Please wait...\n",
      "2025-04-21 20:13:50,787 - deriva.transfer.upload.deriva_upload.INFO - Uploading file: [/Users/carl/deriva-ml/DemoML_working/deriva-ml/execution/4N8/asset/deriva-ml/Execution_Asset/modelfile.txt] to host https://dev.eye-ai.org. Please wait...\n",
      "2025-04-21 20:13:51,339 - deriva.transfer.upload.deriva_upload.INFO - Processing: [/Users/carl/deriva-ml/DemoML_working/deriva-ml/execution/4N8/asset/deriva-ml/Execution_Metadata/configuration.json]\n",
      "2025-04-21 20:13:51,340 - deriva.transfer.upload.deriva_upload.INFO - Computed metadata for: [/Users/carl/deriva-ml/DemoML_working/deriva-ml/execution/4N8/asset/deriva-ml/Execution_Metadata/configuration.json].\n",
      "2025-04-21 20:13:51,340 - deriva.transfer.upload.deriva_upload.INFO - Computing checksums for file: [/Users/carl/deriva-ml/DemoML_working/deriva-ml/execution/4N8/asset/deriva-ml/Execution_Metadata/configuration.json]. Please wait...\n",
      "2025-04-21 20:13:51,341 - deriva.transfer.upload.deriva_upload.INFO - Uploading file: [/Users/carl/deriva-ml/DemoML_working/deriva-ml/execution/4N8/asset/deriva-ml/Execution_Metadata/configuration.json] to host https://dev.eye-ai.org. Please wait...\n",
      "2025-04-21 20:13:51,828 - deriva.transfer.upload.deriva_upload.INFO - Processing: [/Users/carl/deriva-ml/DemoML_working/deriva-ml/execution/4N8/asset/deriva-ml/Execution_Metadata/environment_snapshot_20250421_201349.txt]\n",
      "2025-04-21 20:13:51,829 - deriva.transfer.upload.deriva_upload.INFO - Computed metadata for: [/Users/carl/deriva-ml/DemoML_working/deriva-ml/execution/4N8/asset/deriva-ml/Execution_Metadata/environment_snapshot_20250421_201349.txt].\n",
      "2025-04-21 20:13:51,830 - deriva.transfer.upload.deriva_upload.INFO - Computing checksums for file: [/Users/carl/deriva-ml/DemoML_working/deriva-ml/execution/4N8/asset/deriva-ml/Execution_Metadata/environment_snapshot_20250421_201349.txt]. Please wait...\n",
      "2025-04-21 20:13:51,831 - deriva.transfer.upload.deriva_upload.INFO - Uploading file: [/Users/carl/deriva-ml/DemoML_working/deriva-ml/execution/4N8/asset/deriva-ml/Execution_Metadata/environment_snapshot_20250421_201349.txt] to host https://dev.eye-ai.org. Please wait...\n",
      "2025-04-21 20:13:52,197 - deriva.transfer.upload.deriva_upload.INFO - File upload processing completed: 3 files were uploaded successfully, 0 files failed to upload due to errors, 0 files were skipped because they did not satisfy the matching criteria of the configuration.\n",
      "2025-04-21 20:13:52,681 - deriva_ml.INFO - Updating features...\n",
      "2025-04-21 20:13:52,809 - deriva_ml.INFO - Upload assets complete\n",
      "2025-04-21 20:13:53,060 - deriva_ml.INFO - Successfully end the execution.\n"
     ]
    },
    {
     "data": {
      "text/plain": [
       "<IPython.core.display.Markdown object>"
      ],
      "text/markdown": "## Training Model: 4NA"
     },
     "metadata": {},
     "output_type": "display_data"
    },
    {
     "data": {
      "text/plain": [
       "<IPython.core.display.JSON object>"
      ],
      "application/json": {
       "RID": "4NA",
       "RCT": "2025-04-22T03:13:51.333598+00:00",
       "RMT": "2025-04-22T03:13:51.333598+00:00",
       "RCB": "https://auth.globus.org/aef862ea-d274-11e5-bb09-7bf5b06f98da",
       "RMB": "https://auth.globus.org/aef862ea-d274-11e5-bb09-7bf5b06f98da",
       "URL": "/hatrac/Execution_Asset/c604e0f3dd9caa5d5a1a120239642e70.modelfile.txt:qAemOjwhrLMOKaw_Rv62zvUgoyke.0UR",
       "Filename": "modelfile.txt",
       "Description": null,
       "Length": 8,
       "MD5": "c604e0f3dd9caa5d5a1a120239642e70"
      }
     },
     "metadata": {
      "application/json": {
       "expanded": false,
       "root": "root"
      }
     },
     "output_type": "display_data"
    }
   ],
   "execution_count": 8
  },
  {
   "metadata": {},
   "cell_type": "markdown",
   "source": "### Setup for a ML run\n",
   "id": "cfce553e81530e79"
  },
  {
   "metadata": {
    "ExecuteTime": {
     "end_time": "2025-04-22T03:14:31.010950Z",
     "start_time": "2025-04-22T03:14:03.259611Z"
    }
   },
   "cell_type": "code",
   "source": [
    "ml_instance.add_term(MLVocab.workflow_type, \"ML Demo\", description=\"A ML Workflow that uses Deriva ML API\")\n",
    "\n",
    "config = ExecutionConfiguration(\n",
    "        assets = [training_model_rid],\n",
    "    description=\"Notebook ML Execution\",\n",
    "    workflow=api_workflow,\n",
    "    datasets=[DatasetSpec(rid=training_dataset_rid, version=ml_instance.dataset_version(training_dataset_rid)),\n",
    "            DatasetSpec(rid=testing_dataset_rid, version=ml_instance.dataset_version(training_dataset_rid), materialize=False)],\n",
    ")\n",
    "\n",
    "ml_execution = ml_instance.create_execution(config)"
   ],
   "id": "cdcc8f5c-874b-4bf9-89ef-e1ea90b9f91f",
   "outputs": [
    {
     "data": {
      "text/plain": [
       "<IPython.core.display.Markdown object>"
      ],
      "text/markdown": "Execution RID: https://dev.eye-ai.org/id/1944/4NY@336-NB0G-65YE"
     },
     "metadata": {},
     "output_type": "display_data"
    },
    {
     "name": "stderr",
     "output_type": "stream",
     "text": [
      "2025-04-21 20:14:04,769 - deriva_ml.INFO - Materialize bag 4K4... \n",
      "2025-04-21 20:14:06,406 - deriva_ml.INFO - Creating new MINID for dataset 4K4\n",
      "2025-04-21 20:14:08,290 - deriva_ml.INFO - Downloading dataset minid for catalog: 4K4@1.2.0\n",
      "2025-04-21 20:14:08,451 - deriva.transfer.download.deriva_export.INFO - Processing export config file: /var/folders/0k/27qzm97x3t7g3j1m6ksf_9f40000gn/T/tmpvf84l90f/download_spec.json\n",
      "2025-04-21 20:14:08,453 - deriva.transfer.download.deriva_export.INFO - Requesting bdbag export at: https://dev.eye-ai.org/deriva/export/bdbag\n",
      "2025-04-21 20:14:15,267 - deriva.transfer.download.deriva_export.INFO - Export successful. Service responded with URL list: ['https://identifiers.fair-research.org/hdl:20.500.12582/1KxaJMRR8cji', 'https://dev.eye-ai.org/deriva/export/bdbag/15b947cb-0472-440c-96c4-e0205f3f69d8']\n",
      "2025-04-21 20:14:16,663 - deriva_ml.INFO - Materializing bag: 1 of 4 file(s) downloaded.\n",
      "2025-04-21 20:14:16,907 - deriva_ml.INFO - Materializing bag: 2 of 4 file(s) downloaded.\n",
      "2025-04-21 20:14:17,144 - deriva_ml.INFO - Materializing bag: 3 of 4 file(s) downloaded.\n",
      "2025-04-21 20:14:17,379 - deriva_ml.INFO - Materializing bag: 4 of 4 file(s) downloaded.\n",
      "2025-04-21 20:14:17,514 - deriva_ml.INFO - Validating bag: 1 of 45 file(s) validated.\n",
      "2025-04-21 20:14:17,635 - deriva_ml.INFO - Validating bag: 2 of 45 file(s) validated.\n",
      "2025-04-21 20:14:17,760 - deriva_ml.INFO - Validating bag: 3 of 45 file(s) validated.\n",
      "2025-04-21 20:14:17,948 - deriva_ml.INFO - Validating bag: 4 of 45 file(s) validated.\n",
      "2025-04-21 20:14:18,067 - deriva_ml.INFO - Validating bag: 5 of 45 file(s) validated.\n",
      "2025-04-21 20:14:18,193 - deriva_ml.INFO - Validating bag: 6 of 45 file(s) validated.\n",
      "2025-04-21 20:14:18,319 - deriva_ml.INFO - Validating bag: 7 of 45 file(s) validated.\n",
      "2025-04-21 20:14:18,447 - deriva_ml.INFO - Validating bag: 8 of 45 file(s) validated.\n",
      "2025-04-21 20:14:18,576 - deriva_ml.INFO - Validating bag: 9 of 45 file(s) validated.\n",
      "2025-04-21 20:14:18,698 - deriva_ml.INFO - Validating bag: 10 of 45 file(s) validated.\n",
      "2025-04-21 20:14:18,880 - deriva_ml.INFO - Validating bag: 11 of 45 file(s) validated.\n",
      "2025-04-21 20:14:18,999 - deriva_ml.INFO - Validating bag: 12 of 45 file(s) validated.\n",
      "2025-04-21 20:14:19,121 - deriva_ml.INFO - Validating bag: 13 of 45 file(s) validated.\n",
      "2025-04-21 20:14:19,252 - deriva_ml.INFO - Validating bag: 14 of 45 file(s) validated.\n",
      "2025-04-21 20:14:19,371 - deriva_ml.INFO - Validating bag: 15 of 45 file(s) validated.\n",
      "2025-04-21 20:14:19,495 - deriva_ml.INFO - Validating bag: 16 of 45 file(s) validated.\n",
      "2025-04-21 20:14:19,623 - deriva_ml.INFO - Validating bag: 17 of 45 file(s) validated.\n",
      "2025-04-21 20:14:19,757 - deriva_ml.INFO - Validating bag: 18 of 45 file(s) validated.\n",
      "2025-04-21 20:14:19,945 - deriva_ml.INFO - Validating bag: 19 of 45 file(s) validated.\n",
      "2025-04-21 20:14:20,074 - deriva_ml.INFO - Validating bag: 20 of 45 file(s) validated.\n",
      "2025-04-21 20:14:20,206 - deriva_ml.INFO - Validating bag: 21 of 45 file(s) validated.\n",
      "2025-04-21 20:14:20,325 - deriva_ml.INFO - Validating bag: 22 of 45 file(s) validated.\n",
      "2025-04-21 20:14:20,450 - deriva_ml.INFO - Validating bag: 23 of 45 file(s) validated.\n",
      "2025-04-21 20:14:20,579 - deriva_ml.INFO - Validating bag: 24 of 45 file(s) validated.\n",
      "2025-04-21 20:14:20,702 - deriva_ml.INFO - Validating bag: 25 of 45 file(s) validated.\n",
      "2025-04-21 20:14:20,828 - deriva_ml.INFO - Validating bag: 26 of 45 file(s) validated.\n",
      "2025-04-21 20:14:21,008 - deriva_ml.INFO - Validating bag: 27 of 45 file(s) validated.\n",
      "2025-04-21 20:14:21,128 - deriva_ml.INFO - Validating bag: 28 of 45 file(s) validated.\n",
      "2025-04-21 20:14:21,250 - deriva_ml.INFO - Validating bag: 29 of 45 file(s) validated.\n",
      "2025-04-21 20:14:21,372 - deriva_ml.INFO - Validating bag: 30 of 45 file(s) validated.\n",
      "2025-04-21 20:14:21,497 - deriva_ml.INFO - Validating bag: 31 of 45 file(s) validated.\n",
      "2025-04-21 20:14:21,622 - deriva_ml.INFO - Validating bag: 32 of 45 file(s) validated.\n",
      "2025-04-21 20:14:21,746 - deriva_ml.INFO - Validating bag: 33 of 45 file(s) validated.\n",
      "2025-04-21 20:14:21,871 - deriva_ml.INFO - Validating bag: 34 of 45 file(s) validated.\n",
      "2025-04-21 20:14:22,046 - deriva_ml.INFO - Validating bag: 35 of 45 file(s) validated.\n",
      "2025-04-21 20:14:22,170 - deriva_ml.INFO - Validating bag: 36 of 45 file(s) validated.\n",
      "2025-04-21 20:14:22,298 - deriva_ml.INFO - Validating bag: 37 of 45 file(s) validated.\n",
      "2025-04-21 20:14:22,418 - deriva_ml.INFO - Validating bag: 38 of 45 file(s) validated.\n",
      "2025-04-21 20:14:22,543 - deriva_ml.INFO - Validating bag: 39 of 45 file(s) validated.\n",
      "2025-04-21 20:14:22,667 - deriva_ml.INFO - Validating bag: 40 of 45 file(s) validated.\n",
      "2025-04-21 20:14:22,789 - deriva_ml.INFO - Validating bag: 41 of 45 file(s) validated.\n",
      "2025-04-21 20:14:22,913 - deriva_ml.INFO - Validating bag: 42 of 45 file(s) validated.\n",
      "2025-04-21 20:14:23,104 - deriva_ml.INFO - Validating bag: 43 of 45 file(s) validated.\n",
      "2025-04-21 20:14:23,227 - deriva_ml.INFO - Validating bag: 44 of 45 file(s) validated.\n",
      "2025-04-21 20:14:23,442 - deriva_ml.INFO - Validating bag: 45 of 45 file(s) validated.\n",
      "2025-04-21 20:14:23,444 - deriva_ml.INFO - Loading /Users/carl/deriva-ml/cache/4K4_12da49ac4f0b58ea76e4ae0480e51f84903dcbf281bc62e28d229f08998a76eb/Dataset_4K4\n",
      "2025-04-21 20:14:23,492 - deriva_ml.INFO - Creating new database for dataset: 4K4 in /Users/carl/deriva-ml/DemoML_working/4K4@336-MZ09-61FY.db\n",
      "2025-04-21 20:14:23,493 - deriva_ml.INFO - Materialize bag 4HM... \n",
      "2025-04-21 20:14:25,109 - deriva_ml.INFO - Creating new MINID for dataset 4HM\n",
      "2025-04-21 20:14:25,773 - deriva_ml.INFO - Downloading dataset minid for catalog: 4HM@1.2.0\n",
      "2025-04-21 20:14:25,924 - deriva.transfer.download.deriva_export.INFO - Processing export config file: /var/folders/0k/27qzm97x3t7g3j1m6ksf_9f40000gn/T/tmpnoqwtt1v/download_spec.json\n",
      "2025-04-21 20:14:25,925 - deriva.transfer.download.deriva_export.INFO - Requesting bdbag export at: https://dev.eye-ai.org/deriva/export/bdbag\n",
      "2025-04-21 20:14:28,323 - deriva.transfer.download.deriva_export.INFO - Export successful. Service responded with URL list: ['https://identifiers.fair-research.org/hdl:20.500.12582/kOWY7FVTswHi', 'https://dev.eye-ai.org/deriva/export/bdbag/b41da62d-295e-47b1-8f3c-c9c4fd7abe85']\n",
      "2025-04-21 20:14:29,037 - deriva_ml.INFO - Loading /Users/carl/deriva-ml/cache/4HM_418bd407849f9c06a41052fb05e339f369eba12ec3194243dcfebdda24589b45/Dataset_4HM\n",
      "2025-04-21 20:14:29,089 - deriva_ml.INFO - Creating new database for dataset: 4HM in /Users/carl/deriva-ml/DemoML_working/4HM@336-MYZK-Z4WP.db\n",
      "2025-04-21 20:14:29,217 - deriva_ml.INFO - Downloading assets ...\n",
      "2025-04-21 20:14:30,874 - deriva_ml.INFO - Initialize status finished.\n"
     ]
    }
   ],
   "execution_count": 9
  },
  {
   "metadata": {
    "ExecuteTime": {
     "end_time": "2025-04-22T03:14:38.924002Z",
     "start_time": "2025-04-22T03:14:38.905791Z"
    }
   },
   "cell_type": "code",
   "source": "ml_execution.asset_paths",
   "id": "b67cc7bbfea212b8",
   "outputs": [
    {
     "data": {
      "text/plain": [
       "{'Execution_Asset': [AssetFilePath('/Users/carl/deriva-ml/DemoML_working/deriva-ml/execution/4NY/downloaded-assets/Execution_Asset/modelfile.txt')]}"
      ]
     },
     "execution_count": 10,
     "metadata": {},
     "output_type": "execute_result"
    }
   ],
   "execution_count": 10
  },
  {
   "metadata": {
    "ExecuteTime": {
     "end_time": "2025-04-22T03:15:05.946128Z",
     "start_time": "2025-04-22T03:15:05.363939Z"
    }
   },
   "cell_type": "code",
   "source": [
    "with ml_execution.execute() as deriva_exec:\n",
    "    # Get the input datasets:\n",
    "    training_dataset = ml_execution.datasets[0]  # Input dataset\n",
    "    image_rids = training_dataset.get_table_as_dataframe('Image')['RID']\n",
    "\n",
    "    # Get input files\n",
    "    with open(ml_execution.asset_paths[0], 'rt') as model_file:\n",
    "        training_model = model_file.read()\n",
    "        print(f'Got model file: {training_model}')\n",
    "\n",
    "    # Put your ML code here....\n",
    "    pass\n",
    "\n",
    "    # Write a new model\n",
    "    model_file = ml_execution.asset_path('API_Model', 'modelfile.txt')\n",
    "    with open(model_file, 'w') as f:\n",
    "        f.write(\"Hello there a new model;\\n\")\n",
    "\n",
    "    # Create some new feature values.\n",
    "    bb_csv_path, bb_asset_paths = ml_execution.execution_asset_path('BoundingBox')\n",
    "    bounding_box_files = [bb_asset_paths['BoundingBox'] / f\"box{i}.txt\" for i in range(10)]\n",
    "    for i in range(10):\n",
    "        bounding_box_files.append(fn := bb_asset_paths['BoundingBox'] / f\"box{i}.txt\")\n",
    "        with builtins.open(fn, \"w\") as fp:\n",
    "            fp.write(f\"Hi there {i}\")\n",
    "\n",
    "    ImageBoundingboxFeature = ml_instance.feature_record_class(\"Image\", \"BoundingBox\")\n",
    "    image_bounding_box_feature_list = [ImageBoundingboxFeature(Image=image_rid,\n",
    "                                                               Execution=ml_execution.execution_rid,\n",
    "                                                               BoundingBox=asset_rid)\n",
    "                                       for image_rid, asset_rid in zip(image_rids, itertools.cycle(bounding_box_files))]\n",
    "\n",
    "    ml_execution.add_features(image_bounding_box_feature_list)\n",
    "\n",
    "upload_status = ml_execution.upload_execution_outputs()"
   ],
   "id": "c8860e47d5f72069",
   "outputs": [
    {
     "name": "stderr",
     "output_type": "stream",
     "text": [
      "2025-04-21 20:15:05,384 - deriva_ml.INFO - Start execution  ...\n",
      "2025-04-21 20:15:05,617 - deriva_ml.INFO - Start execution  ...\n",
      "2025-04-21 20:15:05,740 - deriva_ml.INFO - Exception type: <class 'KeyError'>, Exception value: 0\n",
      "2025-04-21 20:15:05,928 - root.ERROR - Exception type: <class 'KeyError'>, Exception value: 0, Exception traceback: <traceback object at 0x17a911840>\n"
     ]
    },
    {
     "ename": "KeyError",
     "evalue": "0",
     "output_type": "error",
     "traceback": [
      "\u001B[0;31m---------------------------------------------------------------------------\u001B[0m",
      "\u001B[0;31mKeyError\u001B[0m                                  Traceback (most recent call last)",
      "Cell \u001B[0;32mIn[11], line 7\u001B[0m\n\u001B[1;32m      4\u001B[0m image_rids \u001B[38;5;241m=\u001B[39m training_dataset\u001B[38;5;241m.\u001B[39mget_table_as_dataframe(\u001B[38;5;124m'\u001B[39m\u001B[38;5;124mImage\u001B[39m\u001B[38;5;124m'\u001B[39m)[\u001B[38;5;124m'\u001B[39m\u001B[38;5;124mRID\u001B[39m\u001B[38;5;124m'\u001B[39m]\n\u001B[1;32m      6\u001B[0m \u001B[38;5;66;03m# Get input files\u001B[39;00m\n\u001B[0;32m----> 7\u001B[0m \u001B[38;5;28;01mwith\u001B[39;00m \u001B[38;5;28mopen\u001B[39m(\u001B[43mml_execution\u001B[49m\u001B[38;5;241;43m.\u001B[39;49m\u001B[43masset_paths\u001B[49m\u001B[43m[\u001B[49m\u001B[38;5;241;43m0\u001B[39;49m\u001B[43m]\u001B[49m, \u001B[38;5;124m'\u001B[39m\u001B[38;5;124mrt\u001B[39m\u001B[38;5;124m'\u001B[39m) \u001B[38;5;28;01mas\u001B[39;00m model_file:\n\u001B[1;32m      8\u001B[0m     training_model \u001B[38;5;241m=\u001B[39m model_file\u001B[38;5;241m.\u001B[39mread()\n\u001B[1;32m      9\u001B[0m     \u001B[38;5;28mprint\u001B[39m(\u001B[38;5;124mf\u001B[39m\u001B[38;5;124m'\u001B[39m\u001B[38;5;124mGot model file: \u001B[39m\u001B[38;5;132;01m{\u001B[39;00mtraining_model\u001B[38;5;132;01m}\u001B[39;00m\u001B[38;5;124m'\u001B[39m)\n",
      "\u001B[0;31mKeyError\u001B[0m: 0"
     ]
    }
   ],
   "execution_count": 11
  },
  {
   "metadata": {},
   "cell_type": "markdown",
   "source": "Now lets check the assets produced by this execution to make sure that they are what we expect.",
   "id": "4fb891bc938549c"
  },
  {
   "metadata": {},
   "cell_type": "code",
   "source": [
    "# Get datapath to the ML schema.\n",
    "schema_path = ml_instance.pathBuilder.schemas[ml_instance.ml_schema]\n",
    "\n",
    "# Now get path to the execution table, and get our execution record.  We filter on the RID for the\n",
    "# execution we are looking for.\n",
    "executions = schema_path.Execution.filter(schema_path.Execution.RID == ml_execution.execution_rid)\n",
    "execution_info = list(executions.entities().fetch())[0]\n",
    "\n",
    "# To get the assets for the execution, we need to go through the linking table to the assets.\n",
    "asset_path = executions.link(schema_path.Execution_Asset_Execution).link(schema_path.Execution_Asset)\n",
    "pd.DataFrame(asset_path.entities().fetch()).drop(columns=DerivaSystemColumns + ['MD5'])\n",
    "\n",
    "# Now lets display our results.\n",
    "display(\n",
    "    Markdown(f'### Execution: {ml_execution.execution_rid}'),\n",
    "    JSON(execution_info),\n",
    "    Markdown(f'### Execution Assets'),\n",
    "    pd.DataFrame(asset_path.entities().fetch()).drop(columns=DerivaSystemColumns + ['MD5']),\n",
    ")"
   ],
   "id": "d5fea96ac8e0567f",
   "outputs": [],
   "execution_count": null
  },
  {
   "cell_type": "code",
   "id": "cd670182dfb20afd",
   "metadata": {},
   "source": "test_catalog.delete_ermrest_catalog(really=True)",
   "outputs": [],
   "execution_count": null
  }
 ],
 "metadata": {
  "kernelspec": {
   "display_name": "deriva-test",
   "language": "python",
   "name": "deriva-test"
  },
  "language_info": {
   "codemirror_mode": {
    "name": "ipython",
    "version": 3
   },
   "file_extension": ".py",
   "mimetype": "text/x-python",
   "name": "python",
   "nbconvert_exporter": "python",
   "pygments_lexer": "ipython3",
   "version": "3.12.2"
  }
 },
 "nbformat": 4,
 "nbformat_minor": 5
}
