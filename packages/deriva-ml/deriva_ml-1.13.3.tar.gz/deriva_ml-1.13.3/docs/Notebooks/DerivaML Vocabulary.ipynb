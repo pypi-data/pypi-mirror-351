{
 "cells": [
  {
   "cell_type": "markdown",
   "id": "94ffee41-4986-4196-b35d-b38b6e10490a",
   "metadata": {},
   "source": [
    "# DerivaML Vocabulary\n",
    "\n",
    "DerivaML is a class library built on the Deriva Scientific Asset management system that is designed to help simplify a number of the basic operations associated with building and testing ML libraries based on common toolkits such as TensorFlow.  This notebook reviews the basic features of the DerivaML library.\n",
    "\n",
    "A core aspect of DerivaML is the extensive use of controlled vocabulary terms.  A vocabulary term may be something defined outside of the study, for example from an ontology like Uberon or Schema.org, or it can be a term that is defined and used locally by the ML team.  The purpose of using controlled vocabulary is that it makes it easier to find data and can help ensure that proper communication is taking place between members of the ML team."
   ]
  },
  {
   "metadata": {},
   "cell_type": "markdown",
   "source": [
    "## Preliminaries.\n",
    "\n",
    "To start, we will do some preliminaries, loading needed modules and making sure we are logged into the DerivaML server."
   ],
   "id": "ba06990f-6dc5-4805-9e82-0881a524bfef"
  },
  {
   "metadata": {},
   "cell_type": "code",
   "source": [
    "from IPython.display import display, Markdown, HTML\n",
    "import pandas as pd\n",
    "from deriva.core.utils.globus_auth_utils import GlobusNativeLogin\n",
    "from deriva_ml.demo_catalog import create_demo_catalog, DemoML\n",
    "from deriva_ml import MLVocab"
   ],
   "id": "26084458ba862df0",
   "outputs": [],
   "execution_count": null
  },
  {
   "metadata": {},
   "cell_type": "code",
   "source": [
    "hostname = 'dev.eye-ai.org'   # This needs to be changed.\n",
    "\n",
    "gnl = GlobusNativeLogin(host=hostname)\n",
    "if gnl.is_logged_in([hostname]):\n",
    "    print(\"You are already logged in.\")\n",
    "else:\n",
    "    gnl.login([hostname], no_local_server=True, no_browser=True, refresh_tokens=True, update_bdbag_keychain=True)\n",
    "    print(\"Login Successful\")"
   ],
   "id": "101257f07059db89",
   "outputs": [],
   "execution_count": null
  },
  {
   "cell_type": "markdown",
   "id": "a23e5177-106b-48b6-b5e0-a126d35f4084",
   "metadata": {},
   "source": [
    "### Create a test catalog.\n",
    "Create a test catalog and get an instance of the DerivaML class.  This will take around 30 seconds, so be patient."
   ]
  },
  {
   "cell_type": "code",
   "id": "e9bddcf0-27ea-40b3-a388-b77635586fad",
   "metadata": {},
   "source": [
    "test_catalog = create_demo_catalog(hostname)\n",
    "ml_instance = DemoML(hostname, test_catalog.catalog_id)"
   ],
   "outputs": [],
   "execution_count": null
  },
  {
   "metadata": {},
   "cell_type": "markdown",
   "source": [
    "### Explore existing vocabularies.\n",
    "Get a list of all the currently defined controlled vocabularies"
   ],
   "id": "16bba361fac5243a"
  },
  {
   "metadata": {},
   "cell_type": "code",
   "source": "ml_instance.find_vocabularies()",
   "id": "9b151033-6eb5-4fbb-a8dd-8d9b2154299a",
   "outputs": [],
   "execution_count": null
  },
  {
   "metadata": {},
   "cell_type": "markdown",
   "source": [
    "Let's look at the contents of one of the predefined vocabularies in the DerivaML library.  We can make this look nicer with a Panda.\n",
    "Many of the datatypes in DerivaML are represented by [Pydantic](https://docs.pydantic.dev/latest/) data classes.  These have a number of methods that can make it easy to operate on them.  The one we are going to use here is `model_dump()`, which converts a dataclass into a dictionary."
   ],
   "id": "3a89e1fe2e211722"
  },
  {
   "metadata": {},
   "cell_type": "code",
   "source": [
    "display(\n",
    "    Markdown(f\"#### Contents of controlled vocabulary {MLVocab.execution_metadata_type}\"),\n",
    "    pd.DataFrame([v.model_dump() for v in ml_instance.list_vocabulary_terms(MLVocab.execution_metadata_type)])\n",
    ")"
   ],
   "id": "512dcc15721128d",
   "outputs": [],
   "execution_count": null
  },
  {
   "metadata": {},
   "cell_type": "markdown",
   "source": [
    "### Creating a new controlled vocabulary.\n",
    "Now let's create a new controlled vocabulary to house terms that are specific to the problem we are working on."
   ],
   "id": "4d2aee663f6fc6a1"
  },
  {
   "metadata": {},
   "cell_type": "code",
   "source": "ml_instance.create_vocabulary(\"My term set\", comment=\"Terms to use for generating tests\")",
   "id": "50fc85db-8173-463d-830e-7dfd7eba08f7",
   "outputs": [],
   "execution_count": null
  },
  {
   "cell_type": "code",
   "id": "4d8204f2-1411-45ed-b093-1d50751862ba",
   "metadata": {},
   "source": "ml_instance.find_vocabularies()",
   "outputs": [],
   "execution_count": null
  },
  {
   "metadata": {},
   "cell_type": "markdown",
   "source": [
    "#### Adding terms\n",
    "Given our new controlled vocabulary, we can add terms to it.  A term has a name, that should uniquely identify it within the vocabulary, a description of what the term means, and finally a list of synonyms. Each term is assigned a resource identifier (RID) by the deriva platform.  There are other additional features of terms that facilitate integration from preexisting vocabularies that are beyond the scope of this notebook.  You can look at the class documentation for these details."
   ],
   "id": "4fa936f6522e9943"
  },
  {
   "metadata": {},
   "cell_type": "code",
   "source": [
    "for i in range(5):\n",
    "    ml_instance.add_term(\"My term set\", f\"Term{i}\", description=f\"My term {i}\", synonyms=[f\"t{i}\", f\"T{i}\"])"
   ],
   "id": "2268b5c2-bd85-45f6-a21e-f5a7bd0c719c",
   "outputs": [],
   "execution_count": null
  },
  {
   "cell_type": "code",
   "id": "240cb784-0ffc-4fc5-aa8d-fb2ee9267355",
   "metadata": {},
   "source": [
    "display(\n",
    "    Markdown('#### Contents of controlled vocabulary \"My term set'),\n",
    "    pd.DataFrame([v.model_dump() for v in ml_instance.list_vocabulary_terms(\"My term set\")])\n",
    ")"
   ],
   "outputs": [],
   "execution_count": null
  },
  {
   "metadata": {},
   "cell_type": "markdown",
   "source": [
    "#### Looking up terms\n",
    "We can also look up individual terms, either by their name, or by a synonym"
   ],
   "id": "eb7342026e1634d4"
  },
  {
   "metadata": {},
   "cell_type": "code",
   "source": [
    "display(\n",
    "    ml_instance.lookup_term(\"My term set\", \"Term0\"),\n",
    "    ml_instance.lookup_term(\"My term set\", \"Term2\"),\n",
    "    ml_instance.lookup_term('My term set', 'T3'),\n",
    ")"
   ],
   "id": "8ee93134-83eb-45f0-9552-85121b5de888",
   "outputs": [],
   "execution_count": null
  },
  {
   "metadata": {},
   "cell_type": "markdown",
   "source": [
    "#### Browsing terms in the user interface\n",
    "All the terms we define in the API are of course visible via the Chaise use interface."
   ],
   "id": "91c924373cdfbf85"
  },
  {
   "metadata": {},
   "cell_type": "code",
   "source": "display(HTML(f'<a href={ml_instance.chaise_url(\"My term set\")}>Browse vocabulary: My term set</a>'))",
   "id": "6ac2c94bb598da90",
   "outputs": [],
   "execution_count": null
  },
  {
   "metadata": {},
   "cell_type": "code",
   "source": "test_catalog.delete_ermrest_catalog(really=True)",
   "id": "6e76bbdf-2441-4444-be7f-e55399bcc32a",
   "outputs": [],
   "execution_count": null
  }
 ],
 "metadata": {
  "kernelspec": {
   "display_name": "deriva-ml",
   "language": "python",
   "name": "deriva-ml"
  },
  "language_info": {
   "codemirror_mode": {
    "name": "ipython",
    "version": 3
   },
   "file_extension": ".py",
   "mimetype": "text/x-python",
   "name": "python",
   "nbconvert_exporter": "python",
   "pygments_lexer": "ipython3",
   "version": "3.12.2"
  }
 },
 "nbformat": 4,
 "nbformat_minor": 5
}
