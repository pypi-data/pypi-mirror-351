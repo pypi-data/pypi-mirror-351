{
 "cells": [
  {
   "cell_type": "markdown",
   "id": "94ffee41-4986-4196-b35d-b38b6e10490a",
   "metadata": {},
   "source": [
    "DerivaML is a class library built on the Deriva Scientific Asset management system that is designed to help simplify a number of the basic operations associated with building and testing ML libraries based on common toolkits such as TensorFlow.  This notebook reviews the basic features of the DerivaML library."
   ]
  },
  {
   "cell_type": "code",
   "id": "ff605747-195b-40a1-b915-0e799f8d0748",
   "metadata": {
    "ExecuteTime": {
     "end_time": "2025-02-25T21:48:28.351714Z",
     "start_time": "2025-02-25T21:48:28.337684Z"
    }
   },
   "source": [
    "%load_ext autoreload\n",
    "%autoreload 2"
   ],
   "outputs": [],
   "execution_count": 1
  },
  {
   "cell_type": "code",
   "id": "9493a5ef-86b9-490b-a1d5-f461fdcd68ef",
   "metadata": {
    "ExecuteTime": {
     "end_time": "2025-02-25T21:48:34.419914Z",
     "start_time": "2025-02-25T21:48:33.686305Z"
    }
   },
   "source": [
    "import builtins\n",
    "from demo_catalog import create_demo_catalog, DemoML\n",
    "from deriva.core.utils.globus_auth_utils import GlobusNativeLogin\n",
    "from IPython.display import display, Markdown, HTML, IFrame\n"
   ],
   "outputs": [],
   "execution_count": 2
  },
  {
   "cell_type": "markdown",
   "id": "ba06990f-6dc5-4805-9e82-0881a524bfef",
   "metadata": {},
   "source": [
    "Set the details for the catalog we want and authenticate to the server if needed."
   ]
  },
  {
   "cell_type": "code",
   "id": "9ee79ab7-a3f7-4c69-9c80-336871c13ec2",
   "metadata": {
    "ExecuteTime": {
     "end_time": "2024-11-29T21:26:58.015044Z",
     "start_time": "2024-11-29T21:26:57.868191Z"
    }
   },
   "source": [
    "hostname = 'dev.eye-ai.org'\n",
    "domain_schema = 'demo-schema'\n",
    "\n",
    "gnl = GlobusNativeLogin(host=hostname)\n",
    "if gnl.is_logged_in([hostname]):\n",
    "    print(\"You are already logged in.\")\n",
    "else:\n",
    "    gnl.login([hostname], no_local_server=True, no_browser=True, refresh_tokens=True, update_bdbag_keychain=True)\n",
    "    print(\"Login Successful\")\n"
   ],
   "outputs": [
    {
     "name": "stdout",
     "output_type": "stream",
     "text": [
      "You are already logged in.\n"
     ]
    }
   ],
   "execution_count": 6
  },
  {
   "metadata": {
    "ExecuteTime": {
     "end_time": "2025-02-25T21:55:24.227032Z",
     "start_time": "2025-02-25T21:55:24.201465Z"
    }
   },
   "cell_type": "code",
   "source": [
    "import json\n",
    "import os\n",
    "import ipykernel\n",
    "import requests\n",
    "\n",
    "def get_notebook_filename():\n",
    "    \"\"\"Returns the current Jupyter Notebook filename.\"\"\"\n",
    "    try:\n",
    "        # Get the kernel ID\n",
    "        kernel_id = ipykernel.connect.get_connection_file().split('-')[1].split('.')[0]\n",
    "        print(kernel_id)\n",
    "        # Get running notebook servers\n",
    "        response = requests.get('http://127.0.0.1:8888/api/sessions', headers={'Authorization': ''})\n",
    "        sessions = json.loads(response.text)\n",
    "        print(sessions)\n",
    "        # Match the kernel ID to find the notebook name\n",
    "        for session in sessions:\n",
    "            print(session)\n",
    "            if session['kernel']['id'] == kernel_id:\n",
    "                return session['name']  # Returns the filename\n",
    "    except Exception as e:\n",
    "        return f\"Error: {e}\"\n",
    "\n",
    "# Usage\n",
    "notebook_file = get_notebook_filename()\n",
    "print(f\"Current Notebook: {notebook_file}\")"
   ],
   "id": "94d9b590bc04d3fa",
   "outputs": [
    {
     "name": "stdout",
     "output_type": "stream",
     "text": [
      "23f783f8\n",
      "{'message': 'Forbidden', 'reason': None}\n",
      "message\n",
      "Current Notebook: Error: string indices must be integers\n"
     ]
    }
   ],
   "execution_count": 8
  },
  {
   "cell_type": "code",
   "id": "e9bddcf0-27ea-40b3-a388-b77635586fad",
   "metadata": {
    "ExecuteTime": {
     "end_time": "2024-11-29T21:27:24.811146Z",
     "start_time": "2024-11-29T21:27:01.353095Z"
    }
   },
   "source": [
    "test_catalog = create_demo_catalog(hostname, domain_schema)\n",
    "ml_instance = DemoML(hostname, test_catalog.catalog_id)"
   ],
   "outputs": [],
   "execution_count": 7
  },
  {
   "cell_type": "markdown",
   "id": "92416df1-e3f9-4097-bc19-b24712dc7242",
   "metadata": {},
   "source": [
    "Now using TestFeatureClass, we can create some instances of the feature and add it.  We must have a exeuction_rid in order to define the feature."
   ]
  },
  {
   "metadata": {
    "ExecuteTime": {
     "end_time": "2024-11-29T21:44:32.359769Z",
     "start_time": "2024-11-29T21:44:32.301145Z"
    }
   },
   "cell_type": "code",
   "source": "display(IFrame(ml_instance.chaise_url('Page'), 500, 500))\n",
   "id": "4a7c313481859e78",
   "outputs": [
    {
     "data": {
      "text/plain": [
       "<IPython.lib.display.IFrame at 0x17b5d6b10>"
      ],
      "text/html": [
       "\n",
       "        <iframe\n",
       "            width=\"500\"\n",
       "            height=\"500\"\n",
       "            src=\"https://dev.eye-ai.org/chaise/recordset/#631/www%3APage\"\n",
       "            frameborder=\"0\"\n",
       "            allowfullscreen\n",
       "            \n",
       "        ></iframe>\n",
       "        "
      ]
     },
     "metadata": {},
     "output_type": "display_data"
    }
   ],
   "execution_count": 21
  },
  {
   "metadata": {
    "ExecuteTime": {
     "end_time": "2024-11-29T21:49:30.725063Z",
     "start_time": "2024-11-29T21:49:29.753350Z"
    }
   },
   "cell_type": "code",
   "source": "ml_instance.chaise_url('Page')",
   "id": "ea200c3f5ff4d39f",
   "outputs": [
    {
     "data": {
      "text/plain": [
       "'https://dev.eye-ai.org/chaise/recordset/#631/www:Page'"
      ]
     },
     "execution_count": 23,
     "metadata": {},
     "output_type": "execute_result"
    }
   ],
   "execution_count": 23
  },
  {
   "metadata": {},
   "cell_type": "code",
   "source": "test_catalog.delete_ermrest_catalog(really=True)",
   "id": "79aa46cf32c2db00",
   "outputs": [],
   "execution_count": null
  }
 ],
 "metadata": {
  "kernelspec": {
   "display_name": "Python 3 (ipykernel)",
   "language": "python",
   "name": "python3"
  },
  "language_info": {
   "codemirror_mode": {
    "name": "ipython",
    "version": 3
   },
   "file_extension": ".py",
   "mimetype": "text/x-python",
   "name": "python",
   "nbconvert_exporter": "python",
   "pygments_lexer": "ipython3",
   "version": "3.12.2"
  }
 },
 "nbformat": 4,
 "nbformat_minor": 5
}
