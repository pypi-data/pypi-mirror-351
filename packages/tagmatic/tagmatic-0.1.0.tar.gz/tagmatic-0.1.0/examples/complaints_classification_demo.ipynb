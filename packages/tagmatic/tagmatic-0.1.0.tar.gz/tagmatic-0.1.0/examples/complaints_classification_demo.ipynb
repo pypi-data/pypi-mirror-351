{
 "cells": [
  {
   "cell_type": "markdown",
   "metadata": {},
   "source": [
    "# Consumer Complaints Classification with Tagmatic\n",
    "\n",
    "This notebook demonstrates how to use the Tagmatic library for real-world text classification using consumer complaint data. We'll classify complaints into different categories based on their content.\n",
    "\n",
    "## Scenario\n",
    "\n",
    "A financial institution receives thousands of consumer complaints daily. These complaints need to be automatically categorized to route them to the appropriate departments for resolution. Instead of manually creating rules or training complex ML models, we can use Tagmatic to define categories through simple descriptions and let the LLM handle the classification.\n",
    "\n",
    "## Dataset\n",
    "\n",
    "We're using a sample of 50 consumer complaints (10 examples from each of 5 categories) from the Consumer Financial Protection Bureau (CFPB) database. This dataser was taken from Kaggle. You can find it here:\n",
    "https://www.kaggle.com/datasets/selener/consumer-complaint-database?resource=download"
   ]
  },
  {
   "cell_type": "code",
   "execution_count": 29,
   "metadata": {},
   "outputs": [],
   "source": [
    "# Import required libraries\n",
    "import json\n",
    "import pandas as pd\n",
    "from typing import List, Dict\n",
    "import os\n",
    "from collections import Counter\n",
    "\n",
    "# Import Tagmatic components\n",
    "from tagmatic.core.category import Category, CategorySet\n",
    "from tagmatic.core.classifier import Classifier\n",
    "\n",
    "# For this demo, we'll use OpenAI (you can replace with any LangChain LLM)\n",
    "from langchain_openai import ChatOpenAI"
   ]
  },
  {
   "cell_type": "markdown",
   "metadata": {},
   "source": [
    "## 1. Load and Explore the Sample Dataset"
   ]
  },
  {
   "cell_type": "code",
   "execution_count": 30,
   "metadata": {},
   "outputs": [
    {
     "name": "stdout",
     "output_type": "stream",
     "text": [
      "Dataset contains 50 complaints\n",
      "Categories: ['Account information incorrect' 'Debt is not yours'\n",
      " 'Account status incorrect' 'Information belongs to someone else'\n",
      " 'Privacy issues']\n",
      "\n",
      "Category distribution:\n",
      "category\n",
      "Account information incorrect          10\n",
      "Debt is not yours                      10\n",
      "Account status incorrect               10\n",
      "Information belongs to someone else    10\n",
      "Privacy issues                         10\n",
      "Name: count, dtype: int64\n"
     ]
    }
   ],
   "source": [
    "# Load the sample complaints dataset\n",
    "with open('sample_complaints.json', 'r') as f:\n",
    "    complaints_data = json.load(f)\n",
    "\n",
    "# Convert to DataFrame for easier analysis\n",
    "df = pd.DataFrame(complaints_data)\n",
    "\n",
    "print(f\"Dataset contains {len(df)} complaints\")\n",
    "print(f\"Categories: {df['category'].unique()}\")\n",
    "print(f\"\\nCategory distribution:\")\n",
    "print(df['category'].value_counts())"
   ]
  },
  {
   "cell_type": "code",
   "execution_count": 31,
   "metadata": {},
   "outputs": [
    {
     "name": "stdout",
     "output_type": "stream",
     "text": [
      "Sample complaints:\n",
      "================================================================================\n",
      "Category: Account information incorrect\n",
      "Text: I sent three letters to XXXX XXXX, Equifax, to verify the information on my credit report but they never sent me any verification I need to know how are they Verifying this information?...\n",
      "--------------------------------------------------------------------------------\n",
      "Category: Account information incorrect\n",
      "Text: I tried contacting XXXX on XXXX XXXX, XXXX via correspondence USPS tracking number XXXX. The late payment dates for XXXX XXXX to XXXX XXXX ; XXXX XXXX to XXXX XXXX is incorrect, I was currently attend...\n",
      "--------------------------------------------------------------------------------\n",
      "Category: Account information incorrect\n",
      "Text: My Name is XXXX XXXX. Am looking at my credit report and there are 8 hard inquiries from the following companies that an disputing because i haven't had any dealings with them. \n",
      "1. XXXX. There are 5 i...\n",
      "--------------------------------------------------------------------------------\n"
     ]
    }
   ],
   "source": [
    "# Display a few sample complaints\n",
    "print(\"Sample complaints:\")\n",
    "print(\"=\" * 80)\n",
    "\n",
    "for i, row in df.head(3).iterrows():\n",
    "    print(f\"Category: {row['category']}\")\n",
    "    print(f\"Text: {row['text'][:200]}...\")\n",
    "    print(\"-\" * 80)"
   ]
  },
  {
   "cell_type": "markdown",
   "metadata": {},
   "source": [
    "## 2. Define Categories Using Tagmatic\n",
    "\n",
    "Instead of using the original category names, we'll create more business-friendly category descriptions that our classification system can understand and use."
   ]
  },
  {
   "cell_type": "code",
   "execution_count": null,
   "metadata": {},
   "outputs": [
    {
     "name": "stdout",
     "output_type": "stream",
     "text": [
      "Defined Categories:\n",
      "==================================================\n",
      "\n",
      "ACCOUNT_INFORMATION_ERROR:\n",
      "Complaints about incorrect account information, wrong payment history, inaccurate balances, or errors in how account details are reported on credit reports. This includes disputes about payment dates, account status, or other account-related data.\n",
      "\n",
      "DEBT_NOT_OWED:\n",
      "Complaints where the consumer claims they do not owe the debt being collected. This includes cases where the debt belongs to someone else, was never authorized, or the consumer disputes owing the amount being claimed.\n",
      "\n",
      "ACCOUNT_STATUS_WRONG:\n",
      "Complaints about incorrect account status reporting, such as accounts showing as open when they should be closed, incorrect payment plan status, wrong derogatory marks, or accounts not reflecting their true current status.\n",
      "\n",
      "IDENTITY_MIX_UP:\n",
      "Complaints involving identity theft, mixed files, or information belonging to someone else appearing on the consumer's credit report. This includes unauthorized accounts, fraudulent inquiries, or personal information that doesn't belong to the consumer.\n",
      "\n",
      "PRIVACY_ISSUES:\n",
      "Complaints related to privacy violations, such as unauthorized access to credit reports, sharing of personal information without consent, or issues with how personal data is handled by credit reporting agencies or debt collectors.\n"
     ]
    }
   ],
   "source": [
    "# Define categories with clear, descriptive explanations\n",
    "categories = [\n",
    "    Category(\n",
    "        name=\"account_information_error\",\n",
    "        description=\"Complaints about incorrect account information, wrong payment history, \"\n",
    "                   \"inaccurate balances, or errors in how account details are reported on credit reports. \"\n",
    "                   \"This includes disputes about payment dates, account status, or other account-related data.\"\n",
    "    ),\n",
    "    Category(\n",
    "        name=\"debt_not_owed\", \n",
    "        description=\"Complaints where the consumer claims they do not owe the debt being collected. \"\n",
    "                   \"This includes cases where the debt belongs to someone else, was never authorized, \"\n",
    "                   \"or the consumer disputes owing the amount being claimed.\"\n",
    "    ),\n",
    "    Category(\n",
    "        name=\"account_status_wrong\",\n",
    "        description=\"Complaints about incorrect account status reporting, such as accounts showing as open \"\n",
    "                   \"when they should be closed, incorrect payment plan status, wrong derogatory marks, \"\n",
    "                   \"or accounts not reflecting their true current status.\"\n",
    "    ),\n",
    "    Category(\n",
    "        name=\"identity_mix_up\",\n",
    "        description=\"Complaints involving identity theft, mixed files, or information belonging to someone else \"\n",
    "                   \"appearing on the consumer's credit report. This includes unauthorized accounts, \"\n",
    "                   \"fraudulent inquiries, or personal information that doesn't belong to the consumer.\"\n",
    "    ),\n",
    "    Category(\n",
    "        name=\"privacy_issues\",\n",
    "        description=\"Complaints related to privacy violations, such as unauthorized access to credit reports, \"\n",
    "                   \"sharing of personal information without consent, or issues with how personal data is handled \"\n",
    "                   \"by credit reporting agencies or debt collectors.\"\n",
    "    )\n",
    "]\n",
    "\n",
    "# Create a CategorySet - FIXED: Use keyword argument\n",
    "category_set = CategorySet(categories=categories)\n",
    "\n",
    "print(\"Defined Categories:\")\n",
    "print(\"=\" * 50)\n",
    "for category in categories:\n",
    "    print(f\"\\n{category.name.upper()}:\")\n",
    "    print(f\"{category.description}\")"
   ]
  },
  {
   "cell_type": "markdown",
   "metadata": {},
   "source": [
    "## 3. Set Up the Classifier\n",
    "\n",
    "We'll configure the Tagmatic classifier with our categories and an LLM provider."
   ]
  },
  {
   "cell_type": "code",
   "execution_count": 39,
   "metadata": {},
   "outputs": [
    {
     "name": "stdout",
     "output_type": "stream",
     "text": [
      "Classifier initialized successfully!\n",
      "Ready to classify into 5 categories\n"
     ]
    }
   ],
   "source": [
    "# Set up the LLM (make sure you have OPENAI_API_KEY in your environment)\n",
    "# You can replace this with any LangChain-compatible LLM\n",
    "llm = ChatOpenAI(\n",
    "    model=\"gpt-4.1\",\n",
    "    temperature=0.1,  # Low temperature for consistent classification\n",
    "    max_tokens=100    # We only need short responses for classification\n",
    ")\n",
    "\n",
    "# Create the classifier\n",
    "classifier = Classifier(\n",
    "    categories=category_set,\n",
    "    llm=llm\n",
    ")\n",
    "\n",
    "print(\"Classifier initialized successfully!\")\n",
    "print(f\"Ready to classify into {len(categories)} categories\")"
   ]
  },
  {
   "cell_type": "markdown",
   "metadata": {},
   "source": []
  },
  {
   "cell_type": "markdown",
   "metadata": {},
   "source": [
    "## 4. Test Classification on Sample Complaints\n",
    "\n",
    "Let's test our classifier on a few individual complaints to see how it performs."
   ]
  },
  {
   "cell_type": "code",
   "execution_count": 34,
   "metadata": {},
   "outputs": [
    {
     "name": "stdout",
     "output_type": "stream",
     "text": [
      "Testing Classification on Sample Complaints:\n",
      "================================================================================\n",
      "\n",
      "Complaint: Debt doesn't belong to me, company put in on my credit. Never had a XXXX account before. I asked them to remove it, they still have it on my credit....\n",
      "Actual Category: Debt is not yours\n",
      "Predicted Category: debt_not_owed\n",
      "--------------------------------------------------------------------------------\n",
      "\n",
      "Complaint: I have recently obtained a copy of my credit file and there are many mistakes in my report...\n",
      "Actual Category: Information belongs to someone else\n",
      "Predicted Category: account_information_error\n",
      "--------------------------------------------------------------------------------\n",
      "\n",
      "Complaint: XXXX XXXX, XXXX SOC SEC # XXXX DOB XX/XX/XXXX ADDRESS XXXX XXXX XXXX, XXXX, FL XXXX ATTENTION DISPUTE DEPARTMENT TODAYS DATE : XX/XX/XXXX This serves ...\n",
      "Actual Category: Information belongs to someone else\n",
      "Predicted Category: identity_mix_up\n",
      "--------------------------------------------------------------------------------\n",
      "\n",
      "Complaint: On XX/XX/XXXX - I received a call from a man named XXXX on behalf of American Express now known as XXXX XXXX XXXX formerly known as XXXX XXXX XXXX ( X...\n",
      "Actual Category: Privacy issues\n",
      "Predicted Category: privacy_issues\n",
      "--------------------------------------------------------------------------------\n",
      "\n",
      "Complaint: The collection agency knew the amount was in dispute and still reported to the collection agency that I owe the debt. The collection agency sent me a ...\n",
      "Actual Category: Debt is not yours\n",
      "Predicted Category: debt_not_owed\n",
      "--------------------------------------------------------------------------------\n"
     ]
    }
   ],
   "source": [
    "# Test on a few sample complaints\n",
    "test_samples = df.sample(n=5, random_state=42)\n",
    "\n",
    "print(\"Testing Classification on Sample Complaints:\")\n",
    "print(\"=\" * 80)\n",
    "\n",
    "for idx, row in test_samples.iterrows():\n",
    "    complaint_text = row['text']\n",
    "    actual_category = row['category']\n",
    "    \n",
    "    # Classify the complaint\n",
    "    result = classifier.classify(complaint_text)\n",
    "    \n",
    "    print(f\"\\nComplaint: {complaint_text[:150]}...\")\n",
    "    print(f\"Actual Category: {actual_category}\")\n",
    "    print(f\"Predicted Category: {result.category}\")\n",
    "    print(\"-\" * 80)"
   ]
  },
  {
   "cell_type": "markdown",
   "metadata": {},
   "source": [
    "## 5. Classify All Complaints and Evaluate Performance\n",
    "\n",
    "Now let's classify all complaints in our dataset and see how well our system performs."
   ]
  },
  {
   "cell_type": "code",
   "execution_count": 35,
   "metadata": {},
   "outputs": [
    {
     "name": "stdout",
     "output_type": "stream",
     "text": [
      "Category mapping:\n",
      "Account information incorrect -> account_information_error\n",
      "Debt is not yours -> debt_not_owed\n",
      "Account status incorrect -> account_status_wrong\n",
      "Information belongs to someone else -> identity_mix_up\n",
      "Privacy issues -> privacy_issues\n"
     ]
    }
   ],
   "source": [
    "# Create a mapping from original categories to our new category names\n",
    "category_mapping = {\n",
    "    \"Account information incorrect\": \"account_information_error\",\n",
    "    \"Debt is not yours\": \"debt_not_owed\",\n",
    "    \"Account status incorrect\": \"account_status_wrong\", \n",
    "    \"Information belongs to someone else\": \"identity_mix_up\",\n",
    "    \"Privacy issues\": \"privacy_issues\"\n",
    "}\n",
    "\n",
    "# Add mapped categories to our dataframe\n",
    "df['expected_category'] = df['category'].map(category_mapping)\n",
    "\n",
    "print(\"Category mapping:\")\n",
    "for orig, new in category_mapping.items():\n",
    "    print(f\"{orig} -> {new}\")"
   ]
  },
  {
   "cell_type": "code",
   "execution_count": 40,
   "metadata": {},
   "outputs": [
    {
     "name": "stdout",
     "output_type": "stream",
     "text": [
      "Classifying all complaints... This may take a few minutes.\n",
      "Processed 10/50 complaints\n",
      "Processed 20/50 complaints\n",
      "Processed 30/50 complaints\n",
      "Processed 40/50 complaints\n",
      "Processed 50/50 complaints\n",
      "\n",
      "Classification complete!\n"
     ]
    }
   ],
   "source": [
    "# Classify all complaints (this may take a few minutes)\n",
    "print(\"Classifying all complaints... This may take a few minutes.\")\n",
    "\n",
    "predictions = []\n",
    "confidences = []\n",
    "\n",
    "for idx, row in df.iterrows():\n",
    "    try:\n",
    "        result = classifier.classify(row['text'])\n",
    "        predictions.append(result.category)\n",
    "        confidences.append(result.confidence)\n",
    "        \n",
    "        # Progress indicator\n",
    "        if (idx + 1) % 10 == 0:\n",
    "            print(f\"Processed {idx + 1}/{len(df)} complaints\")\n",
    "            \n",
    "    except Exception as e:\n",
    "        print(f\"Error classifying complaint {idx}: {e}\")\n",
    "        predictions.append(\"error\")\n",
    "        confidences.append(0.0)\n",
    "\n",
    "# Add predictions to dataframe\n",
    "df['predicted_category'] = predictions\n",
    "df['confidence'] = confidences\n",
    "\n",
    "print(\"\\nClassification complete!\")"
   ]
  },
  {
   "cell_type": "markdown",
   "metadata": {},
   "source": [
    "## 6. Analyze Results\n",
    "\n",
    "Let's analyze how well our classifier performed."
   ]
  },
  {
   "cell_type": "code",
   "execution_count": 41,
   "metadata": {},
   "outputs": [
    {
     "name": "stdout",
     "output_type": "stream",
     "text": [
      "Classification Results:\n",
      "========================================\n",
      "Total complaints: 50\n",
      "Correct predictions: 35\n",
      "Accuracy: 70.00%\n"
     ]
    }
   ],
   "source": [
    "# Calculate accuracy\n",
    "correct_predictions = (df['expected_category'] == df['predicted_category']).sum()\n",
    "total_predictions = len(df)\n",
    "accuracy = correct_predictions / total_predictions\n",
    "\n",
    "print(f\"Classification Results:\")\n",
    "print(f\"=\" * 40)\n",
    "print(f\"Total complaints: {total_predictions}\")\n",
    "print(f\"Correct predictions: {correct_predictions}\")\n",
    "print(f\"Accuracy: {accuracy:.2%}\")\n"
   ]
  },
  {
   "cell_type": "markdown",
   "metadata": {},
   "source": [
    "## 7. Demonstrate Voting Classifier for Higher Accuracy\n",
    "\n",
    "Tagmatic's voting classifier runs multiple classifications and uses majority voting to improve accuracy."
   ]
  },
  {
   "cell_type": "code",
   "execution_count": 42,
   "metadata": {},
   "outputs": [
    {
     "name": "stdout",
     "output_type": "stream",
     "text": [
      "Classifying all complaints with voting classifier... This may take a few minutes. (more than before)\n",
      "Processed 10/50 complaints\n",
      "Processed 20/50 complaints\n",
      "Processed 30/50 complaints\n",
      "Processed 40/50 complaints\n",
      "Processed 50/50 complaints\n",
      "\n",
      "Classification complete!\n"
     ]
    }
   ],
   "source": [
    "# Classify all complaints using the voting classifier\n",
    "print(\"Classifying all complaints with voting classifier... This may take a few minutes. (more than before)\")\n",
    "\n",
    "predictions = []\n",
    "confidences = []\n",
    "\n",
    "for idx, row in df.iterrows():\n",
    "    try:\n",
    "        result = classifier.classify(\n",
    "            row['text'],\n",
    "            voting_classifier=True,\n",
    "            voting_rounds=3\n",
    "        )\n",
    "        predictions.append(result.category)\n",
    "        confidences.append(result.confidence)\n",
    "        \n",
    "        # Progress indicator\n",
    "        if (idx + 1) % 10 == 0:\n",
    "            print(f\"Processed {idx + 1}/{len(df)} complaints\")\n",
    "            \n",
    "    except Exception as e:\n",
    "        print(f\"Error classifying complaint {idx}: {e}\")\n",
    "        predictions.append(\"error\")\n",
    "        confidences.append(0.0)\n",
    "\n",
    "# Add predictions to dataframe\n",
    "df['predicted_category'] = predictions\n",
    "df['confidence'] = confidences\n",
    "\n",
    "print(\"\\nClassification complete!\")"
   ]
  },
  {
   "cell_type": "code",
   "execution_count": 44,
   "metadata": {},
   "outputs": [
    {
     "name": "stdout",
     "output_type": "stream",
     "text": [
      "Classification Results:\n",
      "========================================\n",
      "Total complaints: 50\n",
      "Correct predictions: 37\n",
      "Accuracy: 74.00%\n"
     ]
    }
   ],
   "source": [
    "# Calculate accuracy\n",
    "correct_predictions = (df['expected_category'] == df['predicted_category']).sum()\n",
    "total_predictions = len(df)\n",
    "accuracy = correct_predictions / total_predictions\n",
    "\n",
    "print(f\"Classification Results:\")\n",
    "print(f\"=\" * 40)\n",
    "print(f\"Total complaints: {total_predictions}\")\n",
    "print(f\"Correct predictions: {correct_predictions}\")\n",
    "print(f\"Accuracy: {accuracy:.2%}\")\n"
   ]
  },
  {
   "cell_type": "markdown",
   "metadata": {},
   "source": [
    "We got 4% higher accuracy with the voting classifier."
   ]
  },
  {
   "cell_type": "markdown",
   "metadata": {},
   "source": [
    "## 8. Real-World Application Example\n",
    "\n",
    "Let's simulate how this would work in a real customer service system."
   ]
  },
  {
   "cell_type": "code",
   "execution_count": 26,
   "metadata": {},
   "outputs": [
    {
     "name": "stdout",
     "output_type": "stream",
     "text": [
      "New Complaint Processing Result:\n",
      "========================================\n",
      "Complaint: \n",
      "I've been trying to resolve an issue with my credit report for months. \n",
      "There's an account showing ...\n",
      "Classification: identity_mix_up\n",
      "Routed to: Fraud Investigation Unit\n",
      "Priority: High\n",
      "SLA: 12 hours\n"
     ]
    }
   ],
   "source": [
    "def process_new_complaint(complaint_text: str) -> Dict:\n",
    "    \"\"\"\n",
    "    Simulate processing a new complaint in a customer service system\n",
    "    \"\"\"\n",
    "    # Classify the complaint\n",
    "    result = classifier.classify(\n",
    "        complaint_text, \n",
    "        voting_classifier=True, \n",
    "        voting_rounds=3\n",
    "    )\n",
    "    \n",
    "    # Define routing rules based on category\n",
    "    routing_rules = {\n",
    "        \"account_information_error\": {\n",
    "            \"department\": \"Credit Reporting Department\",\n",
    "            \"priority\": \"Medium\",\n",
    "            \"sla_hours\": 48\n",
    "        },\n",
    "        \"debt_not_owed\": {\n",
    "            \"department\": \"Debt Validation Team\", \n",
    "            \"priority\": \"High\",\n",
    "            \"sla_hours\": 24\n",
    "        },\n",
    "        \"account_status_wrong\": {\n",
    "            \"department\": \"Account Services\",\n",
    "            \"priority\": \"Medium\", \n",
    "            \"sla_hours\": 48\n",
    "        },\n",
    "        \"identity_mix_up\": {\n",
    "            \"department\": \"Fraud Investigation Unit\",\n",
    "            \"priority\": \"High\",\n",
    "            \"sla_hours\": 12\n",
    "        },\n",
    "        \"debt_already_paid\": {\n",
    "            \"department\": \"Payment Verification Team\",\n",
    "            \"priority\": \"High\",\n",
    "            \"sla_hours\": 24\n",
    "        }\n",
    "    }\n",
    "    \n",
    "    routing_info = routing_rules.get(result.category, {\n",
    "        \"department\": \"General Customer Service\",\n",
    "        \"priority\": \"Low\",\n",
    "        \"sla_hours\": 72\n",
    "    })\n",
    "    \n",
    "    return {\n",
    "        \"classification\": result.category,\n",
    "        \"confidence\": result.confidence,\n",
    "        \"routing\": routing_info,\n",
    "        \"complaint_text\": complaint_text[:100] + \"...\"\n",
    "    }\n",
    "\n",
    "# Test with a new complaint\n",
    "new_complaint = \"\"\"\n",
    "I've been trying to resolve an issue with my credit report for months. \n",
    "There's an account showing that I supposedly opened with XYZ Bank, \n",
    "but I have never had any relationship with this bank. I've never \n",
    "applied for credit with them, never received any cards or statements, \n",
    "and I've never even heard of them until I saw this on my credit report. \n",
    "This is clearly a case of identity theft or mixed files, and it's \n",
    "preventing me from getting approved for a mortgage.\n",
    "\"\"\"\n",
    "\n",
    "processing_result = process_new_complaint(new_complaint)\n",
    "\n",
    "print(\"New Complaint Processing Result:\")\n",
    "print(\"=\" * 40)\n",
    "print(f\"Complaint: {processing_result['complaint_text']}\")\n",
    "print(f\"Classification: {processing_result['classification']}\")\n",
    "print(f\"Routed to: {processing_result['routing']['department']}\")\n",
    "print(f\"Priority: {processing_result['routing']['priority']}\")\n",
    "print(f\"SLA: {processing_result['routing']['sla_hours']} hours\")"
   ]
  },
  {
   "cell_type": "markdown",
   "metadata": {},
   "source": [
    "## 9. Summary and Key Benefits\n",
    "\n",
    "This demonstration shows how Tagmatic can be used for real-world text classification tasks with minimal setup and high accuracy."
   ]
  }
 ],
 "metadata": {
  "kernelspec": {
   "display_name": ".venv",
   "language": "python",
   "name": "python3"
  },
  "language_info": {
   "codemirror_mode": {
    "name": "ipython",
    "version": 3
   },
   "file_extension": ".py",
   "mimetype": "text/x-python",
   "name": "python",
   "nbconvert_exporter": "python",
   "pygments_lexer": "ipython3",
   "version": "3.13.2"
  }
 },
 "nbformat": 4,
 "nbformat_minor": 4
}
