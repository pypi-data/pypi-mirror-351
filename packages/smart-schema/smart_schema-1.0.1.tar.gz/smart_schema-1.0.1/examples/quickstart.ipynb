{
 "cells": [
  {
   "cell_type": "markdown",
   "metadata": {},
   "source": [
    "# Smart Schema QuickStart Guide\n",
    "\n",
    "This notebook demonstrates how to use the Smart Schema package to generate Pydantic models from various data sources. Smart Schema provides intelligent schema inference and model generation capabilities, with optional OpenAI integration for enhanced type inference.\n",
    "\n",
    "## Installation\n",
    "\n",
    "First, let's install the required packages:"
   ]
  },
  {
   "cell_type": "code",
   "execution_count": null,
   "metadata": {},
   "outputs": [],
   "source": [
    "# !pip install -e ../"
   ]
  },
  {
   "cell_type": "markdown",
   "metadata": {},
   "source": [
    "## Basic Usage\n",
    "\n",
    "Let's start by importing the necessary modules:"
   ]
  },
  {
   "cell_type": "code",
   "execution_count": 2,
   "metadata": {},
   "outputs": [],
   "source": [
    "from smart_schema.core.model_generator import ModelGenerator\n",
    "import pandas as pd\n",
    "import numpy as np\n",
    "from datetime import datetime\n",
    "import json"
   ]
  },
  {
   "cell_type": "code",
   "execution_count": 3,
   "metadata": {},
   "outputs": [],
   "source": [
    "import os\n",
    "OPENAI_API_KEY = \"<API_KEY>\"\n",
    "os.environ[\"OPENAI_API_KEY\"] = OPENAI_API_KEY"
   ]
  },
  {
   "cell_type": "markdown",
   "metadata": {},
   "source": [
    "## 1. Generating Models from JSON Data\n",
    "\n",
    "### 1.1 Basic JSON Example (without OpenAI)\n",
    "\n",
    "Let's create a model from a simple JSON object:"
   ]
  },
  {
   "cell_type": "code",
   "execution_count": 4,
   "metadata": {},
   "outputs": [
    {
     "name": "stdout",
     "output_type": "stream",
     "text": [
      "Generated model:\n"
     ]
    },
    {
     "data": {
      "text/plain": [
       "{'$defs': {'CustomerInfo': {'properties': {'name': {'title': 'Name',\n",
       "     'type': 'string'},\n",
       "    'email': {'title': 'Email', 'type': 'string'},\n",
       "    'shipping_address': {'$ref': '#/$defs/ShippingAddress'}},\n",
       "   'required': ['name', 'email', 'shipping_address'],\n",
       "   'title': 'CustomerInfo',\n",
       "   'type': 'object'},\n",
       "  'ItemsItem': {'properties': {'product_id': {'title': 'Product Id',\n",
       "     'type': 'string'},\n",
       "    'quantity': {'title': 'Quantity', 'type': 'integer'},\n",
       "    'price': {'title': 'Price', 'type': 'number'},\n",
       "    'name': {'title': 'Name', 'type': 'string'}},\n",
       "   'required': ['product_id', 'quantity', 'price', 'name'],\n",
       "   'title': 'ItemsItem',\n",
       "   'type': 'object'},\n",
       "  'ShippingAddress': {'properties': {'street': {'title': 'Street',\n",
       "     'type': 'string'},\n",
       "    'city': {'title': 'City', 'type': 'string'},\n",
       "    'state': {'title': 'State', 'type': 'string'},\n",
       "    'zip': {'title': 'Zip', 'type': 'string'},\n",
       "    'country': {'title': 'Country', 'type': 'string'}},\n",
       "   'required': ['street', 'city', 'state', 'zip', 'country'],\n",
       "   'title': 'ShippingAddress',\n",
       "   'type': 'object'},\n",
       "  'ShippingDetails': {'properties': {'carrier': {'title': 'Carrier',\n",
       "     'type': 'string'},\n",
       "    'tracking_number': {'title': 'Tracking Number', 'type': 'string'},\n",
       "    'estimated_delivery': {'title': 'Estimated Delivery', 'type': 'string'}},\n",
       "   'required': ['carrier', 'tracking_number', 'estimated_delivery'],\n",
       "   'title': 'ShippingDetails',\n",
       "   'type': 'object'}},\n",
       " 'properties': {'order_id': {'title': 'Order Id', 'type': 'string'},\n",
       "  'customer_info': {'$ref': '#/$defs/CustomerInfo'},\n",
       "  'items': {'items': {'$ref': '#/$defs/ItemsItem'},\n",
       "   'title': 'Items',\n",
       "   'type': 'array'},\n",
       "  'total_amount': {'title': 'Total Amount', 'type': 'number'},\n",
       "  'payment_status': {'title': 'Payment Status', 'type': 'string'},\n",
       "  'shipping_details': {'$ref': '#/$defs/ShippingDetails'}},\n",
       " 'required': ['order_id',\n",
       "  'customer_info',\n",
       "  'items',\n",
       "  'total_amount',\n",
       "  'payment_status',\n",
       "  'shipping_details'],\n",
       " 'title': 'Ordermodel',\n",
       " 'type': 'object'}"
      ]
     },
     "execution_count": 4,
     "metadata": {},
     "output_type": "execute_result"
    }
   ],
   "source": [
    "# Create a sample JSON object\n",
    "order_data = {\n",
    "    \"order_id\": \"ORD-2024-001\",\n",
    "    \"customer_info\": {\n",
    "        \"name\": \"Alice Johnson\",\n",
    "        \"email\": \"alice.j@example.com\",\n",
    "        \"shipping_address\": {\n",
    "            \"street\": \"123 Main St\",\n",
    "            \"city\": \"San Francisco\",\n",
    "            \"state\": \"CA\",\n",
    "            \"zip\": \"94105\",\n",
    "            \"country\": \"USA\"\n",
    "        }\n",
    "    },\n",
    "    \"items\": [\n",
    "        {\n",
    "            \"product_id\": \"PRD-001\",\n",
    "            \"quantity\": 2,\n",
    "            \"price\": 299.99,\n",
    "            \"name\": \"Wireless Headphones\"\n",
    "        }\n",
    "    ],\n",
    "    \"total_amount\": 599.98,\n",
    "    \"payment_status\": \"completed\",\n",
    "    \"shipping_details\": {\n",
    "        \"carrier\": \"FedEx\",\n",
    "        \"tracking_number\": \"FDX123456789\",\n",
    "        \"estimated_delivery\": \"2024-03-25\"\n",
    "    }\n",
    "}\n",
    "\n",
    "\n",
    "# Create a model generator instance\n",
    "generator = ModelGenerator(name=\"OrderModel\")\n",
    "\n",
    "# Generate the model\n",
    "OrderModel = generator.from_json(order_data)\n",
    "\n",
    "# Test the model\n",
    "user = OrderModel(**order_data)\n",
    "print(\"Generated model:\")\n",
    "OrderModel.model_json_schema()"
   ]
  },
  {
   "cell_type": "markdown",
   "metadata": {},
   "source": [
    "### 1.2 JSON Example with OpenAI\n",
    "\n",
    "Now let's try the same example with OpenAI for enhanced type inference:"
   ]
  },
  {
   "cell_type": "code",
   "execution_count": 5,
   "metadata": {},
   "outputs": [
    {
     "name": "stdout",
     "output_type": "stream",
     "text": [
      "Generated model with OpenAI:\n"
     ]
    },
    {
     "data": {
      "text/plain": [
       "{'properties': {'user_id': {'description': 'Unique identifier for the user',\n",
       "   'title': 'User Id',\n",
       "   'type': 'integer'},\n",
       "  'username': {'description': 'Username chosen by the user',\n",
       "   'title': 'Username',\n",
       "   'type': 'string'},\n",
       "  'email': {'description': 'Email address of the user',\n",
       "   'title': 'Email',\n",
       "   'type': 'string'},\n",
       "  'age': {'description': 'Age of the user', 'title': 'Age', 'type': 'integer'},\n",
       "  'is_active': {'description': 'Indicates if the user account is active',\n",
       "   'title': 'Is Active',\n",
       "   'type': 'boolean'},\n",
       "  'last_login': {'anyOf': [{'format': 'date-time', 'type': 'string'},\n",
       "    {'type': 'null'}],\n",
       "   'description': \"Timestamp of the user's last login\",\n",
       "   'title': 'Last Login'}},\n",
       " 'required': ['user_id',\n",
       "  'username',\n",
       "  'email',\n",
       "  'age',\n",
       "  'is_active',\n",
       "  'last_login'],\n",
       " 'title': 'UserModelSmart',\n",
       " 'type': 'object'}"
      ]
     },
     "execution_count": 5,
     "metadata": {},
     "output_type": "execute_result"
    }
   ],
   "source": [
    "user_data = {\n",
    "    \"user_id\": 1001,\n",
    "    \"username\": \"jane_doe\",\n",
    "    \"email\": \"jane.doe@example.com\",\n",
    "    \"age\": 28,\n",
    "    \"is_active\": True,\n",
    "    \"last_login\": \"2024-03-20T14:30:00\"\n",
    "}\n",
    "\n",
    "# Create a model generator with smart inference\n",
    "generator = ModelGenerator(name=\"UserModelSmart\", smart_inference=True)\n",
    "\n",
    "# Generate the model using OpenAI\n",
    "UserModelSmart = generator.from_json(\n",
    "    user_data,\n",
    "    # api_key=OPENAI_API_KEY  # Or set OPENAI_API_KEY environment variable\n",
    ")\n",
    "\n",
    "# Test the model\n",
    "user = UserModelSmart(**user_data)\n",
    "print(\"Generated model with OpenAI:\")\n",
    "UserModelSmart.model_json_schema()"
   ]
  },
  {
   "cell_type": "markdown",
   "metadata": {},
   "source": [
    "## 2. Generating Models from DataFrames\n",
    "\n",
    "### 2.1 Basic DataFrame Example\n",
    "\n",
    "Let's create a model from a pandas DataFrame:"
   ]
  },
  {
   "cell_type": "code",
   "execution_count": 6,
   "metadata": {},
   "outputs": [
    {
     "name": "stdout",
     "output_type": "stream",
     "text": [
      "Generated model:\n"
     ]
    },
    {
     "data": {
      "text/plain": [
       "{'properties': {'product_id': {'title': 'Product Id', 'type': 'string'},\n",
       "  'name': {'title': 'Name', 'type': 'string'},\n",
       "  'price': {'title': 'Price', 'type': 'number'},\n",
       "  'in_stock': {'title': 'In Stock', 'type': 'boolean'},\n",
       "  'created_at': {'description': 'Datetime field for created_at',\n",
       "   'format': 'date-time',\n",
       "   'title': 'Created At',\n",
       "   'type': 'string'}},\n",
       " 'required': ['product_id', 'name', 'price', 'in_stock', 'created_at'],\n",
       " 'title': 'ProductModel',\n",
       " 'type': 'object'}"
      ]
     },
     "execution_count": 6,
     "metadata": {},
     "output_type": "execute_result"
    }
   ],
   "source": [
    "# Create a sample DataFrame\n",
    "df = pd.DataFrame({\n",
    "    'product_id': ['PRD-001', 'PRD-002', 'PRD-003'],\n",
    "    'name': ['Headphones', 'Mouse', 'Keyboard'],\n",
    "    'price': [299.99, 49.99, 89.99],\n",
    "    'in_stock': [True, True, False],\n",
    "    'created_at': pd.date_range(start='2024-01-01', periods=3)\n",
    "})\n",
    "\n",
    "# Create a model generator instance\n",
    "generator = ModelGenerator(name=\"ProductModel\")\n",
    "\n",
    "# Generate the model\n",
    "ProductModel = generator.from_dataframe(df)\n",
    "\n",
    "# Test the model\n",
    "product = ProductModel(**df.iloc[0].to_dict())\n",
    "print(\"Generated model:\")\n",
    "ProductModel.model_json_schema()"
   ]
  },
  {
   "cell_type": "markdown",
   "metadata": {},
   "source": [
    "### 2.2 DataFrame Example with DateTime Columns\n",
    "\n",
    "Let's try another example with explicit datetime column handling:"
   ]
  },
  {
   "cell_type": "code",
   "execution_count": 7,
   "metadata": {},
   "outputs": [
    {
     "name": "stdout",
     "output_type": "stream",
     "text": [
      "Generated model with datetime handling:\n"
     ]
    },
    {
     "data": {
      "text/plain": [
       "{'properties': {'product_id': {'title': 'Product Id', 'type': 'string'},\n",
       "  'name': {'title': 'Name', 'type': 'string'},\n",
       "  'price': {'title': 'Price', 'type': 'number'},\n",
       "  'in_stock': {'title': 'In Stock', 'type': 'boolean'},\n",
       "  'created_at': {'description': 'Datetime field for created_at',\n",
       "   'format': 'date-time',\n",
       "   'title': 'Created At',\n",
       "   'type': 'string'}},\n",
       " 'required': ['product_id', 'name', 'price', 'in_stock', 'created_at'],\n",
       " 'title': 'ProductModelWithDates',\n",
       " 'type': 'object'}"
      ]
     },
     "execution_count": 7,
     "metadata": {},
     "output_type": "execute_result"
    }
   ],
   "source": [
    "# Create a model generator instance\n",
    "generator = ModelGenerator(name=\"ProductModelWithDates\")\n",
    "\n",
    "# Generate the model with datetime columns specified\n",
    "ProductModelWithDates = generator.from_dataframe(\n",
    "    df,\n",
    "    datetime_columns=['created_at']\n",
    ")\n",
    "\n",
    "# Test the model\n",
    "product = ProductModelWithDates(**df.iloc[0].to_dict())\n",
    "print(\"Generated model with datetime handling:\")\n",
    "ProductModelWithDates.model_json_schema()"
   ]
  },
  {
   "cell_type": "markdown",
   "metadata": {},
   "source": [
    "## 3. Generating Models from Field Descriptions\n",
    "\n",
    "### 3.1 Basic Field Description Example\n",
    "\n",
    "Let's create a model from field descriptions:"
   ]
  },
  {
   "cell_type": "code",
   "execution_count": 8,
   "metadata": {},
   "outputs": [
    {
     "name": "stdout",
     "output_type": "stream",
     "text": [
      "Generated model:\n"
     ]
    },
    {
     "data": {
      "text/plain": [
       "{'properties': {'post_id': {'description': 'Unique identifier for the blog post, it is alphanumeric.',\n",
       "   'title': 'Post Id',\n",
       "   'type': 'string'},\n",
       "  'title': {'description': 'Blog post title',\n",
       "   'title': 'Title',\n",
       "   'type': 'string'},\n",
       "  'content': {'description': 'Full text content of the blog post',\n",
       "   'title': 'Content',\n",
       "   'type': 'string'},\n",
       "  'author_id': {'description': 'ID of the post author, it is alphanumeric.',\n",
       "   'title': 'Author Id',\n",
       "   'type': 'string'},\n",
       "  'published_at': {'anyOf': [{'format': 'date-time', 'type': 'string'},\n",
       "    {'type': 'null'}],\n",
       "   'description': 'Publication date and time',\n",
       "   'title': 'Published At'},\n",
       "  'tags': {'description': 'List of keywords associated with the post.',\n",
       "   'items': {'type': 'string'},\n",
       "   'title': 'Tags',\n",
       "   'type': 'array'},\n",
       "  'view_count': {'description': 'Number of times the post has been viewed',\n",
       "   'title': 'View Count',\n",
       "   'type': 'integer'}},\n",
       " 'required': ['post_id',\n",
       "  'title',\n",
       "  'content',\n",
       "  'author_id',\n",
       "  'published_at',\n",
       "  'tags',\n",
       "  'view_count'],\n",
       " 'title': 'BlogModel',\n",
       " 'type': 'object'}"
      ]
     },
     "execution_count": 8,
     "metadata": {},
     "output_type": "execute_result"
    }
   ],
   "source": [
    "# Define field descriptions\n",
    "blog_fields = [\n",
    "    {\n",
    "        \"name\": \"post_id\",\n",
    "        \"description\": \"Unique identifier for the blog post, it is alphanumeric.\",\n",
    "        \"nullable\": False\n",
    "    },\n",
    "    {\n",
    "        \"name\": \"title\",\n",
    "        \"description\": \"Blog post title\",\n",
    "        \"nullable\": False\n",
    "    },\n",
    "    {\n",
    "        \"name\": \"content\",\n",
    "        \"description\": \"Full text content of the blog post\",\n",
    "        \"nullable\": False\n",
    "    },\n",
    "    {\n",
    "        \"name\": \"author_id\",\n",
    "        \"description\": \"ID of the post author, it is alphanumeric.\",\n",
    "        \"nullable\": False\n",
    "    },\n",
    "    {\n",
    "        \"name\": \"published_at\",\n",
    "        \"description\": \"Publication date and time\",\n",
    "        \"nullable\": True\n",
    "    },\n",
    "    {\n",
    "        \"name\": \"tags\",\n",
    "        \"description\": \"List of keywords associated with the post.\",\n",
    "        \"nullable\": False\n",
    "    },\n",
    "    {\n",
    "        \"name\": \"view_count\",\n",
    "        \"description\": \"Number of times the post has been viewed\",\n",
    "        \"nullable\": False\n",
    "    }\n",
    "]\n",
    "\n",
    "# Create a model generator instance\n",
    "generator = ModelGenerator(name=\"BlogModel\", smart_inference=True, openai_model=\"gpt-4o\")\n",
    "\n",
    "# Generate the model\n",
    "BlogModel = generator.from_description(\n",
    "    blog_fields,\n",
    "    # api_key=OPENAI_API_KEY  # Or set OPENAI_API_KEY environment variable\n",
    ")\n",
    "\n",
    "# Test the model\n",
    "blog_post = {\n",
    "    \"post_id\": \"BLOG-2024-001\",\n",
    "    \"title\": \"Getting Started with Python Data Science\",\n",
    "    \"content\": \"In this comprehensive guide...\",\n",
    "    \"author_id\": \"AUTH-123\",\n",
    "    \"published_at\": \"2024-03-20T09:00:00\",\n",
    "    \"tags\": [\"python\", \"data-science\", \"tutorial\"],\n",
    "    \"view_count\": 1250\n",
    "}\n",
    "\n",
    "validated_post = BlogModel(**blog_post)\n",
    "print(\"Generated model:\")\n",
    "BlogModel.model_json_schema()"
   ]
  },
  {
   "cell_type": "markdown",
   "metadata": {},
   "source": [
    "### 3.2 Complex Nested Field Description Example\n",
    "\n",
    "Let's create a more complex model with nested structures:"
   ]
  },
  {
   "cell_type": "code",
   "execution_count": 9,
   "metadata": {},
   "outputs": [
    {
     "name": "stdout",
     "output_type": "stream",
     "text": [
      "Generated model:\n"
     ]
    },
    {
     "data": {
      "text/plain": [
       "{'properties': {'order_id': {'description': 'Unique identifier for the order, it is alphanumeric.',\n",
       "   'title': 'Order Id',\n",
       "   'type': 'string'},\n",
       "  'customer_info': {'description': 'Customer details including name, email, and shipping address, this is nested information.',\n",
       "   'title': 'Customer Info',\n",
       "   'type': 'object'},\n",
       "  'items': {'description': 'List of ordered items with quantity and price',\n",
       "   'items': {'type': 'object'},\n",
       "   'title': 'Items',\n",
       "   'type': 'array'},\n",
       "  'total_amount': {'description': 'Total order amount including tax and shipping',\n",
       "   'title': 'Total Amount',\n",
       "   'type': 'number'},\n",
       "  'payment_status': {'description': 'Current status of the payment (pending, completed, failed)',\n",
       "   'title': 'Payment Status',\n",
       "   'type': 'string'},\n",
       "  'shipping_details': {'anyOf': [{'type': 'object'}, {'type': 'null'}],\n",
       "   'description': 'Shipping information including carrier and tracking number, this is nested information.',\n",
       "   'title': 'Shipping Details'}},\n",
       " 'required': ['order_id',\n",
       "  'customer_info',\n",
       "  'items',\n",
       "  'total_amount',\n",
       "  'payment_status',\n",
       "  'shipping_details'],\n",
       " 'title': 'OrderModel',\n",
       " 'type': 'object'}"
      ]
     },
     "execution_count": 9,
     "metadata": {},
     "output_type": "execute_result"
    }
   ],
   "source": [
    "# Define field descriptions for a complex order model\n",
    "order_fields = [\n",
    "    {\n",
    "        \"name\": \"order_id\",\n",
    "        \"description\": \"Unique identifier for the order, it is alphanumeric.\",\n",
    "        \"nullable\": False\n",
    "    },\n",
    "    {\n",
    "        \"name\": \"customer_info\",\n",
    "        \"description\": \"Customer details including name, email, and shipping address, this is nested information.\",\n",
    "        \"nullable\": False\n",
    "    },\n",
    "    {\n",
    "        \"name\": \"items\",\n",
    "        \"description\": \"List of ordered items with quantity and price\",\n",
    "        \"nullable\": False\n",
    "    },\n",
    "    {\n",
    "        \"name\": \"total_amount\",\n",
    "        \"description\": \"Total order amount including tax and shipping\",\n",
    "        \"nullable\": False\n",
    "    },\n",
    "    {\n",
    "        \"name\": \"payment_status\",\n",
    "        \"description\": \"Current status of the payment (pending, completed, failed)\",\n",
    "        \"nullable\": False\n",
    "    },\n",
    "    {\n",
    "        \"name\": \"shipping_details\",\n",
    "        \"description\": \"Shipping information including carrier and tracking number, this is nested information.\",\n",
    "        \"nullable\": True\n",
    "    }\n",
    "]\n",
    "\n",
    "# Create a model generator instance\n",
    "generator = ModelGenerator(name=\"OrderModel\", smart_inference=True)\n",
    "\n",
    "# Generate the model\n",
    "OrderModel = generator.from_description(\n",
    "    order_fields,\n",
    "    # api_key=OPENAI_API_KEY  # Or set OPENAI_API_KEY environment variable\n",
    ")\n",
    "\n",
    "# Test the model\n",
    "order_data = {\n",
    "    \"order_id\": \"ORD-2024-001\",\n",
    "    \"customer_info\": {\n",
    "        \"name\": \"Alice Johnson\",\n",
    "        \"email\": \"alice.j@example.com\",\n",
    "        \"shipping_address\": {\n",
    "            \"street\": \"123 Main St\",\n",
    "            \"city\": \"San Francisco\",\n",
    "            \"state\": \"CA\",\n",
    "            \"zip\": \"94105\",\n",
    "            \"country\": \"USA\"\n",
    "        }\n",
    "    },\n",
    "    \"items\": [\n",
    "        {\n",
    "            \"product_id\": \"PRD-001\",\n",
    "            \"quantity\": 2,\n",
    "            \"price\": 299.99,\n",
    "            \"name\": \"Wireless Headphones\"\n",
    "        }\n",
    "    ],\n",
    "    \"total_amount\": 599.98,\n",
    "    \"payment_status\": \"completed\",\n",
    "    \"shipping_details\": {\n",
    "        \"carrier\": \"FedEx\",\n",
    "        \"tracking_number\": \"FDX123456789\",\n",
    "        \"estimated_delivery\": \"2024-03-25\"\n",
    "    }\n",
    "}\n",
    "\n",
    "validated_order = OrderModel(**order_data)\n",
    "print(\"Generated model:\")\n",
    "OrderModel.model_json_schema()"
   ]
  },
  {
   "cell_type": "markdown",
   "metadata": {},
   "source": [
    "## 4. Best Practices and Tips\n",
    "\n",
    "1. **OpenAI Integration**:\n",
    "   - Set your OpenAI API key in the environment variable `OPENAI_API_KEY`\n",
    "   - Use `smart_inference=True` for more accurate type inference\n",
    "   - Consider the cost implications of using OpenAI\n",
    "\n",
    "2. **DateTime Handling**:\n",
    "   - Always specify datetime columns when working with DataFrames\n",
    "   - Use ISO format for datetime strings\n",
    "\n",
    "3. **Field Descriptions**:\n",
    "   - Be specific in your field descriptions\n",
    "   - Include information about the expected format\n",
    "   - Specify whether fields are nullable\n",
    "\n",
    "4. **Model Validation**:\n",
    "   - Always test your generated models with sample data\n",
    "   - Handle validation errors appropriately\n",
    "   - Use the model's `model_json_schema()` method to inspect the generated schema\n",
    "\n",
    "5. **Performance Considerations**:\n",
    "   - For large datasets, consider using DataFrame-based generation\n",
    "   - Cache generated models when possible\n",
    "   - Use appropriate data types to minimize memory usage"
   ]
  },
  {
   "cell_type": "markdown",
   "metadata": {},
   "source": [
    "## 5. Common Use Cases\n",
    "\n",
    "1. **API Development**:\n",
    "   - Generate request/response models\n",
    "   - Validate incoming data\n",
    "   - Document API schemas\n",
    "\n",
    "2. **Data Processing**:\n",
    "   - Validate data before processing\n",
    "   - Ensure data consistency\n",
    "   - Handle data type conversions\n",
    "\n",
    "3. **Database Operations**:\n",
    "   - Generate models from database schemas\n",
    "   - Validate data before insertion\n",
    "   - Ensure type safety\n",
    "\n",
    "4. **Configuration Management**:\n",
    "   - Validate configuration files\n",
    "   - Ensure required fields are present\n",
    "   - Handle optional settings"
   ]
  }
 ],
 "metadata": {
  "kernelspec": {
   "display_name": ".venv",
   "language": "python",
   "name": "python3"
  },
  "language_info": {
   "codemirror_mode": {
    "name": "ipython",
    "version": 3
   },
   "file_extension": ".py",
   "mimetype": "text/x-python",
   "name": "python",
   "nbconvert_exporter": "python",
   "pygments_lexer": "ipython3",
   "version": "3.12.7"
  }
 },
 "nbformat": 4,
 "nbformat_minor": 4
}
