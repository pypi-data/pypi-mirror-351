{
 "cells": [
  {
   "cell_type": "code",
   "execution_count": 19,
   "id": "987f6b29-95b6-45b3-a8b2-60a852185b96",
   "metadata": {},
   "outputs": [],
   "source": [
    "from burr.core import State, ApplicationBuilder\n",
    "from burr.core.action import streaming_action\n",
    "\n",
    "RESULT = \"this is my response\"\n",
    "\n",
    "@streaming_action(reads=[], writes=[\"response\"])\n",
    "async def stream_output(state: State):\n",
    "    for word in RESULT.split(\" \"):\n",
    "        yield word, None\n",
    "    yield {\"response\" : RESULT}, state.update(response=RESULT)"
   ]
  },
  {
   "cell_type": "code",
   "execution_count": 20,
   "id": "2700263a-27c3-4145-8936-516c6cc2bcc9",
   "metadata": {},
   "outputs": [],
   "source": [
    "app = (\n",
    "    ApplicationBuilder()\n",
    "    .with_actions(stream_output)\n",
    "    .with_transitions()\n",
    "    .with_entrypoint(\"stream_output\")\n",
    "    .build()\n",
    ")"
   ]
  },
  {
   "cell_type": "code",
   "execution_count": 21,
   "id": "d929604e-0d08-4ae4-ad8f-f4de83b13053",
   "metadata": {},
   "outputs": [],
   "source": [
    "action, generator = await app.astream_result(halt_after=[\"stream_output\"])"
   ]
  },
  {
   "cell_type": "code",
   "execution_count": 22,
   "id": "802e7bdd-3eec-4deb-8ece-fbe87f787458",
   "metadata": {},
   "outputs": [
    {
     "data": {
      "text/plain": [
       "[b'this', b'is', b'my', b'response']"
      ]
     },
     "execution_count": 22,
     "metadata": {},
     "output_type": "execute_result"
    }
   ],
   "source": [
    "[item.encode('utf-8') async for item in generator]"
   ]
  },
  {
   "cell_type": "code",
   "execution_count": null,
   "id": "87edc57b-fa5d-4b9d-8168-f18e35134105",
   "metadata": {},
   "outputs": [],
   "source": []
  }
 ],
 "metadata": {
  "kernelspec": {
   "display_name": "Python 3 (ipykernel)",
   "language": "python",
   "name": "python3"
  },
  "language_info": {
   "codemirror_mode": {
    "name": "ipython",
    "version": 3
   },
   "file_extension": ".py",
   "mimetype": "text/x-python",
   "name": "python",
   "nbconvert_exporter": "python",
   "pygments_lexer": "ipython3",
   "version": "3.11.6"
  }
 },
 "nbformat": 4,
 "nbformat_minor": 5
}
