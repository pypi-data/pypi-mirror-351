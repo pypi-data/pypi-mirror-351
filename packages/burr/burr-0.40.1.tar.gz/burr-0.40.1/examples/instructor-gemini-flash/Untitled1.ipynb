{
 "cells": [
  {
   "cell_type": "code",
   "execution_count": 19,
   "id": "2383ba9c-933c-4dc0-96b6-2b531db1f6e0",
   "metadata": {},
   "outputs": [],
   "source": [
    "from burr.core import application, action, State, ApplicationBuilder, ApplicationContext"
   ]
  },
  {
   "cell_type": "code",
   "execution_count": 26,
   "id": "76a9fb00-14c4-4230-8bc1-3e887ec02d45",
   "metadata": {},
   "outputs": [],
   "source": [
    "class SpecificException(Exception):\n",
    "    pass\n",
    "    \n",
    "def _query(prompt):\n",
    "    raise SpecificException()\n",
    "    \n",
    "# @action(reads=[\"prompt\"], writes=[\"response\", \"error\"])\n",
    "# def respond(state: State) -> State:\n",
    "#     try:\n",
    "#         return state.update(response=_query(state[\"prompt\"]))\n",
    "#     except SpecificException as e:\n",
    "#         return state.update(error=e)\n",
    "\n",
    "\n",
    "@action(reads=[\"prompt\"], writes=[\"response\", \"error\"])\n",
    "def respond(state: State, __context: ApplicationContext) -> State:\n",
    "    print(__context.app_id, context.partition_key)\n",
    "    try:\n",
    "        return state.update(response=_query(state[\"prompt\"]), error=None)\n",
    "    except SpecificException as e:\n",
    "        return state.update(error=e, response=None)"
   ]
  },
  {
   "cell_type": "code",
   "execution_count": 27,
   "id": "57677557-ea05-4af8-be2d-0d8f304a5e39",
   "metadata": {},
   "outputs": [],
   "source": [
    "app = ApplicationBuilder().with_actions(respond).with_transitions().with_entrypoint(\"respond\").with_state(prompt=\"test\").build()"
   ]
  },
  {
   "cell_type": "code",
   "execution_count": 28,
   "id": "f821ebef-5afb-4179-9ec3-5da889fd3623",
   "metadata": {},
   "outputs": [
    {
     "name": "stdout",
     "output_type": "stream",
     "text": [
      "ApplicationContext(app_id='3ad9df3a-e854-4034-bbce-9fc906905b75', partition_key=None, sequence_id=0, tracker=None)\n"
     ]
    },
    {
     "data": {
      "text/plain": [
       "(respond: prompt -> response, error,\n",
       " {},\n",
       " {'prompt': 'test', '__SEQUENCE_ID': 0, 'error': SpecificException(), 'response': None, '__PRIOR_STEP': 'respond'})"
      ]
     },
     "execution_count": 28,
     "metadata": {},
     "output_type": "execute_result"
    }
   ],
   "source": [
    "app.run(halt_after=[\"respond\"])"
   ]
  },
  {
   "cell_type": "code",
   "execution_count": 17,
   "id": "adc8f99b-c533-48ea-a0fe-974548f6993a",
   "metadata": {},
   "outputs": [],
   "source": [
    "app.update_state(app.state.update(uid=app.uid, partition_key=app.partition_key))"
   ]
  },
  {
   "cell_type": "code",
   "execution_count": null,
   "id": "8e006140-78d4-4346-824e-44fa3e8cebdb",
   "metadata": {},
   "outputs": [],
   "source": []
  }
 ],
 "metadata": {
  "kernelspec": {
   "display_name": "Python 3 (ipykernel)",
   "language": "python",
   "name": "python3"
  },
  "language_info": {
   "codemirror_mode": {
    "name": "ipython",
    "version": 3
   },
   "file_extension": ".py",
   "mimetype": "text/x-python",
   "name": "python",
   "nbconvert_exporter": "python",
   "pygments_lexer": "ipython3",
   "version": "3.11.6"
  }
 },
 "nbformat": 4,
 "nbformat_minor": 5
}
