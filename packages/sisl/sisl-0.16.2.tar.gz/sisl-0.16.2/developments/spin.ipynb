{
 "cells": [
  {
   "cell_type": "code",
   "execution_count": null,
   "id": "158426a6-f7f2-40b4-96fc-087a3035af30",
   "metadata": {},
   "outputs": [],
   "source": [
    "from sympy import *\n",
    "\n",
    "init_printing(use_unicode=False, use_latex=False)"
   ]
  },
  {
   "cell_type": "code",
   "execution_count": null,
   "id": "e15cb269-f88e-4055-b714-bf8b48269d79",
   "metadata": {},
   "outputs": [],
   "source": [
    "# Create the Pauli matrices\n",
    "\n",
    "sigma_x = Matrix([[0, 1], [1, 0]])\n",
    "sigma_y = Matrix([[0, -I], [I, 0]])\n",
    "sigma_z = Matrix([[1, 0], [0, -1]])\n",
    "\n",
    "assert sigma_x**2 == eye(2)\n",
    "assert sigma_y**2 == eye(2)\n",
    "assert sigma_z**2 == eye(2)"
   ]
  },
  {
   "cell_type": "markdown",
   "id": "606b36c4-83b6-4188-a5fe-76555d258a3c",
   "metadata": {},
   "source": [
    "## Spin configurations\n",
    "\n",
    "Here we'll show different spin-configurations, and do various operations. First we'll define some generic operators that we'll apply.\n",
    "Then comes the different spin sections."
   ]
  },
  {
   "cell_type": "code",
   "execution_count": null,
   "id": "ac6a0b74-47e9-49b4-bafa-44b82753a652",
   "metadata": {},
   "outputs": [],
   "source": [
    "def equal(M1, M2):\n",
    "    return Eq(M1, M2).doit()\n",
    "\n",
    "\n",
    "def trs(H):\n",
    "    return sympify(sigma_y * H.conjugate() * sigma_y)\n",
    "\n",
    "\n",
    "def make_trs(H):\n",
    "    H_trs = sympify(H + trs(H))\n",
    "    return MatMul(H_trs, \"1/2\", evaluate=False)\n",
    "\n",
    "\n",
    "def do_trs(H):\n",
    "    H_trs = make_trs(H)\n",
    "    assert equal(H_trs, trs(H_trs))\n",
    "    return trs(H)"
   ]
  },
  {
   "cell_type": "markdown",
   "id": "1e37ffda-4266-4b6a-826e-9c8f565f6fb1",
   "metadata": {},
   "source": [
    "### Spin-polarized"
   ]
  },
  {
   "cell_type": "code",
   "execution_count": null,
   "id": "dbb4f576-1f72-41fd-9b17-a520aee09e6c",
   "metadata": {},
   "outputs": [],
   "source": [
    "uu, dd = symbols(\"m0 m1\")\n",
    "H_pol = Matrix([[uu, 0], [0, dd]])\n",
    "do_trs(H_pol)"
   ]
  },
  {
   "cell_type": "markdown",
   "id": "89f80956-a8d3-4b6c-9340-334c76d092a7",
   "metadata": {},
   "source": [
    "### Non-collinear"
   ]
  },
  {
   "cell_type": "code",
   "execution_count": null,
   "id": "e3b2d4e9-f8e4-4c50-b409-057926887d5b",
   "metadata": {},
   "outputs": [],
   "source": [
    "uu, dd, ud = symbols(\"m0 m1 m2\")\n",
    "H_nc = Matrix([[uu, ud], [ud.conjugate(), dd]])\n",
    "do_trs(H_nc)"
   ]
  },
  {
   "cell_type": "markdown",
   "id": "82080cf9-bf53-4b4d-af96-7ae53c0b3079",
   "metadata": {},
   "source": [
    "### Spin-orbit"
   ]
  },
  {
   "cell_type": "code",
   "execution_count": null,
   "id": "8bcf161a-0be1-493f-b6d5-806a0a00360f",
   "metadata": {},
   "outputs": [],
   "source": [
    "uu, dd, ud, du = symbols(\"m0 m1 m2 m3\")\n",
    "H_soc = Matrix([[uu, ud], [du, dd]])\n",
    "do_trs(H_soc)"
   ]
  },
  {
   "cell_type": "markdown",
   "id": "e762a0d9-98f8-4c35-b2d3-8fd7053b74bc",
   "metadata": {},
   "source": [
    "### Nambu (Delta matrix)"
   ]
  },
  {
   "cell_type": "code",
   "execution_count": null,
   "id": "d12089c2-7b11-41bc-92f1-b8cbbc4137b9",
   "metadata": {},
   "outputs": [],
   "source": [
    "S, T0, Tu, Td = symbols(\"S T0 Tu Td\")\n",
    "Delta = Matrix([[Tu, S + T0], [-S + T0, Td]])\n",
    "do_trs(Delta)"
   ]
  },
  {
   "cell_type": "code",
   "execution_count": null,
   "id": "fc6fb8bf-44b6-4a7f-ab8d-f76e0cfe4f21",
   "metadata": {},
   "outputs": [],
   "source": []
  }
 ],
 "metadata": {
  "kernelspec": {
   "display_name": "Python 3 (ipykernel)",
   "language": "python",
   "name": "python3"
  },
  "language_info": {
   "codemirror_mode": {
    "name": "ipython",
    "version": 3
   },
   "file_extension": ".py",
   "mimetype": "text/x-python",
   "name": "python",
   "nbconvert_exporter": "python",
   "pygments_lexer": "ipython3",
   "version": "3.11.7"
  }
 },
 "nbformat": 4,
 "nbformat_minor": 5
}
