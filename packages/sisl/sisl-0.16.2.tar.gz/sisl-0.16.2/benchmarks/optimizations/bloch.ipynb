{
 "cells": [
  {
   "cell_type": "markdown",
   "metadata": {},
   "source": [
    "Here we test and check the performance of the `Hk` implementation."
   ]
  },
  {
   "cell_type": "code",
   "execution_count": null,
   "metadata": {},
   "outputs": [],
   "source": [
    "import os\n",
    "from pathlib import Path\n",
    "import numpy as np\n",
    "import sisl as si\n",
    "\n",
    "files = Path(os.environ[\"SISL_FILES_TESTS\"])\n",
    "siesta = files / \"siesta\"\n",
    "\n",
    "N = 3"
   ]
  },
  {
   "cell_type": "code",
   "execution_count": null,
   "metadata": {},
   "outputs": [],
   "source": [
    "H = si.Hamiltonian.read(siesta / \"Si_pdos_k\" / \"Si_pdos.TSHS\")\n",
    "print(H.no, H.nnz)\n",
    "\n",
    "\n",
    "def get_n(a1, a2, a3):\n",
    "    bloch = [1] * 3\n",
    "    if a1 >= 0:\n",
    "        bloch[a1] = N\n",
    "    if a2 >= 0:\n",
    "        bloch[a2] = N\n",
    "    if a3 >= 0:\n",
    "        bloch[a3] = N\n",
    "    return si.physics.Bloch(*bloch)\n",
    "\n",
    "\n",
    "for ax1 in range(3):\n",
    "    for ax2 in range(ax1 + 1, 3):\n",
    "        for ax3 in range(ax2 + 1, 3):\n",
    "            bloch = get_n(ax1, ax2, ax3)\n",
    "            print(bloch)\n",
    "            %timeit bloch(H.Hk, [0] * 3, format=\"array\")\n",
    "            %timeit bloch(H.Hk, [0.1] * 3, format=\"array\")\n",
    "        bloch = get_n(ax1, ax2, -1)\n",
    "        print(bloch)\n",
    "        %timeit bloch(H.Hk, [0] * 3, format=\"array\")\n",
    "        %timeit bloch(H.Hk, [0.1] * 3, format=\"array\")\n",
    "    bloch = get_n(ax1, -1, -1)\n",
    "    print(bloch)\n",
    "    %timeit bloch(H.Hk, [0] * 3, format=\"array\")\n",
    "    %timeit bloch(H.Hk, [0.1] * 3, format=\"array\")"
   ]
  },
  {
   "cell_type": "code",
   "execution_count": null,
   "metadata": {},
   "outputs": [],
   "source": []
  }
 ],
 "metadata": {
  "kernelspec": {
   "display_name": "Python 3 (ipykernel)",
   "language": "python",
   "name": "python3"
  },
  "language_info": {
   "codemirror_mode": {
    "name": "ipython",
    "version": 3
   },
   "file_extension": ".py",
   "mimetype": "text/x-python",
   "name": "python",
   "nbconvert_exporter": "python",
   "pygments_lexer": "ipython3",
   "version": "3.11.7"
  }
 },
 "nbformat": 4,
 "nbformat_minor": 4
}
