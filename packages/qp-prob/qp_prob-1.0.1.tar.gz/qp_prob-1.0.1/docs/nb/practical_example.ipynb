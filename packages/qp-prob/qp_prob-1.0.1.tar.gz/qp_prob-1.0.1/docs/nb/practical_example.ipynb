{
 "cells": [
  {
   "cell_type": "markdown",
   "metadata": {},
   "source": [
    "# `qp` practical example\n",
    "\n",
    "_Alex Malz, Phil Marshall, Eric Charles_\n",
    "\n",
    "In this notebook we use the `qp` module to study some photo-Z PDFs."
   ]
  },
  {
   "cell_type": "markdown",
   "metadata": {},
   "source": [
    "## Setup, reading ensemble"
   ]
  },
  {
   "cell_type": "markdown",
   "metadata": {},
   "source": [
    "### Imports\n",
    "\n",
    "First let's import the packages we will need for this notebook"
   ]
  },
  {
   "cell_type": "code",
   "execution_count": 1,
   "metadata": {},
   "outputs": [],
   "source": [
    "import numpy as np\n",
    "import os\n",
    "\n",
    "import matplotlib\n",
    "matplotlib.use('Agg')\n",
    "import matplotlib.pyplot as plt\n",
    "%matplotlib inline\n",
    "\n",
    "import qp"
   ]
  },
  {
   "cell_type": "markdown",
   "metadata": {},
   "source": [
    "### Data files\n",
    "\n",
    "Now lets download the data files we will need, if we haven't already"
   ]
  },
  {
   "cell_type": "code",
   "execution_count": 2,
   "metadata": {},
   "outputs": [
    {
     "name": "stderr",
     "output_type": "stream",
     "text": [
      "  % Total    % Received % Xferd  Average Speed   Time    Time     Time  Current\n",
      "                                 Dload  Upload   Total   Spent    Left  Speed\n",
      "  0     0    0     0    0     0      0      0 --:--:--  0:00:01 --:--:--     0\n",
      "curl: (60) SSL certificate problem: unable to get local issuer certificate\n",
      "More details here: https://curl.se/docs/sslcerts.html\n",
      "\n",
      "curl failed to verify the legitimacy of the server and therefore could not\n",
      "establish a secure connection to it. To learn more about this situation and\n",
      "how to fix it, please visit the web page mentioned above.\n",
      "Warning: Got more output options than URLs\n"
     ]
    }
   ],
   "source": [
    "# base_url = 'https://slac.stanford.edu/~echarles/qp_example'\n",
    "# if not os.path.exists('qp_test_ensemble.hf5'):\n",
    "#     os.system('curl -o %s -OL %s/%s' % ('qp_test_ensemble.hf5', base_url, 'qp_test_ensemble.hf5'))"
   ]
  },
  {
   "cell_type": "markdown",
   "metadata": {},
   "source": [
    "### Reading ensemble\n",
    "\n",
    "Now we read the ensemble, note that we only need the name of the data file, the name of the metadata file is assumed."
   ]
  },
  {
   "cell_type": "code",
   "execution_count": 3,
   "metadata": {},
   "outputs": [],
   "source": [
    "#ens = qp.read('qp_test_ensemble.hf5')\n",
    "QP_DIR = os.path.abspath(os.path.dirname(qp.__file__))\n",
    "data_file = os.path.join(QP_DIR, 'data', 'test.hdf5')\n",
    "ens = qp.read(data_file)"
   ]
  },
  {
   "cell_type": "markdown",
   "metadata": {},
   "source": [
    "### Exploration\n",
    "\n",
    "This will show use that the "
   ]
  },
  {
   "cell_type": "code",
   "execution_count": 4,
   "metadata": {},
   "outputs": [
    {
     "name": "stdout",
     "output_type": "stream",
     "text": [
      "Ensemble =  <qp.ensemble.Ensemble object at 0x7fc2772aa510>\n",
      "Rep      =  mixmod\n",
      "NPDF     =  100\n",
      "Metadata =  {'pdf_name': array([b'mixmod'], dtype='|S6'), 'pdf_version': array([0])}\n"
     ]
    }
   ],
   "source": [
    "# Confirm that we have read the ensembles\n",
    "print(\"Ensemble = \", ens)\n",
    "# Print some simple information about the ensemble\n",
    "print(\"Rep      = \", ens.gen_class.name)\n",
    "print(\"NPDF     = \", ens.npdf)\n",
    "print(\"Metadata = \", ens.metadata())"
   ]
  },
  {
   "cell_type": "markdown",
   "metadata": {},
   "source": [
    "## Plotting Example\n",
    "\n",
    "Now we are going to plot some PDFs from the ensemble\n",
    "Note that the first call to the `plot` specifies the x-axis limits, but does not specify the key (i.e., which PDF in the ensemble), so that defaults to 0 (i.e., the first PDF)."
   ]
  },
  {
   "cell_type": "code",
   "execution_count": 5,
   "metadata": {},
   "outputs": [
    {
     "ename": "IndexError",
     "evalue": "index 1300 is out of bounds for axis 0 with size 100",
     "output_type": "error",
     "traceback": [
      "\u001b[0;31m---------------------------------------------------------------------------\u001b[0m",
      "\u001b[0;31mIndexError\u001b[0m                                Traceback (most recent call last)",
      "Cell \u001b[0;32mIn[5], line 3\u001b[0m\n\u001b[1;32m      1\u001b[0m axes \u001b[38;5;241m=\u001b[39m ens\u001b[38;5;241m.\u001b[39mplot(xlim\u001b[38;5;241m=\u001b[39m(\u001b[38;5;241m0.\u001b[39m, \u001b[38;5;241m0.5\u001b[39m), label\u001b[38;5;241m=\u001b[39m\u001b[38;5;124m\"\u001b[39m\u001b[38;5;124mPDF 0\u001b[39m\u001b[38;5;124m\"\u001b[39m)\n\u001b[1;32m      2\u001b[0m _ \u001b[38;5;241m=\u001b[39m ens\u001b[38;5;241m.\u001b[39mplot(key\u001b[38;5;241m=\u001b[39m\u001b[38;5;241m1\u001b[39m, axes\u001b[38;5;241m=\u001b[39maxes, label\u001b[38;5;241m=\u001b[39m\u001b[38;5;124m\"\u001b[39m\u001b[38;5;124mPDF 1\u001b[39m\u001b[38;5;124m\"\u001b[39m)\n\u001b[0;32m----> 3\u001b[0m _ \u001b[38;5;241m=\u001b[39m \u001b[43mens\u001b[49m\u001b[38;5;241;43m.\u001b[39;49m\u001b[43mplot\u001b[49m\u001b[43m(\u001b[49m\u001b[43mkey\u001b[49m\u001b[38;5;241;43m=\u001b[39;49m\u001b[38;5;241;43m1300\u001b[39;49m\u001b[43m,\u001b[49m\u001b[43m \u001b[49m\u001b[43maxes\u001b[49m\u001b[38;5;241;43m=\u001b[39;49m\u001b[43maxes\u001b[49m\u001b[43m,\u001b[49m\u001b[43m \u001b[49m\u001b[43mlabel\u001b[49m\u001b[38;5;241;43m=\u001b[39;49m\u001b[38;5;124;43m\"\u001b[39;49m\u001b[38;5;124;43mPDF 1300\u001b[39;49m\u001b[38;5;124;43m\"\u001b[39;49m\u001b[43m)\u001b[49m\n\u001b[1;32m      4\u001b[0m legend \u001b[38;5;241m=\u001b[39m axes\u001b[38;5;241m.\u001b[39mfigure\u001b[38;5;241m.\u001b[39mlegend()\n",
      "File \u001b[0;32m~/code/desc-rail/forked/qp/src/qp/ensemble.py:620\u001b[0m, in \u001b[0;36mEnsemble.plot\u001b[0;34m(self, key, **kwargs)\u001b[0m\n\u001b[1;32m    612\u001b[0m \u001b[38;5;28;01mdef\u001b[39;00m \u001b[38;5;21mplot\u001b[39m(\u001b[38;5;28mself\u001b[39m, key\u001b[38;5;241m=\u001b[39m\u001b[38;5;241m0\u001b[39m, \u001b[38;5;241m*\u001b[39m\u001b[38;5;241m*\u001b[39mkwargs):\n\u001b[1;32m    613\u001b[0m \u001b[38;5;250m    \u001b[39m\u001b[38;5;124;03m\"\"\"Plot the pdf as a curve\u001b[39;00m\n\u001b[1;32m    614\u001b[0m \n\u001b[1;32m    615\u001b[0m \u001b[38;5;124;03m    Parameters\u001b[39;00m\n\u001b[0;32m   (...)\u001b[0m\n\u001b[1;32m    618\u001b[0m \u001b[38;5;124;03m        Which PDF or PDFs from this ensemble to plot\u001b[39;00m\n\u001b[1;32m    619\u001b[0m \u001b[38;5;124;03m    \"\"\"\u001b[39;00m\n\u001b[0;32m--> 620\u001b[0m     \u001b[38;5;28;01mreturn\u001b[39;00m \u001b[38;5;28mself\u001b[39m\u001b[38;5;241m.\u001b[39m_gen_class\u001b[38;5;241m.\u001b[39mplot(\u001b[38;5;28;43mself\u001b[39;49m\u001b[43m[\u001b[49m\u001b[43mkey\u001b[49m\u001b[43m]\u001b[49m, \u001b[38;5;241m*\u001b[39m\u001b[38;5;241m*\u001b[39mkwargs)\n",
      "File \u001b[0;32m~/code/desc-rail/forked/qp/src/qp/ensemble.py:65\u001b[0m, in \u001b[0;36mEnsemble.__getitem__\u001b[0;34m(self, key)\u001b[0m\n\u001b[1;32m     63\u001b[0m \u001b[38;5;28;01mfor\u001b[39;00m k, v \u001b[38;5;129;01min\u001b[39;00m md\u001b[38;5;241m.\u001b[39mitems():\n\u001b[1;32m     64\u001b[0m     red_data[k] \u001b[38;5;241m=\u001b[39m np\u001b[38;5;241m.\u001b[39msqueeze(v)\n\u001b[0;32m---> 65\u001b[0m dd \u001b[38;5;241m=\u001b[39m \u001b[43mslice_dict\u001b[49m\u001b[43m(\u001b[49m\u001b[38;5;28;43mself\u001b[39;49m\u001b[38;5;241;43m.\u001b[39;49m\u001b[43mobjdata\u001b[49m\u001b[43m(\u001b[49m\u001b[43m)\u001b[49m\u001b[43m,\u001b[49m\u001b[43m \u001b[49m\u001b[43mkey\u001b[49m\u001b[43m)\u001b[49m\n\u001b[1;32m     66\u001b[0m \u001b[38;5;28;01mfor\u001b[39;00m k, v \u001b[38;5;129;01min\u001b[39;00m dd\u001b[38;5;241m.\u001b[39mitems():\n\u001b[1;32m     67\u001b[0m     \u001b[38;5;28;01mif\u001b[39;00m \u001b[38;5;28mlen\u001b[39m(np\u001b[38;5;241m.\u001b[39mshape(v)) \u001b[38;5;241m<\u001b[39m \u001b[38;5;241m2\u001b[39m:\n",
      "File \u001b[0;32m~/code/desc-rail/forked/qp/src/qp/dict_utils.py:130\u001b[0m, in \u001b[0;36mslice_dict\u001b[0;34m(in_dict, subslice)\u001b[0m\n\u001b[1;32m    128\u001b[0m \u001b[38;5;28;01mfor\u001b[39;00m key, val \u001b[38;5;129;01min\u001b[39;00m in_dict\u001b[38;5;241m.\u001b[39mitems():\n\u001b[1;32m    129\u001b[0m     \u001b[38;5;28;01mtry\u001b[39;00m:\n\u001b[0;32m--> 130\u001b[0m         out_dict[key] \u001b[38;5;241m=\u001b[39m \u001b[43mval\u001b[49m\u001b[43m[\u001b[49m\u001b[43msubslice\u001b[49m\u001b[43m]\u001b[49m\n\u001b[1;32m    131\u001b[0m     \u001b[38;5;28;01mexcept\u001b[39;00m (\u001b[38;5;167;01mKeyError\u001b[39;00m, \u001b[38;5;167;01mTypeError\u001b[39;00m):\n\u001b[1;32m    132\u001b[0m         out_dict[key] \u001b[38;5;241m=\u001b[39m val\n",
      "\u001b[0;31mIndexError\u001b[0m: index 1300 is out of bounds for axis 0 with size 100"
     ]
    },
    {
     "data": {
      "image/png": "[encoded data removed]",
      "text/plain": [
       "<Figure size 640x480 with 1 Axes>"
      ]
     },
     "metadata": {},
     "output_type": "display_data"
    }
   ],
   "source": [
    "axes = ens.plot(xlim=(0., 0.5), label=\"PDF 0\")\n",
    "_ = ens.plot(key=1, axes=axes, label=\"PDF 1\")\n",
    "_ = ens.plot(key=1300, axes=axes, label=\"PDF 1300\")\n",
    "legend = axes.figure.legend()"
   ]
  },
  {
   "cell_type": "markdown",
   "metadata": {},
   "source": [
    "## Timing benchmarks\n",
    "\n",
    "Now we are going to extract some information from the ensemble and time how long it takes to do so"
   ]
  },
  {
   "cell_type": "code",
   "execution_count": null,
   "metadata": {},
   "outputs": [],
   "source": [
    "# These are the grid points and quantiles at which we will extract values\n",
    "test_xvals = ens.gen_obj.xvals\n",
    "test_quantiles = np.linspace(0, 1, 51)"
   ]
  },
  {
   "cell_type": "code",
   "execution_count": null,
   "metadata": {},
   "outputs": [],
   "source": [
    "%%time\n",
    "# Time the pdf evaluation for 20000 PDFs\n",
    "pdfs = ens.pdf(test_xvals)"
   ]
  },
  {
   "cell_type": "code",
   "execution_count": null,
   "metadata": {},
   "outputs": [],
   "source": [
    "%%time\n",
    "# Time the cdf (Cumulative distribution function) evaluation for 20000 PDFs\n",
    "cdfs = ens.cdf(test_xvals)"
   ]
  },
  {
   "cell_type": "code",
   "execution_count": null,
   "metadata": {},
   "outputs": [],
   "source": [
    "%%time\n",
    "ppfs = ens.ppf(test_quantiles)"
   ]
  },
  {
   "cell_type": "code",
   "execution_count": null,
   "metadata": {},
   "outputs": [],
   "source": [
    "%%time\n",
    "# Time the sf (survival fraction, 1-cdf) evaluation for 20000 PDFs\n",
    "sfs = ens.sf(test_xvals)"
   ]
  },
  {
   "cell_type": "code",
   "execution_count": null,
   "metadata": {},
   "outputs": [],
   "source": [
    "%%time\n",
    "# Time the isf (inverse survival fraction) evaluation for 20000 PDFs\n",
    "isfs = ens.isf(test_quantiles)"
   ]
  },
  {
   "cell_type": "code",
   "execution_count": null,
   "metadata": {},
   "outputs": [],
   "source": [
    "%%time\n",
    "# Time the generation of 100 samples for each of the 20000 PDFs\n",
    "samples = ens.rvs(size=100)"
   ]
  },
  {
   "cell_type": "markdown",
   "metadata": {},
   "source": [
    "### Changing the grid for the representation"
   ]
  },
  {
   "cell_type": "code",
   "execution_count": null,
   "metadata": {},
   "outputs": [],
   "source": [
    "%%time\n",
    "# Convert to a grid using 51 grid points\n",
    "ens_g51 = qp.convert(ens, 'interp', xvals=np.linspace(0, 3, 51))"
   ]
  },
  {
   "cell_type": "code",
   "execution_count": null,
   "metadata": {
    "scrolled": true
   },
   "outputs": [],
   "source": [
    "%%time\n",
    "# Convert to a grid using 21 grid points\n",
    "ens_g21 = qp.convert(ens, 'interp', xvals=np.linspace(0, 1, 21))"
   ]
  },
  {
   "cell_type": "code",
   "execution_count": null,
   "metadata": {},
   "outputs": [],
   "source": [
    "key = 0\n",
    "axes_g = ens.plot(key, xlim=(0, 0.5), label=\"orig\")\n",
    "_ = ens_g51.plot(key, axes=axes_g, label=\"g51\")\n",
    "_ = ens_g21.plot(key, axes=axes_g, label=\"g21\")\n",
    "leg_g = axes_g.figure.legend()"
   ]
  },
  {
   "cell_type": "markdown",
   "metadata": {},
   "source": [
    "### Conversion to other represenations"
   ]
  },
  {
   "cell_type": "markdown",
   "metadata": {},
   "source": [
    "####  quantile representaion"
   ]
  },
  {
   "cell_type": "code",
   "execution_count": null,
   "metadata": {
    "scrolled": true
   },
   "outputs": [],
   "source": [
    "%%time\n",
    "# Convert using 51 quantiles\n",
    "ens_q51 = qp.convert(ens, 'quant', quants=np.linspace(0.01, 0.99, 51))"
   ]
  },
  {
   "cell_type": "code",
   "execution_count": null,
   "metadata": {},
   "outputs": [],
   "source": [
    "%%time\n",
    "# Convert using 21 quantiles\n",
    "ens_q21 = qp.convert(ens, 'quant', quants=np.linspace(0.01, 0.99, 21))"
   ]
  },
  {
   "cell_type": "code",
   "execution_count": null,
   "metadata": {},
   "outputs": [],
   "source": [
    "key = 0\n",
    "axes_q = ens.plot(key, xlim=(0, 0.5), label=\"orig\")\n",
    "_ = ens_q51.plot(key, axes=axes_q, label=\"q51\")\n",
    "_ = ens_q21.plot(key, axes=axes_q, label=\"q21\")\n",
    "leg_q = axes_q.figure.legend()"
   ]
  },
  {
   "cell_type": "markdown",
   "metadata": {},
   "source": [
    "#### Histogram representation"
   ]
  },
  {
   "cell_type": "code",
   "execution_count": null,
   "metadata": {},
   "outputs": [],
   "source": [
    "%%time\n",
    "# Convert to a histogram using 51 bins\n",
    "ens_h51 = qp.convert(ens, 'hist', bins=np.linspace(0, 3.0, 51))"
   ]
  },
  {
   "cell_type": "code",
   "execution_count": null,
   "metadata": {},
   "outputs": [],
   "source": [
    "%%time\n",
    "# Convert to a histogram using 21 bins\n",
    "ens_h21 = qp.convert(ens, 'hist', bins=np.linspace(0, 3.0, 21))"
   ]
  },
  {
   "cell_type": "code",
   "execution_count": null,
   "metadata": {},
   "outputs": [],
   "source": [
    "key = 0\n",
    "axes_h = ens.plot(key, xlim=(0, 0.5), label=\"orig\")\n",
    "_ = ens_h51.plot(key, axes=axes_h, label=\"h51\")\n",
    "_ = ens_h21.plot(key, axes=axes_h, label=\"h21\")\n",
    "leg_h = axes_h.figure.legend()"
   ]
  },
  {
   "cell_type": "markdown",
   "metadata": {},
   "source": [
    "### Other representations\n",
    "\n",
    "`qp` also includes spline-based and Gaussian mixture represenations.   The conversion to these forms much slower, so we will first reduce the base ensemble from 20000 PDFs to 100 PDFs"
   ]
  },
  {
   "cell_type": "code",
   "execution_count": null,
   "metadata": {},
   "outputs": [],
   "source": [
    "ens_red = ens[np.arange(100)]\n",
    "print(\"Reduced ensemble has %i PDFs\" % (ens_red.npdf))"
   ]
  },
  {
   "cell_type": "markdown",
   "metadata": {},
   "source": [
    "#### Spline representation\n",
    "\n",
    "We can convert to the spline representation a few different ways.  This particular method specifies that we should evaluate each PDF at a grid of points and then use those to construct the spline represenation.  We do this for 2 different grids.  Note how much slower this conversion function is that the ones above."
   ]
  },
  {
   "cell_type": "code",
   "execution_count": null,
   "metadata": {},
   "outputs": [],
   "source": [
    "%%time\n",
    "# Convert to a histogram using 51 grid points\n",
    "ens_s51 = qp.convert(ens_red, 'spline', xvals=np.linspace(0, 3.0, 51), method=\"xy\")"
   ]
  },
  {
   "cell_type": "code",
   "execution_count": null,
   "metadata": {},
   "outputs": [],
   "source": [
    "ens_s21 = qp.convert(ens_red, 'spline', xvals=np.linspace(0, 3.0, 21), method=\"xy\")"
   ]
  },
  {
   "cell_type": "code",
   "execution_count": null,
   "metadata": {},
   "outputs": [],
   "source": [
    "key = 0\n",
    "axes_s = ens_red.plot(key, xlim=(0, 0.5), label=\"orig\")\n",
    "_ = ens_s51.plot(key, axes=axes_s, label=\"s51\")\n",
    "_ = ens_s21.plot(key, axes=axes_s, label=\"s21\")\n",
    "leg_s = axes_s.figure.legend()"
   ]
  },
  {
   "cell_type": "markdown",
   "metadata": {},
   "source": [
    "#### Gaussian mixture model"
   ]
  },
  {
   "cell_type": "code",
   "execution_count": null,
   "metadata": {},
   "outputs": [],
   "source": [
    "%%time\n",
    "# Convert to a gaussian mixture using 301 sample points and 3 components\n",
    "ens_m3 = qp.convert(ens_red, 'mixmod', xvals=np.linspace(0, 3.0, 301), ncomps=3)"
   ]
  },
  {
   "cell_type": "code",
   "execution_count": null,
   "metadata": {},
   "outputs": [],
   "source": [
    "%%time\n",
    "# Convert to a gaussian mixture using 301 sample points and 3 components\n",
    "ens_m5 = qp.convert(ens_red, 'mixmod', xvals=np.linspace(0, 3.0, 301), ncomps=5)"
   ]
  },
  {
   "cell_type": "code",
   "execution_count": null,
   "metadata": {},
   "outputs": [],
   "source": [
    "key = 0\n",
    "axes_m = ens_red.plot(key, xlim=(0, 0.5), label=\"orig\")\n",
    "_ = ens_m3.plot(key, axes=axes_m, label=\"m3\")\n",
    "_ = ens_m5.plot(key, axes=axes_m, label=\"m5\")\n",
    "leg_m = axes_m.figure.legend()"
   ]
  },
  {
   "cell_type": "code",
   "execution_count": null,
   "metadata": {},
   "outputs": [],
   "source": [
    "key = 1\n",
    "axes_m1 = ens_red.plot(key, xlim=(0, 0.5), label=\"orig\")\n",
    "_ = ens_m3.plot(key, axes=axes_m1, label=\"m3\")\n",
    "_ = ens_m5.plot(key, axes=axes_m1, label=\"m5\")\n",
    "leg_m1 = axes_m1.figure.legend()"
   ]
  },
  {
   "cell_type": "code",
   "execution_count": null,
   "metadata": {},
   "outputs": [],
   "source": []
  }
 ],
 "metadata": {
  "kernelspec": {
   "display_name": "qp",
   "language": "python",
   "name": "python3"
  },
  "language_info": {
   "codemirror_mode": {
    "name": "ipython",
    "version": 3
   },
   "file_extension": ".py",
   "mimetype": "text/x-python",
   "name": "python",
   "nbconvert_exporter": "python",
   "pygments_lexer": "ipython3",
   "version": "3.12.7"
  }
 },
 "nbformat": 4,
 "nbformat_minor": 4
}
