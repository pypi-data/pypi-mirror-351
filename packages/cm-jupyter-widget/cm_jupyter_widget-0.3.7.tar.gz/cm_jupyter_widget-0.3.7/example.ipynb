{
 "cells": [
  {
   "cell_type": "code",
   "execution_count": 33,
   "id": "1e314599-2e49-4663-b3d8-78e6a6a2cf67",
   "metadata": {
    "scrolled": true
   },
   "outputs": [
    {
     "data": {
      "application/vnd.jupyter.widget-view+json": {
       "model_id": "8b978db5ce3d40cb889526bd819d508a",
       "version_major": 2,
       "version_minor": 1
      },
      "text/plain": [
       "CleverMapsWidget(options={'interactivity': {'afterClick': False}, 'fullScreenButton': {'enabled': False}, 'stu…"
      ]
     },
     "execution_count": 33,
     "metadata": {},
     "output_type": "execute_result"
    }
   ],
   "source": [
    "from cm_jupyter_widget import widget\n",
    "\n",
    "view_url = 'fpnjedoibmsj5uld/map/exposure_index_view'\n",
    "\n",
    "options = {\n",
    "    'interactivity': {\n",
    "        'afterClick': False,\n",
    "    },\n",
    "    'fullScreenButton': {\n",
    "        'enabled': False,\n",
    "    },\n",
    "    'studioLinkButton': {\n",
    "        'enabled': False\n",
    "    },\n",
    "    'componentSettings': {\n",
    "        'controls': {\n",
    "            'menu': False\n",
    "        },\n",
    "        'tools': {\n",
    "            'measure': False,\n",
    "            'search': False,\n",
    "            'compare': False,\n",
    "            'filters': False\n",
    "        },\n",
    "        'infoBox': {\n",
    "            'viewSwitch': False,\n",
    "            'defaultExpanded': False,\n",
    "            'share': False,\n",
    "            'bookmark': False,\n",
    "            'export': False,\n",
    "            'globalFilters': False\n",
    "        }\n",
    "    }\n",
    "}\n",
    "\n",
    "widget.CleverMapsWidget(view_url=view_url, options=options)"
   ]
  },
  {
   "cell_type": "code",
   "execution_count": null,
   "id": "7831ba99-2b0b-4ce8-bebe-34fa3ec2d23a",
   "metadata": {},
   "outputs": [],
   "source": []
  },
  {
   "cell_type": "code",
   "execution_count": null,
   "id": "9e22fb11-2ec4-431c-b629-e0daebeadf24",
   "metadata": {},
   "outputs": [],
   "source": []
  }
 ],
 "metadata": {
  "kernelspec": {
   "display_name": "Python 3 (ipykernel)",
   "language": "python",
   "name": "python3"
  },
  "language_info": {
   "codemirror_mode": {
    "name": "ipython",
    "version": 3
   },
   "file_extension": ".py",
   "mimetype": "text/x-python",
   "name": "python",
   "nbconvert_exporter": "python",
   "pygments_lexer": "ipython3",
   "version": "3.12.4"
  }
 },
 "nbformat": 4,
 "nbformat_minor": 5
}
