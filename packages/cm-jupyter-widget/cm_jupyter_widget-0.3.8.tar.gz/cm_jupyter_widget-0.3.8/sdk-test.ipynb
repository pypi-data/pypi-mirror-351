{
 "cells": [
  {
   "cell_type": "code",
   "execution_count": null,
   "id": "Hbol",
   "metadata": {},
   "outputs": [
    {
     "data": {
      "text/html": [
       "<marimo-ui-element object-id='Hbol-0' random-id='78668d00-e8d6-dfcb-a6cb-69dc7422d6ff'><marimo-anywidget data-initial-value='{&quot;command&quot;: {}, &quot;options&quot;: &quot;{&#92;&quot;componentSettings&#92;&quot;: {&#92;&quot;infoBox&#92;&quot;: {&#92;&quot;defaultExpanded&#92;&quot;: false}}}&quot;, &quot;view_url&quot;: &quot;fpnjedoibmsj5uld/map/exposure_index_view&quot;}' data-label='null' data-js-url='&quot;./@file/1918-198495-FVceTXcX.js&quot;' data-js-hash='&quot;f46ba4b9dfc1d36a54433f8d35898269&quot;' data-css='&quot;#frameDiv {&#92;n    height: 720px;&#92;n    width: 1280px;&#92;n}&quot;' data-buffer-paths='[]'></marimo-anywidget></marimo-ui-element>"
      ]
     },
     "metadata": {},
     "output_type": "display_data"
    }
   ],
   "source": [
    "import marimo as mo\n",
    "import json\n",
    "from cm_jupyter_widget.widget import CleverMapsWidget\n",
    "\n",
    "# 1. Your public (or token-protected) CleverMaps “view” URL\n",
    "VIEW = \"fpnjedoibmsj5uld/map/exposure_index_view\"\n",
    "# 2. Optional SDK options – see CleverMaps docs\n",
    "opts = {\n",
    "    \"componentSettings\": {\n",
    "        \"infoBox\": {\n",
    "        \"defaultExpanded\": False,\n",
    "    }\n",
    "    }\n",
    "}\n",
    "json_str = json.dumps(opts)\n",
    "widget = CleverMapsWidget(view_url=VIEW, options=json_str)\n",
    "\n",
    "# marimo displays an AnyWidget via mo.ui.anywidget\n",
    "mo.ui.anywidget(widget)\n"
   ]
  },
  {
   "cell_type": "code",
   "execution_count": null,
   "id": "MJUe",
   "metadata": {},
   "outputs": [
    {
     "data": {
      "text/html": [
       "<marimo-ui-element object-id='MJUe-0' random-id='216c9422-5858-d805-a0d7-2e5d62e2b911'><marimo-button data-initial-value='0' data-label='&quot;&lt;span class=&#92;&quot;markdown prose dark:prose-invert&#92;&quot;&gt;&lt;span class=&#92;&quot;paragraph&#92;&quot;&gt;Open export modal&lt;/span&gt;&lt;/span&gt;&quot;' data-kind='&quot;neutral&quot;' data-disabled='false' data-full-width='false'></marimo-button></marimo-ui-element>"
      ]
     },
     "metadata": {},
     "output_type": "display_data"
    }
   ],
   "source": [
    "def on_open_export_clicked(b):\n",
    "    widget.open_export_modal()\n",
    "\n",
    "mo.ui.button(label=\"Open export modal\", on_click=on_open_export_clicked)"
   ]
  },
  {
   "cell_type": "code",
   "execution_count": null,
   "id": "vblA",
   "metadata": {},
   "outputs": [
    {
     "data": {
      "text/html": [
       "<marimo-ui-element object-id='vblA-0' random-id='fecb4e8b-be73-3cb9-c3c1-10b94bef1b89'><marimo-button data-initial-value='0' data-label='&quot;&lt;span class=&#92;&quot;markdown prose dark:prose-invert&#92;&quot;&gt;&lt;span class=&#92;&quot;paragraph&#92;&quot;&gt;Toggle fit all&lt;/span&gt;&lt;/span&gt;&quot;' data-kind='&quot;neutral&quot;' data-disabled='false' data-full-width='false'></marimo-button></marimo-ui-element>"
      ]
     },
     "metadata": {},
     "output_type": "display_data"
    }
   ],
   "source": [
    "def on_toggle_fit_all_clicked(b):\n",
    "    widget.toggle_fit_all()\n",
    "\n",
    "mo.ui.button(label=\"Toggle fit all\", on_click=on_toggle_fit_all_clicked)"
   ]
  },
  {
   "cell_type": "code",
   "execution_count": null,
   "id": "bkHC",
   "metadata": {},
   "outputs": [
    {
     "data": {
      "text/html": [
       "<marimo-ui-element object-id='bkHC-0' random-id='5bfe67e8-974f-88a2-e726-17818618e7cf'><marimo-button data-initial-value='0' data-label='&quot;&lt;span class=&#92;&quot;markdown prose dark:prose-invert&#92;&quot;&gt;&lt;span class=&#92;&quot;paragraph&#92;&quot;&gt;Add filter&lt;/span&gt;&lt;/span&gt;&quot;' data-kind='&quot;neutral&quot;' data-disabled='false' data-full-width='false'></marimo-button></marimo-ui-element>"
      ]
     },
     "metadata": {},
     "output_type": "display_data"
    }
   ],
   "source": [
    "filterId = \"testId\"\n",
    "def on_add_filter_clicked(b):\n",
    "    widget.add_filter('poi_dwh.type_locale_label', { \"values\": [\"Doprava\"]}, filterId)\n",
    "\n",
    "mo.ui.button(label=\"Add filter\", on_click=on_add_filter_clicked)"
   ]
  },
  {
   "cell_type": "code",
   "execution_count": null,
   "id": "lEQa",
   "metadata": {},
   "outputs": [
    {
     "data": {
      "text/html": [
       "<marimo-ui-element object-id='KhRR-0' random-id='1b6b746b-a50a-43e6-83e3-5da33fac10e7'><marimo-button data-initial-value='0' data-label='&quot;&lt;span class=&#92;&quot;markdown prose dark:prose-invert&#92;&quot;&gt;&lt;span class=&#92;&quot;paragraph&#92;&quot;&gt;Set filter&lt;/span&gt;&lt;/span&gt;&quot;' data-kind='&quot;neutral&quot;' data-disabled='false' data-full-width='false'></marimo-button></marimo-ui-element>"
      ]
     },
     "metadata": {},
     "output_type": "display_data"
    }
   ],
   "source": [
    "def on_set_filter_clicked(b):\n",
    "    widget.set_filter(filterId, { \"values\": [\"Rezidence\"]})\n",
    "\n",
    "mo.ui.button(label=\"Set filter\", on_click=on_set_filter_clicked)"
   ]
  },
  {
   "cell_type": "code",
   "execution_count": null,
   "id": "PKri",
   "metadata": {},
   "outputs": [
    {
     "data": {
      "text/html": [
       "<marimo-ui-element object-id='fNOa-0' random-id='8acb81ac-da20-3601-30dd-236c364f6006'><marimo-button data-initial-value='0' data-label='&quot;&lt;span class=&#92;&quot;markdown prose dark:prose-invert&#92;&quot;&gt;&lt;span class=&#92;&quot;paragraph&#92;&quot;&gt;Remove filter&lt;/span&gt;&lt;/span&gt;&quot;' data-kind='&quot;neutral&quot;' data-disabled='false' data-full-width='false'></marimo-button></marimo-ui-element>"
      ]
     },
     "metadata": {},
     "output_type": "display_data"
    }
   ],
   "source": [
    "def on_remove_filter_clicked(b):\n",
    "    widget.remove_filter(filterId)\n",
    "\n",
    "mo.ui.button(label=\"Remove filter\", on_click=on_remove_filter_clicked)"
   ]
  },
  {
   "cell_type": "code",
   "execution_count": null,
   "id": "Xref",
   "metadata": {},
   "outputs": [
    {
     "data": {
      "text/html": [
       "<marimo-ui-element object-id='Ejdz-0' random-id='0da511d5-801e-6227-8135-f09aae437830'><marimo-button data-initial-value='0' data-label='&quot;&lt;span class=&#92;&quot;markdown prose dark:prose-invert&#92;&quot;&gt;&lt;span class=&#92;&quot;paragraph&#92;&quot;&gt;Reset filter&lt;/span&gt;&lt;/span&gt;&quot;' data-kind='&quot;neutral&quot;' data-disabled='false' data-full-width='false'></marimo-button></marimo-ui-element>"
      ]
     },
     "metadata": {},
     "output_type": "display_data"
    }
   ],
   "source": [
    "def on_reset_filter_clicked(b):\n",
    "    widget.reset_filter(filterId)\n",
    "\n",
    "mo.ui.button(label=\"Reset filter\", on_click=on_reset_filter_clicked)"
   ]
  }
 ],
 "metadata": {},
 "nbformat": 4,
 "nbformat_minor": 5
}
