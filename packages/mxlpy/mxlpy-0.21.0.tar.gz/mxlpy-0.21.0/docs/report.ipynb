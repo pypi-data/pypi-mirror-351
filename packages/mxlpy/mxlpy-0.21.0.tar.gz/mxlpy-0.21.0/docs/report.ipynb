{
 "cells": [
  {
   "cell_type": "code",
   "execution_count": null,
   "id": "020532ae",
   "metadata": {},
   "outputs": [],
   "source": [
    "from pathlib import Path\n",
    "\n",
    "import matplotlib.pyplot as plt\n",
    "import pandas as pd\n",
    "from IPython.display import Markdown\n",
    "from matplotlib.figure import Figure\n",
    "\n",
    "from example_models import get_sir, get_sird\n",
    "from mxlpy import Model, Simulator, plot, report, unwrap\n",
    "\n",
    "\n",
    "def plot_difference(r_old: pd.DataFrame, r_new: pd.DataFrame) -> Figure:\n",
    "    rel_diff = (r_new - r_old) / r_old\n",
    "    largest_diff = rel_diff.abs().mean().fillna(0).sort_values().tail(n=3)\n",
    "\n",
    "    fig, ax = plot.one_axes()\n",
    "    plot.lines(r_new, ax=ax)\n",
    "    lines = dict(zip(r_new.columns, ax.lines, strict=True))\n",
    "    for f, i in enumerate(reversed(largest_diff.index), start=2):\n",
    "        line = lines[i]\n",
    "        line.set_linewidth(line.get_linewidth() * f)\n",
    "\n",
    "    plot.reset_prop_cycle(ax)\n",
    "    plot.lines(r_old, ax=ax, alpha=0.25, legend=False)\n",
    "    ax.set(xlabel=\"Time / a.u.\", ylabel=\"Relative Population\")\n",
    "    return fig"
   ]
  },
  {
   "cell_type": "markdown",
   "id": "317b527c",
   "metadata": {},
   "source": [
    "# Reports\n",
    "\n",
    "To make it easy to communicate changes between two models, `mxlpy` has conveniece functions in the `report` module.  \n",
    "By default, the `report.markdown` function will take two models as inputs and then compare both the structure of the two models as well as numerical differences in dependent values as well as the right hand side.  \n",
    "\n",
    "The report is color-coded consistently, with <span style='color: green'>green</span> referring to **new** features, <span style='color: orange'>orange</span> referring to updates / changes and <span style='color: red'>red</span> referring to deleted quantities.\n"
   ]
  },
  {
   "cell_type": "code",
   "execution_count": null,
   "id": "d9293150",
   "metadata": {},
   "outputs": [],
   "source": [
    "md = report.markdown(\n",
    "    get_sir(),\n",
    "    get_sird(),\n",
    ")\n",
    "\n",
    "# IPython Display\n",
    "Markdown(md)"
   ]
  },
  {
   "cell_type": "markdown",
   "id": "1c37f782",
   "metadata": {},
   "source": [
    "You can further expand the report with user-defined analysis functions that are being run for both models.  \n",
    "Here for example we perform a normal simulation and then plot the time course, highlighting the variables that changed the most.  \n",
    "\n",
    "All user-defined analysis functions have to take two models and the directory where plots are to be stored as an input and output a description in markdown as well as the path of the final image, so that it can be inserted into the report correctly."
   ]
  },
  {
   "cell_type": "code",
   "execution_count": null,
   "id": "35553903",
   "metadata": {},
   "outputs": [],
   "source": [
    "def analyse_concentrations(m1: Model, m2: Model, img_dir: Path) -> tuple[str, Path]:\n",
    "    r_old = unwrap(Simulator(m1).simulate(100).get_result())\n",
    "    r_new = unwrap(Simulator(m2).simulate(100).get_result())\n",
    "    fig = plot_difference(r_old.variables, r_new.variables)\n",
    "    fig.savefig((path := img_dir / \"concentration.png\"), dpi=300)\n",
    "    plt.close(fig)\n",
    "    return \"## Comparison of largest changing\", path\n",
    "\n",
    "\n",
    "md = report.markdown(\n",
    "    get_sir(),\n",
    "    get_sird(),\n",
    "    analyses=[analyse_concentrations],\n",
    ")\n",
    "\n",
    "# IPython Display\n",
    "Markdown(md)"
   ]
  },
  {
   "cell_type": "code",
   "execution_count": null,
   "id": "12f40930",
   "metadata": {},
   "outputs": [],
   "source": []
  }
 ],
 "metadata": {
  "kernelspec": {
   "display_name": "default",
   "language": "python",
   "name": "python3"
  },
  "language_info": {
   "codemirror_mode": {
    "name": "ipython",
    "version": 3
   },
   "file_extension": ".py",
   "mimetype": "text/x-python",
   "name": "python",
   "nbconvert_exporter": "python",
   "pygments_lexer": "ipython3",
   "version": "3.12.10"
  }
 },
 "nbformat": 4,
 "nbformat_minor": 5
}
