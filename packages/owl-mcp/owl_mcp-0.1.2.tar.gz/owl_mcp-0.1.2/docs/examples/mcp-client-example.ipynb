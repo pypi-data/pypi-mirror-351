{
 "cells": [
  {
   "cell_type": "markdown",
   "metadata": {},
   "source": "# OWL-Server MCP Client Example\n\nThis notebook demonstrates how to use the FastMCP client to interact with the OWL-Server. The Model Context Protocol (MCP) provides a standardized way for applications to expose their functionality to AI assistants and other clients.\n\nIn this example, we'll show how to:\n1. Connect to an OWL-Server running as an MCP server\n2. Create and manipulate OWL ontologies\n3. Query ontology information\n4. Work with prefix mappings\n5. Use the configuration system to manage ontologies",
   "outputs": []
  },
  {
   "cell_type": "markdown",
   "metadata": {},
   "source": [
    "## Setup and Installation\n",
    "\n",
    "First, make sure you have the required packages installed:"
   ]
  },
  {
   "cell_type": "code",
   "execution_count": null,
   "metadata": {},
   "source": [
    "# Install required packages\n",
    "!pip install fastmcp py-horned-owl nest-asyncio"
   ]
  },
  {
   "cell_type": "markdown",
   "metadata": {},
   "source": [
    "We need to use `nest_asyncio` to allow running async code in Jupyter notebooks:"
   ]
  },
  {
   "cell_type": "code",
   "execution_count": null,
   "metadata": {},
   "source": [
    "import nest_asyncio\n",
    "import asyncio\n",
    "import tempfile\n",
    "import os\n",
    "from fastmcp import Client\n",
    "from pprint import pprint\n",
    "\n",
    "# Enable nested asyncio for Jupyter notebooks\n",
    "nest_asyncio.apply()"
   ]
  },
  {
   "cell_type": "markdown",
   "metadata": {},
   "source": [
    "## Starting the OWL-Server\n",
    "\n",
    "Before connecting with a client, you need to have the OWL-Server running. In a separate terminal, you would run:\n",
    "\n",
    "```bash\n",
    "python -m owl_mcp.mcp_tools\n",
    "```\n",
    "\n",
    "For this notebook example, we'll use a subprocess to start the server:"
   ]
  },
  {
   "cell_type": "code",
   "execution_count": null,
   "metadata": {},
   "source": [
    "import subprocess\n",
    "import time\n",
    "import signal\n",
    "\n",
    "# Start the MCP server in a subprocess\n",
    "print(\"Starting OWL-Server MCP server...\")\n",
    "server_process = subprocess.Popen(\n",
    "    [\"python\", \"-m\", \"owl_mcp.mcp_tools\"],\n",
    "    stdin=subprocess.PIPE,\n",
    "    stdout=subprocess.PIPE,\n",
    "    stderr=subprocess.PIPE,\n",
    "    text=True,\n",
    "    bufsize=1\n",
    ")\n",
    "\n",
    "# Give the server a moment to start up\n",
    "time.sleep(2)\n",
    "print(\"Server started!\")"
   ]
  },
  {
   "cell_type": "markdown",
   "metadata": {},
   "source": [
    "## Creating a Temporary OWL File\n",
    "\n",
    "For this demonstration, we'll create a temporary OWL file to work with:"
   ]
  },
  {
   "cell_type": "code",
   "execution_count": null,
   "metadata": {},
   "source": [
    "# Create a temporary OWL file\n",
    "temp_dir = tempfile.gettempdir()\n",
    "owl_file_path = os.path.join(temp_dir, \"example_ontology.owl\")\n",
    "\n",
    "# Create an empty file (the OWL-Server will initialize it properly)\n",
    "with open(owl_file_path, \"w\") as f:\n",
    "    f.write(\"Ontology()\")\n",
    "\n",
    "print(f\"Created temporary OWL file at: {owl_file_path}\")"
   ]
  },
  {
   "cell_type": "markdown",
   "metadata": {},
   "source": [
    "## Connecting to the OWL-Server with FastMCP Client\n",
    "\n",
    "Now we can connect to the OWL-Server using the FastMCP client:"
   ]
  },
  {
   "cell_type": "code",
   "execution_count": null,
   "metadata": {},
   "source": [
    "async def connect_to_server():\n",
    "    # Connect to the server subprocess\n",
    "    # Note: In a real application, you would connect to the server's endpoint\n",
    "    # For example: client = Client(\"https://example.com/mcp\") or Client(\"ws://localhost:9000\")\n",
    "    # For this example, we're using the subprocess we started above\n",
    "    client = Client(server_process)\n",
    "    \n",
    "    async with client:\n",
    "        # List available tools\n",
    "        tools = await client.list_tools()\n",
    "        print(\"Available tools:\")\n",
    "        for tool in tools:\n",
    "            print(f\"- {tool.name}: {tool.description}\")\n",
    "            \n",
    "        return client\n",
    "\n",
    "# Run the async function\n",
    "client = asyncio.run(connect_to_server())"
   ]
  },
  {
   "cell_type": "markdown",
   "metadata": {},
   "source": [
    "## Working with the Ontology\n",
    "\n",
    "Now we can start working with our ontology through the MCP interface. First, let's add some prefix mappings:"
   ]
  },
  {
   "cell_type": "code",
   "execution_count": null,
   "metadata": {},
   "source": [
    "async def add_prefixes():\n",
    "    async with Client(server_process) as client:\n",
    "        # Add prefix mappings\n",
    "        prefixes = [\n",
    "            (\"ex\", \"http://example.org/\"),\n",
    "            (\"pizza\", \"http://www.co-ode.org/ontologies/pizza/pizza.owl#\"),\n",
    "            (\"ont\", \"http://www.my-ontology.com/\"),\n",
    "        ]\n",
    "        \n",
    "        print(\"Adding prefix mappings...\")\n",
    "        for prefix, uri in prefixes:\n",
    "            result = await client.call_tool(\"add_prefix\", {\n",
    "                \"owl_file_path\": owl_file_path,\n",
    "                \"prefix\": prefix,\n",
    "                \"uri\": uri\n",
    "            })\n",
    "            print(f\"  {result.text}\")\n",
    "\n",
    "# Run the async function\n",
    "asyncio.run(add_prefixes())"
   ]
  },
  {
   "cell_type": "markdown",
   "metadata": {},
   "source": [
    "Now let's add some axioms to our ontology:"
   ]
  },
  {
   "cell_type": "code",
   "execution_count": null,
   "metadata": {},
   "source": [
    "async def add_pizza_axioms():\n",
    "    async with Client(server_process) as client:\n",
    "        print(\"Building a Pizza ontology...\")\n",
    "        \n",
    "        # Define classes\n",
    "        classes = [\n",
    "            \"Declaration(Class(pizza:Pizza))\",\n",
    "            \"Declaration(Class(pizza:PizzaBase))\",\n",
    "            \"Declaration(Class(pizza:PizzaTopping))\",\n",
    "            \"Declaration(Class(pizza:CheeseTopping))\",\n",
    "            \"Declaration(Class(pizza:MeatTopping))\",\n",
    "            \"Declaration(Class(pizza:VegetableTopping))\",\n",
    "            \"Declaration(Class(pizza:Margherita))\",\n",
    "            \"Declaration(Class(pizza:Pepperoni))\",\n",
    "            \"Declaration(Class(pizza:Vegetarian))\"\n",
    "        ]\n",
    "        \n",
    "        # Add class declarations\n",
    "        for class_axiom in classes:\n",
    "            result = await client.call_tool(\"add_axiom\", {\n",
    "                \"owl_file_path\": owl_file_path,\n",
    "                \"axiom_str\": class_axiom\n",
    "            })\n",
    "            print(f\"  {result.text}\")\n",
    "        \n",
    "        # Define subclass relationships\n",
    "        subclass_axioms = [\n",
    "            \"SubClassOf(pizza:CheeseTopping pizza:PizzaTopping)\",\n",
    "            \"SubClassOf(pizza:MeatTopping pizza:PizzaTopping)\",\n",
    "            \"SubClassOf(pizza:VegetableTopping pizza:PizzaTopping)\",\n",
    "            \"SubClassOf(pizza:Margherita pizza:Pizza)\",\n",
    "            \"SubClassOf(pizza:Pepperoni pizza:Pizza)\",\n",
    "            \"SubClassOf(pizza:Vegetarian pizza:Pizza)\"\n",
    "        ]\n",
    "        \n",
    "        # Add subclass axioms\n",
    "        for subclass_axiom in subclass_axioms:\n",
    "            result = await client.call_tool(\"add_axiom\", {\n",
    "                \"owl_file_path\": owl_file_path,\n",
    "                \"axiom_str\": subclass_axiom\n",
    "            })\n",
    "            print(f\"  {result.text}\")\n",
    "        \n",
    "        # Define object properties\n",
    "        object_properties = [\n",
    "            \"Declaration(ObjectProperty(pizza:hasTopping))\",\n",
    "            \"Declaration(ObjectProperty(pizza:hasBase))\"\n",
    "        ]\n",
    "        \n",
    "        # Add object properties\n",
    "        for property_axiom in object_properties:\n",
    "            result = await client.call_tool(\"add_axiom\", {\n",
    "                \"owl_file_path\": owl_file_path,\n",
    "                \"axiom_str\": property_axiom\n",
    "            })\n",
    "            print(f\"  {result.text}\")\n",
    "        \n",
    "        # Define property domains and ranges\n",
    "        property_restrictions = [\n",
    "            \"ObjectPropertyDomain(pizza:hasTopping pizza:Pizza)\",\n",
    "            \"ObjectPropertyRange(pizza:hasTopping pizza:PizzaTopping)\",\n",
    "            \"ObjectPropertyDomain(pizza:hasBase pizza:Pizza)\",\n",
    "            \"ObjectPropertyRange(pizza:hasBase pizza:PizzaBase)\"\n",
    "        ]\n",
    "        \n",
    "        # Add property restrictions\n",
    "        for restriction in property_restrictions:\n",
    "            result = await client.call_tool(\"add_axiom\", {\n",
    "                \"owl_file_path\": owl_file_path,\n",
    "                \"axiom_str\": restriction\n",
    "            })\n",
    "            print(f\"  {result.text}\")\n",
    "\n",
    "# Run the async function\n",
    "asyncio.run(add_pizza_axioms())"
   ]
  },
  {
   "cell_type": "markdown",
   "metadata": {},
   "source": [
    "## Querying the Ontology\n",
    "\n",
    "Now that we have built our ontology, let's query it to find specific axioms:"
   ]
  },
  {
   "cell_type": "code",
   "execution_count": null,
   "metadata": {},
   "source": [
    "async def query_ontology():\n",
    "    async with Client(server_process) as client:\n",
    "        print(\"Querying for pizza classes...\")\n",
    "        \n",
    "        # Find all axioms containing 'Pizza'\n",
    "        result = await client.call_tool(\"find_axioms\", {\n",
    "            \"owl_file_path\": owl_file_path,\n",
    "            \"pattern\": \"Pizza\"\n",
    "        })\n",
    "        \n",
    "        # Output is a list of strings\n",
    "        pizza_axioms = result.value\n",
    "        print(f\"Found {len(pizza_axioms)} axioms containing 'Pizza':\")\n",
    "        for i, axiom in enumerate(pizza_axioms, 1):\n",
    "            print(f\"  {i}. {axiom}\")\n",
    "        \n",
    "        print(\"\\nQuerying for subclass relationships...\")\n",
    "        # Find all SubClassOf axioms\n",
    "        result = await client.call_tool(\"find_axioms\", {\n",
    "            \"owl_file_path\": owl_file_path,\n",
    "            \"pattern\": \"\",\n",
    "            \"limit\": 100\n",
    "        })\n",
    "        \n",
    "        # Filter for SubClassOf axioms\n",
    "        subclass_axioms = [a for a in result.value if a.startswith(\"SubClassOf\")]\n",
    "        print(f\"Found {len(subclass_axioms)} subclass relationships:\")\n",
    "        for i, axiom in enumerate(subclass_axioms, 1):\n",
    "            print(f\"  {i}. {axiom}\")\n",
    "        \n",
    "        print(\"\\nQuerying for object properties...\")\n",
    "        # Find all ObjectProperty declarations\n",
    "        result = await client.call_tool(\"find_axioms\", {\n",
    "            \"owl_file_path\": owl_file_path,\n",
    "            \"pattern\": \"ObjectProperty\"\n",
    "        })\n",
    "        \n",
    "        obj_props = result.value\n",
    "        print(f\"Found {len(obj_props)} object properties:\")\n",
    "        for i, axiom in enumerate(obj_props, 1):\n",
    "            print(f\"  {i}. {axiom}\")\n",
    "\n",
    "# Run the async function\n",
    "asyncio.run(query_ontology())"
   ]
  },
  {
   "cell_type": "markdown",
   "metadata": {},
   "source": [
    "## Modifying the Ontology\n",
    "\n",
    "Now let's modify our ontology by adding and removing some axioms:"
   ]
  },
  {
   "cell_type": "code",
   "execution_count": null,
   "metadata": {},
   "source": [
    "async def modify_ontology():\n",
    "    async with Client(server_process) as client:\n",
    "        print(\"Adding a new pizza type...\")\n",
    "        \n",
    "        # Add a new pizza class\n",
    "        new_pizza_axioms = [\n",
    "            \"Declaration(Class(pizza:HawaiianPizza))\",\n",
    "            \"SubClassOf(pizza:HawaiianPizza pizza:Pizza)\",\n",
    "            \"Declaration(Class(pizza:PineappleTopping))\",\n",
    "            \"SubClassOf(pizza:PineappleTopping pizza:VegetableTopping)\",\n",
    "            \"Declaration(Class(pizza:HamTopping))\",\n",
    "            \"SubClassOf(pizza:HamTopping pizza:MeatTopping)\"\n",
    "        ]\n",
    "        \n",
    "        for axiom in new_pizza_axioms:\n",
    "            result = await client.call_tool(\"add_axiom\", {\n",
    "                \"owl_file_path\": owl_file_path,\n",
    "                \"axiom_str\": axiom\n",
    "            })\n",
    "            print(f\"  {result.text}\")\n",
    "        \n",
    "        # Let's see if our new pizza is there\n",
    "        print(\"\\nVerifying new pizza was added...\")\n",
    "        result = await client.call_tool(\"find_axioms\", {\n",
    "            \"owl_file_path\": owl_file_path,\n",
    "            \"pattern\": \"Hawaiian\"\n",
    "        })\n",
    "        \n",
    "        hawaiian_axioms = result.value\n",
    "        print(f\"Found {len(hawaiian_axioms)} axioms about Hawaiian pizza:\")\n",
    "        for axiom in hawaiian_axioms:\n",
    "            print(f\"  {axiom}\")\n",
    "        \n",
    "        # Now remove the Hawaiian pizza (controversial!)\n",
    "        print(\"\\nRemoving the controversial Hawaiian pizza...\")\n",
    "        for axiom in hawaiian_axioms:\n",
    "            result = await client.call_tool(\"remove_axiom\", {\n",
    "                \"owl_file_path\": owl_file_path,\n",
    "                \"axiom_str\": axiom\n",
    "            })\n",
    "            print(f\"  {result.text}\")\n",
    "        \n",
    "        # Verify it was removed\n",
    "        print(\"\\nVerifying Hawaiian pizza was removed...\")\n",
    "        result = await client.call_tool(\"find_axioms\", {\n",
    "            \"owl_file_path\": owl_file_path,\n",
    "            \"pattern\": \"Hawaiian\"\n",
    "        })\n",
    "        \n",
    "        remaining_axioms = result.value\n",
    "        if remaining_axioms:\n",
    "            print(f\"Found {len(remaining_axioms)} remaining axioms about Hawaiian pizza:\")\n",
    "            for axiom in remaining_axioms:\n",
    "                print(f\"  {axiom}\")\n",
    "        else:\n",
    "            print(\"Hawaiian pizza successfully removed from the ontology.\")\n",
    "\n",
    "# Run the async function\n",
    "asyncio.run(modify_ontology())"
   ]
  },
  {
   "cell_type": "markdown",
   "metadata": {},
   "source": [
    "## Working with Ontology Metadata\n",
    "\n",
    "Let's add and query some ontology metadata:"
   ]
  },
  {
   "cell_type": "code",
   "execution_count": null,
   "metadata": {},
   "source": [
    "async def work_with_metadata():\n",
    "    async with Client(server_process) as client:\n",
    "        print(\"Adding ontology metadata...\")\n",
    "        \n",
    "        # Add ontology annotations\n",
    "        metadata_axioms = [\n",
    "            \"AnnotationAssertion(rdfs:label ont:PizzaOntology \\\"Pizza Ontology\\\")\",\n",
    "            \"AnnotationAssertion(rdfs:comment ont:PizzaOntology \\\"An example ontology about pizzas created via MCP client\\\")\",\n",
    "            \"AnnotationAssertion(owl:versionInfo ont:PizzaOntology \\\"1.0.0\\\")\"\n",
    "        ]\n",
    "        \n",
    "        for axiom in metadata_axioms:\n",
    "            result = await client.call_tool(\"add_axiom\", {\n",
    "                \"owl_file_path\": owl_file_path,\n",
    "                \"axiom_str\": axiom\n",
    "            })\n",
    "            print(f\"  {result.text}\")\n",
    "        \n",
    "        # Retrieve metadata\n",
    "        print(\"\\nRetrieving ontology metadata...\")\n",
    "        result = await client.call_tool(\"ontology_metadata\", {\n",
    "            \"owl_file_path\": owl_file_path\n",
    "        })\n",
    "        \n",
    "        metadata = result.value\n",
    "        print(f\"Found {len(metadata)} metadata items:\")\n",
    "        for item in metadata:\n",
    "            print(f\"  {item}\")\n",
    "\n",
    "# Run the async function\n",
    "asyncio.run(work_with_metadata())"
   ]
  },
  {
   "cell_type": "markdown",
   "metadata": {},
   "source": [
    "## Listing Active OWL Files\n",
    "\n",
    "Let's see which OWL files are currently being managed by the server:"
   ]
  },
  {
   "cell_type": "code",
   "execution_count": null,
   "metadata": {},
   "source": [
    "async def list_active_files():\n",
    "    async with Client(server_process) as client:\n",
    "        # Access a resource\n",
    "        print(\"Listing active OWL files...\")\n",
    "        result = await client.read_resource(\"resource://active\")\n",
    "        \n",
    "        active_files = result.value\n",
    "        if active_files:\n",
    "            print(f\"The server is managing {len(active_files)} OWL files:\")\n",
    "            for file in active_files:\n",
    "                print(f\"  {file}\")\n",
    "        else:\n",
    "            print(\"No active OWL files found.\")\n",
    "\n",
    "# Run the async function\n",
    "asyncio.run(list_active_files())"
   ]
  },
  {
   "cell_type": "markdown",
   "source": "## Working with the Configuration System\n\nNow let's explore the configuration system that allows you to manage named ontologies:",
   "metadata": {}
  },
  {
   "cell_type": "code",
   "source": "async def work_with_config():\n    async with Client(server_process) as client:\n        # Create a new temporary file for our pizza ontology\n        pizza_file = os.path.join(temp_dir, \"pizza_ontology.owl\")\n        with open(pizza_file, \"w\") as f:\n            f.write(\"Ontology()\")\n        \n        try:\n            print(\"Registering the pizza ontology in the configuration...\")\n            # Register this ontology in the configuration with a name\n            result = await client.call_tool(\"load_and_register_ontology\", {\n                \"owl_file_path\": pizza_file,\n                \"name\": \"pizza\",\n                \"description\": \"Pizza ontology example\",\n                \"readonly\": False,\n                \"metadata_axioms\": [\n                    \"AnnotationAssertion(rdfs:label ont:PizzaOntology \\\"Pizza Ontology\\\")\",\n                    \"AnnotationAssertion(owl:versionInfo ont:PizzaOntology \\\"1.0.0\\\")\"\n                ]\n            })\n            print(f\"  {result.text}\")\n            \n            # Add some basic axioms to the pizza ontology\n            axioms = [\n                \"Declaration(Class(pizza:Pizza))\",\n                \"Declaration(Class(pizza:Topping))\",\n                \"SubClassOf(pizza:Pizza owl:Thing)\"\n            ]\n            \n            print(\"\\nAdding axioms to the pizza ontology using its name...\")\n            for axiom in axioms:\n                result = await client.call_tool(\"add_axiom_by_name\", {\n                    \"ontology_name\": \"pizza\",\n                    \"axiom_str\": axiom\n                })\n                print(f\"  {result.text}\")\n                \n            # Let's see what ontologies we have in our configuration\n            print(\"\\nFetching all configured ontologies...\")\n            result = await client.read_resource(\"resource://config/ontologies\")\n            \n            ontologies = result.value\n            print(f\"Found {len(ontologies)} configured ontologies:\")\n            for ontology in ontologies:\n                print(f\"  - {ontology['name']}: {ontology['path']}\")\n                if ontology['description']:\n                    print(f\"    Description: {ontology['description']}\")\n                print(f\"    Read-only: {ontology['readonly']}\")\n                \n            # Get details about the pizza ontology\n            print(\"\\nGetting details about the pizza ontology...\")\n            result = await client.read_resource(\"resource://config/ontology/pizza\")\n            \n            pizza_config = result.value\n            if pizza_config:\n                print(f\"  Path: {pizza_config['path']}\")\n                print(f\"  Read-only: {pizza_config['readonly']}\")\n                print(f\"  Metadata axioms: {len(pizza_config['metadata_axioms'])}\")\n                \n            # Query axioms using the named ontology\n            print(\"\\nQuerying axioms in the pizza ontology by name...\")\n            result = await client.call_tool(\"find_axioms_by_name\", {\n                \"ontology_name\": \"pizza\",\n                \"pattern\": \"Pizza\"\n            })\n            \n            pizza_axioms = result.value\n            print(f\"Found {len(pizza_axioms)} axioms about Pizza:\")\n            for axiom in pizza_axioms:\n                print(f\"  {axiom}\")\n                \n            # Cleanup\n            print(\"\\nRemoving the pizza ontology from configuration...\")\n            result = await client.call_tool(\"remove_ontology_config\", {\n                \"name\": \"pizza\"\n            })\n            print(f\"  {result.text}\")\n            \n        finally:\n            # Make sure we clean up the temp file\n            if os.path.exists(pizza_file):\n                os.remove(pizza_file)\n                print(f\"Removed temporary file: {pizza_file}\")\n\n# Run the async function\nasyncio.run(work_with_config())",
   "metadata": {},
   "outputs": []
  },
  {
   "cell_type": "markdown",
   "metadata": {},
   "source": [
    "## Cleaning Up\n",
    "\n",
    "Finally, let's stop the OWL service for our file and clean up resources:"
   ]
  },
  {
   "cell_type": "code",
   "execution_count": null,
   "metadata": {},
   "source": [
    "async def cleanup():\n",
    "    try:\n",
    "        async with Client(server_process) as client:\n",
    "            # Stop the OWL service for our file\n",
    "            print(\"Stopping OWL service for our file...\")\n",
    "            result = await client.call_tool(\"stop_owl_service\", {\n",
    "                \"owl_file_path\": owl_file_path\n",
    "            })\n",
    "            print(f\"  {result.text}\")\n",
    "            \n",
    "            # Verify it was stopped\n",
    "            print(\"\\nVerifying file is no longer active...\")\n",
    "            result = await client.read_resource(\"resource://active\")\n",
    "            active_files = result.value\n",
    "            \n",
    "            if owl_file_path in active_files:\n",
    "                print(f\"Warning: {owl_file_path} is still active!\")\n",
    "            else:\n",
    "                print(f\"{owl_file_path} is no longer active.\")\n",
    "            \n",
    "    finally:\n",
    "        # Shut down the server process\n",
    "        print(\"\\nShutting down the server process...\")\n",
    "        server_process.terminate()\n",
    "        server_process.wait(timeout=5)\n",
    "        print(\"Server process terminated.\")\n",
    "        \n",
    "        # Remove the temporary OWL file\n",
    "        if os.path.exists(owl_file_path):\n",
    "            os.remove(owl_file_path)\n",
    "            print(f\"Removed temporary file: {owl_file_path}\")\n",
    "\n",
    "# Run the async function\n",
    "asyncio.run(cleanup())"
   ]
  },
  {
   "cell_type": "markdown",
   "metadata": {},
   "source": "## Conclusion\n\nIn this notebook, we demonstrated how to:\n\n1. Connect to an OWL-Server MCP server using the FastMCP client\n2. Create and manipulate an OWL ontology programmatically\n3. Add and remove axioms in OWL functional syntax\n4. Query for specific axioms in the ontology\n5. Work with ontology metadata\n6. Use the configuration system to register and manage named ontologies\n7. Access configuration through MCP resources\n8. Manage active OWL files and clean up resources\n\nThe Model Context Protocol provides a clean, standardized way for clients to interact with the OWL-Server, enabling seamless integration with AI assistants and other applications. This approach abstracts away the complexity of low-level ontology manipulation, allowing developers to focus on their domain-specific tasks.",
   "outputs": []
  }
 ],
 "metadata": {
  "kernelspec": {
   "display_name": "Python 3",
   "language": "python",
   "name": "python3"
  },
  "language_info": {
   "codemirror_mode": {
    "name": "ipython",
    "version": 3
   },
   "file_extension": ".py",
   "mimetype": "text/x-python",
   "name": "python",
   "nbconvert_exporter": "python",
   "pygments_lexer": "ipython3",
   "version": "3.10.0"
  }
 },
 "nbformat": 4,
 "nbformat_minor": 4
}