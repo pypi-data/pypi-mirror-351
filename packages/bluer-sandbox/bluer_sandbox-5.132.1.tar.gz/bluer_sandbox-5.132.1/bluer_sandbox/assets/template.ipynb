{
 "cells": [
  {
   "attachments": {},
   "cell_type": "markdown",
   "metadata": {},
   "source": [
    "# 🌀 A bluer Jupyter Notebook"
   ]
  },
  {
   "cell_type": "code",
   "execution_count": 1,
   "metadata": {},
   "outputs": [
    {
     "name": "stderr",
     "output_type": "stream",
     "text": [
      "🌀  bluer_sandbox-5.87.1.bluer_ai-12.134.1.bluer_objects-6.94.1.bluer_options-5.84.1.torch-2.2.2.Python 3.12.9.Darwin 23.6.0..Jupyter-Notebook,\n",
      "built on 20 April 2025, 20:42:41\n"
     ]
    }
   ],
   "source": [
    "from bluer_sandbox import notebooks\n",
    "\n",
    "from bluer_options import string\n",
    "from bluer_objects import objects, testing\n",
    "\n",
    "from bluer_sandbox.host import signature\n",
    "from bluer_sandbox.logger import logger\n",
    "\n",
    "logger.info(f\"{'.'.join(signature())},\\nbuilt on {string.pretty_date()}\")"
   ]
  },
  {
   "cell_type": "code",
   "execution_count": 2,
   "metadata": {},
   "outputs": [
    {
     "name": "stderr",
     "output_type": "stream",
     "text": [
      "🌀  📂 bluer-sandbox-notebook-2025-04-20-20-42-41-2q5t26\n"
     ]
    }
   ],
   "source": [
    "object_name = objects.unique_object(\"bluer-sandbox-notebook\")"
   ]
  },
  {
   "attachments": {},
   "cell_type": "markdown",
   "metadata": {},
   "source": [
    "---"
   ]
  },
  {
   "cell_type": "code",
   "execution_count": 3,
   "metadata": {},
   "outputs": [
    {
     "name": "stderr",
     "output_type": "stream",
     "text": [
      "🌀  Hello World! 🪄\n"
     ]
    }
   ],
   "source": [
    "logger.info(\"Hello World! 🪄\")"
   ]
  },
  {
   "cell_type": "code",
   "execution_count": 4,
   "metadata": {},
   "outputs": [
    {
     "name": "stderr",
     "output_type": "stream",
     "text": [
      "🌀  bluer_objects.testing.functions.create_test_asset: bluer-sandbox-notebook-2025-04-20-20-42-41-2q5t26\n",
      "🌀  bluer_objects.file.save.save_image: 512x512x3:uint8 -> /Users/kamangir/storage/abcli/bluer-sandbox-notebook-2025-04-20-20-42-41-2q5t26/test-00.png\n",
      "🌀  bluer_objects.file.save.save_yaml: z -> /Users/kamangir/storage/abcli/bluer-sandbox-notebook-2025-04-20-20-42-41-2q5t26/this.yaml.\n",
      "🌀  bluer_objects.file.save.save_yaml: z -> /Users/kamangir/storage/abcli/bluer-sandbox-notebook-2025-04-20-20-42-41-2q5t26/that.yaml.\n",
      "🌀  bluer_objects.file.save.save_yaml: z -> /Users/kamangir/storage/abcli/bluer-sandbox-notebook-2025-04-20-20-42-41-2q5t26/subfolder/this.yaml.\n",
      "🌀  bluer_objects.file.save.save_yaml: z -> /Users/kamangir/storage/abcli/bluer-sandbox-notebook-2025-04-20-20-42-41-2q5t26/subfolder/that.yaml.\n",
      "🌀  bluer_objects.file.save.save_yaml: z -> /Users/kamangir/storage/abcli/bluer-sandbox-notebook-2025-04-20-20-42-41-2q5t26/test.yaml.\n"
     ]
    }
   ],
   "source": [
    "assert testing.create_test_asset(object_name=object_name, depth=1)"
   ]
  },
  {
   "attachments": {},
   "cell_type": "markdown",
   "metadata": {},
   "source": [
    "---"
   ]
  },
  {
   "cell_type": "code",
   "execution_count": 5,
   "metadata": {},
   "outputs": [
    {
     "name": "stderr",
     "output_type": "stream",
     "text": [
      "🌀  bluer_objects.host.functions.shell(zip -r \"../bluer-sandbox-notebook-2025-04-20-20-42-41-2q5t26.zip\" \".\")\n"
     ]
    },
    {
     "name": "stdout",
     "output_type": "stream",
     "text": [
      "  adding: subfolder/ (stored 0%)\n",
      "  adding: subfolder/that.yaml (stored 0%)\n",
      "  adding: subfolder/this.yaml (stored 0%)\n",
      "  adding: test.yaml (stored 0%)\n",
      "  adding: that.yaml (stored 0%)\n",
      "  adding: test.json (stored 0%)\n",
      "  adding: test-00.png (deflated 0%)\n",
      "  adding: this.yaml (stored 0%)\n"
     ]
    },
    {
     "name": "stderr",
     "output_type": "stream",
     "text": [
      "🌀  WebDAVzipInterface.upload bluer-sandbox-notebook-2025-04-20-20-42-41-2q5t26\n",
      "🌀  ⏺️  bluer-sandbox-notebook-2025-04-20-20-42-41-2q5t26 | 00001\n",
      "🌀  ⬆️  /Users/kamangir/storage/abcli/bluer-sandbox-notebook-2025-04-20-20-42-41-2q5t26/test.json\n",
      "🌀  ⬆️  /Users/kamangir/storage/abcli/bluer-sandbox-notebook-2025-04-20-20-42-41-2q5t26/test-00.png\n",
      "🌀  ⬆️  /Users/kamangir/storage/abcli/bluer-sandbox-notebook-2025-04-20-20-42-41-2q5t26/test.yaml\n",
      "🌀  ⬆️  /Users/kamangir/storage/abcli/bluer-sandbox-notebook-2025-04-20-20-42-41-2q5t26/that.yaml\n",
      "🌀  ⬆️  /Users/kamangir/storage/abcli/bluer-sandbox-notebook-2025-04-20-20-42-41-2q5t26/this.yaml\n",
      "🌀  ⏹️  bluer-sandbox-notebook-2025-04-20-20-42-41-2q5t26\n"
     ]
    }
   ],
   "source": [
    "assert notebooks.upload(object_name)"
   ]
  },
  {
   "cell_type": "code",
   "execution_count": 6,
   "metadata": {},
   "outputs": [],
   "source": [
    "# END"
   ]
  }
 ],
 "metadata": {
  "kernelspec": {
   "display_name": "base",
   "language": "python",
   "name": "python3"
  },
  "language_info": {
   "codemirror_mode": {
    "name": "ipython",
    "version": 3
   },
   "file_extension": ".py",
   "mimetype": "text/x-python",
   "name": "python",
   "nbconvert_exporter": "python",
   "pygments_lexer": "ipython3",
   "version": "3.12.9"
  },
  "toc": {
   "base_numbering": 1,
   "nav_menu": {},
   "number_sections": true,
   "sideBar": true,
   "skip_h1_title": false,
   "title_cell": "Table of Contents",
   "title_sidebar": "Contents",
   "toc_cell": false,
   "toc_position": {},
   "toc_section_display": true,
   "toc_window_display": false
  }
 },
 "nbformat": 4,
 "nbformat_minor": 2
}
