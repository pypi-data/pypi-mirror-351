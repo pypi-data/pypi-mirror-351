{
 "cells": [
  {
   "cell_type": "markdown",
   "id": "0",
   "metadata": {},
   "source": [
    "# LABDA Parsers Examples\n",
    "\n",
    "This notebook demonstrates how to use the **labda-parsers** library to extract data from different types of movement sensors.\n",
    "\n",
    "## Supported Formats\n",
    "- **Sens** (.bin)\n",
    "- **Axivity** (.cwa)\n",
    "- **Actigraph** (.gt3x)"
   ]
  },
  {
   "cell_type": "markdown",
   "id": "1",
   "metadata": {},
   "source": [
    "## 1. Sens\n",
    "\n",
    "The Sens parser reads binary sensor data files containing accelerometer measurements."
   ]
  },
  {
   "cell_type": "code",
   "execution_count": null,
   "id": "2",
   "metadata": {},
   "outputs": [],
   "source": [
    "from labda_parsers import Sens\n",
    "\n",
    "sens_parser = Sens()\n",
    "sens_df = sens_parser.from_file('../data/sens.bin')\n",
    "\n",
    "print(f'✅ Loaded {len(sens_df):,} data points')\n",
    "print(f'📅 Duration: {sens_df.index.max() - sens_df.index.min()}')\n",
    "print(f'🔢 Columns: {list(sens_df.columns)}')\n",
    "\n",
    "# Show first few rows\n",
    "sens_df.head()"
   ]
  },
  {
   "cell_type": "markdown",
   "id": "3",
   "metadata": {},
   "source": [
    "## 2. Axivity\n",
    "\n",
    "The Axivity parser reads .cwa files and supports timezone localization and temperature data."
   ]
  },
  {
   "cell_type": "code",
   "execution_count": null,
   "id": "4",
   "metadata": {},
   "outputs": [],
   "source": [
    "from labda_parsers import Axivity\n",
    "\n",
    "# Load Axivity data with timezone support\n",
    "axivity_parser = Axivity(timezone='Europe/Copenhagen')\n",
    "axivity_df = axivity_parser.from_file('../data/axivity.cwa')\n",
    "\n",
    "print(f'✅ Loaded {len(axivity_df):,} data points')\n",
    "print(f'📅 Duration: {axivity_df.index.max() - axivity_df.index.min()}')\n",
    "print(f'🌍 Timezone: {axivity_df.index.tz}')\n",
    "print(f'🌡️ Temperature data: {\"✅ Available\" if \"temperature\" in axivity_df.columns else \"❌ Not available\"}')\n",
    "\n",
    "# Show first few rows\n",
    "axivity_df.head()"
   ]
  },
  {
   "cell_type": "markdown",
   "id": "5",
   "metadata": {},
   "source": [
    "## 3. Actigraph\n",
    "\n",
    "The Actigraph parser handles GT3X files with automatic timezone detection and idle sleep management."
   ]
  },
  {
   "cell_type": "code",
   "execution_count": null,
   "id": "6",
   "metadata": {},
   "outputs": [],
   "source": [
    "from labda_parsers import Actigraph\n",
    "\n",
    "# Load Actigraph data with ffil idle sleep handling\n",
    "actigraph_parser = Actigraph(idle_sleep='ffill')\n",
    "actigraph_df = actigraph_parser.from_file('../data/actigraph.gt3x')\n",
    "\n",
    "print(f'✅ Loaded {len(actigraph_df):,} data points')\n",
    "print(f'📅 Duration: {actigraph_df.index.max() - actigraph_df.index.min()}')\n",
    "print(f'🌍 Timezone: {actigraph_df.index.tz}')\n",
    "print('⚙️ Idle sleep mode: ffil (idle periods set to 0)')\n",
    "\n",
    "# Show first few rows\n",
    "actigraph_df.head()"
   ]
  }
 ],
 "metadata": {
  "kernelspec": {
   "display_name": ".venv",
   "language": "python",
   "name": "python3"
  },
  "language_info": {
   "codemirror_mode": {
    "name": "ipython",
    "version": 3
   },
   "file_extension": ".py",
   "mimetype": "text/x-python",
   "name": "python",
   "nbconvert_exporter": "python",
   "pygments_lexer": "ipython3",
   "version": "3.11.11"
  }
 },
 "nbformat": 4,
 "nbformat_minor": 5
}
