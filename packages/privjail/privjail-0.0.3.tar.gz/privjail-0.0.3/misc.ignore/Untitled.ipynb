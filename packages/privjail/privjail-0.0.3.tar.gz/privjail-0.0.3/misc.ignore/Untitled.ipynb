{
 "cells": [
  {
   "cell_type": "code",
   "execution_count": 1,
   "id": "00780412-d0d5-4de3-8dfa-d69e5e3588a9",
   "metadata": {},
   "outputs": [],
   "source": [
    "import privjail.pandas as pd"
   ]
  },
  {
   "cell_type": "code",
   "execution_count": 2,
   "id": "e19f09d6-5554-480d-9754-c88913ff7af1",
   "metadata": {},
   "outputs": [],
   "source": [
    "df = pd.read_csv(\"data/adult_train.csv\", \"schema/adult.json\")"
   ]
  },
  {
   "cell_type": "code",
   "execution_count": 3,
   "id": "4a073774-89ed-481f-af39-a1c3ebd94022",
   "metadata": {},
   "outputs": [
    {
     "data": {
      "text/html": [
       "<div>\n",
       "<style scoped>\n",
       "    .dataframe tbody tr th:only-of-type {\n",
       "        vertical-align: middle;\n",
       "    }\n",
       "\n",
       "    .dataframe tbody tr th {\n",
       "        vertical-align: top;\n",
       "    }\n",
       "\n",
       "    .dataframe thead th {\n",
       "        text-align: right;\n",
       "    }\n",
       "</style>\n",
       "<table border=\"1\" class=\"dataframe\">\n",
       "  <thead>\n",
       "    <tr style=\"text-align: right;\">\n",
       "      <th></th>\n",
       "      <th>age</th>\n",
       "      <th>workclass</th>\n",
       "      <th>fnlwgt</th>\n",
       "      <th>education</th>\n",
       "      <th>educational-num</th>\n",
       "      <th>marital-status</th>\n",
       "      <th>occupation</th>\n",
       "      <th>relationship</th>\n",
       "      <th>race</th>\n",
       "      <th>gender</th>\n",
       "      <th>capital-gain</th>\n",
       "      <th>capital-loss</th>\n",
       "      <th>hours-per-week</th>\n",
       "      <th>native-country</th>\n",
       "      <th>income</th>\n",
       "    </tr>\n",
       "  </thead>\n",
       "  <tbody>\n",
       "    <tr>\n",
       "      <th>0</th>\n",
       "      <td>***</td>\n",
       "      <td>***</td>\n",
       "      <td>***</td>\n",
       "      <td>***</td>\n",
       "      <td>***</td>\n",
       "      <td>***</td>\n",
       "      <td>***</td>\n",
       "      <td>***</td>\n",
       "      <td>***</td>\n",
       "      <td>***</td>\n",
       "      <td>***</td>\n",
       "      <td>***</td>\n",
       "      <td>***</td>\n",
       "      <td>***</td>\n",
       "      <td>***</td>\n",
       "    </tr>\n",
       "    <tr>\n",
       "      <th>1</th>\n",
       "      <td>***</td>\n",
       "      <td>***</td>\n",
       "      <td>***</td>\n",
       "      <td>***</td>\n",
       "      <td>***</td>\n",
       "      <td>***</td>\n",
       "      <td>***</td>\n",
       "      <td>***</td>\n",
       "      <td>***</td>\n",
       "      <td>***</td>\n",
       "      <td>***</td>\n",
       "      <td>***</td>\n",
       "      <td>***</td>\n",
       "      <td>***</td>\n",
       "      <td>***</td>\n",
       "    </tr>\n",
       "    <tr>\n",
       "      <th>2</th>\n",
       "      <td>***</td>\n",
       "      <td>***</td>\n",
       "      <td>***</td>\n",
       "      <td>***</td>\n",
       "      <td>***</td>\n",
       "      <td>***</td>\n",
       "      <td>***</td>\n",
       "      <td>***</td>\n",
       "      <td>***</td>\n",
       "      <td>***</td>\n",
       "      <td>***</td>\n",
       "      <td>***</td>\n",
       "      <td>***</td>\n",
       "      <td>***</td>\n",
       "      <td>***</td>\n",
       "    </tr>\n",
       "    <tr>\n",
       "      <th>...</th>\n",
       "      <td>...</td>\n",
       "      <td>...</td>\n",
       "      <td>...</td>\n",
       "      <td>...</td>\n",
       "      <td>...</td>\n",
       "      <td>...</td>\n",
       "      <td>...</td>\n",
       "      <td>...</td>\n",
       "      <td>...</td>\n",
       "      <td>...</td>\n",
       "      <td>...</td>\n",
       "      <td>...</td>\n",
       "      <td>...</td>\n",
       "      <td>...</td>\n",
       "      <td>...</td>\n",
       "    </tr>\n",
       "  </tbody>\n",
       "</table>\n",
       "</div>"
      ],
      "text/plain": [
       "     age workclass fnlwgt education educational-num marital-status occupation  \\\n",
       "0    ***       ***    ***       ***             ***            ***        ***   \n",
       "1    ***       ***    ***       ***             ***            ***        ***   \n",
       "2    ***       ***    ***       ***             ***            ***        ***   \n",
       "...  ...       ...    ...       ...             ...            ...        ...   \n",
       "\n",
       "    relationship race gender capital-gain capital-loss hours-per-week  \\\n",
       "0            ***  ***    ***          ***          ***            ***   \n",
       "1            ***  ***    ***          ***          ***            ***   \n",
       "2            ***  ***    ***          ***          ***            ***   \n",
       "...          ...  ...    ...          ...          ...            ...   \n",
       "\n",
       "    native-country income  \n",
       "0              ***    ***  \n",
       "1              ***    ***  \n",
       "2              ***    ***  \n",
       "...            ...    ...  "
      ]
     },
     "execution_count": 3,
     "metadata": {},
     "output_type": "execute_result"
    }
   ],
   "source": [
    "df"
   ]
  },
  {
   "cell_type": "code",
   "execution_count": 4,
   "id": "29f17e7c-dd61-4fcf-a30b-f91c0f2be30f",
   "metadata": {},
   "outputs": [
    {
     "data": {
      "text/plain": [
       "(<*** (int)>, 15)"
      ]
     },
     "execution_count": 4,
     "metadata": {},
     "output_type": "execute_result"
    }
   ],
   "source": [
    "df.shape"
   ]
  },
  {
   "cell_type": "code",
   "execution_count": 5,
   "id": "76006ad7-e45d-4b08-811a-2a39f1291758",
   "metadata": {},
   "outputs": [
    {
     "data": {
      "text/plain": [
       "<*** (float)>"
      ]
     },
     "execution_count": 5,
     "metadata": {},
     "output_type": "execute_result"
    }
   ],
   "source": [
    "df.shape[0] * 1.1"
   ]
  },
  {
   "cell_type": "code",
   "execution_count": 6,
   "id": "23ee2e3f-226f-4e69-a230-70e397f2c25d",
   "metadata": {},
   "outputs": [
    {
     "data": {
      "text/plain": [
       "0      ***\n",
       "1      ***\n",
       "2      ***\n",
       "...    ...\n",
       "Name: age, dtype: Int64"
      ]
     },
     "execution_count": 6,
     "metadata": {},
     "output_type": "execute_result"
    }
   ],
   "source": [
    "df[\"age\"]"
   ]
  },
  {
   "cell_type": "code",
   "execution_count": 7,
   "id": "91595e70-59b7-4224-afcd-9d52bee5fa78",
   "metadata": {},
   "outputs": [
    {
     "ename": "KeyError",
     "evalue": "'a'",
     "output_type": "error",
     "traceback": [
      "\u001b[31m---------------------------------------------------------------------------\u001b[39m",
      "\u001b[31mKeyError\u001b[39m                                  Traceback (most recent call last)",
      "\u001b[36mCell\u001b[39m\u001b[36m \u001b[39m\u001b[32mIn[7]\u001b[39m\u001b[32m, line 1\u001b[39m\n\u001b[32m----> \u001b[39m\u001b[32m1\u001b[39m \u001b[43mdf\u001b[49m\u001b[43m[\u001b[49m\u001b[33;43m\"\u001b[39;49m\u001b[33;43ma\u001b[39;49m\u001b[33;43m\"\u001b[39;49m\u001b[43m]\u001b[49m\n",
      "\u001b[36mFile \u001b[39m\u001b[32m~/work/infotech/privjail/.venv/lib/python3.11/site-packages/multimethod/__init__.py:411\u001b[39m, in \u001b[36mmultidispatch.__call__\u001b[39m\u001b[34m(self, *args, **kwargs)\u001b[39m\n\u001b[32m    409\u001b[39m             \u001b[38;5;28;01mbreak\u001b[39;00m\n\u001b[32m    410\u001b[39m func = \u001b[38;5;28mself\u001b[39m.dispatch(*params)\n\u001b[32m--> \u001b[39m\u001b[32m411\u001b[39m \u001b[38;5;28;01mreturn\u001b[39;00m \u001b[43mfunc\u001b[49m\u001b[43m(\u001b[49m\u001b[43m*\u001b[49m\u001b[43margs\u001b[49m\u001b[43m,\u001b[49m\u001b[43m \u001b[49m\u001b[43m*\u001b[49m\u001b[43m*\u001b[49m\u001b[43mkwargs\u001b[49m\u001b[43m)\u001b[49m\n",
      "\u001b[36mFile \u001b[39m\u001b[32m~/work/infotech/privjail/src/privjail/egrpc/decorator.py:214\u001b[39m, in \u001b[36mregister_remoteclass_method.<locals>.method_wrapper\u001b[39m\u001b[34m(*args, **kwargs)\u001b[39m\n\u001b[32m    212\u001b[39m     \u001b[38;5;28;01mreturn\u001b[39;00m cast(R, unpack_proto_method_response(\u001b[38;5;28mcls\u001b[39m, method, proto_res))\n\u001b[32m    213\u001b[39m \u001b[38;5;28;01melse\u001b[39;00m:\n\u001b[32m--> \u001b[39m\u001b[32m214\u001b[39m     \u001b[38;5;28;01mreturn\u001b[39;00m \u001b[43mmethod\u001b[49m\u001b[43m(\u001b[49m\u001b[43m*\u001b[49m\u001b[43margs\u001b[49m\u001b[43m,\u001b[49m\u001b[43m \u001b[49m\u001b[43m*\u001b[49m\u001b[43m*\u001b[49m\u001b[43mkwargs\u001b[49m\u001b[43m)\u001b[49m\n",
      "\u001b[36mFile \u001b[39m\u001b[32m~/work/infotech/privjail/src/privjail/pandas.py:287\u001b[39m, in \u001b[36mPrivDataFrame.__getitem__\u001b[39m\u001b[34m(self, key)\u001b[39m\n\u001b[32m    284\u001b[39m \u001b[38;5;129m@egrpc\u001b[39m.multimethod\n\u001b[32m    285\u001b[39m \u001b[38;5;28;01mdef\u001b[39;00m\u001b[38;5;250m \u001b[39m\u001b[34m__getitem__\u001b[39m(\u001b[38;5;28mself\u001b[39m, key: \u001b[38;5;28mstr\u001b[39m) -> PrivSeries[ElementType]:\n\u001b[32m    286\u001b[39m     \u001b[38;5;66;03m# TODO: consider duplicated column names\u001b[39;00m\n\u001b[32m--> \u001b[39m\u001b[32m287\u001b[39m     value_type = \u001b[38;5;28;43mself\u001b[39;49m\u001b[43m.\u001b[49m\u001b[43mdomains\u001b[49m\u001b[43m[\u001b[49m\u001b[43mkey\u001b[49m\u001b[43m]\u001b[49m.type()\n\u001b[32m    288\u001b[39m     \u001b[38;5;66;03m# TODO: how to pass `value_type` from server to client via egrpc?\u001b[39;00m\n\u001b[32m    289\u001b[39m     \u001b[38;5;28;01mreturn\u001b[39;00m PrivSeries[value_type](data         = \u001b[38;5;28mself\u001b[39m._value.\u001b[34m__getitem__\u001b[39m(key), \u001b[38;5;66;03m# type: ignore[valid-type]\u001b[39;00m\n\u001b[32m    290\u001b[39m                                   domain       = \u001b[38;5;28mself\u001b[39m.domains[key],\n\u001b[32m    291\u001b[39m                                   distance     = \u001b[38;5;28mself\u001b[39m.distance,\n\u001b[32m    292\u001b[39m                                   parents      = [\u001b[38;5;28mself\u001b[39m],\n\u001b[32m    293\u001b[39m                                   preserve_row = \u001b[38;5;28;01mTrue\u001b[39;00m)\n",
      "\u001b[31mKeyError\u001b[39m: 'a'"
     ]
    }
   ],
   "source": [
    "df[\"a\"]"
   ]
  },
  {
   "cell_type": "code",
   "execution_count": null,
   "id": "b0e3c4b2-2b74-4dcc-8f01-280ffd8f5eb7",
   "metadata": {},
   "outputs": [],
   "source": []
  }
 ],
 "metadata": {
  "kernelspec": {
   "display_name": "Python 3 (ipykernel)",
   "language": "python",
   "name": "python3"
  },
  "language_info": {
   "codemirror_mode": {
    "name": "ipython",
    "version": 3
   },
   "file_extension": ".py",
   "mimetype": "text/x-python",
   "name": "python",
   "nbconvert_exporter": "python",
   "pygments_lexer": "ipython3",
   "version": "3.11.9"
  }
 },
 "nbformat": 4,
 "nbformat_minor": 5
}
