{
 "cells": [
  {
   "cell_type": "code",
   "execution_count": 1,
   "metadata": {},
   "outputs": [],
   "source": [
    "%load_ext autoreload\n",
    "%autoreload 2"
   ]
  },
  {
   "cell_type": "code",
   "execution_count": 2,
   "metadata": {},
   "outputs": [],
   "source": [
    "import asyncio\n",
    "import os\n",
    "from dotenv import load_dotenv\n",
    "from langchain_openai import ChatOpenAI\n",
    "from mcp_use import MCPAgent, MCPClient"
   ]
  },
  {
   "cell_type": "code",
   "execution_count": 3,
   "metadata": {},
   "outputs": [],
   "source": [
    "import hud  # For telemetry"
   ]
  },
  {
   "cell_type": "code",
   "execution_count": 6,
   "metadata": {},
   "outputs": [],
   "source": [
    "# Load environment variables\n",
    "load_dotenv()\n",
    "\n",
    "# Create configuration dictionary\n",
    "config = {\n",
    "    \"mcpServers\": {\"airbnb\": {\"command\": \"npx\", \"args\": [\"-y\", \"@openbnb/mcp-server-airbnb\"]}}\n",
    "}\n",
    "\n",
    "# Create MCPClient from configuration dictionary\n",
    "client = MCPClient.from_dict(config)\n",
    "\n",
    "# Create LLM\n",
    "llm = ChatOpenAI(model=\"gpt-4o\")\n",
    "\n",
    "# Create agent with the client\n",
    "agent = MCPAgent(llm=llm, client=client, max_steps=30)\n",
    "\n",
    "# Generate a unique task ID for this run\n",
    "task_run_id = f\"test-run-{int(asyncio.get_event_loop().time())}\""
   ]
  },
  {
   "cell_type": "code",
   "execution_count": null,
   "metadata": {},
   "outputs": [],
   "source": [
    "# Run the query inside a trace context\n",
    "with hud.trace(attributes={\"query\": \"Find the best restaurant in San Francisco\"}):\n",
    "    result = await agent.run(\n",
    "        \"Find the best restaurant in San Francisco\",\n",
    "    )\n",
    "    print(f\"\\nResult: {result}\")"
   ]
  }
 ],
 "metadata": {
  "kernelspec": {
   "display_name": ".venv",
   "language": "python",
   "name": "python3"
  },
  "language_info": {
   "codemirror_mode": {
    "name": "ipython",
    "version": 3
   },
   "file_extension": ".py",
   "mimetype": "text/x-python",
   "name": "python",
   "nbconvert_exporter": "python",
   "pygments_lexer": "ipython3",
   "version": "3.11.6"
  }
 },
 "nbformat": 4,
 "nbformat_minor": 2
}
