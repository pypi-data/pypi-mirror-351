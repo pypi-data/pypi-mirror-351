{
 "cells": [
  {
   "cell_type": "code",
   "execution_count": 1,
   "id": "8edfab53",
   "metadata": {},
   "outputs": [],
   "source": [
    "import sys\n",
    "sys.path.append(\"..\")"
   ]
  },
  {
   "cell_type": "code",
   "execution_count": 2,
   "id": "a3607edc",
   "metadata": {},
   "outputs": [],
   "source": [
    "import api_manager"
   ]
  },
  {
   "cell_type": "code",
   "execution_count": 3,
   "id": "19240262",
   "metadata": {},
   "outputs": [
    {
     "data": {
      "text/plain": [
       "api_manager.APIManager"
      ]
     },
     "execution_count": 3,
     "metadata": {},
     "output_type": "execute_result"
    }
   ],
   "source": [
    "api_manager.APIManager"
   ]
  },
  {
   "cell_type": "code",
   "execution_count": 4,
   "id": "f37d36f8",
   "metadata": {},
   "outputs": [],
   "source": [
    "import CanterburyCommuto"
   ]
  },
  {
   "cell_type": "markdown",
   "id": "b3307e75",
   "metadata": {},
   "source": [
    "### Common Node Method with Commuting Information Before and After the Overlap "
   ]
  },
  {
   "cell_type": "code",
   "execution_count": null,
   "id": "49e269eb",
   "metadata": {},
   "outputs": [
    {
     "name": "stdout",
     "output_type": "stream",
     "text": [
      "\n",
      "[INFO] Estimated number of API requests: 80\n",
      "[INFO] Estimated cost: $0.40\n",
      "[NOTICE] Actual cost may be higher or lower depending on Google’s pricing tiers and route pair complexity.\n",
      "\n",
      "[PROCESSING] Proceeding with route analysis...\n",
      "\n",
      "Map saved to: c:\\Users\\HUAWEI\\CanterburyCommuto\\CanterburyCommuto\\canterburycommuto\\notebooks\\results\\routes_map-2025-05-23_15-28-57_82681.html\n",
      "Map saved to: c:\\Users\\HUAWEI\\CanterburyCommuto\\CanterburyCommuto\\canterburycommuto\\notebooks\\results\\routes_map-2025-05-23_15-28-57_64165.html\n"
     ]
    },
    {
     "data": {
      "text/html": [
       "\n",
       "        <iframe\n",
       "            width=\"100%\"\n",
       "            height=\"500px\"\n",
       "            src=\"results\\routes_map-2025-05-23_15-28-57_82681.html\"\n",
       "            frameborder=\"0\"\n",
       "            allowfullscreen\n",
       "            \n",
       "        ></iframe>\n",
       "        "
      ],
      "text/plain": [
       "<IPython.lib.display.IFrame at 0x23ac880ae70>"
      ]
     },
     "metadata": {},
     "output_type": "display_data"
    },
    {
     "data": {
      "text/html": [
       "\n",
       "        <iframe\n",
       "            width=\"100%\"\n",
       "            height=\"500px\"\n",
       "            src=\"results\\routes_map-2025-05-23_15-28-57_64165.html\"\n",
       "            frameborder=\"0\"\n",
       "            allowfullscreen\n",
       "            \n",
       "        ></iframe>\n",
       "        "
      ],
      "text/plain": [
       "<IPython.lib.display.IFrame at 0x23ac873c350>"
      ]
     },
     "metadata": {},
     "output_type": "display_data"
    },
    {
     "name": "stdout",
     "output_type": "stream",
     "text": [
      "Map saved to: c:\\Users\\HUAWEI\\CanterburyCommuto\\CanterburyCommuto\\canterburycommuto\\notebooks\\results\\routes_map-2025-05-23_15-28-57_83573.html\n"
     ]
    },
    {
     "data": {
      "text/html": [
       "\n",
       "        <iframe\n",
       "            width=\"100%\"\n",
       "            height=\"500px\"\n",
       "            src=\"results\\routes_map-2025-05-23_15-28-57_83573.html\"\n",
       "            frameborder=\"0\"\n",
       "            allowfullscreen\n",
       "            \n",
       "        ></iframe>\n",
       "        "
      ],
      "text/plain": [
       "<IPython.lib.display.IFrame at 0x23ac880bd10>"
      ]
     },
     "metadata": {},
     "output_type": "display_data"
    },
    {
     "name": "stdout",
     "output_type": "stream",
     "text": [
      "Error fetching directions: NOT_FOUND\n",
      "Error fetching directions: INVALID_REQUEST\n",
      "Error fetching directions: NOT_FOUND\n",
      "Map saved to: c:\\Users\\HUAWEI\\CanterburyCommuto\\CanterburyCommuto\\canterburycommuto\\notebooks\\results\\routes_map-2025-05-23_15-28-57_73368.html\n"
     ]
    },
    {
     "data": {
      "text/html": [
       "\n",
       "        <iframe\n",
       "            width=\"100%\"\n",
       "            height=\"500px\"\n",
       "            src=\"results\\routes_map-2025-05-23_15-28-57_73368.html\"\n",
       "            frameborder=\"0\"\n",
       "            allowfullscreen\n",
       "            \n",
       "        ></iframe>\n",
       "        "
      ],
      "text/plain": [
       "<IPython.lib.display.IFrame at 0x23ac883d100>"
      ]
     },
     "metadata": {},
     "output_type": "display_data"
    },
    {
     "name": "stdout",
     "output_type": "stream",
     "text": [
      "Error fetching directions: NOT_FOUND\n",
      "Map saved to: c:\\Users\\HUAWEI\\CanterburyCommuto\\CanterburyCommuto\\canterburycommuto\\notebooks\\results\\routes_map-2025-05-23_15-28-58_18010.html\n"
     ]
    },
    {
     "data": {
      "text/html": [
       "\n",
       "        <iframe\n",
       "            width=\"100%\"\n",
       "            height=\"500px\"\n",
       "            src=\"results\\routes_map-2025-05-23_15-28-58_18010.html\"\n",
       "            frameborder=\"0\"\n",
       "            allowfullscreen\n",
       "            \n",
       "        ></iframe>\n",
       "        "
      ],
      "text/plain": [
       "<IPython.lib.display.IFrame at 0x23ac8b21160>"
      ]
     },
     "metadata": {},
     "output_type": "display_data"
    },
    {
     "name": "stdout",
     "output_type": "stream",
     "text": [
      "Map saved to: c:\\Users\\HUAWEI\\CanterburyCommuto\\CanterburyCommuto\\canterburycommuto\\notebooks\\results\\routes_map-2025-05-23_15-28-58_36051.html\n"
     ]
    },
    {
     "data": {
      "text/html": [
       "\n",
       "        <iframe\n",
       "            width=\"100%\"\n",
       "            height=\"500px\"\n",
       "            src=\"results\\routes_map-2025-05-23_15-28-58_36051.html\"\n",
       "            frameborder=\"0\"\n",
       "            allowfullscreen\n",
       "            \n",
       "        ></iframe>\n",
       "        "
      ],
      "text/plain": [
       "<IPython.lib.display.IFrame at 0x23ac880b110>"
      ]
     },
     "metadata": {},
     "output_type": "display_data"
    },
    {
     "name": "stdout",
     "output_type": "stream",
     "text": [
      "Map saved to: c:\\Users\\HUAWEI\\CanterburyCommuto\\CanterburyCommuto\\canterburycommuto\\notebooks\\results\\routes_map-2025-05-23_15-28-58_86344.html\n"
     ]
    },
    {
     "data": {
      "text/html": [
       "\n",
       "        <iframe\n",
       "            width=\"100%\"\n",
       "            height=\"500px\"\n",
       "            src=\"results\\routes_map-2025-05-23_15-28-58_86344.html\"\n",
       "            frameborder=\"0\"\n",
       "            allowfullscreen\n",
       "            \n",
       "        ></iframe>\n",
       "        "
      ],
      "text/plain": [
       "<IPython.lib.display.IFrame at 0x23ac81f5cd0>"
      ]
     },
     "metadata": {},
     "output_type": "display_data"
    },
    {
     "name": "stdout",
     "output_type": "stream",
     "text": [
      "Map saved to: c:\\Users\\HUAWEI\\CanterburyCommuto\\CanterburyCommuto\\canterburycommuto\\notebooks\\results\\routes_map-2025-05-23_15-28-58_33962.html\n"
     ]
    },
    {
     "data": {
      "text/html": [
       "\n",
       "        <iframe\n",
       "            width=\"100%\"\n",
       "            height=\"500px\"\n",
       "            src=\"results\\routes_map-2025-05-23_15-28-58_33962.html\"\n",
       "            frameborder=\"0\"\n",
       "            allowfullscreen\n",
       "            \n",
       "        ></iframe>\n",
       "        "
      ],
      "text/plain": [
       "<IPython.lib.display.IFrame at 0x23ac8b96570>"
      ]
     },
     "metadata": {},
     "output_type": "display_data"
    },
    {
     "name": "stdout",
     "output_type": "stream",
     "text": [
      "Map saved to: c:\\Users\\HUAWEI\\CanterburyCommuto\\CanterburyCommuto\\canterburycommuto\\notebooks\\results\\routes_map-2025-05-23_15-28-58_27111.html\n"
     ]
    },
    {
     "data": {
      "text/html": [
       "\n",
       "        <iframe\n",
       "            width=\"100%\"\n",
       "            height=\"500px\"\n",
       "            src=\"results\\routes_map-2025-05-23_15-28-58_27111.html\"\n",
       "            frameborder=\"0\"\n",
       "            allowfullscreen\n",
       "            \n",
       "        ></iframe>\n",
       "        "
      ],
      "text/plain": [
       "<IPython.lib.display.IFrame at 0x23ac8874bc0>"
      ]
     },
     "metadata": {},
     "output_type": "display_data"
    },
    {
     "name": "stdout",
     "output_type": "stream",
     "text": [
      "Map saved to: c:\\Users\\HUAWEI\\CanterburyCommuto\\CanterburyCommuto\\canterburycommuto\\notebooks\\results\\routes_map-2025-05-23_15-28-58_66819.html\n"
     ]
    },
    {
     "data": {
      "text/html": [
       "\n",
       "        <iframe\n",
       "            width=\"100%\"\n",
       "            height=\"500px\"\n",
       "            src=\"results\\routes_map-2025-05-23_15-28-58_66819.html\"\n",
       "            frameborder=\"0\"\n",
       "            allowfullscreen\n",
       "            \n",
       "        ></iframe>\n",
       "        "
      ],
      "text/plain": [
       "<IPython.lib.display.IFrame at 0x23ac8aed3d0>"
      ]
     },
     "metadata": {},
     "output_type": "display_data"
    },
    {
     "name": "stdout",
     "output_type": "stream",
     "text": [
      "Log file saved to: c:\\Users\\HUAWEI\\CanterburyCommuto\\CanterburyCommuto\\canterburycommuto\\notebooks\\results\\outputRoutes-2025-05-23_15-28-56_63519.log\n"
     ]
    }
   ],
   "source": [
    "CanterburyCommuto.Overlap_Function(\n",
    "        \"origin_destination_test.csv\",\n",
    "        \"API_KEY\",\n",
    "        50, 100, 100, \"no\", \"yes\",\n",
    "        \"home_A\", \"work_A\", \"home_B\", \"work_B\", skip_invalid=True\n",
    "    )"
   ]
  },
  {
   "cell_type": "markdown",
   "id": "f0f2f8c6",
   "metadata": {},
   "source": [
    "### Common Node Method (only Overlap Information)"
   ]
  },
  {
   "cell_type": "code",
   "execution_count": null,
   "id": "c8ee5a09",
   "metadata": {},
   "outputs": [
    {
     "name": "stdout",
     "output_type": "stream",
     "text": [
      "\n",
      "[INFO] Estimated number of API requests: 36\n",
      "[INFO] Estimated cost: $0.18\n",
      "[NOTICE] Actual cost may be higher or lower depending on Google’s pricing tiers and route pair complexity.\n",
      "\n",
      "[PROCESSING] Proceeding with route analysis...\n",
      "\n",
      "Map saved to: c:\\Users\\HUAWEI\\CanterburyCommuto\\CanterburyCommuto\\canterburycommuto\\notebooks\\results\\routes_map-2025-05-23_15-29-10_72795.html\n"
     ]
    },
    {
     "data": {
      "text/html": [
       "\n",
       "        <iframe\n",
       "            width=\"100%\"\n",
       "            height=\"500px\"\n",
       "            src=\"results\\routes_map-2025-05-23_15-29-10_72795.html\"\n",
       "            frameborder=\"0\"\n",
       "            allowfullscreen\n",
       "            \n",
       "        ></iframe>\n",
       "        "
      ],
      "text/plain": [
       "<IPython.lib.display.IFrame at 0x23ac8b20b00>"
      ]
     },
     "metadata": {},
     "output_type": "display_data"
    },
    {
     "name": "stdout",
     "output_type": "stream",
     "text": [
      "Map saved to: c:\\Users\\HUAWEI\\CanterburyCommuto\\CanterburyCommuto\\canterburycommuto\\notebooks\\results\\routes_map-2025-05-23_15-29-10_69232.html\n"
     ]
    },
    {
     "data": {
      "text/html": [
       "\n",
       "        <iframe\n",
       "            width=\"100%\"\n",
       "            height=\"500px\"\n",
       "            src=\"results\\routes_map-2025-05-23_15-29-10_69232.html\"\n",
       "            frameborder=\"0\"\n",
       "            allowfullscreen\n",
       "            \n",
       "        ></iframe>\n",
       "        "
      ],
      "text/plain": [
       "<IPython.lib.display.IFrame at 0x23ac8b231d0>"
      ]
     },
     "metadata": {},
     "output_type": "display_data"
    },
    {
     "name": "stdout",
     "output_type": "stream",
     "text": [
      "Map saved to: c:\\Users\\HUAWEI\\CanterburyCommuto\\CanterburyCommuto\\canterburycommuto\\notebooks\\results\\routes_map-2025-05-23_15-29-10_12121.html\n"
     ]
    },
    {
     "data": {
      "text/html": [
       "\n",
       "        <iframe\n",
       "            width=\"100%\"\n",
       "            height=\"500px\"\n",
       "            src=\"results\\routes_map-2025-05-23_15-29-10_12121.html\"\n",
       "            frameborder=\"0\"\n",
       "            allowfullscreen\n",
       "            \n",
       "        ></iframe>\n",
       "        "
      ],
      "text/plain": [
       "<IPython.lib.display.IFrame at 0x23ac8b219d0>"
      ]
     },
     "metadata": {},
     "output_type": "display_data"
    },
    {
     "name": "stdout",
     "output_type": "stream",
     "text": [
      "Error fetching directions: NOT_FOUND\n",
      "Map saved to: c:\\Users\\HUAWEI\\CanterburyCommuto\\CanterburyCommuto\\canterburycommuto\\notebooks\\results\\routes_map-2025-05-23_15-29-11_80104.html\n"
     ]
    },
    {
     "data": {
      "text/html": [
       "\n",
       "        <iframe\n",
       "            width=\"100%\"\n",
       "            height=\"500px\"\n",
       "            src=\"results\\routes_map-2025-05-23_15-29-11_80104.html\"\n",
       "            frameborder=\"0\"\n",
       "            allowfullscreen\n",
       "            \n",
       "        ></iframe>\n",
       "        "
      ],
      "text/plain": [
       "<IPython.lib.display.IFrame at 0x23ac8b94920>"
      ]
     },
     "metadata": {},
     "output_type": "display_data"
    },
    {
     "name": "stdout",
     "output_type": "stream",
     "text": [
      "Map saved to: c:\\Users\\HUAWEI\\CanterburyCommuto\\CanterburyCommuto\\canterburycommuto\\notebooks\\results\\routes_map-2025-05-23_15-29-11_32494.html\n"
     ]
    },
    {
     "data": {
      "text/html": [
       "\n",
       "        <iframe\n",
       "            width=\"100%\"\n",
       "            height=\"500px\"\n",
       "            src=\"results\\routes_map-2025-05-23_15-29-11_32494.html\"\n",
       "            frameborder=\"0\"\n",
       "            allowfullscreen\n",
       "            \n",
       "        ></iframe>\n",
       "        "
      ],
      "text/plain": [
       "<IPython.lib.display.IFrame at 0x23ac8b97cb0>"
      ]
     },
     "metadata": {},
     "output_type": "display_data"
    },
    {
     "name": "stdout",
     "output_type": "stream",
     "text": [
      "Error fetching directions: INVALID_REQUEST\n",
      "Map saved to: c:\\Users\\HUAWEI\\CanterburyCommuto\\CanterburyCommuto\\canterburycommuto\\notebooks\\results\\routes_map-2025-05-23_15-29-11_31069.html\n",
      "Map saved to: c:\\Users\\HUAWEI\\CanterburyCommuto\\CanterburyCommuto\\canterburycommuto\\notebooks\\results\\routes_map-2025-05-23_15-29-11_95235.html\n"
     ]
    },
    {
     "data": {
      "text/html": [
       "\n",
       "        <iframe\n",
       "            width=\"100%\"\n",
       "            height=\"500px\"\n",
       "            src=\"results\\routes_map-2025-05-23_15-29-11_31069.html\"\n",
       "            frameborder=\"0\"\n",
       "            allowfullscreen\n",
       "            \n",
       "        ></iframe>\n",
       "        "
      ],
      "text/plain": [
       "<IPython.lib.display.IFrame at 0x23ac8c522a0>"
      ]
     },
     "metadata": {},
     "output_type": "display_data"
    },
    {
     "data": {
      "text/html": [
       "\n",
       "        <iframe\n",
       "            width=\"100%\"\n",
       "            height=\"500px\"\n",
       "            src=\"results\\routes_map-2025-05-23_15-29-11_95235.html\"\n",
       "            frameborder=\"0\"\n",
       "            allowfullscreen\n",
       "            \n",
       "        ></iframe>\n",
       "        "
      ],
      "text/plain": [
       "<IPython.lib.display.IFrame at 0x23ac8c53140>"
      ]
     },
     "metadata": {},
     "output_type": "display_data"
    },
    {
     "name": "stdout",
     "output_type": "stream",
     "text": [
      "Map saved to: c:\\Users\\HUAWEI\\CanterburyCommuto\\CanterburyCommuto\\canterburycommuto\\notebooks\\results\\routes_map-2025-05-23_15-29-11_15518.html\n"
     ]
    },
    {
     "data": {
      "text/html": [
       "\n",
       "        <iframe\n",
       "            width=\"100%\"\n",
       "            height=\"500px\"\n",
       "            src=\"results\\routes_map-2025-05-23_15-29-11_15518.html\"\n",
       "            frameborder=\"0\"\n",
       "            allowfullscreen\n",
       "            \n",
       "        ></iframe>\n",
       "        "
      ],
      "text/plain": [
       "<IPython.lib.display.IFrame at 0x23ac8bdaed0>"
      ]
     },
     "metadata": {},
     "output_type": "display_data"
    },
    {
     "name": "stdout",
     "output_type": "stream",
     "text": [
      "Error fetching directions: NOT_FOUND\n",
      "Map saved to: c:\\Users\\HUAWEI\\CanterburyCommuto\\CanterburyCommuto\\canterburycommuto\\notebooks\\results\\routes_map-2025-05-23_15-29-11_60417.html\n"
     ]
    },
    {
     "data": {
      "text/html": [
       "\n",
       "        <iframe\n",
       "            width=\"100%\"\n",
       "            height=\"500px\"\n",
       "            src=\"results\\routes_map-2025-05-23_15-29-11_60417.html\"\n",
       "            frameborder=\"0\"\n",
       "            allowfullscreen\n",
       "            \n",
       "        ></iframe>\n",
       "        "
      ],
      "text/plain": [
       "<IPython.lib.display.IFrame at 0x23ac8c82690>"
      ]
     },
     "metadata": {},
     "output_type": "display_data"
    },
    {
     "name": "stdout",
     "output_type": "stream",
     "text": [
      "Error fetching directions: NOT_FOUND\n",
      "Map saved to: c:\\Users\\HUAWEI\\CanterburyCommuto\\CanterburyCommuto\\canterburycommuto\\notebooks\\results\\routes_map-2025-05-23_15-29-11_79830.html\n"
     ]
    },
    {
     "data": {
      "text/html": [
       "\n",
       "        <iframe\n",
       "            width=\"100%\"\n",
       "            height=\"500px\"\n",
       "            src=\"results\\routes_map-2025-05-23_15-29-11_79830.html\"\n",
       "            frameborder=\"0\"\n",
       "            allowfullscreen\n",
       "            \n",
       "        ></iframe>\n",
       "        "
      ],
      "text/plain": [
       "<IPython.lib.display.IFrame at 0x23ac8b954c0>"
      ]
     },
     "metadata": {},
     "output_type": "display_data"
    },
    {
     "name": "stdout",
     "output_type": "stream",
     "text": [
      "Log file saved to: c:\\Users\\HUAWEI\\CanterburyCommuto\\CanterburyCommuto\\canterburycommuto\\notebooks\\results\\outputRoutes_only_overlap-2025-05-23_15-29-10_62906.log\n"
     ]
    }
   ],
   "source": [
    "CanterburyCommuto.Overlap_Function(\n",
    "        \"origin_destination_test.csv\",\n",
    "        \"API_KEY\",\n",
    "        50, 100, 100, \"no\", \"no\",\n",
    "        \"home_A\", \"work_A\", \"home_B\", \"work_B\", skip_invalid=True\n",
    "    )"
   ]
  },
  {
   "cell_type": "markdown",
   "id": "a6c48da9",
   "metadata": {},
   "source": [
    "### Rectangle Approximation Method with Commuting Information Before and After the Overlap"
   ]
  },
  {
   "cell_type": "code",
   "execution_count": null,
   "id": "5c5161a7",
   "metadata": {},
   "outputs": [
    {
     "name": "stdout",
     "output_type": "stream",
     "text": [
      "\n",
      "[INFO] Estimated number of API requests: 91\n",
      "[INFO] Estimated cost: $0.45\n",
      "[NOTICE] Actual cost may be higher or lower depending on Google’s pricing tiers and route pair complexity.\n",
      "\n",
      "[PROCESSING] Proceeding with route analysis...\n",
      "\n",
      "Map saved to: c:\\Users\\HUAWEI\\CanterburyCommuto\\CanterburyCommuto\\canterburycommuto\\notebooks\\results\\routes_map-2025-05-23_15-29-22_92206.html\n",
      "Map saved to: c:\\Users\\HUAWEI\\CanterburyCommuto\\CanterburyCommuto\\canterburycommuto\\notebooks\\results\\routes_map-2025-05-23_15-29-22_40307.html\n"
     ]
    },
    {
     "data": {
      "text/html": [
       "\n",
       "        <iframe\n",
       "            width=\"100%\"\n",
       "            height=\"500px\"\n",
       "            src=\"results\\routes_map-2025-05-23_15-29-22_92206.html\"\n",
       "            frameborder=\"0\"\n",
       "            allowfullscreen\n",
       "            \n",
       "        ></iframe>\n",
       "        "
      ],
      "text/plain": [
       "<IPython.lib.display.IFrame at 0x23ac8c50980>"
      ]
     },
     "metadata": {},
     "output_type": "display_data"
    },
    {
     "data": {
      "text/html": [
       "\n",
       "        <iframe\n",
       "            width=\"100%\"\n",
       "            height=\"500px\"\n",
       "            src=\"results\\routes_map-2025-05-23_15-29-22_40307.html\"\n",
       "            frameborder=\"0\"\n",
       "            allowfullscreen\n",
       "            \n",
       "        ></iframe>\n",
       "        "
      ],
      "text/plain": [
       "<IPython.lib.display.IFrame at 0x23ac8c50f50>"
      ]
     },
     "metadata": {},
     "output_type": "display_data"
    },
    {
     "name": "stdout",
     "output_type": "stream",
     "text": [
      "Map saved to: c:\\Users\\HUAWEI\\CanterburyCommuto\\CanterburyCommuto\\canterburycommuto\\notebooks\\results\\routes_map-2025-05-23_15-29-22_16608.html\n"
     ]
    },
    {
     "data": {
      "text/html": [
       "\n",
       "        <iframe\n",
       "            width=\"100%\"\n",
       "            height=\"500px\"\n",
       "            src=\"results\\routes_map-2025-05-23_15-29-22_16608.html\"\n",
       "            frameborder=\"0\"\n",
       "            allowfullscreen\n",
       "            \n",
       "        ></iframe>\n",
       "        "
      ],
      "text/plain": [
       "<IPython.lib.display.IFrame at 0x23ac8c52f90>"
      ]
     },
     "metadata": {},
     "output_type": "display_data"
    },
    {
     "name": "stdout",
     "output_type": "stream",
     "text": [
      "Error fetching directions: NOT_FOUND\n",
      "Error fetching directions: INVALID_REQUEST\n",
      "Error fetching directions: NOT_FOUND\n",
      "Map saved to: c:\\Users\\HUAWEI\\CanterburyCommuto\\CanterburyCommuto\\canterburycommuto\\notebooks\\results\\routes_map-2025-05-23_15-29-23_23195.html\n"
     ]
    },
    {
     "data": {
      "text/html": [
       "\n",
       "        <iframe\n",
       "            width=\"100%\"\n",
       "            height=\"500px\"\n",
       "            src=\"results\\routes_map-2025-05-23_15-29-23_23195.html\"\n",
       "            frameborder=\"0\"\n",
       "            allowfullscreen\n",
       "            \n",
       "        ></iframe>\n",
       "        "
      ],
      "text/plain": [
       "<IPython.lib.display.IFrame at 0x23ac8876c30>"
      ]
     },
     "metadata": {},
     "output_type": "display_data"
    },
    {
     "name": "stdout",
     "output_type": "stream",
     "text": [
      "Error fetching directions: NOT_FOUND\n",
      "Map saved to: c:\\Users\\HUAWEI\\CanterburyCommuto\\CanterburyCommuto\\canterburycommuto\\notebooks\\results\\routes_map-2025-05-23_15-29-23_59395.html\n"
     ]
    },
    {
     "data": {
      "text/html": [
       "\n",
       "        <iframe\n",
       "            width=\"100%\"\n",
       "            height=\"500px\"\n",
       "            src=\"results\\routes_map-2025-05-23_15-29-23_59395.html\"\n",
       "            frameborder=\"0\"\n",
       "            allowfullscreen\n",
       "            \n",
       "        ></iframe>\n",
       "        "
      ],
      "text/plain": [
       "<IPython.lib.display.IFrame at 0x23ac8aec950>"
      ]
     },
     "metadata": {},
     "output_type": "display_data"
    },
    {
     "name": "stdout",
     "output_type": "stream",
     "text": [
      "Map saved to: c:\\Users\\HUAWEI\\CanterburyCommuto\\CanterburyCommuto\\canterburycommuto\\notebooks\\results\\routes_map-2025-05-23_15-29-23_64938.html\n"
     ]
    },
    {
     "data": {
      "text/html": [
       "\n",
       "        <iframe\n",
       "            width=\"100%\"\n",
       "            height=\"500px\"\n",
       "            src=\"results\\routes_map-2025-05-23_15-29-23_64938.html\"\n",
       "            frameborder=\"0\"\n",
       "            allowfullscreen\n",
       "            \n",
       "        ></iframe>\n",
       "        "
      ],
      "text/plain": [
       "<IPython.lib.display.IFrame at 0x23ac8c52f90>"
      ]
     },
     "metadata": {},
     "output_type": "display_data"
    },
    {
     "name": "stdout",
     "output_type": "stream",
     "text": [
      "Map saved to: c:\\Users\\HUAWEI\\CanterburyCommuto\\CanterburyCommuto\\canterburycommuto\\notebooks\\results\\routes_map-2025-05-23_15-29-24_65723.html\n"
     ]
    },
    {
     "data": {
      "text/html": [
       "\n",
       "        <iframe\n",
       "            width=\"100%\"\n",
       "            height=\"500px\"\n",
       "            src=\"results\\routes_map-2025-05-23_15-29-24_65723.html\"\n",
       "            frameborder=\"0\"\n",
       "            allowfullscreen\n",
       "            \n",
       "        ></iframe>\n",
       "        "
      ],
      "text/plain": [
       "<IPython.lib.display.IFrame at 0x23ac880bef0>"
      ]
     },
     "metadata": {},
     "output_type": "display_data"
    },
    {
     "name": "stdout",
     "output_type": "stream",
     "text": [
      "Map saved to: c:\\Users\\HUAWEI\\CanterburyCommuto\\CanterburyCommuto\\canterburycommuto\\notebooks\\results\\routes_map-2025-05-23_15-29-24_75187.html\n"
     ]
    },
    {
     "data": {
      "text/html": [
       "\n",
       "        <iframe\n",
       "            width=\"100%\"\n",
       "            height=\"500px\"\n",
       "            src=\"results\\routes_map-2025-05-23_15-29-24_75187.html\"\n",
       "            frameborder=\"0\"\n",
       "            allowfullscreen\n",
       "            \n",
       "        ></iframe>\n",
       "        "
      ],
      "text/plain": [
       "<IPython.lib.display.IFrame at 0x23ac8b95730>"
      ]
     },
     "metadata": {},
     "output_type": "display_data"
    },
    {
     "name": "stdout",
     "output_type": "stream",
     "text": [
      "Map saved to: c:\\Users\\HUAWEI\\CanterburyCommuto\\CanterburyCommuto\\canterburycommuto\\notebooks\\results\\routes_map-2025-05-23_15-29-24_64518.html\n"
     ]
    },
    {
     "data": {
      "text/html": [
       "\n",
       "        <iframe\n",
       "            width=\"100%\"\n",
       "            height=\"500px\"\n",
       "            src=\"results\\routes_map-2025-05-23_15-29-24_64518.html\"\n",
       "            frameborder=\"0\"\n",
       "            allowfullscreen\n",
       "            \n",
       "        ></iframe>\n",
       "        "
      ],
      "text/plain": [
       "<IPython.lib.display.IFrame at 0x23ac880a810>"
      ]
     },
     "metadata": {},
     "output_type": "display_data"
    },
    {
     "name": "stdout",
     "output_type": "stream",
     "text": [
      "Map saved to: c:\\Users\\HUAWEI\\CanterburyCommuto\\CanterburyCommuto\\canterburycommuto\\notebooks\\results\\routes_map-2025-05-23_15-29-24_50851.html\n"
     ]
    },
    {
     "data": {
      "text/html": [
       "\n",
       "        <iframe\n",
       "            width=\"100%\"\n",
       "            height=\"500px\"\n",
       "            src=\"results\\routes_map-2025-05-23_15-29-24_50851.html\"\n",
       "            frameborder=\"0\"\n",
       "            allowfullscreen\n",
       "            \n",
       "        ></iframe>\n",
       "        "
      ],
      "text/plain": [
       "<IPython.lib.display.IFrame at 0x23ac8c507d0>"
      ]
     },
     "metadata": {},
     "output_type": "display_data"
    },
    {
     "name": "stdout",
     "output_type": "stream",
     "text": [
      "Log file saved to: c:\\Users\\HUAWEI\\CanterburyCommuto\\CanterburyCommuto\\canterburycommuto\\notebooks\\results\\outputRec-2025-05-23_15-29-22_41603.log\n"
     ]
    }
   ],
   "source": [
    "CanterburyCommuto.Overlap_Function(\n",
    "    \"origin_destination_test.csv\",\n",
    "    \"API_KEY\",\n",
    "    50, 100, 100, \"yes\", \"yes\",\n",
    "    \"home_A\", \"work_A\", \"home_B\", \"work_B\", skip_invalid=True\n",
    ")"
   ]
  },
  {
   "cell_type": "markdown",
   "id": "9e78af94",
   "metadata": {},
   "source": [
    "### Rectangle Approximation Method (only Overlap Information)"
   ]
  },
  {
   "cell_type": "code",
   "execution_count": null,
   "id": "5c2431af",
   "metadata": {},
   "outputs": [
    {
     "name": "stdout",
     "output_type": "stream",
     "text": [
      "\n",
      "[INFO] Estimated number of API requests: 47\n",
      "[INFO] Estimated cost: $0.23\n",
      "[NOTICE] Actual cost may be higher or lower depending on Google’s pricing tiers and route pair complexity.\n",
      "\n",
      "[PROCESSING] Proceeding with route analysis...\n",
      "\n",
      "Map saved to: c:\\Users\\HUAWEI\\CanterburyCommuto\\CanterburyCommuto\\canterburycommuto\\notebooks\\results\\routes_map-2025-05-23_15-29-40_92972.html\n"
     ]
    },
    {
     "data": {
      "text/html": [
       "\n",
       "        <iframe\n",
       "            width=\"100%\"\n",
       "            height=\"500px\"\n",
       "            src=\"results\\routes_map-2025-05-23_15-29-40_92972.html\"\n",
       "            frameborder=\"0\"\n",
       "            allowfullscreen\n",
       "            \n",
       "        ></iframe>\n",
       "        "
      ],
      "text/plain": [
       "<IPython.lib.display.IFrame at 0x23ac8c817c0>"
      ]
     },
     "metadata": {},
     "output_type": "display_data"
    },
    {
     "name": "stdout",
     "output_type": "stream",
     "text": [
      "Map saved to: c:\\Users\\HUAWEI\\CanterburyCommuto\\CanterburyCommuto\\canterburycommuto\\notebooks\\results\\routes_map-2025-05-23_15-29-40_37563.html\n"
     ]
    },
    {
     "data": {
      "text/html": [
       "\n",
       "        <iframe\n",
       "            width=\"100%\"\n",
       "            height=\"500px\"\n",
       "            src=\"results\\routes_map-2025-05-23_15-29-40_37563.html\"\n",
       "            frameborder=\"0\"\n",
       "            allowfullscreen\n",
       "            \n",
       "        ></iframe>\n",
       "        "
      ],
      "text/plain": [
       "<IPython.lib.display.IFrame at 0x23ac8b988c0>"
      ]
     },
     "metadata": {},
     "output_type": "display_data"
    },
    {
     "name": "stdout",
     "output_type": "stream",
     "text": [
      "Map saved to: c:\\Users\\HUAWEI\\CanterburyCommuto\\CanterburyCommuto\\canterburycommuto\\notebooks\\results\\routes_map-2025-05-23_15-29-41_14990.html\n"
     ]
    },
    {
     "data": {
      "text/html": [
       "\n",
       "        <iframe\n",
       "            width=\"100%\"\n",
       "            height=\"500px\"\n",
       "            src=\"results\\routes_map-2025-05-23_15-29-41_14990.html\"\n",
       "            frameborder=\"0\"\n",
       "            allowfullscreen\n",
       "            \n",
       "        ></iframe>\n",
       "        "
      ],
      "text/plain": [
       "<IPython.lib.display.IFrame at 0x23ac8b9b590>"
      ]
     },
     "metadata": {},
     "output_type": "display_data"
    },
    {
     "name": "stdout",
     "output_type": "stream",
     "text": [
      "Error fetching directions: NOT_FOUND\n",
      "Error fetching directions: INVALID_REQUEST\n",
      "Map saved to: c:\\Users\\HUAWEI\\CanterburyCommuto\\CanterburyCommuto\\canterburycommuto\\notebooks\\results\\routes_map-2025-05-23_15-29-41_13039.html\n"
     ]
    },
    {
     "data": {
      "text/html": [
       "\n",
       "        <iframe\n",
       "            width=\"100%\"\n",
       "            height=\"500px\"\n",
       "            src=\"results\\routes_map-2025-05-23_15-29-41_13039.html\"\n",
       "            frameborder=\"0\"\n",
       "            allowfullscreen\n",
       "            \n",
       "        ></iframe>\n",
       "        "
      ],
      "text/plain": [
       "<IPython.lib.display.IFrame at 0x23ac8875700>"
      ]
     },
     "metadata": {},
     "output_type": "display_data"
    },
    {
     "name": "stdout",
     "output_type": "stream",
     "text": [
      "Error fetching directions: NOT_FOUND\n",
      "Map saved to: c:\\Users\\HUAWEI\\CanterburyCommuto\\CanterburyCommuto\\canterburycommuto\\notebooks\\results\\routes_map-2025-05-23_15-29-41_35804.html\n"
     ]
    },
    {
     "data": {
      "text/html": [
       "\n",
       "        <iframe\n",
       "            width=\"100%\"\n",
       "            height=\"500px\"\n",
       "            src=\"results\\routes_map-2025-05-23_15-29-41_35804.html\"\n",
       "            frameborder=\"0\"\n",
       "            allowfullscreen\n",
       "            \n",
       "        ></iframe>\n",
       "        "
      ],
      "text/plain": [
       "<IPython.lib.display.IFrame at 0x23ac883c170>"
      ]
     },
     "metadata": {},
     "output_type": "display_data"
    },
    {
     "name": "stdout",
     "output_type": "stream",
     "text": [
      "Map saved to: c:\\Users\\HUAWEI\\CanterburyCommuto\\CanterburyCommuto\\canterburycommuto\\notebooks\\results\\routes_map-2025-05-23_15-29-41_26804.html\n",
      "Error fetching directions: NOT_FOUND\n"
     ]
    },
    {
     "data": {
      "text/html": [
       "\n",
       "        <iframe\n",
       "            width=\"100%\"\n",
       "            height=\"500px\"\n",
       "            src=\"results\\routes_map-2025-05-23_15-29-41_26804.html\"\n",
       "            frameborder=\"0\"\n",
       "            allowfullscreen\n",
       "            \n",
       "        ></iframe>\n",
       "        "
      ],
      "text/plain": [
       "<IPython.lib.display.IFrame at 0x23ac8bda300>"
      ]
     },
     "metadata": {},
     "output_type": "display_data"
    },
    {
     "name": "stdout",
     "output_type": "stream",
     "text": [
      "Map saved to: c:\\Users\\HUAWEI\\CanterburyCommuto\\CanterburyCommuto\\canterburycommuto\\notebooks\\results\\routes_map-2025-05-23_15-29-41_89963.html\n"
     ]
    },
    {
     "data": {
      "text/html": [
       "\n",
       "        <iframe\n",
       "            width=\"100%\"\n",
       "            height=\"500px\"\n",
       "            src=\"results\\routes_map-2025-05-23_15-29-41_89963.html\"\n",
       "            frameborder=\"0\"\n",
       "            allowfullscreen\n",
       "            \n",
       "        ></iframe>\n",
       "        "
      ],
      "text/plain": [
       "<IPython.lib.display.IFrame at 0x23ac8aeeed0>"
      ]
     },
     "metadata": {},
     "output_type": "display_data"
    },
    {
     "name": "stdout",
     "output_type": "stream",
     "text": [
      "Map saved to: c:\\Users\\HUAWEI\\CanterburyCommuto\\CanterburyCommuto\\canterburycommuto\\notebooks\\results\\routes_map-2025-05-23_15-29-41_21016.html\n"
     ]
    },
    {
     "data": {
      "text/html": [
       "\n",
       "        <iframe\n",
       "            width=\"100%\"\n",
       "            height=\"500px\"\n",
       "            src=\"results\\routes_map-2025-05-23_15-29-41_21016.html\"\n",
       "            frameborder=\"0\"\n",
       "            allowfullscreen\n",
       "            \n",
       "        ></iframe>\n",
       "        "
      ],
      "text/plain": [
       "<IPython.lib.display.IFrame at 0x23ac880a8a0>"
      ]
     },
     "metadata": {},
     "output_type": "display_data"
    },
    {
     "name": "stdout",
     "output_type": "stream",
     "text": [
      "Map saved to: c:\\Users\\HUAWEI\\CanterburyCommuto\\CanterburyCommuto\\canterburycommuto\\notebooks\\results\\routes_map-2025-05-23_15-29-41_68647.html\n"
     ]
    },
    {
     "data": {
      "text/html": [
       "\n",
       "        <iframe\n",
       "            width=\"100%\"\n",
       "            height=\"500px\"\n",
       "            src=\"results\\routes_map-2025-05-23_15-29-41_68647.html\"\n",
       "            frameborder=\"0\"\n",
       "            allowfullscreen\n",
       "            \n",
       "        ></iframe>\n",
       "        "
      ],
      "text/plain": [
       "<IPython.lib.display.IFrame at 0x23ac8c81d60>"
      ]
     },
     "metadata": {},
     "output_type": "display_data"
    },
    {
     "name": "stdout",
     "output_type": "stream",
     "text": [
      "Map saved to: c:\\Users\\HUAWEI\\CanterburyCommuto\\CanterburyCommuto\\canterburycommuto\\notebooks\\results\\routes_map-2025-05-23_15-29-41_42641.html\n"
     ]
    },
    {
     "data": {
      "text/html": [
       "\n",
       "        <iframe\n",
       "            width=\"100%\"\n",
       "            height=\"500px\"\n",
       "            src=\"results\\routes_map-2025-05-23_15-29-41_42641.html\"\n",
       "            frameborder=\"0\"\n",
       "            allowfullscreen\n",
       "            \n",
       "        ></iframe>\n",
       "        "
      ],
      "text/plain": [
       "<IPython.lib.display.IFrame at 0x23ac8b99280>"
      ]
     },
     "metadata": {},
     "output_type": "display_data"
    },
    {
     "name": "stdout",
     "output_type": "stream",
     "text": [
      "Log file saved to: c:\\Users\\HUAWEI\\CanterburyCommuto\\CanterburyCommuto\\canterburycommuto\\notebooks\\results\\outputRec_only_overlap-2025-05-23_15-29-40_89158.log\n"
     ]
    }
   ],
   "source": [
    "CanterburyCommuto.Overlap_Function(\n",
    "    \"origin_destination_test.csv\", \n",
    "    \"API_KEY\", \n",
    "    50, 100, 100, \"yes\", \"no\", \n",
    "    \"home_A\", \"work_A\", \"home_B\", \"work_B\", skip_invalid=True\n",
    "    )"
   ]
  },
  {
   "cell_type": "markdown",
   "id": "905edf52",
   "metadata": {},
   "source": [
    "### Buffer Area Ratio Method"
   ]
  },
  {
   "cell_type": "code",
   "execution_count": null,
   "id": "46cf024c",
   "metadata": {},
   "outputs": [
    {
     "name": "stdout",
     "output_type": "stream",
     "text": [
      "\n",
      "[INFO] Estimated number of API requests: 22\n",
      "[INFO] Estimated cost: $0.11\n",
      "[NOTICE] Actual cost may be higher or lower depending on Google’s pricing tiers and route pair complexity.\n",
      "\n",
      "[PROCESSING] Proceeding with route analysis...\n",
      "\n",
      "Error fetching directions: NOT_FOUND\n",
      "Map saved to: c:\\Users\\HUAWEI\\CanterburyCommuto\\CanterburyCommuto\\canterburycommuto\\notebooks\\results\\routes_with_buffers_map-2025-05-23_15-29-53_87196.html\n"
     ]
    },
    {
     "data": {
      "text/html": [
       "\n",
       "        <iframe\n",
       "            width=\"100%\"\n",
       "            height=\"600px\"\n",
       "            src=\"results\\routes_with_buffers_map-2025-05-23_15-29-53_87196.html\"\n",
       "            frameborder=\"0\"\n",
       "            allowfullscreen\n",
       "            \n",
       "        ></iframe>\n",
       "        "
      ],
      "text/plain": [
       "<IPython.lib.display.IFrame at 0x23ac8bdb110>"
      ]
     },
     "metadata": {},
     "output_type": "display_data"
    },
    {
     "name": "stdout",
     "output_type": "stream",
     "text": [
      "Warning: Not enough points to create buffer. Returning None.\n",
      "Map has been displayed inline and saved as 'results\\routes_with_buffers_map-2025-05-23_15-29-53_87196.html'.\n",
      "Map saved to: c:\\Users\\HUAWEI\\CanterburyCommuto\\CanterburyCommuto\\canterburycommuto\\notebooks\\results\\routes_with_buffers_map-2025-05-23_15-29-53_66250.html\n"
     ]
    },
    {
     "data": {
      "text/html": [
       "\n",
       "        <iframe\n",
       "            width=\"100%\"\n",
       "            height=\"600px\"\n",
       "            src=\"results\\routes_with_buffers_map-2025-05-23_15-29-53_66250.html\"\n",
       "            frameborder=\"0\"\n",
       "            allowfullscreen\n",
       "            \n",
       "        ></iframe>\n",
       "        "
      ],
      "text/plain": [
       "<IPython.lib.display.IFrame at 0x23ac8b988f0>"
      ]
     },
     "metadata": {},
     "output_type": "display_data"
    },
    {
     "name": "stdout",
     "output_type": "stream",
     "text": [
      "Map has been displayed inline and saved as 'results\\routes_with_buffers_map-2025-05-23_15-29-53_66250.html'.\n",
      "Map saved to: c:\\Users\\HUAWEI\\CanterburyCommuto\\CanterburyCommuto\\canterburycommuto\\notebooks\\results\\routes_with_buffers_map-2025-05-23_15-29-53_21966.html\n",
      "Map saved to: c:\\Users\\HUAWEI\\CanterburyCommuto\\CanterburyCommuto\\canterburycommuto\\notebooks\\results\\routes_with_buffers_map-2025-05-23_15-29-53_30519.html\n"
     ]
    },
    {
     "data": {
      "text/html": [
       "\n",
       "        <iframe\n",
       "            width=\"100%\"\n",
       "            height=\"600px\"\n",
       "            src=\"results\\routes_with_buffers_map-2025-05-23_15-29-53_21966.html\"\n",
       "            frameborder=\"0\"\n",
       "            allowfullscreen\n",
       "            \n",
       "        ></iframe>\n",
       "        "
      ],
      "text/plain": [
       "<IPython.lib.display.IFrame at 0x23ac880b290>"
      ]
     },
     "metadata": {},
     "output_type": "display_data"
    },
    {
     "data": {
      "text/html": [
       "\n",
       "        <iframe\n",
       "            width=\"100%\"\n",
       "            height=\"600px\"\n",
       "            src=\"results\\routes_with_buffers_map-2025-05-23_15-29-53_30519.html\"\n",
       "            frameborder=\"0\"\n",
       "            allowfullscreen\n",
       "            \n",
       "        ></iframe>\n",
       "        "
      ],
      "text/plain": [
       "<IPython.lib.display.IFrame at 0x23ac8bd93d0>"
      ]
     },
     "metadata": {},
     "output_type": "display_data"
    },
    {
     "name": "stdout",
     "output_type": "stream",
     "text": [
      "Map has been displayed inline and saved as 'results\\routes_with_buffers_map-2025-05-23_15-29-53_21966.html'.\n",
      "Map has been displayed inline and saved as 'results\\routes_with_buffers_map-2025-05-23_15-29-53_30519.html'.\n",
      "Map saved to: c:\\Users\\HUAWEI\\CanterburyCommuto\\CanterburyCommuto\\canterburycommuto\\notebooks\\results\\routes_with_buffers_map-2025-05-23_15-29-53_98427.html\n"
     ]
    },
    {
     "data": {
      "text/html": [
       "\n",
       "        <iframe\n",
       "            width=\"100%\"\n",
       "            height=\"600px\"\n",
       "            src=\"results\\routes_with_buffers_map-2025-05-23_15-29-53_98427.html\"\n",
       "            frameborder=\"0\"\n",
       "            allowfullscreen\n",
       "            \n",
       "        ></iframe>\n",
       "        "
      ],
      "text/plain": [
       "<IPython.lib.display.IFrame at 0x23ac8aedbb0>"
      ]
     },
     "metadata": {},
     "output_type": "display_data"
    },
    {
     "name": "stdout",
     "output_type": "stream",
     "text": [
      "Map has been displayed inline and saved as 'results\\routes_with_buffers_map-2025-05-23_15-29-53_98427.html'.\n",
      "Error fetching directions: INVALID_REQUEST\n",
      "Map saved to: c:\\Users\\HUAWEI\\CanterburyCommuto\\CanterburyCommuto\\canterburycommuto\\notebooks\\results\\routes_with_buffers_map-2025-05-23_15-29-53_13150.html\n"
     ]
    },
    {
     "data": {
      "text/html": [
       "\n",
       "        <iframe\n",
       "            width=\"100%\"\n",
       "            height=\"600px\"\n",
       "            src=\"results\\routes_with_buffers_map-2025-05-23_15-29-53_13150.html\"\n",
       "            frameborder=\"0\"\n",
       "            allowfullscreen\n",
       "            \n",
       "        ></iframe>\n",
       "        "
      ],
      "text/plain": [
       "<IPython.lib.display.IFrame at 0x23ac8876270>"
      ]
     },
     "metadata": {},
     "output_type": "display_data"
    },
    {
     "name": "stdout",
     "output_type": "stream",
     "text": [
      "Map has been displayed inline and saved as 'results\\routes_with_buffers_map-2025-05-23_15-29-53_13150.html'.\n",
      "Error fetching directions: NOT_FOUND\n",
      "Map saved to: c:\\Users\\HUAWEI\\CanterburyCommuto\\CanterburyCommuto\\canterburycommuto\\notebooks\\results\\routes_with_buffers_map-2025-05-23_15-29-53_46020.htmlError fetching directions: NOT_FOUND\n",
      "\n"
     ]
    },
    {
     "data": {
      "text/html": [
       "\n",
       "        <iframe\n",
       "            width=\"100%\"\n",
       "            height=\"600px\"\n",
       "            src=\"results\\routes_with_buffers_map-2025-05-23_15-29-53_46020.html\"\n",
       "            frameborder=\"0\"\n",
       "            allowfullscreen\n",
       "            \n",
       "        ></iframe>\n",
       "        "
      ],
      "text/plain": [
       "<IPython.lib.display.IFrame at 0x23ac8b98080>"
      ]
     },
     "metadata": {},
     "output_type": "display_data"
    },
    {
     "name": "stdout",
     "output_type": "stream",
     "text": [
      "Map has been displayed inline and saved as 'results\\routes_with_buffers_map-2025-05-23_15-29-53_46020.html'.\n",
      "Warning: Not enough points to create buffer. Returning None.\n",
      "Warning: Not enough points to create buffer. Returning None.\n",
      "Warning: Not enough points to create buffer. Returning None.\n",
      "Log file saved to: c:\\Users\\HUAWEI\\CanterburyCommuto\\CanterburyCommuto\\canterburycommuto\\notebooks\\results\\buffer_intersection_results-2025-05-23_15-29-52_71833.log\n"
     ]
    }
   ],
   "source": [
    "CanterburyCommuto.Overlap_Function(\n",
    "    \"origin_destination_test.csv\", \n",
    "    \"API_KEY\", \n",
    "    50, 100, 100, \"yes with buffer\", \n",
    "    \"no\", \"home_A\", \"work_A\", \"home_B\", \"work_B\", skip_invalid=True\n",
    ")"
   ]
  },
  {
   "cell_type": "markdown",
   "id": "ce36b6fe",
   "metadata": {},
   "source": [
    "### Buffer Route Node Method with Commuting Information Before and After the Overlap"
   ]
  },
  {
   "cell_type": "code",
   "execution_count": null,
   "id": "f9cb61c7",
   "metadata": {},
   "outputs": [
    {
     "name": "stdout",
     "output_type": "stream",
     "text": [
      "\n",
      "[INFO] Estimated number of API requests: 82\n",
      "[INFO] Estimated cost: $0.41\n",
      "[NOTICE] Actual cost may be higher or lower depending on Google’s pricing tiers and route pair complexity.\n",
      "\n",
      "[PROCESSING] Proceeding with route analysis...\n",
      "\n",
      "Map saved to: c:\\Users\\HUAWEI\\CanterburyCommuto\\CanterburyCommuto\\canterburycommuto\\notebooks\\results\\routes_with_buffers_map-2025-05-23_15-30-05_64071.html\n"
     ]
    },
    {
     "data": {
      "text/html": [
       "\n",
       "        <iframe\n",
       "            width=\"100%\"\n",
       "            height=\"600px\"\n",
       "            src=\"results\\routes_with_buffers_map-2025-05-23_15-30-05_64071.html\"\n",
       "            frameborder=\"0\"\n",
       "            allowfullscreen\n",
       "            \n",
       "        ></iframe>\n",
       "        "
      ],
      "text/plain": [
       "<IPython.lib.display.IFrame at 0x23ac8b96240>"
      ]
     },
     "metadata": {},
     "output_type": "display_data"
    },
    {
     "name": "stdout",
     "output_type": "stream",
     "text": [
      "Map has been displayed inline and saved as 'results\\routes_with_buffers_map-2025-05-23_15-30-05_64071.html'.\n",
      "Error fetching directions: NOT_FOUND\n",
      "Error fetching directions: INVALID_REQUEST\n",
      "Warning: Not enough points to create buffer. Returning None.\n",
      "Warning: Not enough points to create buffer. Returning None.\n",
      "Map saved to: c:\\Users\\HUAWEI\\CanterburyCommuto\\CanterburyCommuto\\canterburycommuto\\notebooks\\results\\routes_with_buffers_map-2025-05-23_15-30-05_20324.html\n"
     ]
    },
    {
     "data": {
      "text/html": [
       "\n",
       "        <iframe\n",
       "            width=\"100%\"\n",
       "            height=\"600px\"\n",
       "            src=\"results\\routes_with_buffers_map-2025-05-23_15-30-05_20324.html\"\n",
       "            frameborder=\"0\"\n",
       "            allowfullscreen\n",
       "            \n",
       "        ></iframe>\n",
       "        "
      ],
      "text/plain": [
       "<IPython.lib.display.IFrame at 0x23ac8875df0>"
      ]
     },
     "metadata": {},
     "output_type": "display_data"
    },
    {
     "name": "stdout",
     "output_type": "stream",
     "text": [
      "Map has been displayed inline and saved as 'results\\routes_with_buffers_map-2025-05-23_15-30-05_20324.html'.\n",
      "Map saved to: c:\\Users\\HUAWEI\\CanterburyCommuto\\CanterburyCommuto\\canterburycommuto\\notebooks\\results\\routes_with_buffers_map-2025-05-23_15-30-05_84256.html\n",
      "Map saved to: c:\\Users\\HUAWEI\\CanterburyCommuto\\CanterburyCommuto\\canterburycommuto\\notebooks\\results\\routes_with_buffers_map-2025-05-23_15-30-05_96365.html\n"
     ]
    },
    {
     "data": {
      "text/html": [
       "\n",
       "        <iframe\n",
       "            width=\"100%\"\n",
       "            height=\"600px\"\n",
       "            src=\"results\\routes_with_buffers_map-2025-05-23_15-30-05_96365.html\"\n",
       "            frameborder=\"0\"\n",
       "            allowfullscreen\n",
       "            \n",
       "        ></iframe>\n",
       "        "
      ],
      "text/plain": [
       "<IPython.lib.display.IFrame at 0x23ac8c80c50>"
      ]
     },
     "metadata": {},
     "output_type": "display_data"
    },
    {
     "data": {
      "text/html": [
       "\n",
       "        <iframe\n",
       "            width=\"100%\"\n",
       "            height=\"600px\"\n",
       "            src=\"results\\routes_with_buffers_map-2025-05-23_15-30-05_84256.html\"\n",
       "            frameborder=\"0\"\n",
       "            allowfullscreen\n",
       "            \n",
       "        ></iframe>\n",
       "        "
      ],
      "text/plain": [
       "<IPython.lib.display.IFrame at 0x23ac8b979b0>"
      ]
     },
     "metadata": {},
     "output_type": "display_data"
    },
    {
     "name": "stdout",
     "output_type": "stream",
     "text": [
      "Map has been displayed inline and saved as 'results\\routes_with_buffers_map-2025-05-23_15-30-05_96365.html'.\n",
      "Map saved to: c:\\Users\\HUAWEI\\CanterburyCommuto\\CanterburyCommuto\\canterburycommuto\\notebooks\\results\\routes_with_buffers_map-2025-05-23_15-30-05_20288.html\n"
     ]
    },
    {
     "data": {
      "text/html": [
       "\n",
       "        <iframe\n",
       "            width=\"100%\"\n",
       "            height=\"600px\"\n",
       "            src=\"results\\routes_with_buffers_map-2025-05-23_15-30-05_20288.html\"\n",
       "            frameborder=\"0\"\n",
       "            allowfullscreen\n",
       "            \n",
       "        ></iframe>\n",
       "        "
      ],
      "text/plain": [
       "<IPython.lib.display.IFrame at 0x23ac8b988c0>"
      ]
     },
     "metadata": {},
     "output_type": "display_data"
    },
    {
     "name": "stdout",
     "output_type": "stream",
     "text": [
      "Map has been displayed inline and saved as 'results\\routes_with_buffers_map-2025-05-23_15-30-05_84256.html'.\n",
      "Map has been displayed inline and saved as 'results\\routes_with_buffers_map-2025-05-23_15-30-05_20288.html'.\n",
      "Map saved to: c:\\Users\\HUAWEI\\CanterburyCommuto\\CanterburyCommuto\\canterburycommuto\\notebooks\\results\\routes_with_buffers_map-2025-05-23_15-30-05_90430.html\n"
     ]
    },
    {
     "data": {
      "text/html": [
       "\n",
       "        <iframe\n",
       "            width=\"100%\"\n",
       "            height=\"600px\"\n",
       "            src=\"results\\routes_with_buffers_map-2025-05-23_15-30-05_90430.html\"\n",
       "            frameborder=\"0\"\n",
       "            allowfullscreen\n",
       "            \n",
       "        ></iframe>\n",
       "        "
      ],
      "text/plain": [
       "<IPython.lib.display.IFrame at 0x23ac8bda630>"
      ]
     },
     "metadata": {},
     "output_type": "display_data"
    },
    {
     "name": "stdout",
     "output_type": "stream",
     "text": [
      "Map has been displayed inline and saved as 'results\\routes_with_buffers_map-2025-05-23_15-30-05_90430.html'.\n",
      "Warning: One or both buffer polygons are None. Cannot compute intersection.\n",
      "Map saved to: c:\\Users\\HUAWEI\\CanterburyCommuto\\CanterburyCommuto\\canterburycommuto\\notebooks\\results\\routes_with_buffers_map-2025-05-23_15-30-05_27799.html\n"
     ]
    },
    {
     "data": {
      "text/html": [
       "\n",
       "        <iframe\n",
       "            width=\"100%\"\n",
       "            height=\"600px\"\n",
       "            src=\"results\\routes_with_buffers_map-2025-05-23_15-30-05_27799.html\"\n",
       "            frameborder=\"0\"\n",
       "            allowfullscreen\n",
       "            \n",
       "        ></iframe>\n",
       "        "
      ],
      "text/plain": [
       "<IPython.lib.display.IFrame at 0x23ac8d50350>"
      ]
     },
     "metadata": {},
     "output_type": "display_data"
    },
    {
     "name": "stdout",
     "output_type": "stream",
     "text": [
      "Warning: One or both buffer polygons are None. Cannot compute intersection.\n",
      "Map has been displayed inline and saved as 'results\\routes_with_buffers_map-2025-05-23_15-30-05_27799.html'.\n",
      "Error fetching directions: NOT_FOUND\n",
      "Error fetching directions: NOT_FOUND\n",
      "Warning: Not enough points to create buffer. Returning None.\n",
      "Warning: Not enough points to create buffer. Returning None.\n",
      "Before segment: ([(5.37344, -3.99877), (5.37345, -3.99855), (5.37347, -3.99848), (5.37337, -3.99847), (5.37305, -3.99846), (5.37275, -3.99846), (5.37218, -3.99841), (5.37171, -3.99833), (5.37142, -3.99829), (5.37099, -3.99825), (5.3707, -3.99825), (5.37022, -3.99825), (5.36842, -3.99825), (5.36763, -3.99825), (5.36717, -3.99823), (5.36692, -3.99815), (5.36679, -3.99808), (5.36653, -3.99784), (5.3663, -3.99764), (5.36608, -3.99754), (5.36598, -3.99752), (5.36516, -3.9975), (5.36157, -3.99751), (5.36125, -3.99755), (5.36101, -3.99763), (5.36091, -3.99768), (5.36071, -3.99782), (5.36055, -3.99798), (5.36035, -3.99822), (5.35951, -3.9994), (5.3587, -4.0005), (5.35831, -4.00098), (5.35802, -4.00123), (5.35778, -4.00134), (5.35727, -4.00144), (5.35612, -4.00158), (5.35513, -4.0017), (5.35329, -4.00194), (5.35009, -4.00233), (5.34813, -4.00255), (5.34687, -4.00267), (5.34554, -4.00282), (5.34508, -4.00287), (5.34465, -4.00295), (5.34413, -4.00303)], 3.528, 8.65)\n",
      "During segment: ([(5.34412, -4.00305), (5.34406, -4.0031), (5.34398, -4.00311), (5.34392, -4.00309), (5.3439, -4.00308), (5.34369, -4.0031), (5.3428, -4.00321), (5.33983, -4.0036), (5.33796, -4.00382), (5.33673, -4.00398), (5.3364, -4.00402), (5.33622, -4.00405), (5.33612, -4.00403), (5.3361, -4.00405), (5.33603, -4.00409), (5.33595, -4.00407), (5.33593, -4.00405), (5.3359, -4.00406), (5.33583, -4.00409), (5.3355, -4.0041), (5.33532, -4.00412)], 0.994, 2.75)\n",
      "After segment: ([(5.33532, -4.00412), (5.33444, -4.00425), (5.33339, -4.00439), (5.32986, -4.00482), (5.32797, -4.00505)], 0.824, 1.5666666666666667)\n",
      "Warning: One or both buffer polygons are None. Cannot compute intersection.\n",
      "Warning: One or both buffer polygons are None. Cannot compute intersection.\n",
      "Before segment: ([(5.37344, -3.99877), (5.37345, -3.99855), (5.37347, -3.99848), (5.37337, -3.99847), (5.37305, -3.99846), (5.37275, -3.99846), (5.37218, -3.99841), (5.37171, -3.99833), (5.37142, -3.99829), (5.37099, -3.99825), (5.3707, -3.99825), (5.37022, -3.99825), (5.36842, -3.99825)], 0.595, 1.9333333333333333)\n",
      "During segment: ([(5.36842, -3.99825), (5.36763, -3.99825), (5.36717, -3.99823), (5.36692, -3.99815), (5.36679, -3.99808), (5.36653, -3.99784), (5.3663, -3.99764), (5.36608, -3.99754), (5.36598, -3.99752), (5.36516, -3.9975), (5.36298, -3.99751), (5.36157, -3.99751), (5.36125, -3.99755), (5.36101, -3.99763), (5.36091, -3.99768), (5.36071, -3.99782), (5.36055, -3.99798), (5.36035, -3.99822), (5.35951, -3.9994), (5.3587, -4.0005), (5.35831, -4.00098), (5.35802, -4.00123), (5.35778, -4.00134), (5.35727, -4.00144), (5.35612, -4.00158), (5.35513, -4.0017), (5.35443, -4.0018), (5.35195, -4.0021), (5.35009, -4.00233), (5.34813, -4.00255), (5.34687, -4.00267), (5.34554, -4.00282), (5.34465, -4.00295), (5.34413, -4.00303), (5.3441, -4.00306), (5.34404, -4.0031), (5.34396, -4.00311), (5.3439, -4.00308), (5.34244, -4.00326), (5.33887, -4.00371), (5.33769, -4.00386), (5.3364, -4.00402), (5.33622, -4.00405), (5.33612, -4.00403), (5.33608, -4.00407), (5.33603, -4.00409), (5.33597, -4.00408), (5.33595, -4.00407), (5.33593, -4.00405), (5.3359, -4.00406), (5.33583, -4.00409), (5.33568, -4.0041), (5.33532, -4.00412)], 3.93, 9.516666666666667)\n",
      "After segment: ([(5.33532, -4.00412), (5.33444, -4.00425), (5.33339, -4.00439), (5.32986, -4.00482), (5.32797, -4.00505)], 0.824, 1.5666666666666667)\n",
      "Before segment: ([(5.37344, -3.99877), (5.37345, -3.99855), (5.37347, -3.99848), (5.37337, -3.99847), (5.37305, -3.99846), (5.37275, -3.99846), (5.37218, -3.99841), (5.37171, -3.99833), (5.37142, -3.99829), (5.37099, -3.99825), (5.3707, -3.99825), (5.37022, -3.99825), (5.36842, -3.99825), (5.36763, -3.99825), (5.36717, -3.99823), (5.36692, -3.99815), (5.36679, -3.99808), (5.36653, -3.99784), (5.3663, -3.99764), (5.36608, -3.99754), (5.36598, -3.99752), (5.36516, -3.9975), (5.36157, -3.99751)], 1.382, 3.6666666666666665)\n",
      "During segment: ([(5.36157, -3.99751), (5.36125, -3.99755), (5.36101, -3.99763), (5.36091, -3.99768), (5.36071, -3.99782), (5.36055, -3.99798), (5.36035, -3.99822), (5.35951, -3.9994), (5.3587, -4.0005), (5.35831, -4.00098), (5.35802, -4.00123), (5.35778, -4.00134), (5.35727, -4.00144), (5.35612, -4.00158), (5.35513, -4.0017), (5.35329, -4.00194), (5.35009, -4.00233), (5.34813, -4.00255), (5.34687, -4.00267), (5.34554, -4.00282), (5.34508, -4.00287), (5.34413, -4.00303), (5.34407, -4.00309), (5.344, -4.00311), (5.34393, -4.00309), (5.3439, -4.00308), (5.34307, -4.00318), (5.34066, -4.00349), (5.33832, -4.00378), (5.33683, -4.00397), (5.3364, -4.00402), (5.33622, -4.00405), (5.33612, -4.00403), (5.33608, -4.00407), (5.33603, -4.00409), (5.33597, -4.00408), (5.33595, -4.00407), (5.33593, -4.00405), (5.3359, -4.00406), (5.33583, -4.00409), (5.33568, -4.0041), (5.33532, -4.00412), (5.33444, -4.00425), (5.33215, -4.00454)], 3.498, 8.4)\n",
      "After segment: ([(5.33215, -4.00454), (5.32797, -4.00505)], 0.468, 0.9666666666666667)\n",
      "Before segment: ([(5.36172, -3.99001), (5.36173, -3.99116), (5.36172, -3.99224), (5.36173, -3.99256), (5.36177, -3.99304), (5.36187, -3.99335), (5.36222, -3.99399), (5.36237, -3.9944), (5.36244, -3.99478), (5.36245, -3.99699)], 0.789, 1.6166666666666667)\n",
      "During segment: ([(5.36245, -3.99699), (5.36244, -3.9975), (5.36167, -3.99751), (5.36132, -3.99753), (5.36101, -3.99763), (5.36085, -3.99772), (5.36062, -3.99791), (5.36036, -3.9982), (5.35969, -3.99914), (5.35894, -4.00016), (5.35837, -4.00092), (5.35823, -4.00105), (5.35796, -4.00127), (5.35761, -4.00139), (5.35719, -4.00145), (5.35539, -4.00167), (5.3545, -4.00179), (5.35216, -4.00208), (5.34852, -4.00252), (5.34598, -4.00277), (5.34473, -4.00293), (5.34453, -4.00297), (5.34413, -4.00303), (5.34411, -4.00306), (5.34405, -4.0031), (5.34397, -4.00311), (5.34391, -4.00308), (5.34351, -4.00312), (5.34275, -4.00322), (5.33911, -4.00369), (5.33772, -4.00385), (5.33706, -4.00394), (5.33653, -4.00399), (5.33629, -4.00404), (5.33618, -4.00404), (5.33612, -4.00403), (5.3361, -4.00405), (5.33605, -4.00408), (5.336, -4.00409), (5.33593, -4.00405), (5.33588, -4.00408), (5.33576, -4.00409), (5.33542, -4.00411), (5.33515, -4.00414)], 3.314, 8.45)\n",
      "After segment: ([(5.33515, -4.00414), (5.33444, -4.00425), (5.33296, -4.00444), (5.33159, -4.00461), (5.33031, -4.00476), (5.3302, -4.004), (5.33002, -4.00261), (5.32991, -4.00158), (5.32984, -4.00099), (5.32914, -4.00107), (5.32722, -4.00131), (5.32602, -4.00145), (5.32509, -4.00158), (5.32477, -4.00163), (5.32441, -4.00172), (5.32365, -4.00194), (5.32275, -4.0022)], 1.765, 4.583333333333333)\n",
      "Before segment: ([(5.37344, -3.99877), (5.37345, -3.99855), (5.37347, -3.99848), (5.37337, -3.99847), (5.37305, -3.99846), (5.37275, -3.99846), (5.37218, -3.99841), (5.37171, -3.99833), (5.37142, -3.99829), (5.37099, -3.99825), (5.3707, -3.99825), (5.37022, -3.99825), (5.36842, -3.99825), (5.36763, -3.99825), (5.36717, -3.99823), (5.36692, -3.99815), (5.36679, -3.99808), (5.36653, -3.99784), (5.3663, -3.99764), (5.36608, -3.99754), (5.36598, -3.99752), (5.36516, -3.9975), (5.36157, -3.99751), (5.36125, -3.99755), (5.36101, -3.99763), (5.36091, -3.99768), (5.36071, -3.99782), (5.36055, -3.99798), (5.36035, -3.99822), (5.35951, -3.9994), (5.3587, -4.0005), (5.35831, -4.00098), (5.35802, -4.00123), (5.35778, -4.00134), (5.35727, -4.00144), (5.35612, -4.00158), (5.35513, -4.0017), (5.35329, -4.00194), (5.35009, -4.00233), (5.34813, -4.00255)], 3.08, 7.666666666666667)\n",
      "During segment: ([(5.34813, -4.00255), (5.34598, -4.00277), (5.34473, -4.00293), (5.34453, -4.00297), (5.34413, -4.00303), (5.34411, -4.00306), (5.34405, -4.0031), (5.34397, -4.00311), (5.34392, -4.00309)], 0.475, 1.0833333333333333)\n",
      "After segment: ([(5.3439, -4.00307), (5.34227, -4.00328), (5.33867, -4.00373), (5.33751, -4.00388), (5.3368, -4.00397), (5.33653, -4.00399), (5.33629, -4.00404), (5.33618, -4.00404), (5.33612, -4.00403), (5.33605, -4.00408), (5.33595, -4.00407), (5.33593, -4.00405), (5.33588, -4.00408), (5.33559, -4.00411), (5.33515, -4.00414), (5.33444, -4.00425), (5.33296, -4.00444), (5.32917, -4.00491), (5.32797, -4.00505)], 1.79, 4.266666666666667)\n",
      "Before segment: ([(5.35576, -3.96982)], 0.0, 0.0)\n",
      "During segment: ([(5.35576, -3.96982), (5.35617, -3.96841), (5.3565, -3.9676), (5.35645, -3.96755), (5.35643, -3.96748), (5.35644, -3.96736), (5.35651, -3.96727), (5.35658, -3.96724), (5.35665, -3.96723), (5.35676, -3.96727), (5.35681, -3.96733), (5.35683, -3.9674), (5.35683, -3.96747), (5.35678, -3.96758), (5.35665, -3.96763), (5.35661, -3.96764), (5.35646, -3.96799), (5.35617, -3.96882), (5.35588, -3.9698), (5.35574, -3.97029), (5.35561, -3.97081), (5.35549, -3.97117), (5.35521, -3.97201), (5.35496, -3.97288), (5.35464, -3.97391), (5.35427, -3.97522), (5.35409, -3.97592), (5.35373, -3.97724), (5.35326, -3.97881), (5.35244, -3.98144), (5.35205, -3.98263), (5.35178, -3.98337), (5.3509, -3.98644), (5.34987, -3.99015), (5.34967, -3.99082), (5.34955, -3.99133), (5.34942, -3.99198), (5.34936, -3.99233), (5.34931, -3.99285), (5.3493, -3.99347), (5.34948, -3.99587), (5.34946, -3.99629), (5.3494, -3.99695), (5.34886, -3.99695), (5.34852, -3.99699), (5.34736, -3.99714), (5.3458, -3.99735), (5.34538, -3.9974), (5.34449, -3.99828), (5.34387, -3.9989), (5.34376, -3.99905), (5.34369, -3.99918), (5.34363, -3.99935), (5.3436, -3.99955), (5.34362, -3.99985), (5.34367, -4.00018), (5.34375, -4.00055), (5.34386, -4.00141), (5.34394, -4.00197), (5.34408, -4.00284), (5.34411, -4.00288), (5.34414, -4.00295), (5.34413, -4.00302), (5.34409, -4.00308), (5.34402, -4.00311), (5.34394, -4.0031), (5.34392, -4.00309), (5.3439, -4.00308), (5.34369, -4.0031)], 4.97, 11.183333333333334)\n",
      "After segment: ([(5.34369, -4.0031), (5.34137, -4.0034), (5.33861, -4.00374), (5.33716, -4.00392), (5.33673, -4.00398), (5.3364, -4.00402), (5.33622, -4.00405), (5.33612, -4.00403), (5.3361, -4.00405), (5.33614, -4.0041), (5.33619, -4.00487), (5.33621, -4.00533), (5.3362, -4.0055), (5.33607, -4.00553), (5.33542, -4.00564), (5.33519, -4.00568), (5.33476, -4.00579), (5.33454, -4.00586), (5.33428, -4.00601), (5.33401, -4.00621), (5.33345, -4.00678), (5.33323, -4.00699)], 1.396, 4.233333333333333)\n",
      "Before segment: ([(5.35576, -3.96982), (5.35617, -3.96841), (5.3565, -3.9676), (5.35645, -3.96755), (5.35643, -3.96748), (5.35644, -3.96736), (5.35651, -3.96727), (5.35658, -3.96724), (5.35665, -3.96723), (5.35676, -3.96727), (5.35681, -3.96733), (5.35683, -3.9674), (5.35683, -3.96747), (5.35678, -3.96758), (5.35665, -3.96763), (5.35661, -3.96764), (5.35646, -3.96799), (5.35617, -3.96882), (5.35588, -3.9698), (5.35574, -3.97029), (5.35561, -3.97081), (5.35549, -3.97117), (5.35521, -3.97201), (5.35496, -3.97288), (5.35464, -3.97391), (5.35427, -3.97522), (5.35409, -3.97592), (5.35373, -3.97724), (5.35326, -3.97881), (5.35244, -3.98144), (5.35205, -3.98263), (5.35178, -3.98337), (5.3509, -3.98644), (5.34987, -3.99015), (5.34967, -3.99082), (5.34955, -3.99133), (5.34942, -3.99198), (5.34936, -3.99233), (5.34931, -3.99285), (5.3493, -3.99347), (5.34948, -3.99587), (5.34946, -3.99629), (5.3494, -3.99695), (5.34886, -3.99695), (5.34852, -3.99699), (5.34736, -3.99714), (5.3458, -3.99735), (5.34538, -3.9974), (5.34449, -3.99828), (5.34387, -3.9989), (5.34376, -3.99905), (5.34369, -3.99918), (5.34363, -3.99935), (5.3436, -3.99955), (5.34362, -3.99985), (5.34367, -4.00018), (5.34375, -4.00055), (5.34386, -4.00141), (5.34394, -4.00197), (5.34407, -4.00284)], 4.892, 10.883333333333333)\n",
      "During segment: ([(5.34408, -4.00284), (5.34413, -4.00291), (5.34414, -4.00298), (5.34412, -4.00305), (5.34406, -4.0031), (5.34398, -4.00311), (5.34392, -4.00309), (5.3439, -4.00308), (5.34369, -4.0031), (5.3428, -4.00321), (5.33983, -4.0036), (5.33673, -4.00398), (5.3364, -4.00402), (5.33622, -4.00405), (5.33612, -4.00403), (5.3361, -4.00405), (5.33614, -4.0041), (5.33619, -4.00487)], 1.02, 2.783333333333333)\n",
      "After segment: ([(5.33619, -4.00487), (5.33621, -4.00533), (5.3362, -4.0055), (5.33607, -4.00553), (5.33542, -4.00564), (5.33519, -4.00568), (5.33476, -4.00579), (5.33454, -4.00586), (5.33428, -4.00601), (5.33401, -4.00621), (5.33345, -4.00678), (5.33323, -4.00699)], 0.452, 1.6666666666666667)\n",
      "Before segment: ([(5.36172, -3.99001), (5.36173, -3.99116), (5.36172, -3.99224), (5.36173, -3.99256), (5.36177, -3.99304), (5.36187, -3.99335), (5.36222, -3.99399), (5.36237, -3.9944), (5.36244, -3.99478), (5.36245, -3.99699)], 0.789, 1.6166666666666667)\n",
      "During segment: ([(5.36245, -3.99699), (5.36244, -3.9975), (5.36167, -3.99751), (5.36132, -3.99753), (5.36101, -3.99763), (5.36085, -3.99772), (5.36062, -3.99791), (5.36036, -3.9982), (5.35969, -3.99914), (5.35894, -4.00016), (5.35837, -4.00092), (5.35823, -4.00105), (5.35796, -4.00127), (5.35761, -4.00139), (5.35719, -4.00145), (5.35539, -4.00167), (5.3545, -4.00179), (5.35216, -4.00208), (5.34852, -4.00252), (5.34598, -4.00277), (5.34473, -4.00293), (5.34453, -4.00297), (5.34413, -4.00303), (5.34411, -4.00306), (5.34405, -4.0031), (5.34397, -4.00311), (5.34391, -4.00308), (5.34351, -4.00312), (5.34275, -4.00322), (5.33911, -4.00369), (5.33772, -4.00385), (5.33706, -4.00394), (5.33653, -4.00399), (5.33629, -4.00404), (5.33618, -4.00404), (5.33612, -4.00403), (5.3361, -4.00405), (5.33605, -4.00408), (5.336, -4.00409), (5.33593, -4.00405), (5.33588, -4.00408), (5.33576, -4.00409), (5.33542, -4.00411), (5.33515, -4.00414), (5.33458, -4.00424), (5.3342, -4.00428), (5.33031, -4.00476), (5.3302, -4.004)], 3.941, 9.633333333333333)\n",
      "After segment: ([(5.3302, -4.004), (5.32996, -4.00207), (5.32985, -4.00109), (5.32984, -4.00099), (5.32971, -4.001), (5.32925, -4.00106), (5.32739, -4.0013), (5.3267, -4.00136), (5.32528, -4.00156), (5.3246, -4.00166), (5.32296, -4.00214), (5.32275, -4.0022)], 1.136, 3.4)\n",
      "Before segment: ([(5.36838, -4.00602), (5.36839, -4.00337), (5.36838, -4.00077), (5.36838, -3.99964), (5.36842, -3.99873)], 0.808, 3.466666666666667)\n",
      "During segment: ([(5.36842, -3.99873), (5.36842, -3.99825), (5.36782, -3.99825), (5.36734, -3.99824), (5.36703, -3.99819), (5.36679, -3.99808), (5.36638, -3.9977), (5.3663, -3.99764), (5.36608, -3.99754), (5.36587, -3.99751), (5.3634, -3.9975), (5.36189, -3.99751), (5.36139, -3.99752), (5.3611, -3.99759), (5.36091, -3.99768), (5.36071, -3.99782), (5.36055, -3.99798), (5.36035, -3.99822), (5.35983, -3.99895), (5.35916, -3.99987), (5.3584, -4.00089), (5.35802, -4.00123), (5.35778, -4.00134), (5.35727, -4.00144), (5.35578, -4.00162), (5.35467, -4.00177), (5.35222, -4.00207), (5.34864, -4.00251), (5.34626, -4.00274), (5.34536, -4.00284), (5.34494, -4.0029), (5.34426, -4.00302), (5.34413, -4.00303), (5.34412, -4.00305), (5.34409, -4.00308), (5.34406, -4.0031), (5.34398, -4.00311), (5.34392, -4.00309), (5.3439, -4.00308), (5.34369, -4.0031), (5.3428, -4.00321), (5.33983, -4.0036), (5.33673, -4.00398), (5.3364, -4.00402), (5.33622, -4.00405), (5.33612, -4.00403), (5.3361, -4.00405), (5.33603, -4.00409), (5.33595, -4.00407), (5.33591, -4.00403), (5.3359, -4.00398), (5.33593, -4.0039), (5.33591, -4.00371), (5.3359, -4.00348)], 3.98, 9.866666666666667)\n",
      "After segment: ([(5.3359, -4.00348), (5.33575, -4.00234), (5.33553, -4.00053), (5.33537, -3.99923), (5.33503, -3.99642), (5.33481, -3.99454), (5.33472, -3.99381), (5.33472, -3.99364), (5.33471, -3.99363), (5.33471, -3.99362), (5.33471, -3.99361), (5.33471, -3.99359), (5.33475, -3.99356), (5.33479, -3.99359), (5.33479, -3.99363), (5.33481, -3.99368), (5.33495, -3.9947), (5.33504, -3.9955)], 1.33, 2.8)\n",
      "Before segment: ([(5.36838, -4.00602), (5.36839, -4.00337), (5.36838, -4.00077), (5.36838, -3.99964), (5.36842, -3.99873), (5.36842, -3.99825), (5.36763, -3.99825), (5.36717, -3.99823), (5.36692, -3.99815), (5.36679, -3.99808), (5.36653, -3.99784), (5.3663, -3.99764), (5.36608, -3.99754), (5.36598, -3.99752), (5.36516, -3.9975), (5.36298, -3.99751)], 1.491, 5.25)\n",
      "During segment: ([(5.36298, -3.99751), (5.36167, -3.99751), (5.36132, -3.99753), (5.36101, -3.99763), (5.36085, -3.99772), (5.36062, -3.99791), (5.36036, -3.9982), (5.35969, -3.99914), (5.35894, -4.00016), (5.35837, -4.00092), (5.35823, -4.00105), (5.35796, -4.00127), (5.35761, -4.00139), (5.35719, -4.00145), (5.35539, -4.00167), (5.3545, -4.00179), (5.35216, -4.00208), (5.34852, -4.00252), (5.34598, -4.00277), (5.34473, -4.00293), (5.34453, -4.00297), (5.34413, -4.00303), (5.34411, -4.00306), (5.34405, -4.0031), (5.34397, -4.00311), (5.34391, -4.00308), (5.34351, -4.00312), (5.34275, -4.00322), (5.33911, -4.00369), (5.33772, -4.00385), (5.33706, -4.00394), (5.33653, -4.00399), (5.33629, -4.00404), (5.33618, -4.00404), (5.33612, -4.00403), (5.3361, -4.00405), (5.33605, -4.00408), (5.336, -4.00409), (5.33593, -4.00405), (5.3359, -4.004), (5.3359, -4.00395), (5.33594, -4.00389), (5.33591, -4.00381), (5.33591, -4.00361), (5.3359, -4.00348)], 3.297, 8.15)\n",
      "After segment: ([(5.3359, -4.00348), (5.33575, -4.00234), (5.33553, -4.00053), (5.33537, -3.99923), (5.33503, -3.99642), (5.33481, -3.99454), (5.33472, -3.99381), (5.33472, -3.99364), (5.33471, -3.99363), (5.33471, -3.99362), (5.33471, -3.99361), (5.33471, -3.99359), (5.33475, -3.99356), (5.33479, -3.99359), (5.33479, -3.99363), (5.33481, -3.99368), (5.33495, -3.9947), (5.33504, -3.9955)], 1.33, 2.8)\n",
      "Before segment: ([(5.393, -3.97552), (5.39339, -3.97407), (5.3936, -3.97317), (5.39377, -3.97259), (5.39391, -3.97219), (5.39409, -3.97188), (5.39478, -3.97105), (5.39448, -3.97095), (5.39379, -3.97078), (5.39286, -3.97055), (5.39183, -3.97028), (5.39081, -3.97002), (5.39009, -3.96983), (5.38863, -3.96948), (5.38736, -3.96916), (5.38667, -3.96896), (5.38596, -3.96879), (5.38394, -3.9684), (5.38351, -3.96831), (5.38323, -3.9682), (5.38309, -3.96815), (5.38235, -3.96793), (5.38038, -3.96734), (5.37776, -3.96655), (5.37742, -3.96645), (5.37656, -3.96619), (5.3765, -3.96619), (5.37639, -3.96619), (5.37638, -3.9662), (5.37637, -3.96622), (5.37631, -3.9663), (5.37617, -3.96635), (5.37614, -3.96635), (5.37607, -3.96642), (5.37603, -3.96647), (5.37595, -3.96677), (5.37578, -3.96747), (5.37542, -3.96866), (5.375, -3.9701), (5.3749, -3.9704), (5.37468, -3.97033), (5.37445, -3.97026), (5.37437, -3.97025), (5.37425, -3.97025), (5.3735, -3.97042), (5.37249, -3.97062), (5.37196, -3.97073), (5.37146, -3.97083), (5.37128, -3.97083), (5.37114, -3.97081), (5.3708, -3.97073), (5.36874, -3.9701), (5.36433, -3.96879), (5.36152, -3.96795), (5.36059, -3.96766), (5.35982, -3.96744), (5.35882, -3.96713), (5.35873, -3.96733), (5.35853, -3.96785), (5.3585, -3.96784), (5.35757, -3.96744), (5.35707, -3.96723), (5.35702, -3.96725), (5.35696, -3.96738), (5.35691, -3.96742), (5.35684, -3.96745), (5.35683, -3.96747), (5.35682, -3.96753), (5.35678, -3.96758), (5.35673, -3.96761), (5.35665, -3.96763), (5.35661, -3.96764), (5.35646, -3.96799), (5.35617, -3.96882), (5.35588, -3.9698), (5.35574, -3.97029), (5.35561, -3.97081), (5.35549, -3.97117), (5.35521, -3.97201), (5.35496, -3.97288), (5.35464, -3.97391), (5.35427, -3.97522), (5.35409, -3.97592), (5.35373, -3.97724), (5.35326, -3.97881), (5.35244, -3.98144), (5.35205, -3.98263), (5.35178, -3.98337), (5.3509, -3.98644), (5.34987, -3.99015), (5.34967, -3.99082), (5.34955, -3.99133), (5.34942, -3.99198), (5.34936, -3.99233), (5.34931, -3.99285), (5.3493, -3.99347), (5.34948, -3.99587), (5.34946, -3.99629), (5.3494, -3.99695), (5.34886, -3.99695), (5.34852, -3.99699), (5.34736, -3.99714), (5.3458, -3.99735), (5.34538, -3.9974), (5.34449, -3.99828), (5.34387, -3.9989), (5.34376, -3.99905), (5.34369, -3.99918), (5.34363, -3.99935), (5.3436, -3.99955), (5.34362, -3.99985), (5.34367, -4.00018), (5.34375, -4.00055), (5.34386, -4.00141), (5.34394, -4.00197), (5.34407, -4.00284)], 9.857, 22.533333333333335)\n",
      "During segment: ([(5.34408, -4.00284), (5.34413, -4.00291), (5.34414, -4.00298), (5.34412, -4.00305), (5.34415, -4.00341), (5.34419, -4.00371), (5.34424, -4.00391), (5.34433, -4.0041), (5.34445, -4.00429), (5.34469, -4.00457), (5.34494, -4.00474), (5.34513, -4.00484), (5.34604, -4.00524), (5.34673, -4.00418), (5.347, -4.0038), (5.34708, -4.00373), (5.34722, -4.00369), (5.34765, -4.00365), (5.34778, -4.00364), (5.34778, -4.00356), (5.34775, -4.00341), (5.34773, -4.00333)], 0.698, 2.0166666666666666)\n",
      "After segment: ([(5.34773, -4.00333)], 0.0, 0.0)\n",
      "Before segment: ([(5.393, -3.97552), (5.39339, -3.97407), (5.3936, -3.97317), (5.39377, -3.97259), (5.39391, -3.97219), (5.39409, -3.97188), (5.39478, -3.97105), (5.39448, -3.97095), (5.39379, -3.97078), (5.39286, -3.97055), (5.39183, -3.97028), (5.39081, -3.97002), (5.39009, -3.96983), (5.38863, -3.96948), (5.38736, -3.96916), (5.38667, -3.96896), (5.38596, -3.96879), (5.38394, -3.9684), (5.38351, -3.96831), (5.38323, -3.9682), (5.38309, -3.96815), (5.38235, -3.96793), (5.38038, -3.96734), (5.37776, -3.96655), (5.37742, -3.96645), (5.37656, -3.96619), (5.3765, -3.96619), (5.37639, -3.96619), (5.37638, -3.9662), (5.37637, -3.96622), (5.37631, -3.9663), (5.37617, -3.96635), (5.37614, -3.96635), (5.37607, -3.96642), (5.37603, -3.96647), (5.37595, -3.96677), (5.37578, -3.96747), (5.37542, -3.96866), (5.375, -3.9701), (5.3749, -3.9704), (5.37468, -3.97033), (5.37445, -3.97026), (5.37437, -3.97025), (5.37425, -3.97025), (5.3735, -3.97042), (5.37249, -3.97062), (5.37196, -3.97073), (5.37146, -3.97083), (5.37128, -3.97083), (5.37114, -3.97081), (5.3708, -3.97073), (5.36874, -3.9701), (5.36433, -3.96879), (5.36152, -3.96795), (5.36059, -3.96766), (5.35982, -3.96744), (5.35882, -3.96713), (5.35873, -3.96733), (5.35853, -3.96785), (5.3585, -3.96784), (5.35757, -3.96744)], 5.222, 12.916666666666666)\n",
      "During segment: ([(5.35757, -3.96744), (5.35707, -3.96723), (5.35702, -3.96725), (5.35696, -3.96738), (5.35691, -3.96742), (5.35684, -3.96745), (5.35683, -3.96747), (5.35682, -3.96753), (5.35678, -3.96758), (5.35673, -3.96761), (5.35665, -3.96763), (5.35661, -3.96764), (5.35646, -3.96799), (5.35617, -3.96882), (5.35588, -3.9698), (5.35574, -3.97029), (5.35561, -3.97081), (5.35549, -3.97117), (5.35521, -3.97201), (5.35496, -3.97288), (5.35464, -3.97391), (5.35427, -3.97522), (5.35391, -3.97663), (5.35326, -3.97881), (5.35205, -3.98263), (5.35178, -3.98337), (5.35154, -3.98419), (5.3509, -3.98644), (5.35029, -3.98863), (5.34987, -3.99015), (5.34967, -3.99082), (5.34955, -3.99133), (5.34942, -3.99198), (5.34936, -3.99233), (5.34931, -3.99285), (5.3493, -3.99347), (5.34948, -3.99587), (5.34946, -3.99629), (5.3494, -3.99695), (5.34886, -3.99695), (5.34852, -3.99699), (5.34736, -3.99714), (5.3458, -3.99735), (5.34538, -3.9974), (5.34449, -3.99828), (5.34387, -3.9989), (5.34376, -3.99905), (5.34369, -3.99918), (5.34363, -3.99935), (5.3436, -3.99955), (5.34362, -3.99985), (5.34367, -4.00018), (5.34375, -4.00055), (5.34386, -4.00141), (5.34394, -4.00197), (5.34408, -4.00284), (5.34413, -4.00291), (5.34414, -4.00298), (5.34412, -4.00305), (5.34415, -4.00341), (5.34419, -4.00371), (5.34424, -4.00391)], 4.758, 9.983333333333333)\n",
      "After segment: ([(5.34424, -4.00391), (5.34433, -4.0041), (5.34445, -4.00429), (5.34469, -4.00457), (5.34494, -4.00474), (5.34513, -4.00484), (5.34604, -4.00524), (5.34673, -4.00418), (5.347, -4.0038), (5.34708, -4.00373), (5.34722, -4.00369), (5.34765, -4.00365), (5.34778, -4.00364), (5.34778, -4.00356), (5.34775, -4.00341), (5.34773, -4.00333)], 0.575, 1.7166666666666666)\n",
      "Log file saved to: c:\\Users\\HUAWEI\\CanterburyCommuto\\CanterburyCommuto\\canterburycommuto\\notebooks\\results\\closest_nodes_buffer_results-2025-05-23_15-30-04_77195.log\n"
     ]
    }
   ],
   "source": [
    "CanterburyCommuto.Overlap_Function(\n",
    "    \"origin_destination_test.csv\",\n",
    "    \"API_KEY\",\n",
    "    50, 100, 100,\"closer to precision\", \"yes\",\n",
    "    \"home_A\", \"work_A\", \"home_B\", \"work_B\", skip_invalid=True\n",
    ")"
   ]
  },
  {
   "cell_type": "markdown",
   "id": "48d0f0ba",
   "metadata": {},
   "source": [
    "### Buffer Route Node Method (only Overlap Information)"
   ]
  },
  {
   "cell_type": "code",
   "execution_count": null,
   "id": "e3e6481f",
   "metadata": {},
   "outputs": [
    {
     "name": "stdout",
     "output_type": "stream",
     "text": [
      "\n",
      "[INFO] Estimated number of API requests: 42\n",
      "[INFO] Estimated cost: $0.21\n",
      "[NOTICE] Actual cost may be higher or lower depending on Google’s pricing tiers and route pair complexity.\n",
      "\n",
      "[PROCESSING] Proceeding with route analysis...\n",
      "\n",
      "Error fetching directions: NOT_FOUND\n",
      "Map saved to: c:\\Users\\HUAWEI\\CanterburyCommuto\\CanterburyCommuto\\canterburycommuto\\notebooks\\results\\routes_with_buffers_map-2025-05-23_15-30-16_22501.html\n"
     ]
    },
    {
     "data": {
      "text/html": [
       "\n",
       "        <iframe\n",
       "            width=\"100%\"\n",
       "            height=\"600px\"\n",
       "            src=\"results\\routes_with_buffers_map-2025-05-23_15-30-16_22501.html\"\n",
       "            frameborder=\"0\"\n",
       "            allowfullscreen\n",
       "            \n",
       "        ></iframe>\n",
       "        "
      ],
      "text/plain": [
       "<IPython.lib.display.IFrame at 0x23ac8d51850>"
      ]
     },
     "metadata": {},
     "output_type": "display_data"
    },
    {
     "name": "stdout",
     "output_type": "stream",
     "text": [
      "Map has been displayed inline and saved as 'results\\routes_with_buffers_map-2025-05-23_15-30-16_22501.html'.\n",
      "Map saved to: c:\\Users\\HUAWEI\\CanterburyCommuto\\CanterburyCommuto\\canterburycommuto\\notebooks\\results\\routes_with_buffers_map-2025-05-23_15-30-16_21463.html\n"
     ]
    },
    {
     "data": {
      "text/html": [
       "\n",
       "        <iframe\n",
       "            width=\"100%\"\n",
       "            height=\"600px\"\n",
       "            src=\"results\\routes_with_buffers_map-2025-05-23_15-30-16_21463.html\"\n",
       "            frameborder=\"0\"\n",
       "            allowfullscreen\n",
       "            \n",
       "        ></iframe>\n",
       "        "
      ],
      "text/plain": [
       "<IPython.lib.display.IFrame at 0x23ac8d512b0>"
      ]
     },
     "metadata": {},
     "output_type": "display_data"
    },
    {
     "name": "stdout",
     "output_type": "stream",
     "text": [
      "Warning: Not enough points to create buffer. Returning None.\n",
      "Map has been displayed inline and saved as 'results\\routes_with_buffers_map-2025-05-23_15-30-16_21463.html'.\n",
      "Map saved to: c:\\Users\\HUAWEI\\CanterburyCommuto\\CanterburyCommuto\\canterburycommuto\\notebooks\\results\\routes_with_buffers_map-2025-05-23_15-30-16_29593.html\n"
     ]
    },
    {
     "data": {
      "text/html": [
       "\n",
       "        <iframe\n",
       "            width=\"100%\"\n",
       "            height=\"600px\"\n",
       "            src=\"results\\routes_with_buffers_map-2025-05-23_15-30-16_29593.html\"\n",
       "            frameborder=\"0\"\n",
       "            allowfullscreen\n",
       "            \n",
       "        ></iframe>\n",
       "        "
      ],
      "text/plain": [
       "<IPython.lib.display.IFrame at 0x23ac8d52a80>"
      ]
     },
     "metadata": {},
     "output_type": "display_data"
    },
    {
     "name": "stdout",
     "output_type": "stream",
     "text": [
      "Map has been displayed inline and saved as 'results\\routes_with_buffers_map-2025-05-23_15-30-16_29593.html'.\n",
      "Map saved to: c:\\Users\\HUAWEI\\CanterburyCommuto\\CanterburyCommuto\\canterburycommuto\\notebooks\\results\\routes_with_buffers_map-2025-05-23_15-30-16_55012.html\n"
     ]
    },
    {
     "data": {
      "text/html": [
       "\n",
       "        <iframe\n",
       "            width=\"100%\"\n",
       "            height=\"600px\"\n",
       "            src=\"results\\routes_with_buffers_map-2025-05-23_15-30-16_55012.html\"\n",
       "            frameborder=\"0\"\n",
       "            allowfullscreen\n",
       "            \n",
       "        ></iframe>\n",
       "        "
      ],
      "text/plain": [
       "<IPython.lib.display.IFrame at 0x23ac8d72a80>"
      ]
     },
     "metadata": {},
     "output_type": "display_data"
    },
    {
     "name": "stdout",
     "output_type": "stream",
     "text": [
      "Map has been displayed inline and saved as 'results\\routes_with_buffers_map-2025-05-23_15-30-16_55012.html'.\n",
      "Error fetching directions: INVALID_REQUEST\n",
      "Map saved to: c:\\Users\\HUAWEI\\CanterburyCommuto\\CanterburyCommuto\\canterburycommuto\\notebooks\\results\\routes_with_buffers_map-2025-05-23_15-30-16_95114.html\n"
     ]
    },
    {
     "data": {
      "text/html": [
       "\n",
       "        <iframe\n",
       "            width=\"100%\"\n",
       "            height=\"600px\"\n",
       "            src=\"results\\routes_with_buffers_map-2025-05-23_15-30-16_95114.html\"\n",
       "            frameborder=\"0\"\n",
       "            allowfullscreen\n",
       "            \n",
       "        ></iframe>\n",
       "        "
      ],
      "text/plain": [
       "<IPython.lib.display.IFrame at 0x23ac8b98bc0>"
      ]
     },
     "metadata": {},
     "output_type": "display_data"
    },
    {
     "name": "stdout",
     "output_type": "stream",
     "text": [
      "Map has been displayed inline and saved as 'results\\routes_with_buffers_map-2025-05-23_15-30-16_95114.html'.\n",
      "Map saved to: c:\\Users\\HUAWEI\\CanterburyCommuto\\CanterburyCommuto\\canterburycommuto\\notebooks\\results\\routes_with_buffers_map-2025-05-23_15-30-16_87579.html\n"
     ]
    },
    {
     "data": {
      "text/html": [
       "\n",
       "        <iframe\n",
       "            width=\"100%\"\n",
       "            height=\"600px\"\n",
       "            src=\"results\\routes_with_buffers_map-2025-05-23_15-30-16_87579.html\"\n",
       "            frameborder=\"0\"\n",
       "            allowfullscreen\n",
       "            \n",
       "        ></iframe>\n",
       "        "
      ],
      "text/plain": [
       "<IPython.lib.display.IFrame at 0x23ac8d70b00>"
      ]
     },
     "metadata": {},
     "output_type": "display_data"
    },
    {
     "name": "stdout",
     "output_type": "stream",
     "text": [
      "Map saved to: c:\\Users\\HUAWEI\\CanterburyCommuto\\CanterburyCommuto\\canterburycommuto\\notebooks\\results\\routes_with_buffers_map-2025-05-23_15-30-16_78432.html\n",
      "Map has been displayed inline and saved as 'results\\routes_with_buffers_map-2025-05-23_15-30-16_87579.html'.\n"
     ]
    },
    {
     "data": {
      "text/html": [
       "\n",
       "        <iframe\n",
       "            width=\"100%\"\n",
       "            height=\"600px\"\n",
       "            src=\"results\\routes_with_buffers_map-2025-05-23_15-30-16_78432.html\"\n",
       "            frameborder=\"0\"\n",
       "            allowfullscreen\n",
       "            \n",
       "        ></iframe>\n",
       "        "
      ],
      "text/plain": [
       "<IPython.lib.display.IFrame at 0x23ac8d50110>"
      ]
     },
     "metadata": {},
     "output_type": "display_data"
    },
    {
     "name": "stdout",
     "output_type": "stream",
     "text": [
      "Map has been displayed inline and saved as 'results\\routes_with_buffers_map-2025-05-23_15-30-16_78432.html'.\n",
      "Warning: One or both buffer polygons are None. Cannot compute intersection.\n",
      "Warning: Not enough points to create buffer. Returning None.\n",
      "Warning: One or both buffer polygons are None. Cannot compute intersection.\n",
      "Error fetching directions: NOT_FOUND\n",
      "Error fetching directions: NOT_FOUND\n",
      "Warning: Not enough points to create buffer. Returning None.\n",
      "Warning: One or both buffer polygons are None. Cannot compute intersection.\n",
      "Warning: Not enough points to create buffer. Returning None.\n",
      "Warning: One or both buffer polygons are None. Cannot compute intersection.\n",
      "Before segment: ([(5.37344, -3.99877), (5.37345, -3.99855), (5.37347, -3.99848), (5.37337, -3.99847), (5.37305, -3.99846), (5.37275, -3.99846), (5.37218, -3.99841), (5.37171, -3.99833), (5.37142, -3.99829), (5.37099, -3.99825), (5.3707, -3.99825), (5.37022, -3.99825), (5.36842, -3.99825), (5.36763, -3.99825), (5.36717, -3.99823), (5.36692, -3.99815), (5.36679, -3.99808), (5.36653, -3.99784), (5.3663, -3.99764), (5.36608, -3.99754), (5.36598, -3.99752), (5.36516, -3.9975), (5.36157, -3.99751), (5.36125, -3.99755), (5.36101, -3.99763), (5.36091, -3.99768), (5.36071, -3.99782), (5.36055, -3.99798), (5.36035, -3.99822), (5.35951, -3.9994), (5.3587, -4.0005), (5.35831, -4.00098), (5.35802, -4.00123), (5.35778, -4.00134), (5.35727, -4.00144), (5.35612, -4.00158), (5.35513, -4.0017), (5.35329, -4.00194), (5.35009, -4.00233), (5.34813, -4.00255), (5.34687, -4.00267), (5.34554, -4.00282), (5.34508, -4.00287), (5.34465, -4.00295), (5.34413, -4.00303)], 3.528, 8.65)\n",
      "During segment: ([(5.34412, -4.00305), (5.34406, -4.0031), (5.34398, -4.00311), (5.34392, -4.00309), (5.3439, -4.00308), (5.34369, -4.0031), (5.3428, -4.00321), (5.33983, -4.0036), (5.33796, -4.00382), (5.33673, -4.00398), (5.3364, -4.00402), (5.33622, -4.00405), (5.33612, -4.00403), (5.3361, -4.00405), (5.33603, -4.00409), (5.33595, -4.00407), (5.33593, -4.00405), (5.3359, -4.00406), (5.33583, -4.00409), (5.3355, -4.0041), (5.33532, -4.00412)], 0.994, 2.75)\n",
      "After segment: ([(5.33532, -4.00412), (5.33444, -4.00425), (5.33339, -4.00439), (5.32986, -4.00482), (5.32797, -4.00505)], 0.824, 1.5666666666666667)\n",
      "Before segment: ([(5.37344, -3.99877), (5.37345, -3.99855), (5.37347, -3.99848), (5.37337, -3.99847), (5.37305, -3.99846), (5.37275, -3.99846), (5.37218, -3.99841), (5.37171, -3.99833), (5.37142, -3.99829), (5.37099, -3.99825), (5.3707, -3.99825), (5.37022, -3.99825), (5.36842, -3.99825), (5.36763, -3.99825), (5.36717, -3.99823), (5.36692, -3.99815), (5.36679, -3.99808), (5.36653, -3.99784), (5.3663, -3.99764), (5.36608, -3.99754), (5.36598, -3.99752), (5.36516, -3.9975), (5.36157, -3.99751), (5.36125, -3.99755), (5.36101, -3.99763), (5.36091, -3.99768), (5.36071, -3.99782), (5.36055, -3.99798), (5.36035, -3.99822), (5.35951, -3.9994), (5.3587, -4.0005), (5.35831, -4.00098), (5.35802, -4.00123), (5.35778, -4.00134), (5.35727, -4.00144), (5.35612, -4.00158), (5.35513, -4.0017), (5.35329, -4.00194), (5.35009, -4.00233), (5.34813, -4.00255)], 3.08, 7.666666666666667)\n",
      "During segment: ([(5.34813, -4.00255), (5.34598, -4.00277), (5.34473, -4.00293), (5.34453, -4.00297), (5.34413, -4.00303), (5.34411, -4.00306), (5.34405, -4.0031), (5.34397, -4.00311), (5.34392, -4.00309)], 0.475, 1.0833333333333333)\n",
      "After segment: ([(5.3439, -4.00307), (5.34227, -4.00328), (5.33867, -4.00373), (5.33751, -4.00388), (5.3368, -4.00397), (5.33653, -4.00399), (5.33629, -4.00404), (5.33618, -4.00404), (5.33612, -4.00403), (5.33605, -4.00408), (5.33595, -4.00407), (5.33593, -4.00405), (5.33588, -4.00408), (5.33559, -4.00411), (5.33515, -4.00414), (5.33444, -4.00425), (5.33296, -4.00444), (5.32917, -4.00491), (5.32797, -4.00505)], 1.79, 4.266666666666667)\n",
      "Before segment: ([(5.36172, -3.99001), (5.36173, -3.99116), (5.36172, -3.99224), (5.36173, -3.99256), (5.36177, -3.99304), (5.36187, -3.99335), (5.36222, -3.99399), (5.36237, -3.9944), (5.36244, -3.99478), (5.36245, -3.99699)], 0.789, 1.6166666666666667)\n",
      "During segment: ([(5.36245, -3.99699), (5.36244, -3.9975), (5.36167, -3.99751), (5.36132, -3.99753), (5.36101, -3.99763), (5.36085, -3.99772), (5.36062, -3.99791), (5.36036, -3.9982), (5.35969, -3.99914), (5.35894, -4.00016), (5.35837, -4.00092), (5.35823, -4.00105), (5.35796, -4.00127), (5.35761, -4.00139), (5.35719, -4.00145), (5.35539, -4.00167), (5.3545, -4.00179), (5.35216, -4.00208), (5.34852, -4.00252), (5.34598, -4.00277), (5.34473, -4.00293), (5.34453, -4.00297), (5.34413, -4.00303), (5.34411, -4.00306), (5.34405, -4.0031), (5.34397, -4.00311), (5.34391, -4.00308), (5.34351, -4.00312), (5.34275, -4.00322), (5.33911, -4.00369), (5.33772, -4.00385), (5.33706, -4.00394), (5.33653, -4.00399), (5.33629, -4.00404), (5.33618, -4.00404), (5.33612, -4.00403), (5.3361, -4.00405), (5.33605, -4.00408), (5.336, -4.00409), (5.33593, -4.00405), (5.33588, -4.00408), (5.33576, -4.00409), (5.33542, -4.00411), (5.33515, -4.00414)], 3.314, 8.45)\n",
      "After segment: ([(5.33515, -4.00414), (5.33444, -4.00425), (5.33296, -4.00444), (5.33159, -4.00461), (5.33031, -4.00476), (5.3302, -4.004), (5.33002, -4.00261), (5.32991, -4.00158), (5.32984, -4.00099), (5.32914, -4.00107), (5.32722, -4.00131), (5.32602, -4.00145), (5.32509, -4.00158), (5.32477, -4.00163), (5.32441, -4.00172), (5.32365, -4.00194), (5.32275, -4.0022)], 1.765, 4.583333333333333)\n",
      "Before segment: ([(5.37344, -3.99877), (5.37345, -3.99855), (5.37347, -3.99848), (5.37337, -3.99847), (5.37305, -3.99846), (5.37275, -3.99846), (5.37218, -3.99841), (5.37171, -3.99833), (5.37142, -3.99829), (5.37099, -3.99825), (5.3707, -3.99825), (5.37022, -3.99825), (5.36842, -3.99825), (5.36763, -3.99825), (5.36717, -3.99823), (5.36692, -3.99815), (5.36679, -3.99808), (5.36653, -3.99784), (5.3663, -3.99764), (5.36608, -3.99754), (5.36598, -3.99752), (5.36516, -3.9975), (5.36157, -3.99751)], 1.382, 3.6666666666666665)\n",
      "During segment: ([(5.36157, -3.99751), (5.36125, -3.99755), (5.36101, -3.99763), (5.36091, -3.99768), (5.36071, -3.99782), (5.36055, -3.99798), (5.36035, -3.99822), (5.35951, -3.9994), (5.3587, -4.0005), (5.35831, -4.00098), (5.35802, -4.00123), (5.35778, -4.00134), (5.35727, -4.00144), (5.35612, -4.00158), (5.35513, -4.0017), (5.35329, -4.00194), (5.35009, -4.00233), (5.34813, -4.00255), (5.34687, -4.00267), (5.34554, -4.00282), (5.34508, -4.00287), (5.34413, -4.00303), (5.34407, -4.00309), (5.344, -4.00311), (5.34393, -4.00309), (5.3439, -4.00308), (5.34307, -4.00318), (5.34066, -4.00349), (5.33832, -4.00378), (5.33683, -4.00397), (5.3364, -4.00402), (5.33622, -4.00405), (5.33612, -4.00403), (5.33608, -4.00407), (5.33603, -4.00409), (5.33597, -4.00408), (5.33595, -4.00407), (5.33593, -4.00405), (5.3359, -4.00406), (5.33583, -4.00409), (5.33568, -4.0041), (5.33532, -4.00412), (5.33444, -4.00425), (5.33215, -4.00454)], 3.498, 8.4)\n",
      "After segment: ([(5.33215, -4.00454), (5.32797, -4.00505)], 0.468, 0.9666666666666667)\n",
      "Before segment: ([(5.35576, -3.96982)], 0.0, 0.0)\n",
      "During segment: ([(5.35576, -3.96982), (5.35617, -3.96841), (5.3565, -3.9676), (5.35645, -3.96755), (5.35643, -3.96748), (5.35644, -3.96736), (5.35651, -3.96727), (5.35658, -3.96724), (5.35665, -3.96723), (5.35676, -3.96727), (5.35681, -3.96733), (5.35683, -3.9674), (5.35683, -3.96747), (5.35678, -3.96758), (5.35665, -3.96763), (5.35661, -3.96764), (5.35646, -3.96799), (5.35617, -3.96882), (5.35588, -3.9698), (5.35574, -3.97029), (5.35561, -3.97081), (5.35549, -3.97117), (5.35521, -3.97201), (5.35496, -3.97288), (5.35464, -3.97391), (5.35427, -3.97522), (5.35409, -3.97592), (5.35373, -3.97724), (5.35326, -3.97881), (5.35244, -3.98144), (5.35205, -3.98263), (5.35178, -3.98337), (5.3509, -3.98644), (5.34987, -3.99015), (5.34967, -3.99082), (5.34955, -3.99133), (5.34942, -3.99198), (5.34936, -3.99233), (5.34931, -3.99285), (5.3493, -3.99347), (5.34948, -3.99587), (5.34946, -3.99629), (5.3494, -3.99695), (5.34886, -3.99695), (5.34852, -3.99699), (5.34736, -3.99714), (5.3458, -3.99735), (5.34538, -3.9974), (5.34449, -3.99828), (5.34387, -3.9989), (5.34376, -3.99905), (5.34369, -3.99918), (5.34363, -3.99935), (5.3436, -3.99955), (5.34362, -3.99985), (5.34367, -4.00018), (5.34375, -4.00055), (5.34386, -4.00141), (5.34394, -4.00197), (5.34408, -4.00284), (5.34411, -4.00288), (5.34414, -4.00295), (5.34413, -4.00302), (5.34409, -4.00308), (5.34402, -4.00311), (5.34394, -4.0031), (5.34392, -4.00309), (5.3439, -4.00308), (5.34369, -4.0031)], 4.97, 11.183333333333334)\n",
      "After segment: ([(5.34369, -4.0031), (5.34137, -4.0034), (5.33861, -4.00374), (5.33716, -4.00392), (5.33673, -4.00398), (5.3364, -4.00402), (5.33622, -4.00405), (5.33612, -4.00403), (5.3361, -4.00405), (5.33614, -4.0041), (5.33619, -4.00487), (5.33621, -4.00533), (5.3362, -4.0055), (5.33607, -4.00553), (5.33542, -4.00564), (5.33519, -4.00568), (5.33476, -4.00579), (5.33454, -4.00586), (5.33428, -4.00601), (5.33401, -4.00621), (5.33345, -4.00678), (5.33323, -4.00699)], 1.396, 4.233333333333333)\n",
      "Before segment: ([(5.37344, -3.99877), (5.37345, -3.99855), (5.37347, -3.99848), (5.37337, -3.99847), (5.37305, -3.99846), (5.37275, -3.99846), (5.37218, -3.99841), (5.37171, -3.99833), (5.37142, -3.99829), (5.37099, -3.99825), (5.3707, -3.99825), (5.37022, -3.99825), (5.36842, -3.99825)], 0.595, 1.9333333333333333)\n",
      "During segment: ([(5.36842, -3.99825), (5.36763, -3.99825), (5.36717, -3.99823), (5.36692, -3.99815), (5.36679, -3.99808), (5.36653, -3.99784), (5.3663, -3.99764), (5.36608, -3.99754), (5.36598, -3.99752), (5.36516, -3.9975), (5.36298, -3.99751), (5.36157, -3.99751), (5.36125, -3.99755), (5.36101, -3.99763), (5.36091, -3.99768), (5.36071, -3.99782), (5.36055, -3.99798), (5.36035, -3.99822), (5.35951, -3.9994), (5.3587, -4.0005), (5.35831, -4.00098), (5.35802, -4.00123), (5.35778, -4.00134), (5.35727, -4.00144), (5.35612, -4.00158), (5.35513, -4.0017), (5.35443, -4.0018), (5.35195, -4.0021), (5.35009, -4.00233), (5.34813, -4.00255), (5.34687, -4.00267), (5.34554, -4.00282), (5.34465, -4.00295), (5.34413, -4.00303), (5.3441, -4.00306), (5.34404, -4.0031), (5.34396, -4.00311), (5.3439, -4.00308), (5.34244, -4.00326), (5.33887, -4.00371), (5.33769, -4.00386), (5.3364, -4.00402), (5.33622, -4.00405), (5.33612, -4.00403), (5.33608, -4.00407), (5.33603, -4.00409), (5.33597, -4.00408), (5.33595, -4.00407), (5.33593, -4.00405), (5.3359, -4.00406), (5.33583, -4.00409), (5.33568, -4.0041), (5.33532, -4.00412)], 3.93, 9.516666666666667)\n",
      "After segment: ([(5.33532, -4.00412), (5.33444, -4.00425), (5.33339, -4.00439), (5.32986, -4.00482), (5.32797, -4.00505)], 0.824, 1.5666666666666667)\n",
      "Before segment: ([(5.393, -3.97552), (5.39339, -3.97407), (5.3936, -3.97317), (5.39377, -3.97259), (5.39391, -3.97219), (5.39409, -3.97188), (5.39478, -3.97105), (5.39448, -3.97095), (5.39379, -3.97078), (5.39286, -3.97055), (5.39183, -3.97028), (5.39081, -3.97002), (5.39009, -3.96983), (5.38863, -3.96948), (5.38736, -3.96916), (5.38667, -3.96896), (5.38596, -3.96879), (5.38394, -3.9684), (5.38351, -3.96831), (5.38323, -3.9682), (5.38309, -3.96815), (5.38235, -3.96793), (5.38038, -3.96734), (5.37776, -3.96655), (5.37742, -3.96645), (5.37656, -3.96619), (5.3765, -3.96619), (5.37639, -3.96619), (5.37638, -3.9662), (5.37637, -3.96622), (5.37631, -3.9663), (5.37617, -3.96635), (5.37614, -3.96635), (5.37607, -3.96642), (5.37603, -3.96647), (5.37595, -3.96677), (5.37578, -3.96747), (5.37542, -3.96866), (5.375, -3.9701), (5.3749, -3.9704), (5.37468, -3.97033), (5.37445, -3.97026), (5.37437, -3.97025), (5.37425, -3.97025), (5.3735, -3.97042), (5.37249, -3.97062), (5.37196, -3.97073), (5.37146, -3.97083), (5.37128, -3.97083), (5.37114, -3.97081), (5.3708, -3.97073), (5.36874, -3.9701), (5.36433, -3.96879), (5.36152, -3.96795), (5.36059, -3.96766), (5.35982, -3.96744), (5.35882, -3.96713), (5.35873, -3.96733), (5.35853, -3.96785), (5.3585, -3.96784), (5.35757, -3.96744), (5.35707, -3.96723), (5.35702, -3.96725), (5.35696, -3.96738), (5.35691, -3.96742), (5.35684, -3.96745), (5.35683, -3.96747), (5.35682, -3.96753), (5.35678, -3.96758), (5.35673, -3.96761), (5.35665, -3.96763), (5.35661, -3.96764), (5.35646, -3.96799), (5.35617, -3.96882), (5.35588, -3.9698), (5.35574, -3.97029), (5.35561, -3.97081), (5.35549, -3.97117), (5.35521, -3.97201), (5.35496, -3.97288), (5.35464, -3.97391), (5.35427, -3.97522), (5.35409, -3.97592), (5.35373, -3.97724), (5.35326, -3.97881), (5.35244, -3.98144), (5.35205, -3.98263), (5.35178, -3.98337), (5.3509, -3.98644), (5.34987, -3.99015), (5.34967, -3.99082), (5.34955, -3.99133), (5.34942, -3.99198), (5.34936, -3.99233), (5.34931, -3.99285), (5.3493, -3.99347), (5.34948, -3.99587), (5.34946, -3.99629), (5.3494, -3.99695), (5.34886, -3.99695), (5.34852, -3.99699), (5.34736, -3.99714), (5.3458, -3.99735), (5.34538, -3.9974), (5.34449, -3.99828), (5.34387, -3.9989), (5.34376, -3.99905), (5.34369, -3.99918), (5.34363, -3.99935), (5.3436, -3.99955), (5.34362, -3.99985), (5.34367, -4.00018), (5.34375, -4.00055), (5.34386, -4.00141), (5.34394, -4.00197), (5.34407, -4.00284)], 9.857, 22.533333333333335)\n",
      "During segment: ([(5.34408, -4.00284), (5.34413, -4.00291), (5.34414, -4.00298), (5.34412, -4.00305), (5.34415, -4.00341), (5.34419, -4.00371), (5.34424, -4.00391), (5.34433, -4.0041), (5.34445, -4.00429), (5.34469, -4.00457), (5.34494, -4.00474), (5.34513, -4.00484), (5.34604, -4.00524), (5.34673, -4.00418), (5.347, -4.0038), (5.34708, -4.00373), (5.34722, -4.00369), (5.34765, -4.00365), (5.34778, -4.00364), (5.34778, -4.00356), (5.34775, -4.00341), (5.34773, -4.00333)], 0.698, 2.0166666666666666)\n",
      "After segment: ([(5.34773, -4.00333)], 0.0, 0.0)\n",
      "Before segment: ([(5.35576, -3.96982), (5.35617, -3.96841), (5.3565, -3.9676), (5.35645, -3.96755), (5.35643, -3.96748), (5.35644, -3.96736), (5.35651, -3.96727), (5.35658, -3.96724), (5.35665, -3.96723), (5.35676, -3.96727), (5.35681, -3.96733), (5.35683, -3.9674), (5.35683, -3.96747), (5.35678, -3.96758), (5.35665, -3.96763), (5.35661, -3.96764), (5.35646, -3.96799), (5.35617, -3.96882), (5.35588, -3.9698), (5.35574, -3.97029), (5.35561, -3.97081), (5.35549, -3.97117), (5.35521, -3.97201), (5.35496, -3.97288), (5.35464, -3.97391), (5.35427, -3.97522), (5.35409, -3.97592), (5.35373, -3.97724), (5.35326, -3.97881), (5.35244, -3.98144), (5.35205, -3.98263), (5.35178, -3.98337), (5.3509, -3.98644), (5.34987, -3.99015), (5.34967, -3.99082), (5.34955, -3.99133), (5.34942, -3.99198), (5.34936, -3.99233), (5.34931, -3.99285), (5.3493, -3.99347), (5.34948, -3.99587), (5.34946, -3.99629), (5.3494, -3.99695), (5.34886, -3.99695), (5.34852, -3.99699), (5.34736, -3.99714), (5.3458, -3.99735), (5.34538, -3.9974), (5.34449, -3.99828), (5.34387, -3.9989), (5.34376, -3.99905), (5.34369, -3.99918), (5.34363, -3.99935), (5.3436, -3.99955), (5.34362, -3.99985), (5.34367, -4.00018), (5.34375, -4.00055), (5.34386, -4.00141), (5.34394, -4.00197), (5.34407, -4.00284)], 4.892, 10.883333333333333)\n",
      "During segment: ([(5.34408, -4.00284), (5.34413, -4.00291), (5.34414, -4.00298), (5.34412, -4.00305), (5.34406, -4.0031), (5.34398, -4.00311), (5.34392, -4.00309), (5.3439, -4.00308), (5.34369, -4.0031), (5.3428, -4.00321), (5.33983, -4.0036), (5.33673, -4.00398), (5.3364, -4.00402), (5.33622, -4.00405), (5.33612, -4.00403), (5.3361, -4.00405), (5.33614, -4.0041), (5.33619, -4.00487)], 1.02, 2.783333333333333)\n",
      "After segment: ([(5.33619, -4.00487), (5.33621, -4.00533), (5.3362, -4.0055), (5.33607, -4.00553), (5.33542, -4.00564), (5.33519, -4.00568), (5.33476, -4.00579), (5.33454, -4.00586), (5.33428, -4.00601), (5.33401, -4.00621), (5.33345, -4.00678), (5.33323, -4.00699)], 0.452, 1.6666666666666667)\n",
      "Before segment: ([(5.36838, -4.00602), (5.36839, -4.00337), (5.36838, -4.00077), (5.36838, -3.99964), (5.36842, -3.99873), (5.36842, -3.99825), (5.36763, -3.99825), (5.36717, -3.99823), (5.36692, -3.99815), (5.36679, -3.99808), (5.36653, -3.99784), (5.3663, -3.99764), (5.36608, -3.99754), (5.36598, -3.99752), (5.36516, -3.9975), (5.36298, -3.99751)], 1.491, 5.25)\n",
      "During segment: ([(5.36298, -3.99751), (5.36167, -3.99751), (5.36132, -3.99753), (5.36101, -3.99763), (5.36085, -3.99772), (5.36062, -3.99791), (5.36036, -3.9982), (5.35969, -3.99914), (5.35894, -4.00016), (5.35837, -4.00092), (5.35823, -4.00105), (5.35796, -4.00127), (5.35761, -4.00139), (5.35719, -4.00145), (5.35539, -4.00167), (5.3545, -4.00179), (5.35216, -4.00208), (5.34852, -4.00252), (5.34598, -4.00277), (5.34473, -4.00293), (5.34453, -4.00297), (5.34413, -4.00303), (5.34411, -4.00306), (5.34405, -4.0031), (5.34397, -4.00311), (5.34391, -4.00308), (5.34351, -4.00312), (5.34275, -4.00322), (5.33911, -4.00369), (5.33772, -4.00385), (5.33706, -4.00394), (5.33653, -4.00399), (5.33629, -4.00404), (5.33618, -4.00404), (5.33612, -4.00403), (5.3361, -4.00405), (5.33605, -4.00408), (5.336, -4.00409), (5.33593, -4.00405), (5.3359, -4.004), (5.3359, -4.00395), (5.33594, -4.00389), (5.33591, -4.00381), (5.33591, -4.00361), (5.3359, -4.00348)], 3.297, 8.15)\n",
      "After segment: ([(5.3359, -4.00348), (5.33575, -4.00234), (5.33553, -4.00053), (5.33537, -3.99923), (5.33503, -3.99642), (5.33481, -3.99454), (5.33472, -3.99381), (5.33472, -3.99364), (5.33471, -3.99363), (5.33471, -3.99362), (5.33471, -3.99361), (5.33471, -3.99359), (5.33475, -3.99356), (5.33479, -3.99359), (5.33479, -3.99363), (5.33481, -3.99368), (5.33495, -3.9947), (5.33504, -3.9955)], 1.33, 2.8)\n",
      "Before segment: ([(5.36172, -3.99001), (5.36173, -3.99116), (5.36172, -3.99224), (5.36173, -3.99256), (5.36177, -3.99304), (5.36187, -3.99335), (5.36222, -3.99399), (5.36237, -3.9944), (5.36244, -3.99478), (5.36245, -3.99699)], 0.789, 1.6166666666666667)\n",
      "During segment: ([(5.36245, -3.99699), (5.36244, -3.9975), (5.36167, -3.99751), (5.36132, -3.99753), (5.36101, -3.99763), (5.36085, -3.99772), (5.36062, -3.99791), (5.36036, -3.9982), (5.35969, -3.99914), (5.35894, -4.00016), (5.35837, -4.00092), (5.35823, -4.00105), (5.35796, -4.00127), (5.35761, -4.00139), (5.35719, -4.00145), (5.35539, -4.00167), (5.3545, -4.00179), (5.35216, -4.00208), (5.34852, -4.00252), (5.34598, -4.00277), (5.34473, -4.00293), (5.34453, -4.00297), (5.34413, -4.00303), (5.34411, -4.00306), (5.34405, -4.0031), (5.34397, -4.00311), (5.34391, -4.00308), (5.34351, -4.00312), (5.34275, -4.00322), (5.33911, -4.00369), (5.33772, -4.00385), (5.33706, -4.00394), (5.33653, -4.00399), (5.33629, -4.00404), (5.33618, -4.00404), (5.33612, -4.00403), (5.3361, -4.00405), (5.33605, -4.00408), (5.336, -4.00409), (5.33593, -4.00405), (5.33588, -4.00408), (5.33576, -4.00409), (5.33542, -4.00411), (5.33515, -4.00414), (5.33458, -4.00424), (5.3342, -4.00428), (5.33031, -4.00476), (5.3302, -4.004)], 3.941, 9.633333333333333)\n",
      "After segment: ([(5.3302, -4.004), (5.32996, -4.00207), (5.32985, -4.00109), (5.32984, -4.00099), (5.32971, -4.001), (5.32925, -4.00106), (5.32739, -4.0013), (5.3267, -4.00136), (5.32528, -4.00156), (5.3246, -4.00166), (5.32296, -4.00214), (5.32275, -4.0022)], 1.136, 3.4)\n",
      "Before segment: ([(5.393, -3.97552), (5.39339, -3.97407), (5.3936, -3.97317), (5.39377, -3.97259), (5.39391, -3.97219), (5.39409, -3.97188), (5.39478, -3.97105), (5.39448, -3.97095), (5.39379, -3.97078), (5.39286, -3.97055), (5.39183, -3.97028), (5.39081, -3.97002), (5.39009, -3.96983), (5.38863, -3.96948), (5.38736, -3.96916), (5.38667, -3.96896), (5.38596, -3.96879), (5.38394, -3.9684), (5.38351, -3.96831), (5.38323, -3.9682), (5.38309, -3.96815), (5.38235, -3.96793), (5.38038, -3.96734), (5.37776, -3.96655), (5.37742, -3.96645), (5.37656, -3.96619), (5.3765, -3.96619), (5.37639, -3.96619), (5.37638, -3.9662), (5.37637, -3.96622), (5.37631, -3.9663), (5.37617, -3.96635), (5.37614, -3.96635), (5.37607, -3.96642), (5.37603, -3.96647), (5.37595, -3.96677), (5.37578, -3.96747), (5.37542, -3.96866), (5.375, -3.9701), (5.3749, -3.9704), (5.37468, -3.97033), (5.37445, -3.97026), (5.37437, -3.97025), (5.37425, -3.97025), (5.3735, -3.97042), (5.37249, -3.97062), (5.37196, -3.97073), (5.37146, -3.97083), (5.37128, -3.97083), (5.37114, -3.97081), (5.3708, -3.97073), (5.36874, -3.9701), (5.36433, -3.96879), (5.36152, -3.96795), (5.36059, -3.96766), (5.35982, -3.96744), (5.35882, -3.96713), (5.35873, -3.96733), (5.35853, -3.96785), (5.3585, -3.96784), (5.35757, -3.96744)], 5.222, 12.916666666666666)\n",
      "During segment: ([(5.35757, -3.96744), (5.35707, -3.96723), (5.35702, -3.96725), (5.35696, -3.96738), (5.35691, -3.96742), (5.35684, -3.96745), (5.35683, -3.96747), (5.35682, -3.96753), (5.35678, -3.96758), (5.35673, -3.96761), (5.35665, -3.96763), (5.35661, -3.96764), (5.35646, -3.96799), (5.35617, -3.96882), (5.35588, -3.9698), (5.35574, -3.97029), (5.35561, -3.97081), (5.35549, -3.97117), (5.35521, -3.97201), (5.35496, -3.97288), (5.35464, -3.97391), (5.35427, -3.97522), (5.35391, -3.97663), (5.35326, -3.97881), (5.35205, -3.98263), (5.35178, -3.98337), (5.35154, -3.98419), (5.3509, -3.98644), (5.35029, -3.98863), (5.34987, -3.99015), (5.34967, -3.99082), (5.34955, -3.99133), (5.34942, -3.99198), (5.34936, -3.99233), (5.34931, -3.99285), (5.3493, -3.99347), (5.34948, -3.99587), (5.34946, -3.99629), (5.3494, -3.99695), (5.34886, -3.99695), (5.34852, -3.99699), (5.34736, -3.99714), (5.3458, -3.99735), (5.34538, -3.9974), (5.34449, -3.99828), (5.34387, -3.9989), (5.34376, -3.99905), (5.34369, -3.99918), (5.34363, -3.99935), (5.3436, -3.99955), (5.34362, -3.99985), (5.34367, -4.00018), (5.34375, -4.00055), (5.34386, -4.00141), (5.34394, -4.00197), (5.34408, -4.00284), (5.34413, -4.00291), (5.34414, -4.00298), (5.34412, -4.00305), (5.34415, -4.00341), (5.34419, -4.00371), (5.34424, -4.00391)], 4.758, 9.983333333333333)\n",
      "After segment: ([(5.34424, -4.00391), (5.34433, -4.0041), (5.34445, -4.00429), (5.34469, -4.00457), (5.34494, -4.00474), (5.34513, -4.00484), (5.34604, -4.00524), (5.34673, -4.00418), (5.347, -4.0038), (5.34708, -4.00373), (5.34722, -4.00369), (5.34765, -4.00365), (5.34778, -4.00364), (5.34778, -4.00356), (5.34775, -4.00341), (5.34773, -4.00333)], 0.575, 1.7166666666666666)\n",
      "Before segment: ([(5.36838, -4.00602), (5.36839, -4.00337), (5.36838, -4.00077), (5.36838, -3.99964), (5.36842, -3.99873)], 0.808, 3.466666666666667)\n",
      "During segment: ([(5.36842, -3.99873), (5.36842, -3.99825), (5.36782, -3.99825), (5.36734, -3.99824), (5.36703, -3.99819), (5.36679, -3.99808), (5.36638, -3.9977), (5.3663, -3.99764), (5.36608, -3.99754), (5.36587, -3.99751), (5.3634, -3.9975), (5.36189, -3.99751), (5.36139, -3.99752), (5.3611, -3.99759), (5.36091, -3.99768), (5.36071, -3.99782), (5.36055, -3.99798), (5.36035, -3.99822), (5.35983, -3.99895), (5.35916, -3.99987), (5.3584, -4.00089), (5.35802, -4.00123), (5.35778, -4.00134), (5.35727, -4.00144), (5.35578, -4.00162), (5.35467, -4.00177), (5.35222, -4.00207), (5.34864, -4.00251), (5.34626, -4.00274), (5.34536, -4.00284), (5.34494, -4.0029), (5.34426, -4.00302), (5.34413, -4.00303), (5.34412, -4.00305), (5.34409, -4.00308), (5.34406, -4.0031), (5.34398, -4.00311), (5.34392, -4.00309), (5.3439, -4.00308), (5.34369, -4.0031), (5.3428, -4.00321), (5.33983, -4.0036), (5.33673, -4.00398), (5.3364, -4.00402), (5.33622, -4.00405), (5.33612, -4.00403), (5.3361, -4.00405), (5.33603, -4.00409), (5.33595, -4.00407), (5.33591, -4.00403), (5.3359, -4.00398), (5.33593, -4.0039), (5.33591, -4.00371), (5.3359, -4.00348)], 3.98, 9.866666666666667)\n",
      "After segment: ([(5.3359, -4.00348), (5.33575, -4.00234), (5.33553, -4.00053), (5.33537, -3.99923), (5.33503, -3.99642), (5.33481, -3.99454), (5.33472, -3.99381), (5.33472, -3.99364), (5.33471, -3.99363), (5.33471, -3.99362), (5.33471, -3.99361), (5.33471, -3.99359), (5.33475, -3.99356), (5.33479, -3.99359), (5.33479, -3.99363), (5.33481, -3.99368), (5.33495, -3.9947), (5.33504, -3.9955)], 1.33, 2.8)\n",
      "Log file saved to: c:\\Users\\HUAWEI\\CanterburyCommuto\\CanterburyCommuto\\canterburycommuto\\notebooks\\results\\closest_nodes_buffer_only_overlap-2025-05-23_15-30-15_61617.log\n"
     ]
    }
   ],
   "source": [
    "CanterburyCommuto.Overlap_Function(\n",
    "    \"origin_destination_test.csv\",\n",
    "    \"API_KEY\",\n",
    "    50, 100, 100,\"closer to precision\", \"no\",\n",
    "    \"home_A\", \"work_A\", \"home_B\", \"work_B\", skip_invalid=True\n",
    ")"
   ]
  },
  {
   "cell_type": "markdown",
   "id": "10ce2bff",
   "metadata": {},
   "source": [
    "### Buffer Route Intersection Method with Commuting Information Before and After the Overlap"
   ]
  },
  {
   "cell_type": "code",
   "execution_count": null,
   "id": "08c1d09b",
   "metadata": {},
   "outputs": [
    {
     "name": "stdout",
     "output_type": "stream",
     "text": [
      "\n",
      "[INFO] Estimated number of API requests: 82\n",
      "[INFO] Estimated cost: $0.41\n",
      "[NOTICE] Actual cost may be higher or lower depending on Google’s pricing tiers and route pair complexity.\n",
      "\n",
      "[PROCESSING] Proceeding with route analysis...\n",
      "\n",
      "Error fetching directions: NOT_FOUND\n",
      "Map saved to: c:\\Users\\HUAWEI\\CanterburyCommuto\\CanterburyCommuto\\canterburycommuto\\notebooks\\results\\routes_with_buffers_map-2025-05-23_15-30-27_98124.html\n"
     ]
    },
    {
     "data": {
      "text/html": [
       "\n",
       "        <iframe\n",
       "            width=\"100%\"\n",
       "            height=\"600px\"\n",
       "            src=\"results\\routes_with_buffers_map-2025-05-23_15-30-27_98124.html\"\n",
       "            frameborder=\"0\"\n",
       "            allowfullscreen\n",
       "            \n",
       "        ></iframe>\n",
       "        "
      ],
      "text/plain": [
       "<IPython.lib.display.IFrame at 0x23ac8c52300>"
      ]
     },
     "metadata": {},
     "output_type": "display_data"
    },
    {
     "name": "stdout",
     "output_type": "stream",
     "text": [
      "Map has been displayed inline and saved as 'results\\routes_with_buffers_map-2025-05-23_15-30-27_98124.html'.\n",
      "Map saved to: c:\\Users\\HUAWEI\\CanterburyCommuto\\CanterburyCommuto\\canterburycommuto\\notebooks\\results\\routes_with_buffers_map-2025-05-23_15-30-27_48010.html\n"
     ]
    },
    {
     "data": {
      "text/html": [
       "\n",
       "        <iframe\n",
       "            width=\"100%\"\n",
       "            height=\"600px\"\n",
       "            src=\"results\\routes_with_buffers_map-2025-05-23_15-30-27_48010.html\"\n",
       "            frameborder=\"0\"\n",
       "            allowfullscreen\n",
       "            \n",
       "        ></iframe>\n",
       "        "
      ],
      "text/plain": [
       "<IPython.lib.display.IFrame at 0x23ac880a390>"
      ]
     },
     "metadata": {},
     "output_type": "display_data"
    },
    {
     "name": "stdout",
     "output_type": "stream",
     "text": [
      "Map has been displayed inline and saved as 'results\\routes_with_buffers_map-2025-05-23_15-30-27_48010.html'.\n",
      "Warning: Not enough points to create buffer. Returning None.\n",
      "Map saved to: c:\\Users\\HUAWEI\\CanterburyCommuto\\CanterburyCommuto\\canterburycommuto\\notebooks\\results\\routes_with_buffers_map-2025-05-23_15-30-27_79324.html\n"
     ]
    },
    {
     "data": {
      "text/html": [
       "\n",
       "        <iframe\n",
       "            width=\"100%\"\n",
       "            height=\"600px\"\n",
       "            src=\"results\\routes_with_buffers_map-2025-05-23_15-30-27_79324.html\"\n",
       "            frameborder=\"0\"\n",
       "            allowfullscreen\n",
       "            \n",
       "        ></iframe>\n",
       "        "
      ],
      "text/plain": [
       "<IPython.lib.display.IFrame at 0x23ac8686120>"
      ]
     },
     "metadata": {},
     "output_type": "display_data"
    },
    {
     "name": "stdout",
     "output_type": "stream",
     "text": [
      "Map has been displayed inline and saved as 'results\\routes_with_buffers_map-2025-05-23_15-30-27_79324.html'.\n",
      "Map saved to: c:\\Users\\HUAWEI\\CanterburyCommuto\\CanterburyCommuto\\canterburycommuto\\notebooks\\results\\routes_with_buffers_map-2025-05-23_15-30-27_72622.html\n"
     ]
    },
    {
     "data": {
      "text/html": [
       "\n",
       "        <iframe\n",
       "            width=\"100%\"\n",
       "            height=\"600px\"\n",
       "            src=\"results\\routes_with_buffers_map-2025-05-23_15-30-27_72622.html\"\n",
       "            frameborder=\"0\"\n",
       "            allowfullscreen\n",
       "            \n",
       "        ></iframe>\n",
       "        "
      ],
      "text/plain": [
       "<IPython.lib.display.IFrame at 0x23ac8d53ec0>"
      ]
     },
     "metadata": {},
     "output_type": "display_data"
    },
    {
     "name": "stdout",
     "output_type": "stream",
     "text": [
      "Map has been displayed inline and saved as 'results\\routes_with_buffers_map-2025-05-23_15-30-27_72622.html'.\n",
      "Map saved to: c:\\Users\\HUAWEI\\CanterburyCommuto\\CanterburyCommuto\\canterburycommuto\\notebooks\\results\\routes_with_buffers_map-2025-05-23_15-30-27_39291.html\n",
      "Map saved to: c:\\Users\\HUAWEI\\CanterburyCommuto\\CanterburyCommuto\\canterburycommuto\\notebooks\\results\\routes_with_buffers_map-2025-05-23_15-30-27_95641.html\n"
     ]
    },
    {
     "data": {
      "text/html": [
       "\n",
       "        <iframe\n",
       "            width=\"100%\"\n",
       "            height=\"600px\"\n",
       "            src=\"results\\routes_with_buffers_map-2025-05-23_15-30-27_39291.html\"\n",
       "            frameborder=\"0\"\n",
       "            allowfullscreen\n",
       "            \n",
       "        ></iframe>\n",
       "        "
      ],
      "text/plain": [
       "<IPython.lib.display.IFrame at 0x23ac8b9b650>"
      ]
     },
     "metadata": {},
     "output_type": "display_data"
    },
    {
     "data": {
      "text/html": [
       "\n",
       "        <iframe\n",
       "            width=\"100%\"\n",
       "            height=\"600px\"\n",
       "            src=\"results\\routes_with_buffers_map-2025-05-23_15-30-27_95641.html\"\n",
       "            frameborder=\"0\"\n",
       "            allowfullscreen\n",
       "            \n",
       "        ></iframe>\n",
       "        "
      ],
      "text/plain": [
       "<IPython.lib.display.IFrame at 0x23ac880a390>"
      ]
     },
     "metadata": {},
     "output_type": "display_data"
    },
    {
     "name": "stdout",
     "output_type": "stream",
     "text": [
      "Map has been displayed inline and saved as 'results\\routes_with_buffers_map-2025-05-23_15-30-27_39291.html'.\n",
      "Map has been displayed inline and saved as 'results\\routes_with_buffers_map-2025-05-23_15-30-27_95641.html'.\n",
      "Warning: One or both buffer polygons are None. Cannot compute intersection.\n",
      "Map saved to: c:\\Users\\HUAWEI\\CanterburyCommuto\\CanterburyCommuto\\canterburycommuto\\notebooks\\results\\routes_with_buffers_map-2025-05-23_15-30-27_92427.html\n"
     ]
    },
    {
     "data": {
      "text/html": [
       "\n",
       "        <iframe\n",
       "            width=\"100%\"\n",
       "            height=\"600px\"\n",
       "            src=\"results\\routes_with_buffers_map-2025-05-23_15-30-27_92427.html\"\n",
       "            frameborder=\"0\"\n",
       "            allowfullscreen\n",
       "            \n",
       "        ></iframe>\n",
       "        "
      ],
      "text/plain": [
       "<IPython.lib.display.IFrame at 0x23ac9e89310>"
      ]
     },
     "metadata": {},
     "output_type": "display_data"
    },
    {
     "name": "stdout",
     "output_type": "stream",
     "text": [
      "Map has been displayed inline and saved as 'results\\routes_with_buffers_map-2025-05-23_15-30-27_92427.html'.\n",
      "Error fetching directions: INVALID_REQUEST\n",
      "Error fetching directions: NOT_FOUND\n",
      "Warning: Not enough points to create buffer. Returning None.\n",
      "Warning: One or both buffer polygons are None. Cannot compute intersection.\n",
      "Warning: Not enough points to create buffer. Returning None.\n",
      "Before segment: ([(5.37344, -3.99877), (5.37345, -3.99855), (5.37347, -3.99848), (5.37337, -3.99847), (5.37305, -3.99846), (5.37275, -3.99846), (5.37218, -3.99841), (5.37171, -3.99833), (5.37142, -3.99829), (5.37099, -3.99825), (5.3707, -3.99825), (5.37022, -3.99825), (5.36842, -3.99825), (5.36763, -3.99825), (5.36717, -3.99823), (5.36692, -3.99815), (5.36679, -3.99808), (5.36653, -3.99784), (5.3663, -3.99764), (5.36608, -3.99754), (5.36598, -3.99752), (5.36516, -3.9975), (5.36333, -3.9975)], 1.186, 3.1666666666666665)\n",
      "During segment: ([(5.36333, -3.9975), (5.36189, -3.99751), (5.36139, -3.99752), (5.3611, -3.99759), (5.36091, -3.99768), (5.36071, -3.99782), (5.36055, -3.99798), (5.36035, -3.99822), (5.35983, -3.99895), (5.35916, -3.99987), (5.3584, -4.00089), (5.35802, -4.00123), (5.35778, -4.00134), (5.35727, -4.00144), (5.35578, -4.00162), (5.35467, -4.00177), (5.35222, -4.00207), (5.34864, -4.00251), (5.34626, -4.00274), (5.34536, -4.00284), (5.34494, -4.0029), (5.34426, -4.00302), (5.34413, -4.00303), (5.34412, -4.00305), (5.34409, -4.00308), (5.34406, -4.0031), (5.34398, -4.00311), (5.34392, -4.00309), (5.3439, -4.00308), (5.34369, -4.0031), (5.3428, -4.00321), (5.33983, -4.0036), (5.33673, -4.00398), (5.3364, -4.00402), (5.33622, -4.00405), (5.33612, -4.00403), (5.3361, -4.00405), (5.33603, -4.00409), (5.33595, -4.00407), (5.33593, -4.00405), (5.3359, -4.00406), (5.33583, -4.00409), (5.3355, -4.0041), (5.33505, -4.00415), (5.33425, -4.00428), (5.33109, -4.00467), (5.32942, -4.00488)], 4.0, 9.483333333333333)\n",
      "After segment: ([(5.32942, -4.00488), (5.32797, -4.00505)], 0.163, 0.36666666666666664)\n",
      "Before segment: ([(5.37344, -3.99877), (5.37345, -3.99855), (5.37347, -3.99848), (5.37337, -3.99847), (5.37305, -3.99846), (5.37275, -3.99846), (5.37218, -3.99841), (5.37171, -3.99833), (5.37142, -3.99829), (5.37099, -3.99825), (5.3707, -3.99825), (5.37022, -3.99825), (5.36931, -3.99825)], 0.496, 1.6166666666666667)\n",
      "During segment: ([(5.36931, -3.99825), (5.36734, -3.99824), (5.36703, -3.99819), (5.36679, -3.99808), (5.36638, -3.9977), (5.3663, -3.99764), (5.36608, -3.99754), (5.36587, -3.99751), (5.3634, -3.9975), (5.36189, -3.99751), (5.36139, -3.99752), (5.3611, -3.99759), (5.36091, -3.99768), (5.36071, -3.99782), (5.36055, -3.99798), (5.36035, -3.99822), (5.35983, -3.99895), (5.35916, -3.99987), (5.3584, -4.00089), (5.35802, -4.00123), (5.35778, -4.00134), (5.35727, -4.00144), (5.35578, -4.00162), (5.35467, -4.00177), (5.35222, -4.00207), (5.34864, -4.00251), (5.34626, -4.00274), (5.34536, -4.00284), (5.34494, -4.0029), (5.34426, -4.00302), (5.34413, -4.00303), (5.34412, -4.00305), (5.34409, -4.00308), (5.34406, -4.0031), (5.34398, -4.00311), (5.34392, -4.00309), (5.3439, -4.00308), (5.34369, -4.0031), (5.3428, -4.00321), (5.33983, -4.0036), (5.33673, -4.00398), (5.3364, -4.00402), (5.33622, -4.00405), (5.33612, -4.00403), (5.3361, -4.00405), (5.33603, -4.00409), (5.33595, -4.00407), (5.33593, -4.00405), (5.3359, -4.00406), (5.33583, -4.00409), (5.3355, -4.0041), (5.33502, -4.00416)], 4.062, 9.933333333333334)\n",
      "After segment: ([(5.33502, -4.00416), (5.33425, -4.00428), (5.33279, -4.00446), (5.32876, -4.00496), (5.32797, -4.00505)], 0.79, 1.4666666666666666)\n",
      "Before segment: ([(5.37344, -3.99877)], 0.0, 0.0)\n",
      "During segment: ([(5.37344, -3.99877), (5.37345, -3.99855), (5.37347, -3.99848), (5.37337, -3.99847), (5.37305, -3.99846), (5.37275, -3.99846), (5.37218, -3.99841), (5.37171, -3.99833), (5.37142, -3.99829), (5.37099, -3.99825), (5.3707, -3.99825), (5.37022, -3.99825), (5.36842, -3.99825), (5.36763, -3.99825), (5.36717, -3.99823), (5.36692, -3.99815), (5.36679, -3.99808), (5.36653, -3.99784), (5.3663, -3.99764), (5.36608, -3.99754), (5.36598, -3.99752), (5.36516, -3.9975), (5.36157, -3.99751), (5.36125, -3.99755), (5.36101, -3.99763), (5.36091, -3.99768), (5.36071, -3.99782), (5.36055, -3.99798), (5.36035, -3.99822), (5.35951, -3.9994), (5.3587, -4.0005), (5.35831, -4.00098), (5.35802, -4.00123), (5.35778, -4.00134), (5.35727, -4.00144), (5.35612, -4.00158), (5.35513, -4.0017), (5.35329, -4.00194), (5.35009, -4.00233), (5.34813, -4.00255), (5.34687, -4.00267), (5.34554, -4.00282), (5.34508, -4.00287), (5.34413, -4.00303), (5.34407, -4.00309), (5.344, -4.00311), (5.34393, -4.00309), (5.3439, -4.00308), (5.34307, -4.00318), (5.34066, -4.00349), (5.33832, -4.00378), (5.33683, -4.00397), (5.3364, -4.00402), (5.33622, -4.00405), (5.33612, -4.00403), (5.33608, -4.00407), (5.33603, -4.00409), (5.33597, -4.00408), (5.33595, -4.00407), (5.33593, -4.00405), (5.3359, -4.00406), (5.33583, -4.00409), (5.33568, -4.0041), (5.33532, -4.00412), (5.33444, -4.00425), (5.33215, -4.00454), (5.32797, -4.00505)], 5.348, 13.016666666666667)\n",
      "After segment: ([(5.32797, -4.00505)], 0.0, 0.0)\n",
      "Warning: One or both buffer polygons are None. Cannot compute intersection.\n",
      "Before segment: ([(5.36172, -3.99001), (5.36173, -3.99116), (5.36172, -3.99224), (5.36173, -3.99256), (5.36177, -3.99304), (5.36187, -3.99335), (5.36222, -3.99399), (5.36237, -3.9944), (5.36244, -3.99478), (5.36245, -3.99661)], 0.747, 1.4666666666666666)\n",
      "During segment: ([(5.36245, -3.99661), (5.36244, -3.9975), (5.36146, -3.99751), (5.36117, -3.99757), (5.36096, -3.99765), (5.36085, -3.99772), (5.36062, -3.99791), (5.36036, -3.9982), (5.36008, -3.9986), (5.35937, -3.9996), (5.35847, -4.0008), (5.35823, -4.00105), (5.35796, -4.00127), (5.35761, -4.00139), (5.35594, -4.0016), (5.35503, -4.00172), (5.35312, -4.00196), (5.34925, -4.00243), (5.34795, -4.00257), (5.34662, -4.0027), (5.34542, -4.00283), (5.34501, -4.00289), (5.34453, -4.00297), (5.34413, -4.00303), (5.34412, -4.00304), (5.3441, -4.00307), (5.34406, -4.00309), (5.34399, -4.00311), (5.34392, -4.00309), (5.3439, -4.00307), (5.34298, -4.00319), (5.33995, -4.00358), (5.3368, -4.00397), (5.33653, -4.00399), (5.33629, -4.00404), (5.33618, -4.00404), (5.33612, -4.00403), (5.33605, -4.00408), (5.33595, -4.00407), (5.33593, -4.00405), (5.33588, -4.00408), (5.33559, -4.00411), (5.33515, -4.00414), (5.33502, -4.00416)], 3.371, 8.666666666666666)\n",
      "After segment: ([(5.33502, -4.00416), (5.33425, -4.00428), (5.33279, -4.00446), (5.33109, -4.00467), (5.33031, -4.00476), (5.33028, -4.00465), (5.33015, -4.00364), (5.32998, -4.00225), (5.32988, -4.00137), (5.32985, -4.00109), (5.32984, -4.00099), (5.32971, -4.001), (5.32925, -4.00106), (5.32872, -4.00112), (5.32739, -4.0013), (5.32716, -4.00131), (5.32592, -4.00146), (5.32493, -4.0016), (5.3246, -4.00166), (5.32418, -4.00179), (5.32345, -4.002), (5.32275, -4.0022)], 1.75, 4.55)\n",
      "Before segment: ([(5.37344, -3.99877), (5.37345, -3.99855), (5.37347, -3.99848), (5.37337, -3.99847), (5.37305, -3.99846), (5.37275, -3.99846), (5.37218, -3.99841), (5.37171, -3.99833), (5.37142, -3.99829), (5.37099, -3.99825), (5.3707, -3.99825), (5.37022, -3.99825), (5.36842, -3.99825), (5.36763, -3.99825), (5.36717, -3.99823), (5.36692, -3.99815), (5.36679, -3.99808), (5.36653, -3.99784), (5.3663, -3.99764), (5.36608, -3.99754), (5.36598, -3.99752), (5.36516, -3.9975), (5.36157, -3.99751), (5.36125, -3.99755), (5.36101, -3.99763), (5.36091, -3.99768), (5.36071, -3.99782), (5.36055, -3.99798), (5.36035, -3.99822), (5.35951, -3.9994), (5.3587, -4.0005), (5.35831, -4.00098), (5.35802, -4.00123), (5.35778, -4.00134), (5.35727, -4.00144), (5.35612, -4.00158), (5.35513, -4.0017), (5.35329, -4.00194), (5.35009, -4.00233), (5.34813, -4.00255), (5.34687, -4.00267), (5.34554, -4.00282), (5.34508, -4.00287), (5.34503, -4.00288)], 3.426, 8.433333333333334)\n",
      "During segment: ([(5.34503, -4.00288), (5.34413, -4.00303), (5.34407, -4.00309), (5.344, -4.00311), (5.34393, -4.00309), (5.3439, -4.00308), (5.34307, -4.00318), (5.34066, -4.00349), (5.33683, -4.00397), (5.3364, -4.00402), (5.33622, -4.00405), (5.33612, -4.00403), (5.33608, -4.00407), (5.33603, -4.00409), (5.33597, -4.00408), (5.33595, -4.00407), (5.33593, -4.00405), (5.3359, -4.00406), (5.33583, -4.00409), (5.33568, -4.0041), (5.33532, -4.00412), (5.33521, -4.00413)], 1.111, 3.05)\n",
      "After segment: ([(5.33521, -4.00413), (5.33444, -4.00425), (5.33339, -4.00439), (5.32986, -4.00482), (5.32797, -4.00505)], 0.811, 1.5333333333333334)\n",
      "Error fetching directions: NOT_FOUND\n",
      "Before segment: ([(5.35576, -3.96982)], 0.0, 0.0)\n",
      "During segment: ([(5.35576, -3.96982), (5.35617, -3.96841), (5.3565, -3.9676), (5.35645, -3.96755), (5.35643, -3.96748), (5.35644, -3.96736), (5.35651, -3.96727), (5.35658, -3.96724), (5.35665, -3.96723), (5.35676, -3.96727), (5.35681, -3.96733), (5.35683, -3.9674), (5.35683, -3.96747), (5.35678, -3.96758), (5.35665, -3.96763), (5.35661, -3.96764), (5.35646, -3.96799), (5.35617, -3.96882), (5.35588, -3.9698), (5.35574, -3.97029), (5.35561, -3.97081), (5.35549, -3.97117), (5.35521, -3.97201), (5.35496, -3.97288), (5.35464, -3.97391), (5.35427, -3.97522), (5.35409, -3.97592), (5.35373, -3.97724), (5.35326, -3.97881), (5.35244, -3.98144), (5.35205, -3.98263), (5.35178, -3.98337), (5.3509, -3.98644), (5.34987, -3.99015), (5.34967, -3.99082), (5.34955, -3.99133), (5.34942, -3.99198), (5.34936, -3.99233), (5.34931, -3.99285), (5.3493, -3.99347), (5.34948, -3.99587), (5.34946, -3.99629), (5.3494, -3.99695), (5.34886, -3.99695), (5.34852, -3.99699), (5.34736, -3.99714), (5.3458, -3.99735), (5.34538, -3.9974), (5.34449, -3.99828), (5.34387, -3.9989), (5.34376, -3.99905), (5.34369, -3.99918), (5.34363, -3.99935), (5.3436, -3.99955), (5.34362, -3.99985), (5.34367, -4.00018), (5.34375, -4.00055), (5.34386, -4.00141), (5.34394, -4.00197), (5.34408, -4.00284), (5.34411, -4.00288), (5.34414, -4.00295), (5.34413, -4.00302), (5.34409, -4.00308), (5.34402, -4.00311), (5.34394, -4.0031), (5.34392, -4.00309), (5.3439, -4.00308), (5.34369, -4.0031), (5.34323, -4.00316)], 5.021, 11.283333333333333)\n",
      "After segment: ([(5.34323, -4.00316), (5.34102, -4.00345), (5.33858, -4.00375), (5.33706, -4.00394), (5.33653, -4.00399), (5.33629, -4.00404), (5.33618, -4.00404), (5.33612, -4.00403), (5.33611, -4.00406), (5.33614, -4.00414), (5.33621, -4.00512), (5.3362, -4.0055), (5.33573, -4.00558), (5.33512, -4.0057), (5.33464, -4.00582), (5.3344, -4.00593), (5.33421, -4.00605), (5.33386, -4.00635), (5.33323, -4.00699)], 1.345, 4.116666666666666)\n",
      "Warning: Not enough points to create buffer. Returning None.\n",
      "Warning: One or both buffer polygons are None. Cannot compute intersection.\n",
      "Before segment: ([(5.37344, -3.99877)], 0.0, 0.0)\n",
      "During segment: ([(5.37344, -3.99877), (5.37345, -3.99855), (5.37347, -3.99848), (5.37337, -3.99847), (5.37305, -3.99846), (5.37275, -3.99846), (5.37218, -3.99841), (5.37171, -3.99833), (5.37142, -3.99829), (5.37099, -3.99825), (5.3707, -3.99825), (5.37022, -3.99825), (5.36842, -3.99825), (5.36763, -3.99825), (5.36717, -3.99823), (5.36692, -3.99815), (5.36679, -3.99808), (5.36653, -3.99784), (5.3663, -3.99764), (5.36608, -3.99754), (5.36598, -3.99752), (5.36516, -3.9975), (5.36157, -3.99751), (5.36125, -3.99755), (5.36101, -3.99763), (5.36091, -3.99768), (5.36071, -3.99782), (5.36055, -3.99798), (5.36035, -3.99822), (5.35951, -3.9994), (5.3587, -4.0005), (5.35831, -4.00098), (5.35802, -4.00123), (5.35778, -4.00134), (5.35727, -4.00144), (5.35612, -4.00158), (5.35513, -4.0017), (5.35329, -4.00194), (5.35009, -4.00233), (5.34813, -4.00255), (5.34687, -4.00267), (5.34554, -4.00282), (5.34508, -4.00287), (5.34413, -4.00303), (5.34407, -4.00309), (5.344, -4.00311), (5.34393, -4.00309), (5.3439, -4.00308), (5.34307, -4.00318), (5.34066, -4.00349), (5.33832, -4.00378), (5.33683, -4.00397), (5.3364, -4.00402), (5.33622, -4.00405), (5.33612, -4.00403), (5.33608, -4.00407), (5.33603, -4.00409), (5.33597, -4.00408), (5.33595, -4.00407), (5.33593, -4.00405), (5.3359, -4.00406), (5.33583, -4.00409), (5.33568, -4.0041), (5.33532, -4.00412), (5.33444, -4.00425), (5.33215, -4.00454), (5.32797, -4.00505)], 5.348, 13.016666666666667)\n",
      "After segment: ([(5.32797, -4.00505)], 0.0, 0.0)\n",
      "Before segment: ([(5.36172, -3.99001), (5.36173, -3.99116), (5.36172, -3.99224), (5.36173, -3.99256), (5.36177, -3.99304), (5.36187, -3.99335), (5.36222, -3.99399), (5.36237, -3.9944), (5.36244, -3.99478), (5.36245, -3.99661)], 0.746, 1.45)\n",
      "During segment: ([(5.36245, -3.99661), (5.36244, -3.9975), (5.36146, -3.99751), (5.36117, -3.99757), (5.36096, -3.99765), (5.36085, -3.99772), (5.36062, -3.99791), (5.36036, -3.9982), (5.36008, -3.9986), (5.35937, -3.9996), (5.35847, -4.0008), (5.35823, -4.00105), (5.35796, -4.00127), (5.35761, -4.00139), (5.35594, -4.0016), (5.35503, -4.00172), (5.35312, -4.00196), (5.34925, -4.00243), (5.34795, -4.00257), (5.34662, -4.0027), (5.34542, -4.00283), (5.34501, -4.00289), (5.34453, -4.00297), (5.34413, -4.00303), (5.34412, -4.00304), (5.3441, -4.00307), (5.34406, -4.00309), (5.34399, -4.00311), (5.34392, -4.00309), (5.3439, -4.00307), (5.34298, -4.00319), (5.33995, -4.00358), (5.3368, -4.00397), (5.33653, -4.00399), (5.33629, -4.00404), (5.33618, -4.00404), (5.33612, -4.00403), (5.33605, -4.00408), (5.33595, -4.00407), (5.33593, -4.00405), (5.33588, -4.00408), (5.33559, -4.00411), (5.33515, -4.00414), (5.33444, -4.00425), (5.33159, -4.00461), (5.33031, -4.00476), (5.3302, -4.004), (5.33018, -4.00388)], 3.998, 9.85)\n",
      "After segment: ([(5.33018, -4.00388), (5.32991, -4.00158), (5.32984, -4.00099), (5.32914, -4.00107), (5.32722, -4.00131), (5.32602, -4.00145), (5.32509, -4.00158), (5.32477, -4.00163), (5.32441, -4.00172), (5.32365, -4.00194), (5.32275, -4.0022)], 1.122, 3.3666666666666667)\n",
      "Before segment: ([(5.36838, -4.00602), (5.36839, -4.00337), (5.36838, -4.00077), (5.36838, -3.99964), (5.36841, -3.99915)], 0.761, 3.183333333333333)\n",
      "During segment: ([(5.36841, -3.99915), (5.36842, -3.99825), (5.36763, -3.99825), (5.36717, -3.99823), (5.36692, -3.99815), (5.36679, -3.99808), (5.36653, -3.99784), (5.3663, -3.99764), (5.36608, -3.99754), (5.36598, -3.99752), (5.36516, -3.9975), (5.36157, -3.99751), (5.36125, -3.99755), (5.36101, -3.99763), (5.36091, -3.99768), (5.36071, -3.99782), (5.36055, -3.99798), (5.36035, -3.99822), (5.35951, -3.9994), (5.3587, -4.0005), (5.35831, -4.00098), (5.35802, -4.00123), (5.35778, -4.00134), (5.35727, -4.00144), (5.35612, -4.00158), (5.35513, -4.0017), (5.35329, -4.00194), (5.35009, -4.00233), (5.34813, -4.00255), (5.34687, -4.00267), (5.34554, -4.00282), (5.34508, -4.00287), (5.34413, -4.00303), (5.34407, -4.00309), (5.344, -4.00311), (5.34393, -4.00309), (5.3439, -4.00308), (5.34307, -4.00318), (5.34066, -4.00349), (5.33683, -4.00397), (5.3364, -4.00402), (5.33622, -4.00405), (5.33612, -4.00403), (5.33608, -4.00407), (5.33603, -4.00409), (5.33597, -4.00408), (5.33591, -4.00403), (5.3359, -4.00398), (5.33591, -4.00392), (5.33593, -4.0039), (5.33592, -4.00386), (5.3359, -4.00348), (5.33586, -4.00316)], 4.063, 10.3)\n",
      "After segment: ([(5.33586, -4.00316), (5.33548, -4.00012), (5.33526, -3.99834), (5.33512, -3.99716), (5.33496, -3.9957), (5.33484, -3.99472), (5.33472, -3.99373), (5.33472, -3.99364), (5.33471, -3.99363), (5.33471, -3.99361), (5.33471, -3.99358), (5.33475, -3.99356), (5.33479, -3.99359), (5.33478, -3.99363), (5.33482, -3.99373), (5.33489, -3.99425), (5.33503, -3.99537), (5.33504, -3.9955)], 1.294, 2.683333333333333)\n",
      "Before segment: ([(5.36838, -4.00602), (5.36839, -4.00337), (5.36838, -4.00077), (5.36838, -3.99964), (5.36842, -3.99873), (5.36842, -3.99825), (5.36763, -3.99825), (5.36717, -3.99823), (5.36692, -3.99815), (5.36679, -3.99808), (5.36653, -3.99784), (5.3663, -3.99764), (5.36608, -3.99754), (5.36598, -3.99752), (5.36516, -3.9975), (5.36333, -3.9975)], 1.452, 5.15)\n",
      "During segment: ([(5.36333, -3.9975), (5.36189, -3.99751), (5.36139, -3.99752), (5.3611, -3.99759), (5.36091, -3.99768), (5.36071, -3.99782), (5.36055, -3.99798), (5.36035, -3.99822), (5.35983, -3.99895), (5.35916, -3.99987), (5.3584, -4.00089), (5.35802, -4.00123), (5.35778, -4.00134), (5.35727, -4.00144), (5.35578, -4.00162), (5.35467, -4.00177), (5.35222, -4.00207), (5.34864, -4.00251), (5.34626, -4.00274), (5.34536, -4.00284), (5.34494, -4.0029), (5.34426, -4.00302), (5.34413, -4.00303), (5.34412, -4.00305), (5.34409, -4.00308), (5.34406, -4.0031), (5.34398, -4.00311), (5.34392, -4.00309), (5.3439, -4.00308), (5.34369, -4.0031), (5.3428, -4.00321), (5.33983, -4.0036), (5.33673, -4.00398), (5.3364, -4.00402), (5.33622, -4.00405), (5.33612, -4.00403), (5.3361, -4.00405), (5.33603, -4.00409), (5.33595, -4.00407), (5.33591, -4.00403), (5.3359, -4.00398), (5.33593, -4.0039), (5.33591, -4.00371), (5.3359, -4.00348), (5.33586, -4.00317), (5.33586, -4.00316)], 3.372, 8.35)\n",
      "After segment: ([(5.33586, -4.00316), (5.33548, -4.00012), (5.33526, -3.99834), (5.33512, -3.99716), (5.33496, -3.9957), (5.33484, -3.99472), (5.33472, -3.99373), (5.33472, -3.99364), (5.33471, -3.99363), (5.33471, -3.99361), (5.33471, -3.99358), (5.33475, -3.99356), (5.33479, -3.99359), (5.33478, -3.99363), (5.33482, -3.99373), (5.33489, -3.99425), (5.33503, -3.99537), (5.33504, -3.9955)], 1.294, 2.683333333333333)\n",
      "Before segment: ([(5.35576, -3.96982), (5.35617, -3.96841), (5.3565, -3.9676), (5.35645, -3.96755), (5.35643, -3.96748), (5.35644, -3.96736), (5.35651, -3.96727), (5.35658, -3.96724), (5.35665, -3.96723), (5.35676, -3.96727), (5.35681, -3.96733), (5.35683, -3.9674), (5.35683, -3.96747), (5.35678, -3.96758), (5.35665, -3.96763), (5.35661, -3.96764), (5.35646, -3.96799), (5.35617, -3.96882), (5.35588, -3.9698), (5.35574, -3.97029), (5.35561, -3.97081), (5.35549, -3.97117), (5.35521, -3.97201), (5.35496, -3.97288), (5.35464, -3.97391), (5.35427, -3.97522), (5.35409, -3.97592), (5.35373, -3.97724), (5.35326, -3.97881), (5.35244, -3.98144), (5.35205, -3.98263), (5.35178, -3.98337), (5.3509, -3.98644), (5.34987, -3.99015), (5.34967, -3.99082), (5.34955, -3.99133), (5.34942, -3.99198), (5.34936, -3.99233), (5.34931, -3.99285), (5.3493, -3.99347), (5.34948, -3.99587), (5.34946, -3.99629), (5.3494, -3.99695), (5.34886, -3.99695), (5.34852, -3.99699), (5.34736, -3.99714), (5.3458, -3.99735), (5.34538, -3.9974), (5.34449, -3.99828), (5.34387, -3.9989), (5.34376, -3.99905), (5.34369, -3.99918), (5.34363, -3.99935), (5.3436, -3.99955), (5.34362, -3.99985), (5.34367, -4.00018), (5.34375, -4.00055), (5.34386, -4.00141), (5.34394, -4.00197), (5.34397, -4.00215)], 4.814, 10.666666666666666)\n",
      "During segment: ([(5.34397, -4.00215), (5.34407, -4.00284), (5.34408, -4.00285), (5.34412, -4.00288), (5.34414, -4.00296), (5.34413, -4.00303), (5.34408, -4.00308), (5.34401, -4.00311), (5.34394, -4.0031), (5.34391, -4.00308), (5.34351, -4.00312), (5.34102, -4.00345), (5.33706, -4.00394), (5.33653, -4.00399), (5.33629, -4.00404), (5.33618, -4.00404), (5.33612, -4.00403), (5.33611, -4.00406), (5.33614, -4.00414), (5.3362, -4.00497)], 1.111, 3.1166666666666667)\n",
      "After segment: ([(5.3362, -4.00497), (5.33621, -4.00533), (5.3362, -4.0055), (5.33607, -4.00553), (5.33542, -4.00564), (5.33519, -4.00568), (5.33476, -4.00579), (5.33454, -4.00586), (5.33428, -4.00601), (5.33401, -4.00621), (5.33345, -4.00678), (5.33323, -4.00699)], 0.441, 1.6333333333333333)\n",
      "Before segment: ([(5.393, -3.97552), (5.39339, -3.97407), (5.3936, -3.97317), (5.39377, -3.97259), (5.39391, -3.97219), (5.39409, -3.97188), (5.39478, -3.97105), (5.39448, -3.97095), (5.39379, -3.97078), (5.39286, -3.97055), (5.39183, -3.97028), (5.39081, -3.97002), (5.39009, -3.96983), (5.38863, -3.96948), (5.38736, -3.96916), (5.38667, -3.96896), (5.38596, -3.96879), (5.38394, -3.9684), (5.38351, -3.96831), (5.38323, -3.9682), (5.38309, -3.96815), (5.38235, -3.96793), (5.38038, -3.96734), (5.37776, -3.96655), (5.37742, -3.96645), (5.37656, -3.96619), (5.3765, -3.96619), (5.37639, -3.96619), (5.37638, -3.9662), (5.37637, -3.96622), (5.37631, -3.9663), (5.37617, -3.96635), (5.37614, -3.96635), (5.37607, -3.96642), (5.37603, -3.96647), (5.37595, -3.96677), (5.37578, -3.96747), (5.37542, -3.96866), (5.375, -3.9701), (5.3749, -3.9704), (5.37468, -3.97033), (5.37445, -3.97026), (5.37437, -3.97025), (5.37425, -3.97025), (5.3735, -3.97042), (5.37249, -3.97062), (5.37196, -3.97073), (5.37146, -3.97083), (5.37128, -3.97083), (5.37114, -3.97081), (5.3708, -3.97073), (5.36874, -3.9701), (5.36433, -3.96879), (5.36152, -3.96795), (5.36059, -3.96766), (5.35982, -3.96744), (5.35882, -3.96713), (5.35873, -3.96733), (5.35853, -3.96785), (5.3585, -3.96784), (5.35772, -3.9675)], 5.204, 12.85)\n",
      "During segment: ([(5.35772, -3.9675), (5.35709, -3.96723), (5.35704, -3.96724), (5.35697, -3.96736), (5.35694, -3.9674), (5.35684, -3.96745), (5.3568, -3.96755), (5.35675, -3.9676), (5.35667, -3.96763), (5.3566, -3.96764), (5.35623, -3.96865), (5.35602, -3.96926), (5.35587, -3.96981), (5.35568, -3.97054), (5.3555, -3.97115), (5.35524, -3.97191), (5.35501, -3.9727), (5.35469, -3.97374), (5.35437, -3.97487), (5.35391, -3.97662), (5.35345, -3.97818), (5.35279, -3.98033), (5.3521, -3.98247), (5.35182, -3.98325), (5.35159, -3.98401), (5.3506, -3.98747), (5.34992, -3.98998), (5.3496, -3.99109), (5.3494, -3.99208), (5.34932, -3.99269), (5.3493, -3.99323), (5.34933, -3.99393), (5.34946, -3.99558), (5.34947, -3.99608), (5.34945, -3.99653), (5.3494, -3.99695), (5.34931, -3.99694), (5.34871, -3.99697), (5.34771, -3.99709), (5.34608, -3.9973), (5.34574, -3.99735), (5.34538, -3.9974), (5.34462, -3.99815), (5.34447, -3.99829), (5.34409, -3.99867), (5.34382, -3.99897), (5.34373, -3.99911), (5.34365, -3.99927), (5.34361, -3.99945), (5.3436, -3.9997), (5.34364, -4.00004), (5.34369, -4.00031), (5.34379, -4.00083), (5.34394, -4.00194), (5.34407, -4.00284), (5.34413, -4.0029), (5.34414, -4.00298), (5.34412, -4.00304), (5.34414, -4.00338), (5.34419, -4.00371), (5.34427, -4.00397)], 4.784, 10.066666666666666)\n",
      "After segment: ([(5.34427, -4.00397), (5.34442, -4.00425), (5.34458, -4.00446), (5.34483, -4.00467), (5.34498, -4.00476), (5.34579, -4.00513), (5.34604, -4.00524), (5.34638, -4.00473), (5.3469, -4.00394), (5.34704, -4.00375), (5.34715, -4.0037), (5.34778, -4.00364), (5.34777, -4.00349), (5.34773, -4.00333)], 0.568, 1.7)\n",
      "Log file saved to: c:\\Users\\HUAWEI\\CanterburyCommuto\\CanterburyCommuto\\canterburycommuto\\notebooks\\results\\exact_intersection_buffer_results-2025-05-23_15-30-26_21331.log\n"
     ]
    }
   ],
   "source": [
    "CanterburyCommuto.Overlap_Function(\n",
    "    \"origin_destination_test.csv\",\n",
    "    \"API_KEY\",\n",
    "    50, 100, 100,\"exact\", \"yes\",\n",
    "    \"home_A\", \"work_A\", \"home_B\", \"work_B\", skip_invalid=True\n",
    ")\n"
   ]
  },
  {
   "cell_type": "markdown",
   "id": "7acc47e0",
   "metadata": {},
   "source": [
    "### Buffer Route Intersection Method (only Overlap Information)"
   ]
  },
  {
   "cell_type": "code",
   "execution_count": null,
   "id": "0722de74",
   "metadata": {},
   "outputs": [
    {
     "name": "stdout",
     "output_type": "stream",
     "text": [
      "\n",
      "[INFO] Estimated number of API requests: 42\n",
      "[INFO] Estimated cost: $0.21\n",
      "[NOTICE] Actual cost may be higher or lower depending on Google’s pricing tiers and route pair complexity.\n",
      "\n",
      "[PROCESSING] Proceeding with route analysis...\n",
      "\n",
      "Error fetching directions: NOT_FOUND\n",
      "Warning: Not enough points to create buffer. Returning None.\n",
      "Map saved to: c:\\Users\\HUAWEI\\CanterburyCommuto\\CanterburyCommuto\\canterburycommuto\\notebooks\\results\\routes_with_buffers_map-2025-05-23_15-30-55_40126.html\n"
     ]
    },
    {
     "data": {
      "text/html": [
       "\n",
       "        <iframe\n",
       "            width=\"100%\"\n",
       "            height=\"600px\"\n",
       "            src=\"results\\routes_with_buffers_map-2025-05-23_15-30-55_40126.html\"\n",
       "            frameborder=\"0\"\n",
       "            allowfullscreen\n",
       "            \n",
       "        ></iframe>\n",
       "        "
      ],
      "text/plain": [
       "<IPython.lib.display.IFrame at 0x23ac880a990>"
      ]
     },
     "metadata": {},
     "output_type": "display_data"
    },
    {
     "name": "stdout",
     "output_type": "stream",
     "text": [
      "Map has been displayed inline and saved as 'results\\routes_with_buffers_map-2025-05-23_15-30-55_40126.html'.\n",
      "Map saved to: c:\\Users\\HUAWEI\\CanterburyCommuto\\CanterburyCommuto\\canterburycommuto\\notebooks\\results\\routes_with_buffers_map-2025-05-23_15-30-55_31607.html\n",
      "Map saved to: c:\\Users\\HUAWEI\\CanterburyCommuto\\CanterburyCommuto\\canterburycommuto\\notebooks\\results\\routes_with_buffers_map-2025-05-23_15-30-55_68095.html\n"
     ]
    },
    {
     "data": {
      "text/html": [
       "\n",
       "        <iframe\n",
       "            width=\"100%\"\n",
       "            height=\"600px\"\n",
       "            src=\"results\\routes_with_buffers_map-2025-05-23_15-30-55_68095.html\"\n",
       "            frameborder=\"0\"\n",
       "            allowfullscreen\n",
       "            \n",
       "        ></iframe>\n",
       "        "
      ],
      "text/plain": [
       "<IPython.lib.display.IFrame at 0x23ac9db0a40>"
      ]
     },
     "metadata": {},
     "output_type": "display_data"
    },
    {
     "data": {
      "text/html": [
       "\n",
       "        <iframe\n",
       "            width=\"100%\"\n",
       "            height=\"600px\"\n",
       "            src=\"results\\routes_with_buffers_map-2025-05-23_15-30-55_31607.html\"\n",
       "            frameborder=\"0\"\n",
       "            allowfullscreen\n",
       "            \n",
       "        ></iframe>\n",
       "        "
      ],
      "text/plain": [
       "<IPython.lib.display.IFrame at 0x23ac9e8b770>"
      ]
     },
     "metadata": {},
     "output_type": "display_data"
    },
    {
     "name": "stdout",
     "output_type": "stream",
     "text": [
      "Map saved to: c:\\Users\\HUAWEI\\CanterburyCommuto\\CanterburyCommuto\\canterburycommuto\\notebooks\\results\\routes_with_buffers_map-2025-05-23_15-30-55_91559.htmlMap has been displayed inline and saved as 'results\\routes_with_buffers_map-2025-05-23_15-30-55_31607.html'.\n",
      "Map has been displayed inline and saved as 'results\\routes_with_buffers_map-2025-05-23_15-30-55_68095.html'.\n",
      "\n",
      "Map saved to: c:\\Users\\HUAWEI\\CanterburyCommuto\\CanterburyCommuto\\canterburycommuto\\notebooks\\results\\routes_with_buffers_map-2025-05-23_15-30-55_90974.html\n"
     ]
    },
    {
     "data": {
      "text/html": [
       "\n",
       "        <iframe\n",
       "            width=\"100%\"\n",
       "            height=\"600px\"\n",
       "            src=\"results\\routes_with_buffers_map-2025-05-23_15-30-55_90974.html\"\n",
       "            frameborder=\"0\"\n",
       "            allowfullscreen\n",
       "            \n",
       "        ></iframe>\n",
       "        "
      ],
      "text/plain": [
       "<IPython.lib.display.IFrame at 0x23ac9ee7770>"
      ]
     },
     "metadata": {},
     "output_type": "display_data"
    },
    {
     "data": {
      "text/html": [
       "\n",
       "        <iframe\n",
       "            width=\"100%\"\n",
       "            height=\"600px\"\n",
       "            src=\"results\\routes_with_buffers_map-2025-05-23_15-30-55_91559.html\"\n",
       "            frameborder=\"0\"\n",
       "            allowfullscreen\n",
       "            \n",
       "        ></iframe>\n",
       "        "
      ],
      "text/plain": [
       "<IPython.lib.display.IFrame at 0x23ac9db0a40>"
      ]
     },
     "metadata": {},
     "output_type": "display_data"
    },
    {
     "name": "stdout",
     "output_type": "stream",
     "text": [
      "Map has been displayed inline and saved as 'results\\routes_with_buffers_map-2025-05-23_15-30-55_90974.html'.\n",
      "Map has been displayed inline and saved as 'results\\routes_with_buffers_map-2025-05-23_15-30-55_91559.html'.\n",
      "Map saved to: c:\\Users\\HUAWEI\\CanterburyCommuto\\CanterburyCommuto\\canterburycommuto\\notebooks\\results\\routes_with_buffers_map-2025-05-23_15-30-55_82233.html\n"
     ]
    },
    {
     "data": {
      "text/html": [
       "\n",
       "        <iframe\n",
       "            width=\"100%\"\n",
       "            height=\"600px\"\n",
       "            src=\"results\\routes_with_buffers_map-2025-05-23_15-30-55_82233.html\"\n",
       "            frameborder=\"0\"\n",
       "            allowfullscreen\n",
       "            \n",
       "        ></iframe>\n",
       "        "
      ],
      "text/plain": [
       "<IPython.lib.display.IFrame at 0x23ac9ee6660>"
      ]
     },
     "metadata": {},
     "output_type": "display_data"
    },
    {
     "name": "stdout",
     "output_type": "stream",
     "text": [
      "Map has been displayed inline and saved as 'results\\routes_with_buffers_map-2025-05-23_15-30-55_82233.html'.\n",
      "Warning: One or both buffer polygons are None. Cannot compute intersection.\n",
      "Error fetching directions: INVALID_REQUEST\n",
      "Map saved to: c:\\Users\\HUAWEI\\CanterburyCommuto\\CanterburyCommuto\\canterburycommuto\\notebooks\\results\\routes_with_buffers_map-2025-05-23_15-30-55_51725.html\n"
     ]
    },
    {
     "data": {
      "text/html": [
       "\n",
       "        <iframe\n",
       "            width=\"100%\"\n",
       "            height=\"600px\"\n",
       "            src=\"results\\routes_with_buffers_map-2025-05-23_15-30-55_51725.html\"\n",
       "            frameborder=\"0\"\n",
       "            allowfullscreen\n",
       "            \n",
       "        ></iframe>\n",
       "        "
      ],
      "text/plain": [
       "<IPython.lib.display.IFrame at 0x23ac8b21160>"
      ]
     },
     "metadata": {},
     "output_type": "display_data"
    },
    {
     "name": "stdout",
     "output_type": "stream",
     "text": [
      "Map has been displayed inline and saved as 'results\\routes_with_buffers_map-2025-05-23_15-30-55_51725.html'.\n",
      "Warning: Not enough points to create buffer. Returning None.\n",
      "Error fetching directions:Error fetching directions: NOT_FOUND\n",
      " NOT_FOUND\n",
      "Warning: One or both buffer polygons are None. Cannot compute intersection.\n",
      "Warning: Not enough points to create buffer. Returning None.\n",
      "Warning: One or both buffer polygons are None. Cannot compute intersection.\n",
      "Warning: Not enough points to create buffer. Returning None.\n",
      "Before segment: ([(5.37344, -3.99877), (5.37345, -3.99855), (5.37347, -3.99848), (5.37337, -3.99847), (5.37305, -3.99846), (5.37275, -3.99846), (5.37218, -3.99841), (5.37171, -3.99833), (5.37142, -3.99829), (5.37099, -3.99825), (5.3707, -3.99825), (5.37022, -3.99825), (5.36931, -3.99825)], 0.496, 1.6166666666666667)\n",
      "During segment: ([(5.36931, -3.99825), (5.36734, -3.99824), (5.36703, -3.99819), (5.36679, -3.99808), (5.36638, -3.9977), (5.3663, -3.99764), (5.36608, -3.99754), (5.36587, -3.99751), (5.3634, -3.9975), (5.36189, -3.99751), (5.36139, -3.99752), (5.3611, -3.99759), (5.36091, -3.99768), (5.36071, -3.99782), (5.36055, -3.99798), (5.36035, -3.99822), (5.35983, -3.99895), (5.35916, -3.99987), (5.3584, -4.00089), (5.35802, -4.00123), (5.35778, -4.00134), (5.35727, -4.00144), (5.35578, -4.00162), (5.35467, -4.00177), (5.35222, -4.00207), (5.34864, -4.00251), (5.34626, -4.00274), (5.34536, -4.00284), (5.34494, -4.0029), (5.34426, -4.00302), (5.34413, -4.00303), (5.34412, -4.00305), (5.34409, -4.00308), (5.34406, -4.0031), (5.34398, -4.00311), (5.34392, -4.00309), (5.3439, -4.00308), (5.34369, -4.0031), (5.3428, -4.00321), (5.33983, -4.0036), (5.33673, -4.00398), (5.3364, -4.00402), (5.33622, -4.00405), (5.33612, -4.00403), (5.3361, -4.00405), (5.33603, -4.00409), (5.33595, -4.00407), (5.33593, -4.00405), (5.3359, -4.00406), (5.33583, -4.00409), (5.3355, -4.0041), (5.33502, -4.00416)], 4.062, 9.933333333333334)\n",
      "After segment: ([(5.33502, -4.00416), (5.33425, -4.00428), (5.33279, -4.00446), (5.32876, -4.00496), (5.32797, -4.00505)], 0.79, 1.4666666666666666)\n",
      "Warning: One or both buffer polygons are None. Cannot compute intersection.\n",
      "Before segment: ([(5.36172, -3.99001), (5.36173, -3.99116), (5.36172, -3.99224), (5.36173, -3.99256), (5.36177, -3.99304), (5.36187, -3.99335), (5.36222, -3.99399), (5.36237, -3.9944), (5.36244, -3.99478), (5.36245, -3.99661)], 0.747, 1.4666666666666666)\n",
      "During segment: ([(5.36245, -3.99661), (5.36244, -3.9975), (5.36146, -3.99751), (5.36117, -3.99757), (5.36096, -3.99765), (5.36085, -3.99772), (5.36062, -3.99791), (5.36036, -3.9982), (5.36008, -3.9986), (5.35937, -3.9996), (5.35847, -4.0008), (5.35823, -4.00105), (5.35796, -4.00127), (5.35761, -4.00139), (5.35594, -4.0016), (5.35503, -4.00172), (5.35312, -4.00196), (5.34925, -4.00243), (5.34795, -4.00257), (5.34662, -4.0027), (5.34542, -4.00283), (5.34501, -4.00289), (5.34453, -4.00297), (5.34413, -4.00303), (5.34412, -4.00304), (5.3441, -4.00307), (5.34406, -4.00309), (5.34399, -4.00311), (5.34392, -4.00309), (5.3439, -4.00307), (5.34298, -4.00319), (5.33995, -4.00358), (5.3368, -4.00397), (5.33653, -4.00399), (5.33629, -4.00404), (5.33618, -4.00404), (5.33612, -4.00403), (5.33605, -4.00408), (5.33595, -4.00407), (5.33593, -4.00405), (5.33588, -4.00408), (5.33559, -4.00411), (5.33515, -4.00414), (5.33502, -4.00416)], 3.371, 8.666666666666666)\n",
      "After segment: ([(5.33502, -4.00416), (5.33425, -4.00428), (5.33279, -4.00446), (5.33109, -4.00467), (5.33031, -4.00476), (5.33028, -4.00465), (5.33015, -4.00364), (5.32998, -4.00225), (5.32988, -4.00137), (5.32985, -4.00109), (5.32984, -4.00099), (5.32971, -4.001), (5.32925, -4.00106), (5.32872, -4.00112), (5.32739, -4.0013), (5.32716, -4.00131), (5.32592, -4.00146), (5.32493, -4.0016), (5.3246, -4.00166), (5.32418, -4.00179), (5.32345, -4.002), (5.32275, -4.0022)], 1.75, 4.55)\n",
      "Before segment: ([(5.37344, -3.99877), (5.37345, -3.99855), (5.37347, -3.99848), (5.37337, -3.99847), (5.37305, -3.99846), (5.37275, -3.99846), (5.37218, -3.99841), (5.37171, -3.99833), (5.37142, -3.99829), (5.37099, -3.99825), (5.3707, -3.99825), (5.37022, -3.99825), (5.36842, -3.99825), (5.36763, -3.99825), (5.36717, -3.99823), (5.36692, -3.99815), (5.36679, -3.99808), (5.36653, -3.99784), (5.3663, -3.99764), (5.36608, -3.99754), (5.36598, -3.99752), (5.36516, -3.9975), (5.36157, -3.99751), (5.36125, -3.99755), (5.36101, -3.99763), (5.36091, -3.99768), (5.36071, -3.99782), (5.36055, -3.99798), (5.36035, -3.99822), (5.35951, -3.9994), (5.3587, -4.0005), (5.35831, -4.00098), (5.35802, -4.00123), (5.35778, -4.00134), (5.35727, -4.00144), (5.35612, -4.00158), (5.35513, -4.0017), (5.35329, -4.00194), (5.35009, -4.00233), (5.34813, -4.00255), (5.34687, -4.00267), (5.34554, -4.00282), (5.34508, -4.00287), (5.34503, -4.00288)], 3.426, 8.433333333333334)\n",
      "During segment: ([(5.34503, -4.00288), (5.34413, -4.00303), (5.34407, -4.00309), (5.344, -4.00311), (5.34393, -4.00309), (5.3439, -4.00308), (5.34307, -4.00318), (5.34066, -4.00349), (5.33683, -4.00397), (5.3364, -4.00402), (5.33622, -4.00405), (5.33612, -4.00403), (5.33608, -4.00407), (5.33603, -4.00409), (5.33597, -4.00408), (5.33595, -4.00407), (5.33593, -4.00405), (5.3359, -4.00406), (5.33583, -4.00409), (5.33568, -4.0041), (5.33532, -4.00412), (5.33521, -4.00413)], 1.111, 3.05)\n",
      "After segment: ([(5.33521, -4.00413), (5.33444, -4.00425), (5.33339, -4.00439), (5.32986, -4.00482), (5.32797, -4.00505)], 0.811, 1.5333333333333334)\n",
      "Before segment: ([(5.37344, -3.99877), (5.37345, -3.99855), (5.37347, -3.99848), (5.37337, -3.99847), (5.37305, -3.99846), (5.37275, -3.99846), (5.37218, -3.99841), (5.37171, -3.99833), (5.37142, -3.99829), (5.37099, -3.99825), (5.3707, -3.99825), (5.37022, -3.99825), (5.36842, -3.99825), (5.36763, -3.99825), (5.36717, -3.99823), (5.36692, -3.99815), (5.36679, -3.99808), (5.36653, -3.99784), (5.3663, -3.99764), (5.36608, -3.99754), (5.36598, -3.99752), (5.36516, -3.9975), (5.36333, -3.9975)], 1.186, 3.1666666666666665)\n",
      "During segment: ([(5.36333, -3.9975), (5.36189, -3.99751), (5.36139, -3.99752), (5.3611, -3.99759), (5.36091, -3.99768), (5.36071, -3.99782), (5.36055, -3.99798), (5.36035, -3.99822), (5.35983, -3.99895), (5.35916, -3.99987), (5.3584, -4.00089), (5.35802, -4.00123), (5.35778, -4.00134), (5.35727, -4.00144), (5.35578, -4.00162), (5.35467, -4.00177), (5.35222, -4.00207), (5.34864, -4.00251), (5.34626, -4.00274), (5.34536, -4.00284), (5.34494, -4.0029), (5.34426, -4.00302), (5.34413, -4.00303), (5.34412, -4.00305), (5.34409, -4.00308), (5.34406, -4.0031), (5.34398, -4.00311), (5.34392, -4.00309), (5.3439, -4.00308), (5.34369, -4.0031), (5.3428, -4.00321), (5.33983, -4.0036), (5.33673, -4.00398), (5.3364, -4.00402), (5.33622, -4.00405), (5.33612, -4.00403), (5.3361, -4.00405), (5.33603, -4.00409), (5.33595, -4.00407), (5.33593, -4.00405), (5.3359, -4.00406), (5.33583, -4.00409), (5.3355, -4.0041), (5.33505, -4.00415), (5.33425, -4.00428), (5.33109, -4.00467), (5.32942, -4.00488)], 4.0, 9.483333333333333)\n",
      "After segment: ([(5.32942, -4.00488), (5.32797, -4.00505)], 0.163, 0.36666666666666664)\n",
      "Before segment: ([(5.35576, -3.96982)], 0.0, 0.0)\n",
      "During segment: ([(5.35576, -3.96982), (5.35617, -3.96841), (5.3565, -3.9676), (5.35645, -3.96755), (5.35643, -3.96748), (5.35644, -3.96736), (5.35651, -3.96727), (5.35658, -3.96724), (5.35665, -3.96723), (5.35676, -3.96727), (5.35681, -3.96733), (5.35683, -3.9674), (5.35683, -3.96747), (5.35678, -3.96758), (5.35665, -3.96763), (5.35661, -3.96764), (5.35646, -3.96799), (5.35617, -3.96882), (5.35588, -3.9698), (5.35574, -3.97029), (5.35561, -3.97081), (5.35549, -3.97117), (5.35521, -3.97201), (5.35496, -3.97288), (5.35464, -3.97391), (5.35427, -3.97522), (5.35409, -3.97592), (5.35373, -3.97724), (5.35326, -3.97881), (5.35244, -3.98144), (5.35205, -3.98263), (5.35178, -3.98337), (5.3509, -3.98644), (5.34987, -3.99015), (5.34967, -3.99082), (5.34955, -3.99133), (5.34942, -3.99198), (5.34936, -3.99233), (5.34931, -3.99285), (5.3493, -3.99347), (5.34948, -3.99587), (5.34946, -3.99629), (5.3494, -3.99695), (5.34886, -3.99695), (5.34852, -3.99699), (5.34736, -3.99714), (5.3458, -3.99735), (5.34538, -3.9974), (5.34449, -3.99828), (5.34387, -3.9989), (5.34376, -3.99905), (5.34369, -3.99918), (5.34363, -3.99935), (5.3436, -3.99955), (5.34362, -3.99985), (5.34367, -4.00018), (5.34375, -4.00055), (5.34386, -4.00141), (5.34394, -4.00197), (5.34408, -4.00284), (5.34411, -4.00288), (5.34414, -4.00295), (5.34413, -4.00302), (5.34409, -4.00308), (5.34402, -4.00311), (5.34394, -4.0031), (5.34392, -4.00309), (5.3439, -4.00308), (5.34369, -4.0031), (5.34323, -4.00316)], 5.021, 11.283333333333333)\n",
      "After segment: ([(5.34323, -4.00316), (5.34102, -4.00345), (5.33858, -4.00375), (5.33706, -4.00394), (5.33653, -4.00399), (5.33629, -4.00404), (5.33618, -4.00404), (5.33612, -4.00403), (5.33611, -4.00406), (5.33614, -4.00414), (5.33621, -4.00512), (5.3362, -4.0055), (5.33573, -4.00558), (5.33512, -4.0057), (5.33464, -4.00582), (5.3344, -4.00593), (5.33421, -4.00605), (5.33386, -4.00635), (5.33323, -4.00699)], 1.345, 4.116666666666666)\n",
      "Before segment: ([(5.36838, -4.00602), (5.36839, -4.00337), (5.36838, -4.00077), (5.36838, -3.99964), (5.36842, -3.99873), (5.36842, -3.99825), (5.36763, -3.99825), (5.36717, -3.99823), (5.36692, -3.99815), (5.36679, -3.99808), (5.36653, -3.99784), (5.3663, -3.99764), (5.36608, -3.99754), (5.36598, -3.99752), (5.36516, -3.9975), (5.36333, -3.9975)], 1.452, 5.15)\n",
      "During segment: ([(5.36333, -3.9975), (5.36189, -3.99751), (5.36139, -3.99752), (5.3611, -3.99759), (5.36091, -3.99768), (5.36071, -3.99782), (5.36055, -3.99798), (5.36035, -3.99822), (5.35983, -3.99895), (5.35916, -3.99987), (5.3584, -4.00089), (5.35802, -4.00123), (5.35778, -4.00134), (5.35727, -4.00144), (5.35578, -4.00162), (5.35467, -4.00177), (5.35222, -4.00207), (5.34864, -4.00251), (5.34626, -4.00274), (5.34536, -4.00284), (5.34494, -4.0029), (5.34426, -4.00302), (5.34413, -4.00303), (5.34412, -4.00305), (5.34409, -4.00308), (5.34406, -4.0031), (5.34398, -4.00311), (5.34392, -4.00309), (5.3439, -4.00308), (5.34369, -4.0031), (5.3428, -4.00321), (5.33983, -4.0036), (5.33673, -4.00398), (5.3364, -4.00402), (5.33622, -4.00405), (5.33612, -4.00403), (5.3361, -4.00405), (5.33603, -4.00409), (5.33595, -4.00407), (5.33591, -4.00403), (5.3359, -4.00398), (5.33593, -4.0039), (5.33591, -4.00371), (5.3359, -4.00348), (5.33586, -4.00317), (5.33586, -4.00316)], 3.372, 8.35)\n",
      "After segment: ([(5.33586, -4.00316), (5.33548, -4.00012), (5.33526, -3.99834), (5.33512, -3.99716), (5.33496, -3.9957), (5.33484, -3.99472), (5.33472, -3.99373), (5.33472, -3.99364), (5.33471, -3.99363), (5.33471, -3.99361), (5.33471, -3.99358), (5.33475, -3.99356), (5.33479, -3.99359), (5.33478, -3.99363), (5.33482, -3.99373), (5.33489, -3.99425), (5.33503, -3.99537), (5.33504, -3.9955)], 1.294, 2.683333333333333)\n",
      "Before segment: ([(5.36838, -4.00602), (5.36839, -4.00337), (5.36838, -4.00077), (5.36838, -3.99964), (5.36841, -3.99915)], 0.761, 3.183333333333333)\n",
      "During segment: ([(5.36841, -3.99915), (5.36842, -3.99825), (5.36763, -3.99825), (5.36717, -3.99823), (5.36692, -3.99815), (5.36679, -3.99808), (5.36653, -3.99784), (5.3663, -3.99764), (5.36608, -3.99754), (5.36598, -3.99752), (5.36516, -3.9975), (5.36157, -3.99751), (5.36125, -3.99755), (5.36101, -3.99763), (5.36091, -3.99768), (5.36071, -3.99782), (5.36055, -3.99798), (5.36035, -3.99822), (5.35951, -3.9994), (5.3587, -4.0005), (5.35831, -4.00098), (5.35802, -4.00123), (5.35778, -4.00134), (5.35727, -4.00144), (5.35612, -4.00158), (5.35513, -4.0017), (5.35329, -4.00194), (5.35009, -4.00233), (5.34813, -4.00255), (5.34687, -4.00267), (5.34554, -4.00282), (5.34508, -4.00287), (5.34413, -4.00303), (5.34407, -4.00309), (5.344, -4.00311), (5.34393, -4.00309), (5.3439, -4.00308), (5.34307, -4.00318), (5.34066, -4.00349), (5.33683, -4.00397), (5.3364, -4.00402), (5.33622, -4.00405), (5.33612, -4.00403), (5.33608, -4.00407), (5.33603, -4.00409), (5.33597, -4.00408), (5.33591, -4.00403), (5.3359, -4.00398), (5.33591, -4.00392), (5.33593, -4.0039), (5.33592, -4.00386), (5.3359, -4.00348), (5.33586, -4.00316)], 4.063, 10.3)\n",
      "After segment: ([(5.33586, -4.00316), (5.33548, -4.00012), (5.33526, -3.99834), (5.33512, -3.99716), (5.33496, -3.9957), (5.33484, -3.99472), (5.33472, -3.99373), (5.33472, -3.99364), (5.33471, -3.99363), (5.33471, -3.99361), (5.33471, -3.99358), (5.33475, -3.99356), (5.33479, -3.99359), (5.33478, -3.99363), (5.33482, -3.99373), (5.33489, -3.99425), (5.33503, -3.99537), (5.33504, -3.9955)], 1.294, 2.683333333333333)\n",
      "Before segment: ([(5.35576, -3.96982), (5.35617, -3.96841), (5.3565, -3.9676), (5.35645, -3.96755), (5.35643, -3.96748), (5.35644, -3.96736), (5.35651, -3.96727), (5.35658, -3.96724), (5.35665, -3.96723), (5.35676, -3.96727), (5.35681, -3.96733), (5.35683, -3.9674), (5.35683, -3.96747), (5.35678, -3.96758), (5.35665, -3.96763), (5.35661, -3.96764), (5.35646, -3.96799), (5.35617, -3.96882), (5.35588, -3.9698), (5.35574, -3.97029), (5.35561, -3.97081), (5.35549, -3.97117), (5.35521, -3.97201), (5.35496, -3.97288), (5.35464, -3.97391), (5.35427, -3.97522), (5.35409, -3.97592), (5.35373, -3.97724), (5.35326, -3.97881), (5.35244, -3.98144), (5.35205, -3.98263), (5.35178, -3.98337), (5.3509, -3.98644), (5.34987, -3.99015), (5.34967, -3.99082), (5.34955, -3.99133), (5.34942, -3.99198), (5.34936, -3.99233), (5.34931, -3.99285), (5.3493, -3.99347), (5.34948, -3.99587), (5.34946, -3.99629), (5.3494, -3.99695), (5.34886, -3.99695), (5.34852, -3.99699), (5.34736, -3.99714), (5.3458, -3.99735), (5.34538, -3.9974), (5.34449, -3.99828), (5.34387, -3.9989), (5.34376, -3.99905), (5.34369, -3.99918), (5.34363, -3.99935), (5.3436, -3.99955), (5.34362, -3.99985), (5.34367, -4.00018), (5.34375, -4.00055), (5.34386, -4.00141), (5.34394, -4.00197), (5.34397, -4.00215)], 4.814, 10.666666666666666)\n",
      "During segment: ([(5.34397, -4.00215), (5.34407, -4.00284), (5.34408, -4.00285), (5.34412, -4.00288), (5.34414, -4.00296), (5.34413, -4.00303), (5.34408, -4.00308), (5.34401, -4.00311), (5.34394, -4.0031), (5.34391, -4.00308), (5.34351, -4.00312), (5.34102, -4.00345), (5.33706, -4.00394), (5.33653, -4.00399), (5.33629, -4.00404), (5.33618, -4.00404), (5.33612, -4.00403), (5.33611, -4.00406), (5.33614, -4.00414), (5.3362, -4.00497)], 1.111, 3.1166666666666667)\n",
      "After segment: ([(5.3362, -4.00497), (5.33621, -4.00533), (5.3362, -4.0055), (5.33607, -4.00553), (5.33542, -4.00564), (5.33519, -4.00568), (5.33476, -4.00579), (5.33454, -4.00586), (5.33428, -4.00601), (5.33401, -4.00621), (5.33345, -4.00678), (5.33323, -4.00699)], 0.441, 1.6333333333333333)\n",
      "Before segment: ([(5.36172, -3.99001), (5.36173, -3.99116), (5.36172, -3.99224), (5.36173, -3.99256), (5.36177, -3.99304), (5.36187, -3.99335), (5.36222, -3.99399), (5.36237, -3.9944), (5.36244, -3.99478), (5.36245, -3.99661)], 0.746, 1.45)\n",
      "During segment: ([(5.36245, -3.99661), (5.36244, -3.9975), (5.36146, -3.99751), (5.36117, -3.99757), (5.36096, -3.99765), (5.36085, -3.99772), (5.36062, -3.99791), (5.36036, -3.9982), (5.36008, -3.9986), (5.35937, -3.9996), (5.35847, -4.0008), (5.35823, -4.00105), (5.35796, -4.00127), (5.35761, -4.00139), (5.35594, -4.0016), (5.35503, -4.00172), (5.35312, -4.00196), (5.34925, -4.00243), (5.34795, -4.00257), (5.34662, -4.0027), (5.34542, -4.00283), (5.34501, -4.00289), (5.34453, -4.00297), (5.34413, -4.00303), (5.34412, -4.00304), (5.3441, -4.00307), (5.34406, -4.00309), (5.34399, -4.00311), (5.34392, -4.00309), (5.3439, -4.00307), (5.34298, -4.00319), (5.33995, -4.00358), (5.3368, -4.00397), (5.33653, -4.00399), (5.33629, -4.00404), (5.33618, -4.00404), (5.33612, -4.00403), (5.33605, -4.00408), (5.33595, -4.00407), (5.33593, -4.00405), (5.33588, -4.00408), (5.33559, -4.00411), (5.33515, -4.00414), (5.33444, -4.00425), (5.33159, -4.00461), (5.33031, -4.00476), (5.3302, -4.004), (5.33018, -4.00388)], 3.998, 9.85)\n",
      "After segment: ([(5.33018, -4.00388), (5.32991, -4.00158), (5.32984, -4.00099), (5.32914, -4.00107), (5.32722, -4.00131), (5.32602, -4.00145), (5.32509, -4.00158), (5.32477, -4.00163), (5.32441, -4.00172), (5.32365, -4.00194), (5.32275, -4.0022)], 1.122, 3.3666666666666667)\n",
      "Before segment: ([(5.393, -3.97552), (5.39339, -3.97407), (5.3936, -3.97317), (5.39377, -3.97259), (5.39391, -3.97219), (5.39409, -3.97188), (5.39478, -3.97105), (5.39448, -3.97095), (5.39379, -3.97078), (5.39286, -3.97055), (5.39183, -3.97028), (5.39081, -3.97002), (5.39009, -3.96983), (5.38863, -3.96948), (5.38736, -3.96916), (5.38667, -3.96896), (5.38596, -3.96879), (5.38394, -3.9684), (5.38351, -3.96831), (5.38323, -3.9682), (5.38309, -3.96815), (5.38235, -3.96793), (5.38038, -3.96734), (5.37776, -3.96655), (5.37742, -3.96645), (5.37656, -3.96619), (5.3765, -3.96619), (5.37639, -3.96619), (5.37638, -3.9662), (5.37637, -3.96622), (5.37631, -3.9663), (5.37617, -3.96635), (5.37614, -3.96635), (5.37607, -3.96642), (5.37603, -3.96647), (5.37595, -3.96677), (5.37578, -3.96747), (5.37542, -3.96866), (5.375, -3.9701), (5.3749, -3.9704), (5.37468, -3.97033), (5.37445, -3.97026), (5.37437, -3.97025), (5.37425, -3.97025), (5.3735, -3.97042), (5.37249, -3.97062), (5.37196, -3.97073), (5.37146, -3.97083), (5.37128, -3.97083), (5.37114, -3.97081), (5.3708, -3.97073), (5.36874, -3.9701), (5.36433, -3.96879), (5.36152, -3.96795), (5.36059, -3.96766), (5.35982, -3.96744), (5.35882, -3.96713), (5.35873, -3.96733), (5.35853, -3.96785), (5.3585, -3.96784), (5.35772, -3.9675)], 5.204, 12.85)\n",
      "During segment: ([(5.35772, -3.9675), (5.35709, -3.96723), (5.35704, -3.96724), (5.35697, -3.96736), (5.35694, -3.9674), (5.35684, -3.96745), (5.3568, -3.96755), (5.35675, -3.9676), (5.35667, -3.96763), (5.3566, -3.96764), (5.35623, -3.96865), (5.35602, -3.96926), (5.35587, -3.96981), (5.35568, -3.97054), (5.3555, -3.97115), (5.35524, -3.97191), (5.35501, -3.9727), (5.35469, -3.97374), (5.35437, -3.97487), (5.35391, -3.97662), (5.35345, -3.97818), (5.35279, -3.98033), (5.3521, -3.98247), (5.35182, -3.98325), (5.35159, -3.98401), (5.3506, -3.98747), (5.34992, -3.98998), (5.3496, -3.99109), (5.3494, -3.99208), (5.34932, -3.99269), (5.3493, -3.99323), (5.34933, -3.99393), (5.34946, -3.99558), (5.34947, -3.99608), (5.34945, -3.99653), (5.3494, -3.99695), (5.34931, -3.99694), (5.34871, -3.99697), (5.34771, -3.99709), (5.34608, -3.9973), (5.34574, -3.99735), (5.34538, -3.9974), (5.34462, -3.99815), (5.34447, -3.99829), (5.34409, -3.99867), (5.34382, -3.99897), (5.34373, -3.99911), (5.34365, -3.99927), (5.34361, -3.99945), (5.3436, -3.9997), (5.34364, -4.00004), (5.34369, -4.00031), (5.34379, -4.00083), (5.34394, -4.00194), (5.34407, -4.00284), (5.34413, -4.0029), (5.34414, -4.00298), (5.34412, -4.00304), (5.34414, -4.00338), (5.34419, -4.00371), (5.34427, -4.00397)], 4.784, 10.066666666666666)\n",
      "After segment: ([(5.34427, -4.00397), (5.34442, -4.00425), (5.34458, -4.00446), (5.34483, -4.00467), (5.34498, -4.00476), (5.34579, -4.00513), (5.34604, -4.00524), (5.34638, -4.00473), (5.3469, -4.00394), (5.34704, -4.00375), (5.34715, -4.0037), (5.34778, -4.00364), (5.34777, -4.00349), (5.34773, -4.00333)], 0.568, 1.7)\n",
      "Log file saved to: c:\\Users\\HUAWEI\\CanterburyCommuto\\CanterburyCommuto\\canterburycommuto\\notebooks\\results\\exact_intersection_buffer_only_overlap-2025-05-23_15-30-54_80494.log\n"
     ]
    }
   ],
   "source": [
    "CanterburyCommuto.Overlap_Function(\n",
    "    \"origin_destination_test.csv\",\n",
    "    \"API_KEY\",\n",
    "    50, 100, 100,\"exact\", \"no\",\n",
    "    \"home_A\", \"work_A\", \"home_B\", \"work_B\", skip_invalid=True\n",
    ")"
   ]
  }
 ],
 "metadata": {
  "kernelspec": {
   "display_name": "base",
   "language": "python",
   "name": "python3"
  },
  "language_info": {
   "codemirror_mode": {
    "name": "ipython",
    "version": 3
   },
   "file_extension": ".py",
   "mimetype": "text/x-python",
   "name": "python",
   "nbconvert_exporter": "python",
   "pygments_lexer": "ipython3",
   "version": "3.12.4"
  }
 },
 "nbformat": 4,
 "nbformat_minor": 5
}
