{
 "cells": [
  {
   "cell_type": "code",
   "execution_count": 1,
   "id": "8edfab53",
   "metadata": {},
   "outputs": [],
   "source": [
    "import sys\n",
    "import os\n",
    "sys.path.append(os.path.abspath(\"..\"))  # go up from /notebooks to /canterburycommuto\n"
   ]
  },
  {
   "cell_type": "markdown",
   "id": "30fc0e79",
   "metadata": {},
   "source": [
    "Note: During local development and testing in Jupyter notebooks, I temporarily removed the leading dot (.) in relative imports (e.g., from PlotMaps import ...) to simplify direct imports from within the notebook environment. This adjustment is only for convenience in interactive sessions.\n",
    "\n",
    "In the published version of the package (intended for installation and command-line use), all internal imports are properly structured using relative paths (e.g., from .PlotMaps import ...) to ensure compatibility when used as a Python package or CLI tool."
   ]
  },
  {
   "cell_type": "code",
   "execution_count": 2,
   "id": "f37d36f8",
   "metadata": {},
   "outputs": [],
   "source": [
    "from CanterburyCommuto import Overlap_Function"
   ]
  },
  {
   "cell_type": "markdown",
   "id": "b3307e75",
   "metadata": {},
   "source": [
    "### Common Node Method with Commuting Information Before and After the Overlap "
   ]
  },
  {
   "cell_type": "code",
   "execution_count": 3,
   "id": "49e269eb",
   "metadata": {},
   "outputs": [
    {
     "name": "stdout",
     "output_type": "stream",
     "text": [
      "\n",
      "[INFO] Estimated number of API requests: 80\n",
      "[INFO] Estimated cost: $0.40\n",
      "[NOTICE] Actual cost may be higher or lower depending on Google’s pricing tiers and route pair complexity.\n",
      "\n",
      "[PROCESSING] Proceeding with route analysis...\n",
      "\n",
      "Map saved to: c:\\Users\\HUAWEI\\CanterburyCommuto\\CanterburyCommuto\\canterburycommuto\\notebooks\\results\\routes_map-2025-05-30_17-15-19_47011.html\n",
      "Map saved to: c:\\Users\\HUAWEI\\CanterburyCommuto\\CanterburyCommuto\\canterburycommuto\\notebooks\\results\\routes_map-2025-05-30_17-15-19_18384.html\n"
     ]
    },
    {
     "data": {
      "text/html": [
       "\n",
       "        <iframe\n",
       "            width=\"100%\"\n",
       "            height=\"500px\"\n",
       "            src=\"results\\routes_map-2025-05-30_17-15-19_47011.html\"\n",
       "            frameborder=\"0\"\n",
       "            allowfullscreen\n",
       "            \n",
       "        ></iframe>\n",
       "        "
      ],
      "text/plain": [
       "<IPython.lib.display.IFrame at 0x232e064bb30>"
      ]
     },
     "metadata": {},
     "output_type": "display_data"
    },
    {
     "data": {
      "text/html": [
       "\n",
       "        <iframe\n",
       "            width=\"100%\"\n",
       "            height=\"500px\"\n",
       "            src=\"results\\routes_map-2025-05-30_17-15-19_18384.html\"\n",
       "            frameborder=\"0\"\n",
       "            allowfullscreen\n",
       "            \n",
       "        ></iframe>\n",
       "        "
      ],
      "text/plain": [
       "<IPython.lib.display.IFrame at 0x232e064bce0>"
      ]
     },
     "metadata": {},
     "output_type": "display_data"
    },
    {
     "name": "stdout",
     "output_type": "stream",
     "text": [
      "Map saved to: c:\\Users\\HUAWEI\\CanterburyCommuto\\CanterburyCommuto\\canterburycommuto\\notebooks\\results\\routes_map-2025-05-30_17-15-19_46564.htmlError fetching directions: NOT_FOUND\n",
      "\n"
     ]
    },
    {
     "data": {
      "text/html": [
       "\n",
       "        <iframe\n",
       "            width=\"100%\"\n",
       "            height=\"500px\"\n",
       "            src=\"results\\routes_map-2025-05-30_17-15-19_46564.html\"\n",
       "            frameborder=\"0\"\n",
       "            allowfullscreen\n",
       "            \n",
       "        ></iframe>\n",
       "        "
      ],
      "text/plain": [
       "<IPython.lib.display.IFrame at 0x232dc0f8650>"
      ]
     },
     "metadata": {},
     "output_type": "display_data"
    },
    {
     "name": "stdout",
     "output_type": "stream",
     "text": [
      "Error fetching directions: INVALID_REQUEST\n",
      "Error fetching directions: NOT_FOUND\n",
      "Map saved to: c:\\Users\\HUAWEI\\CanterburyCommuto\\CanterburyCommuto\\canterburycommuto\\notebooks\\results\\routes_map-2025-05-30_17-15-20_18159.html\n"
     ]
    },
    {
     "data": {
      "text/html": [
       "\n",
       "        <iframe\n",
       "            width=\"100%\"\n",
       "            height=\"500px\"\n",
       "            src=\"results\\routes_map-2025-05-30_17-15-20_18159.html\"\n",
       "            frameborder=\"0\"\n",
       "            allowfullscreen\n",
       "            \n",
       "        ></iframe>\n",
       "        "
      ],
      "text/plain": [
       "<IPython.lib.display.IFrame at 0x232df157a70>"
      ]
     },
     "metadata": {},
     "output_type": "display_data"
    },
    {
     "name": "stdout",
     "output_type": "stream",
     "text": [
      "Error fetching directions: NOT_FOUND\n",
      "Map saved to: c:\\Users\\HUAWEI\\CanterburyCommuto\\CanterburyCommuto\\canterburycommuto\\notebooks\\results\\routes_map-2025-05-30_17-15-20_17541.html\n"
     ]
    },
    {
     "data": {
      "text/html": [
       "\n",
       "        <iframe\n",
       "            width=\"100%\"\n",
       "            height=\"500px\"\n",
       "            src=\"results\\routes_map-2025-05-30_17-15-20_17541.html\"\n",
       "            frameborder=\"0\"\n",
       "            allowfullscreen\n",
       "            \n",
       "        ></iframe>\n",
       "        "
      ],
      "text/plain": [
       "<IPython.lib.display.IFrame at 0x232df5bd070>"
      ]
     },
     "metadata": {},
     "output_type": "display_data"
    },
    {
     "name": "stdout",
     "output_type": "stream",
     "text": [
      "Map saved to: c:\\Users\\HUAWEI\\CanterburyCommuto\\CanterburyCommuto\\canterburycommuto\\notebooks\\results\\routes_map-2025-05-30_17-15-20_85293.html\n"
     ]
    },
    {
     "data": {
      "text/html": [
       "\n",
       "        <iframe\n",
       "            width=\"100%\"\n",
       "            height=\"500px\"\n",
       "            src=\"results\\routes_map-2025-05-30_17-15-20_85293.html\"\n",
       "            frameborder=\"0\"\n",
       "            allowfullscreen\n",
       "            \n",
       "        ></iframe>\n",
       "        "
      ],
      "text/plain": [
       "<IPython.lib.display.IFrame at 0x232df4f31a0>"
      ]
     },
     "metadata": {},
     "output_type": "display_data"
    },
    {
     "name": "stdout",
     "output_type": "stream",
     "text": [
      "Map saved to: c:\\Users\\HUAWEI\\CanterburyCommuto\\CanterburyCommuto\\canterburycommuto\\notebooks\\results\\routes_map-2025-05-30_17-15-20_13351.html\n"
     ]
    },
    {
     "data": {
      "text/html": [
       "\n",
       "        <iframe\n",
       "            width=\"100%\"\n",
       "            height=\"500px\"\n",
       "            src=\"results\\routes_map-2025-05-30_17-15-20_13351.html\"\n",
       "            frameborder=\"0\"\n",
       "            allowfullscreen\n",
       "            \n",
       "        ></iframe>\n",
       "        "
      ],
      "text/plain": [
       "<IPython.lib.display.IFrame at 0x232e063e0f0>"
      ]
     },
     "metadata": {},
     "output_type": "display_data"
    },
    {
     "name": "stdout",
     "output_type": "stream",
     "text": [
      "Map saved to: c:\\Users\\HUAWEI\\CanterburyCommuto\\CanterburyCommuto\\canterburycommuto\\notebooks\\results\\routes_map-2025-05-30_17-15-20_79611.htmlMap saved to: c:\\Users\\HUAWEI\\CanterburyCommuto\\CanterburyCommuto\\canterburycommuto\\notebooks\\results\\routes_map-2025-05-30_17-15-20_56133.html\n",
      "\n"
     ]
    },
    {
     "data": {
      "text/html": [
       "\n",
       "        <iframe\n",
       "            width=\"100%\"\n",
       "            height=\"500px\"\n",
       "            src=\"results\\routes_map-2025-05-30_17-15-20_56133.html\"\n",
       "            frameborder=\"0\"\n",
       "            allowfullscreen\n",
       "            \n",
       "        ></iframe>\n",
       "        "
      ],
      "text/plain": [
       "<IPython.lib.display.IFrame at 0x232df57d130>"
      ]
     },
     "metadata": {},
     "output_type": "display_data"
    },
    {
     "data": {
      "text/html": [
       "\n",
       "        <iframe\n",
       "            width=\"100%\"\n",
       "            height=\"500px\"\n",
       "            src=\"results\\routes_map-2025-05-30_17-15-20_79611.html\"\n",
       "            frameborder=\"0\"\n",
       "            allowfullscreen\n",
       "            \n",
       "        ></iframe>\n",
       "        "
      ],
      "text/plain": [
       "<IPython.lib.display.IFrame at 0x232df57d640>"
      ]
     },
     "metadata": {},
     "output_type": "display_data"
    },
    {
     "name": "stdout",
     "output_type": "stream",
     "text": [
      "Map saved to: c:\\Users\\HUAWEI\\CanterburyCommuto\\CanterburyCommuto\\canterburycommuto\\notebooks\\results\\routes_map-2025-05-30_17-15-20_26561.html\n"
     ]
    },
    {
     "data": {
      "text/html": [
       "\n",
       "        <iframe\n",
       "            width=\"100%\"\n",
       "            height=\"500px\"\n",
       "            src=\"results\\routes_map-2025-05-30_17-15-20_26561.html\"\n",
       "            frameborder=\"0\"\n",
       "            allowfullscreen\n",
       "            \n",
       "        ></iframe>\n",
       "        "
      ],
      "text/plain": [
       "<IPython.lib.display.IFrame at 0x232df546cc0>"
      ]
     },
     "metadata": {},
     "output_type": "display_data"
    },
    {
     "name": "stdout",
     "output_type": "stream",
     "text": [
      "Log file saved to: c:\\Users\\HUAWEI\\CanterburyCommuto\\CanterburyCommuto\\canterburycommuto\\notebooks\\results\\outputRoutes-2025-05-30_17-15-17_97698.log\n"
     ]
    }
   ],
   "source": [
    "Overlap_Function(\n",
    "        \"origin_destination_test.csv\",\n",
    "        None,\n",
    "        50, 100, 100, \"no\", \"yes\",\n",
    "        \"home_A\", \"work_A\", \"home_B\", \"work_B\", skip_invalid=True, save_api_info=True\n",
    "    )"
   ]
  },
  {
   "cell_type": "markdown",
   "id": "f0f2f8c6",
   "metadata": {},
   "source": [
    "### Common Node Method (only Overlap Information)"
   ]
  },
  {
   "cell_type": "code",
   "execution_count": 4,
   "id": "c8ee5a09",
   "metadata": {},
   "outputs": [
    {
     "name": "stdout",
     "output_type": "stream",
     "text": [
      "\n",
      "[INFO] Estimated number of API requests: 36\n",
      "[INFO] Estimated cost: $0.18\n",
      "[NOTICE] Actual cost may be higher or lower depending on Google’s pricing tiers and route pair complexity.\n",
      "\n",
      "[PROCESSING] Proceeding with route analysis...\n",
      "\n",
      "Map saved to: c:\\Users\\HUAWEI\\CanterburyCommuto\\CanterburyCommuto\\canterburycommuto\\notebooks\\results\\routes_map-2025-05-30_17-15-22_65117.html\n"
     ]
    },
    {
     "data": {
      "text/html": [
       "\n",
       "        <iframe\n",
       "            width=\"100%\"\n",
       "            height=\"500px\"\n",
       "            src=\"results\\routes_map-2025-05-30_17-15-22_65117.html\"\n",
       "            frameborder=\"0\"\n",
       "            allowfullscreen\n",
       "            \n",
       "        ></iframe>\n",
       "        "
      ],
      "text/plain": [
       "<IPython.lib.display.IFrame at 0x232df57d130>"
      ]
     },
     "metadata": {},
     "output_type": "display_data"
    },
    {
     "name": "stdout",
     "output_type": "stream",
     "text": [
      "Map saved to: c:\\Users\\HUAWEI\\CanterburyCommuto\\CanterburyCommuto\\canterburycommuto\\notebooks\\results\\routes_map-2025-05-30_17-15-22_93170.html\n"
     ]
    },
    {
     "data": {
      "text/html": [
       "\n",
       "        <iframe\n",
       "            width=\"100%\"\n",
       "            height=\"500px\"\n",
       "            src=\"results\\routes_map-2025-05-30_17-15-22_93170.html\"\n",
       "            frameborder=\"0\"\n",
       "            allowfullscreen\n",
       "            \n",
       "        ></iframe>\n",
       "        "
      ],
      "text/plain": [
       "<IPython.lib.display.IFrame at 0x232df445b80>"
      ]
     },
     "metadata": {},
     "output_type": "display_data"
    },
    {
     "name": "stdout",
     "output_type": "stream",
     "text": [
      "Error fetching directions: NOT_FOUND\n",
      "Map saved to: c:\\Users\\HUAWEI\\CanterburyCommuto\\CanterburyCommuto\\canterburycommuto\\notebooks\\results\\routes_map-2025-05-30_17-15-23_36852.html\n"
     ]
    },
    {
     "data": {
      "text/html": [
       "\n",
       "        <iframe\n",
       "            width=\"100%\"\n",
       "            height=\"500px\"\n",
       "            src=\"results\\routes_map-2025-05-30_17-15-23_36852.html\"\n",
       "            frameborder=\"0\"\n",
       "            allowfullscreen\n",
       "            \n",
       "        ></iframe>\n",
       "        "
      ],
      "text/plain": [
       "<IPython.lib.display.IFrame at 0x232df4f2180>"
      ]
     },
     "metadata": {},
     "output_type": "display_data"
    },
    {
     "name": "stdout",
     "output_type": "stream",
     "text": [
      "Map saved to: c:\\Users\\HUAWEI\\CanterburyCommuto\\CanterburyCommuto\\canterburycommuto\\notebooks\\results\\routes_map-2025-05-30_17-15-23_55977.html\n"
     ]
    },
    {
     "data": {
      "text/html": [
       "\n",
       "        <iframe\n",
       "            width=\"100%\"\n",
       "            height=\"500px\"\n",
       "            src=\"results\\routes_map-2025-05-30_17-15-23_55977.html\"\n",
       "            frameborder=\"0\"\n",
       "            allowfullscreen\n",
       "            \n",
       "        ></iframe>\n",
       "        "
      ],
      "text/plain": [
       "<IPython.lib.display.IFrame at 0x232df13ec90>"
      ]
     },
     "metadata": {},
     "output_type": "display_data"
    },
    {
     "name": "stdout",
     "output_type": "stream",
     "text": [
      "Error fetching directions: INVALID_REQUEST\n",
      "Map saved to: c:\\Users\\HUAWEI\\CanterburyCommuto\\CanterburyCommuto\\canterburycommuto\\notebooks\\results\\routes_map-2025-05-30_17-15-23_40611.html\n",
      "Map saved to: c:\\Users\\HUAWEI\\CanterburyCommuto\\CanterburyCommuto\\canterburycommuto\\notebooks\\results\\routes_map-2025-05-30_17-15-23_33488.html\n",
      "Map saved to: c:\\Users\\HUAWEI\\CanterburyCommuto\\CanterburyCommuto\\canterburycommuto\\notebooks\\results\\routes_map-2025-05-30_17-15-23_47901.html\n"
     ]
    },
    {
     "data": {
      "text/html": [
       "\n",
       "        <iframe\n",
       "            width=\"100%\"\n",
       "            height=\"500px\"\n",
       "            src=\"results\\routes_map-2025-05-30_17-15-23_40611.html\"\n",
       "            frameborder=\"0\"\n",
       "            allowfullscreen\n",
       "            \n",
       "        ></iframe>\n",
       "        "
      ],
      "text/plain": [
       "<IPython.lib.display.IFrame at 0x232df445370>"
      ]
     },
     "metadata": {},
     "output_type": "display_data"
    },
    {
     "data": {
      "text/html": [
       "\n",
       "        <iframe\n",
       "            width=\"100%\"\n",
       "            height=\"500px\"\n",
       "            src=\"results\\routes_map-2025-05-30_17-15-23_47901.html\"\n",
       "            frameborder=\"0\"\n",
       "            allowfullscreen\n",
       "            \n",
       "        ></iframe>\n",
       "        "
      ],
      "text/plain": [
       "<IPython.lib.display.IFrame at 0x232df4ba810>"
      ]
     },
     "metadata": {},
     "output_type": "display_data"
    },
    {
     "data": {
      "text/html": [
       "\n",
       "        <iframe\n",
       "            width=\"100%\"\n",
       "            height=\"500px\"\n",
       "            src=\"results\\routes_map-2025-05-30_17-15-23_33488.html\"\n",
       "            frameborder=\"0\"\n",
       "            allowfullscreen\n",
       "            \n",
       "        ></iframe>\n",
       "        "
      ],
      "text/plain": [
       "<IPython.lib.display.IFrame at 0x232df428e30>"
      ]
     },
     "metadata": {},
     "output_type": "display_data"
    },
    {
     "name": "stdout",
     "output_type": "stream",
     "text": [
      "Map saved to: c:\\Users\\HUAWEI\\CanterburyCommuto\\CanterburyCommuto\\canterburycommuto\\notebooks\\results\\routes_map-2025-05-30_17-15-23_14895.html\n"
     ]
    },
    {
     "data": {
      "text/html": [
       "\n",
       "        <iframe\n",
       "            width=\"100%\"\n",
       "            height=\"500px\"\n",
       "            src=\"results\\routes_map-2025-05-30_17-15-23_14895.html\"\n",
       "            frameborder=\"0\"\n",
       "            allowfullscreen\n",
       "            \n",
       "        ></iframe>\n",
       "        "
      ],
      "text/plain": [
       "<IPython.lib.display.IFrame at 0x232df42bef0>"
      ]
     },
     "metadata": {},
     "output_type": "display_data"
    },
    {
     "name": "stdout",
     "output_type": "stream",
     "text": [
      "Error fetching directions: NOT_FOUND\n",
      "Error fetching directions: NOT_FOUND\n",
      "Map saved to: c:\\Users\\HUAWEI\\CanterburyCommuto\\CanterburyCommuto\\canterburycommuto\\notebooks\\results\\routes_map-2025-05-30_17-15-23_52583.html\n"
     ]
    },
    {
     "data": {
      "text/html": [
       "\n",
       "        <iframe\n",
       "            width=\"100%\"\n",
       "            height=\"500px\"\n",
       "            src=\"results\\routes_map-2025-05-30_17-15-23_52583.html\"\n",
       "            frameborder=\"0\"\n",
       "            allowfullscreen\n",
       "            \n",
       "        ></iframe>\n",
       "        "
      ],
      "text/plain": [
       "<IPython.lib.display.IFrame at 0x232df446f00>"
      ]
     },
     "metadata": {},
     "output_type": "display_data"
    },
    {
     "name": "stdout",
     "output_type": "stream",
     "text": [
      "Map saved to: c:\\Users\\HUAWEI\\CanterburyCommuto\\CanterburyCommuto\\canterburycommuto\\notebooks\\results\\routes_map-2025-05-30_17-15-23_41556.html\n"
     ]
    },
    {
     "data": {
      "text/html": [
       "\n",
       "        <iframe\n",
       "            width=\"100%\"\n",
       "            height=\"500px\"\n",
       "            src=\"results\\routes_map-2025-05-30_17-15-23_41556.html\"\n",
       "            frameborder=\"0\"\n",
       "            allowfullscreen\n",
       "            \n",
       "        ></iframe>\n",
       "        "
      ],
      "text/plain": [
       "<IPython.lib.display.IFrame at 0x232df57e090>"
      ]
     },
     "metadata": {},
     "output_type": "display_data"
    },
    {
     "name": "stdout",
     "output_type": "stream",
     "text": [
      "Log file saved to: c:\\Users\\HUAWEI\\CanterburyCommuto\\CanterburyCommuto\\canterburycommuto\\notebooks\\results\\outputRoutes_only_overlap-2025-05-30_17-15-22_77212.log\n"
     ]
    }
   ],
   "source": [
    "Overlap_Function(\n",
    "        \"origin_destination_test.csv\",\n",
    "        None,\n",
    "        50, 100, 100, \"no\", \"no\",\n",
    "        \"home_A\", \"work_A\", \"home_B\", \"work_B\", skip_invalid=True, save_api_info=True\n",
    "    )"
   ]
  },
  {
   "cell_type": "markdown",
   "id": "a6c48da9",
   "metadata": {},
   "source": [
    "### Rectangle Approximation Method with Commuting Information Before and After the Overlap"
   ]
  },
  {
   "cell_type": "code",
   "execution_count": 5,
   "id": "5c5161a7",
   "metadata": {},
   "outputs": [
    {
     "name": "stdout",
     "output_type": "stream",
     "text": [
      "\n",
      "[INFO] Estimated number of API requests: 80\n",
      "[INFO] Estimated cost: $0.40\n",
      "[NOTICE] Actual cost may be higher or lower depending on Google’s pricing tiers and route pair complexity.\n",
      "\n",
      "[PROCESSING] Proceeding with route analysis...\n",
      "\n",
      "Map saved to: c:\\Users\\HUAWEI\\CanterburyCommuto\\CanterburyCommuto\\canterburycommuto\\notebooks\\results\\routes_map-2025-05-30_17-15-25_10870.html\n",
      "Map saved to: c:\\Users\\HUAWEI\\CanterburyCommuto\\CanterburyCommuto\\canterburycommuto\\notebooks\\results\\routes_map-2025-05-30_17-15-25_64901.html\n"
     ]
    },
    {
     "data": {
      "text/html": [
       "\n",
       "        <iframe\n",
       "            width=\"100%\"\n",
       "            height=\"500px\"\n",
       "            src=\"results\\routes_map-2025-05-30_17-15-25_10870.html\"\n",
       "            frameborder=\"0\"\n",
       "            allowfullscreen\n",
       "            \n",
       "        ></iframe>\n",
       "        "
      ],
      "text/plain": [
       "<IPython.lib.display.IFrame at 0x232e063e3c0>"
      ]
     },
     "metadata": {},
     "output_type": "display_data"
    },
    {
     "data": {
      "text/html": [
       "\n",
       "        <iframe\n",
       "            width=\"100%\"\n",
       "            height=\"500px\"\n",
       "            src=\"results\\routes_map-2025-05-30_17-15-25_64901.html\"\n",
       "            frameborder=\"0\"\n",
       "            allowfullscreen\n",
       "            \n",
       "        ></iframe>\n",
       "        "
      ],
      "text/plain": [
       "<IPython.lib.display.IFrame at 0x232df39e750>"
      ]
     },
     "metadata": {},
     "output_type": "display_data"
    },
    {
     "name": "stdout",
     "output_type": "stream",
     "text": [
      "Map saved to: c:\\Users\\HUAWEI\\CanterburyCommuto\\CanterburyCommuto\\canterburycommuto\\notebooks\\results\\routes_map-2025-05-30_17-15-25_25747.html\n"
     ]
    },
    {
     "data": {
      "text/html": [
       "\n",
       "        <iframe\n",
       "            width=\"100%\"\n",
       "            height=\"500px\"\n",
       "            src=\"results\\routes_map-2025-05-30_17-15-25_25747.html\"\n",
       "            frameborder=\"0\"\n",
       "            allowfullscreen\n",
       "            \n",
       "        ></iframe>\n",
       "        "
      ],
      "text/plain": [
       "<IPython.lib.display.IFrame at 0x232e063fa40>"
      ]
     },
     "metadata": {},
     "output_type": "display_data"
    },
    {
     "name": "stdout",
     "output_type": "stream",
     "text": [
      "Error fetching directions: NOT_FOUND\n",
      "Error fetching directions: INVALID_REQUEST\n",
      "Error fetching directions: NOT_FOUND\n",
      "Map saved to: c:\\Users\\HUAWEI\\CanterburyCommuto\\CanterburyCommuto\\canterburycommuto\\notebooks\\results\\routes_map-2025-05-30_17-15-26_99833.html\n"
     ]
    },
    {
     "data": {
      "text/html": [
       "\n",
       "        <iframe\n",
       "            width=\"100%\"\n",
       "            height=\"500px\"\n",
       "            src=\"results\\routes_map-2025-05-30_17-15-26_99833.html\"\n",
       "            frameborder=\"0\"\n",
       "            allowfullscreen\n",
       "            \n",
       "        ></iframe>\n",
       "        "
      ],
      "text/plain": [
       "<IPython.lib.display.IFrame at 0x232df415fd0>"
      ]
     },
     "metadata": {},
     "output_type": "display_data"
    },
    {
     "name": "stdout",
     "output_type": "stream",
     "text": [
      "Error fetching directions: NOT_FOUND\n",
      "Map saved to: c:\\Users\\HUAWEI\\CanterburyCommuto\\CanterburyCommuto\\canterburycommuto\\notebooks\\results\\routes_map-2025-05-30_17-15-26_10130.html\n"
     ]
    },
    {
     "data": {
      "text/html": [
       "\n",
       "        <iframe\n",
       "            width=\"100%\"\n",
       "            height=\"500px\"\n",
       "            src=\"results\\routes_map-2025-05-30_17-15-26_10130.html\"\n",
       "            frameborder=\"0\"\n",
       "            allowfullscreen\n",
       "            \n",
       "        ></iframe>\n",
       "        "
      ],
      "text/plain": [
       "<IPython.lib.display.IFrame at 0x232e063e1b0>"
      ]
     },
     "metadata": {},
     "output_type": "display_data"
    },
    {
     "name": "stdout",
     "output_type": "stream",
     "text": [
      "Map saved to: c:\\Users\\HUAWEI\\CanterburyCommuto\\CanterburyCommuto\\canterburycommuto\\notebooks\\results\\routes_map-2025-05-30_17-15-26_41194.html\n"
     ]
    },
    {
     "data": {
      "text/html": [
       "\n",
       "        <iframe\n",
       "            width=\"100%\"\n",
       "            height=\"500px\"\n",
       "            src=\"results\\routes_map-2025-05-30_17-15-26_41194.html\"\n",
       "            frameborder=\"0\"\n",
       "            allowfullscreen\n",
       "            \n",
       "        ></iframe>\n",
       "        "
      ],
      "text/plain": [
       "<IPython.lib.display.IFrame at 0x232e063c440>"
      ]
     },
     "metadata": {},
     "output_type": "display_data"
    },
    {
     "name": "stdout",
     "output_type": "stream",
     "text": [
      "Map saved to: c:\\Users\\HUAWEI\\CanterburyCommuto\\CanterburyCommuto\\canterburycommuto\\notebooks\\results\\routes_map-2025-05-30_17-15-26_33048.html\n"
     ]
    },
    {
     "data": {
      "text/html": [
       "\n",
       "        <iframe\n",
       "            width=\"100%\"\n",
       "            height=\"500px\"\n",
       "            src=\"results\\routes_map-2025-05-30_17-15-26_33048.html\"\n",
       "            frameborder=\"0\"\n",
       "            allowfullscreen\n",
       "            \n",
       "        ></iframe>\n",
       "        "
      ],
      "text/plain": [
       "<IPython.lib.display.IFrame at 0x232e05dee40>"
      ]
     },
     "metadata": {},
     "output_type": "display_data"
    },
    {
     "name": "stdout",
     "output_type": "stream",
     "text": [
      "Map saved to: c:\\Users\\HUAWEI\\CanterburyCommuto\\CanterburyCommuto\\canterburycommuto\\notebooks\\results\\routes_map-2025-05-30_17-15-26_55250.html\n"
     ]
    },
    {
     "data": {
      "text/html": [
       "\n",
       "        <iframe\n",
       "            width=\"100%\"\n",
       "            height=\"500px\"\n",
       "            src=\"results\\routes_map-2025-05-30_17-15-26_55250.html\"\n",
       "            frameborder=\"0\"\n",
       "            allowfullscreen\n",
       "            \n",
       "        ></iframe>\n",
       "        "
      ],
      "text/plain": [
       "<IPython.lib.display.IFrame at 0x232df4f1cd0>"
      ]
     },
     "metadata": {},
     "output_type": "display_data"
    },
    {
     "name": "stdout",
     "output_type": "stream",
     "text": [
      "Map saved to: c:\\Users\\HUAWEI\\CanterburyCommuto\\CanterburyCommuto\\canterburycommuto\\notebooks\\results\\routes_map-2025-05-30_17-15-26_57116.html\n"
     ]
    },
    {
     "data": {
      "text/html": [
       "\n",
       "        <iframe\n",
       "            width=\"100%\"\n",
       "            height=\"500px\"\n",
       "            src=\"results\\routes_map-2025-05-30_17-15-26_57116.html\"\n",
       "            frameborder=\"0\"\n",
       "            allowfullscreen\n",
       "            \n",
       "        ></iframe>\n",
       "        "
      ],
      "text/plain": [
       "<IPython.lib.display.IFrame at 0x232df57e330>"
      ]
     },
     "metadata": {},
     "output_type": "display_data"
    },
    {
     "name": "stdout",
     "output_type": "stream",
     "text": [
      "Map saved to: c:\\Users\\HUAWEI\\CanterburyCommuto\\CanterburyCommuto\\canterburycommuto\\notebooks\\results\\routes_map-2025-05-30_17-15-26_90718.html\n"
     ]
    },
    {
     "data": {
      "text/html": [
       "\n",
       "        <iframe\n",
       "            width=\"100%\"\n",
       "            height=\"500px\"\n",
       "            src=\"results\\routes_map-2025-05-30_17-15-26_90718.html\"\n",
       "            frameborder=\"0\"\n",
       "            allowfullscreen\n",
       "            \n",
       "        ></iframe>\n",
       "        "
      ],
      "text/plain": [
       "<IPython.lib.display.IFrame at 0x232df57ecf0>"
      ]
     },
     "metadata": {},
     "output_type": "display_data"
    },
    {
     "name": "stdout",
     "output_type": "stream",
     "text": [
      "Log file saved to: c:\\Users\\HUAWEI\\CanterburyCommuto\\CanterburyCommuto\\canterburycommuto\\notebooks\\results\\outputRec-2025-05-30_17-15-25_25812.log\n"
     ]
    }
   ],
   "source": [
    "Overlap_Function(\n",
    "    \"origin_destination_test.csv\",\n",
    "    None,\n",
    "    50, 100, 100, \"yes\", \"yes\",\n",
    "    \"home_A\", \"work_A\", \"home_B\", \"work_B\", skip_invalid=True, save_api_info=True\n",
    ")"
   ]
  },
  {
   "cell_type": "markdown",
   "id": "9e78af94",
   "metadata": {},
   "source": [
    "### Rectangle Approximation Method (only Overlap Information)"
   ]
  },
  {
   "cell_type": "code",
   "execution_count": 6,
   "id": "5c2431af",
   "metadata": {},
   "outputs": [
    {
     "name": "stdout",
     "output_type": "stream",
     "text": [
      "\n",
      "[INFO] Estimated number of API requests: 47\n",
      "[INFO] Estimated cost: $0.23\n",
      "[NOTICE] Actual cost may be higher or lower depending on Google’s pricing tiers and route pair complexity.\n",
      "\n",
      "[PROCESSING] Proceeding with route analysis...\n",
      "\n",
      "Map saved to: c:\\Users\\HUAWEI\\CanterburyCommuto\\CanterburyCommuto\\canterburycommuto\\notebooks\\results\\routes_map-2025-05-30_17-15-28_43940.html\n",
      "Map saved to: c:\\Users\\HUAWEI\\CanterburyCommuto\\CanterburyCommuto\\canterburycommuto\\notebooks\\results\\routes_map-2025-05-30_17-15-28_64399.html\n"
     ]
    },
    {
     "data": {
      "text/html": [
       "\n",
       "        <iframe\n",
       "            width=\"100%\"\n",
       "            height=\"500px\"\n",
       "            src=\"results\\routes_map-2025-05-30_17-15-28_43940.html\"\n",
       "            frameborder=\"0\"\n",
       "            allowfullscreen\n",
       "            \n",
       "        ></iframe>\n",
       "        "
      ],
      "text/plain": [
       "<IPython.lib.display.IFrame at 0x232e064bcb0>"
      ]
     },
     "metadata": {},
     "output_type": "display_data"
    },
    {
     "data": {
      "text/html": [
       "\n",
       "        <iframe\n",
       "            width=\"100%\"\n",
       "            height=\"500px\"\n",
       "            src=\"results\\routes_map-2025-05-30_17-15-28_64399.html\"\n",
       "            frameborder=\"0\"\n",
       "            allowfullscreen\n",
       "            \n",
       "        ></iframe>\n",
       "        "
      ],
      "text/plain": [
       "<IPython.lib.display.IFrame at 0x232e05fea20>"
      ]
     },
     "metadata": {},
     "output_type": "display_data"
    },
    {
     "name": "stdout",
     "output_type": "stream",
     "text": [
      "Error fetching directions: NOT_FOUND\n",
      "Map saved to: c:\\Users\\HUAWEI\\CanterburyCommuto\\CanterburyCommuto\\canterburycommuto\\notebooks\\results\\routes_map-2025-05-30_17-15-28_77158.html\n"
     ]
    },
    {
     "data": {
      "text/html": [
       "\n",
       "        <iframe\n",
       "            width=\"100%\"\n",
       "            height=\"500px\"\n",
       "            src=\"results\\routes_map-2025-05-30_17-15-28_77158.html\"\n",
       "            frameborder=\"0\"\n",
       "            allowfullscreen\n",
       "            \n",
       "        ></iframe>\n",
       "        "
      ],
      "text/plain": [
       "<IPython.lib.display.IFrame at 0x232df3fd490>"
      ]
     },
     "metadata": {},
     "output_type": "display_data"
    },
    {
     "name": "stdout",
     "output_type": "stream",
     "text": [
      "Error fetching directions: INVALID_REQUEST\n",
      "Error fetching directions: NOT_FOUND\n",
      "Map saved to: c:\\Users\\HUAWEI\\CanterburyCommuto\\CanterburyCommuto\\canterburycommuto\\notebooks\\results\\routes_map-2025-05-30_17-15-28_82431.html\n"
     ]
    },
    {
     "data": {
      "text/html": [
       "\n",
       "        <iframe\n",
       "            width=\"100%\"\n",
       "            height=\"500px\"\n",
       "            src=\"results\\routes_map-2025-05-30_17-15-28_82431.html\"\n",
       "            frameborder=\"0\"\n",
       "            allowfullscreen\n",
       "            \n",
       "        ></iframe>\n",
       "        "
      ],
      "text/plain": [
       "<IPython.lib.display.IFrame at 0x232e08c0980>"
      ]
     },
     "metadata": {},
     "output_type": "display_data"
    },
    {
     "name": "stdout",
     "output_type": "stream",
     "text": [
      "Map saved to: c:\\Users\\HUAWEI\\CanterburyCommuto\\CanterburyCommuto\\canterburycommuto\\notebooks\\results\\routes_map-2025-05-30_17-15-28_22389.html\n"
     ]
    },
    {
     "data": {
      "text/html": [
       "\n",
       "        <iframe\n",
       "            width=\"100%\"\n",
       "            height=\"500px\"\n",
       "            src=\"results\\routes_map-2025-05-30_17-15-28_22389.html\"\n",
       "            frameborder=\"0\"\n",
       "            allowfullscreen\n",
       "            \n",
       "        ></iframe>\n",
       "        "
      ],
      "text/plain": [
       "<IPython.lib.display.IFrame at 0x232e0893650>"
      ]
     },
     "metadata": {},
     "output_type": "display_data"
    },
    {
     "name": "stdout",
     "output_type": "stream",
     "text": [
      "Map saved to: c:\\Users\\HUAWEI\\CanterburyCommuto\\CanterburyCommuto\\canterburycommuto\\notebooks\\results\\routes_map-2025-05-30_17-15-28_53065.html\n",
      "Map saved to: c:\\Users\\HUAWEI\\CanterburyCommuto\\CanterburyCommuto\\canterburycommuto\\notebooks\\results\\routes_map-2025-05-30_17-15-28_12771.html\n"
     ]
    },
    {
     "data": {
      "text/html": [
       "\n",
       "        <iframe\n",
       "            width=\"100%\"\n",
       "            height=\"500px\"\n",
       "            src=\"results\\routes_map-2025-05-30_17-15-28_53065.html\"\n",
       "            frameborder=\"0\"\n",
       "            allowfullscreen\n",
       "            \n",
       "        ></iframe>\n",
       "        "
      ],
      "text/plain": [
       "<IPython.lib.display.IFrame at 0x232e064a120>"
      ]
     },
     "metadata": {},
     "output_type": "display_data"
    },
    {
     "data": {
      "text/html": [
       "\n",
       "        <iframe\n",
       "            width=\"100%\"\n",
       "            height=\"500px\"\n",
       "            src=\"results\\routes_map-2025-05-30_17-15-28_12771.html\"\n",
       "            frameborder=\"0\"\n",
       "            allowfullscreen\n",
       "            \n",
       "        ></iframe>\n",
       "        "
      ],
      "text/plain": [
       "<IPython.lib.display.IFrame at 0x232e0649e20>"
      ]
     },
     "metadata": {},
     "output_type": "display_data"
    },
    {
     "name": "stdout",
     "output_type": "stream",
     "text": [
      "Error fetching directions: NOT_FOUND\n",
      "Map saved to: c:\\Users\\HUAWEI\\CanterburyCommuto\\CanterburyCommuto\\canterburycommuto\\notebooks\\results\\routes_map-2025-05-30_17-15-28_69347.html\n"
     ]
    },
    {
     "data": {
      "text/html": [
       "\n",
       "        <iframe\n",
       "            width=\"100%\"\n",
       "            height=\"500px\"\n",
       "            src=\"results\\routes_map-2025-05-30_17-15-28_69347.html\"\n",
       "            frameborder=\"0\"\n",
       "            allowfullscreen\n",
       "            \n",
       "        ></iframe>\n",
       "        "
      ],
      "text/plain": [
       "<IPython.lib.display.IFrame at 0x232df465880>"
      ]
     },
     "metadata": {},
     "output_type": "display_data"
    },
    {
     "name": "stdout",
     "output_type": "stream",
     "text": [
      "Map saved to: c:\\Users\\HUAWEI\\CanterburyCommuto\\CanterburyCommuto\\canterburycommuto\\notebooks\\results\\routes_map-2025-05-30_17-15-29_74077.html\n"
     ]
    },
    {
     "data": {
      "text/html": [
       "\n",
       "        <iframe\n",
       "            width=\"100%\"\n",
       "            height=\"500px\"\n",
       "            src=\"results\\routes_map-2025-05-30_17-15-29_74077.html\"\n",
       "            frameborder=\"0\"\n",
       "            allowfullscreen\n",
       "            \n",
       "        ></iframe>\n",
       "        "
      ],
      "text/plain": [
       "<IPython.lib.display.IFrame at 0x232df57c6e0>"
      ]
     },
     "metadata": {},
     "output_type": "display_data"
    },
    {
     "name": "stdout",
     "output_type": "stream",
     "text": [
      "Map saved to: c:\\Users\\HUAWEI\\CanterburyCommuto\\CanterburyCommuto\\canterburycommuto\\notebooks\\results\\routes_map-2025-05-30_17-15-29_18030.html\n"
     ]
    },
    {
     "data": {
      "text/html": [
       "\n",
       "        <iframe\n",
       "            width=\"100%\"\n",
       "            height=\"500px\"\n",
       "            src=\"results\\routes_map-2025-05-30_17-15-29_18030.html\"\n",
       "            frameborder=\"0\"\n",
       "            allowfullscreen\n",
       "            \n",
       "        ></iframe>\n",
       "        "
      ],
      "text/plain": [
       "<IPython.lib.display.IFrame at 0x232e0890710>"
      ]
     },
     "metadata": {},
     "output_type": "display_data"
    },
    {
     "name": "stdout",
     "output_type": "stream",
     "text": [
      "Log file saved to: c:\\Users\\HUAWEI\\CanterburyCommuto\\CanterburyCommuto\\canterburycommuto\\notebooks\\results\\outputRec_only_overlap-2025-05-30_17-15-28_36555.log\n"
     ]
    }
   ],
   "source": [
    "Overlap_Function(\n",
    "    \"origin_destination_test.csv\", \n",
    "    None, \n",
    "    50, 100, 100, \"yes\", \"no\", \n",
    "    \"home_A\", \"work_A\", \"home_B\", \"work_B\", skip_invalid=True, save_api_info=True\n",
    "    )"
   ]
  },
  {
   "cell_type": "markdown",
   "id": "905edf52",
   "metadata": {},
   "source": [
    "### Buffer Area Ratio Method"
   ]
  },
  {
   "cell_type": "code",
   "execution_count": 7,
   "id": "46cf024c",
   "metadata": {},
   "outputs": [
    {
     "name": "stdout",
     "output_type": "stream",
     "text": [
      "\n",
      "[INFO] Estimated number of API requests: 22\n",
      "[INFO] Estimated cost: $0.11\n",
      "[NOTICE] Actual cost may be higher or lower depending on Google’s pricing tiers and route pair complexity.\n",
      "\n",
      "[PROCESSING] Proceeding with route analysis...\n",
      "\n",
      "Error fetching directions: NOT_FOUND\n",
      "Warning: Not enough points to create buffer. Returning None.\n",
      "Map saved to: c:\\Users\\HUAWEI\\CanterburyCommuto\\CanterburyCommuto\\canterburycommuto\\notebooks\\results\\routes_with_buffers_map-2025-05-30_17-15-31_52348.html\n"
     ]
    },
    {
     "data": {
      "text/html": [
       "\n",
       "        <iframe\n",
       "            width=\"100%\"\n",
       "            height=\"600px\"\n",
       "            src=\"results\\routes_with_buffers_map-2025-05-30_17-15-31_52348.html\"\n",
       "            frameborder=\"0\"\n",
       "            allowfullscreen\n",
       "            \n",
       "        ></iframe>\n",
       "        "
      ],
      "text/plain": [
       "<IPython.lib.display.IFrame at 0x232df467bc0>"
      ]
     },
     "metadata": {},
     "output_type": "display_data"
    },
    {
     "name": "stdout",
     "output_type": "stream",
     "text": [
      "Map has been displayed inline and saved as 'results\\routes_with_buffers_map-2025-05-30_17-15-31_52348.html'.\n",
      "Map saved to: c:\\Users\\HUAWEI\\CanterburyCommuto\\CanterburyCommuto\\canterburycommuto\\notebooks\\results\\routes_with_buffers_map-2025-05-30_17-15-31_85638.html\n"
     ]
    },
    {
     "data": {
      "text/html": [
       "\n",
       "        <iframe\n",
       "            width=\"100%\"\n",
       "            height=\"600px\"\n",
       "            src=\"results\\routes_with_buffers_map-2025-05-30_17-15-31_85638.html\"\n",
       "            frameborder=\"0\"\n",
       "            allowfullscreen\n",
       "            \n",
       "        ></iframe>\n",
       "        "
      ],
      "text/plain": [
       "<IPython.lib.display.IFrame at 0x232df57ef60>"
      ]
     },
     "metadata": {},
     "output_type": "display_data"
    },
    {
     "name": "stdout",
     "output_type": "stream",
     "text": [
      "Map has been displayed inline and saved as 'results\\routes_with_buffers_map-2025-05-30_17-15-31_85638.html'.\n",
      "Map saved to: c:\\Users\\HUAWEI\\CanterburyCommuto\\CanterburyCommuto\\canterburycommuto\\notebooks\\results\\routes_with_buffers_map-2025-05-30_17-15-31_98069.html\n"
     ]
    },
    {
     "data": {
      "text/html": [
       "\n",
       "        <iframe\n",
       "            width=\"100%\"\n",
       "            height=\"600px\"\n",
       "            src=\"results\\routes_with_buffers_map-2025-05-30_17-15-31_98069.html\"\n",
       "            frameborder=\"0\"\n",
       "            allowfullscreen\n",
       "            \n",
       "        ></iframe>\n",
       "        "
      ],
      "text/plain": [
       "<IPython.lib.display.IFrame at 0x232df5bd400>"
      ]
     },
     "metadata": {},
     "output_type": "display_data"
    },
    {
     "name": "stdout",
     "output_type": "stream",
     "text": [
      "Map has been displayed inline and saved as 'results\\routes_with_buffers_map-2025-05-30_17-15-31_98069.html'.\n",
      "Map saved to: c:\\Users\\HUAWEI\\CanterburyCommuto\\CanterburyCommuto\\canterburycommuto\\notebooks\\results\\routes_with_buffers_map-2025-05-30_17-15-31_25045.html\n"
     ]
    },
    {
     "data": {
      "text/html": [
       "\n",
       "        <iframe\n",
       "            width=\"100%\"\n",
       "            height=\"600px\"\n",
       "            src=\"results\\routes_with_buffers_map-2025-05-30_17-15-31_25045.html\"\n",
       "            frameborder=\"0\"\n",
       "            allowfullscreen\n",
       "            \n",
       "        ></iframe>\n",
       "        "
      ],
      "text/plain": [
       "<IPython.lib.display.IFrame at 0x232df547620>"
      ]
     },
     "metadata": {},
     "output_type": "display_data"
    },
    {
     "name": "stdout",
     "output_type": "stream",
     "text": [
      "Map has been displayed inline and saved as 'results\\routes_with_buffers_map-2025-05-30_17-15-31_25045.html'.\n",
      "Map saved to: c:\\Users\\HUAWEI\\CanterburyCommuto\\CanterburyCommuto\\canterburycommuto\\notebooks\\results\\routes_with_buffers_map-2025-05-30_17-15-31_64043.html\n"
     ]
    },
    {
     "data": {
      "text/html": [
       "\n",
       "        <iframe\n",
       "            width=\"100%\"\n",
       "            height=\"600px\"\n",
       "            src=\"results\\routes_with_buffers_map-2025-05-30_17-15-31_64043.html\"\n",
       "            frameborder=\"0\"\n",
       "            allowfullscreen\n",
       "            \n",
       "        ></iframe>\n",
       "        "
      ],
      "text/plain": [
       "<IPython.lib.display.IFrame at 0x232df5bcc20>"
      ]
     },
     "metadata": {},
     "output_type": "display_data"
    },
    {
     "name": "stdout",
     "output_type": "stream",
     "text": [
      "Error fetching directions: INVALID_REQUEST\n",
      "Map saved to: c:\\Users\\HUAWEI\\CanterburyCommuto\\CanterburyCommuto\\canterburycommuto\\notebooks\\results\\routes_with_buffers_map-2025-05-30_17-15-31_34467.html\n",
      "Map has been displayed inline and saved as 'results\\routes_with_buffers_map-2025-05-30_17-15-31_64043.html'.\n"
     ]
    },
    {
     "data": {
      "text/html": [
       "\n",
       "        <iframe\n",
       "            width=\"100%\"\n",
       "            height=\"600px\"\n",
       "            src=\"results\\routes_with_buffers_map-2025-05-30_17-15-31_34467.html\"\n",
       "            frameborder=\"0\"\n",
       "            allowfullscreen\n",
       "            \n",
       "        ></iframe>\n",
       "        "
      ],
      "text/plain": [
       "<IPython.lib.display.IFrame at 0x232df5bdf10>"
      ]
     },
     "metadata": {},
     "output_type": "display_data"
    },
    {
     "name": "stdout",
     "output_type": "stream",
     "text": [
      "Map has been displayed inline and saved as 'results\\routes_with_buffers_map-2025-05-30_17-15-31_34467.html'.\n",
      "Map saved to: c:\\Users\\HUAWEI\\CanterburyCommuto\\CanterburyCommuto\\canterburycommuto\\notebooks\\results\\routes_with_buffers_map-2025-05-30_17-15-31_97932.html\n"
     ]
    },
    {
     "data": {
      "text/html": [
       "\n",
       "        <iframe\n",
       "            width=\"100%\"\n",
       "            height=\"600px\"\n",
       "            src=\"results\\routes_with_buffers_map-2025-05-30_17-15-31_97932.html\"\n",
       "            frameborder=\"0\"\n",
       "            allowfullscreen\n",
       "            \n",
       "        ></iframe>\n",
       "        "
      ],
      "text/plain": [
       "<IPython.lib.display.IFrame at 0x232e063f680>"
      ]
     },
     "metadata": {},
     "output_type": "display_data"
    },
    {
     "name": "stdout",
     "output_type": "stream",
     "text": [
      "Map has been displayed inline and saved as 'results\\routes_with_buffers_map-2025-05-30_17-15-31_97932.html'.\n",
      "Error fetching directions: NOT_FOUND\n",
      "Error fetching directions: NOT_FOUND\n",
      "Warning: Not enough points to create buffer. Returning None.\n",
      "Warning: Not enough points to create buffer. Returning None.\n",
      "Warning: Not enough points to create buffer. Returning None.\n",
      "Log file saved to: c:\\Users\\HUAWEI\\CanterburyCommuto\\CanterburyCommuto\\canterburycommuto\\notebooks\\results\\buffer_intersection_results-2025-05-30_17-15-30_16732.log\n"
     ]
    }
   ],
   "source": [
    "Overlap_Function(\n",
    "    \"origin_destination_test.csv\", \n",
    "    None, \n",
    "    50, 100, 100, \"yes with buffer\", \n",
    "    \"no\", \"home_A\", \"work_A\", \"home_B\", \"work_B\", skip_invalid=True, save_api_info=True\n",
    ")"
   ]
  },
  {
   "cell_type": "markdown",
   "id": "ce36b6fe",
   "metadata": {},
   "source": [
    "### Buffer Route Node Method with Commuting Information Before and After the Overlap"
   ]
  },
  {
   "cell_type": "code",
   "execution_count": 9,
   "id": "f9cb61c7",
   "metadata": {},
   "outputs": [
    {
     "name": "stdout",
     "output_type": "stream",
     "text": [
      "\n",
      "[INFO] Estimated number of API requests: 82\n",
      "[INFO] Estimated cost: $0.41\n",
      "[NOTICE] Actual cost may be higher or lower depending on Google’s pricing tiers and route pair complexity.\n",
      "\n",
      "[PROCESSING] Proceeding with route analysis...\n",
      "\n",
      "Map saved to: c:\\Users\\HUAWEI\\CanterburyCommuto\\CanterburyCommuto\\canterburycommuto\\notebooks\\results\\routes_with_buffers_map-2025-05-30_17-16-32_46040.html\n"
     ]
    },
    {
     "data": {
      "text/html": [
       "\n",
       "        <iframe\n",
       "            width=\"100%\"\n",
       "            height=\"600px\"\n",
       "            src=\"results\\routes_with_buffers_map-2025-05-30_17-16-32_46040.html\"\n",
       "            frameborder=\"0\"\n",
       "            allowfullscreen\n",
       "            \n",
       "        ></iframe>\n",
       "        "
      ],
      "text/plain": [
       "<IPython.lib.display.IFrame at 0x232e0af9880>"
      ]
     },
     "metadata": {},
     "output_type": "display_data"
    },
    {
     "name": "stdout",
     "output_type": "stream",
     "text": [
      "Map has been displayed inline and saved as 'results\\routes_with_buffers_map-2025-05-30_17-16-32_46040.html'.\n",
      "Error fetching directions: NOT_FOUND\n",
      "Error fetching directions: INVALID_REQUEST\n",
      "Warning: Not enough points to create buffer. Returning None.\n",
      "Warning: Not enough points to create buffer. Returning None.\n",
      "Map saved to: c:\\Users\\HUAWEI\\CanterburyCommuto\\CanterburyCommuto\\canterburycommuto\\notebooks\\results\\routes_with_buffers_map-2025-05-30_17-16-32_60870.html\n",
      "Map saved to: c:\\Users\\HUAWEI\\CanterburyCommuto\\CanterburyCommuto\\canterburycommuto\\notebooks\\results\\routes_with_buffers_map-2025-05-30_17-16-32_18047.html\n"
     ]
    },
    {
     "data": {
      "text/html": [
       "\n",
       "        <iframe\n",
       "            width=\"100%\"\n",
       "            height=\"600px\"\n",
       "            src=\"results\\routes_with_buffers_map-2025-05-30_17-16-32_60870.html\"\n",
       "            frameborder=\"0\"\n",
       "            allowfullscreen\n",
       "            \n",
       "        ></iframe>\n",
       "        "
      ],
      "text/plain": [
       "<IPython.lib.display.IFrame at 0x232df5bdfa0>"
      ]
     },
     "metadata": {},
     "output_type": "display_data"
    },
    {
     "data": {
      "text/html": [
       "\n",
       "        <iframe\n",
       "            width=\"100%\"\n",
       "            height=\"600px\"\n",
       "            src=\"results\\routes_with_buffers_map-2025-05-30_17-16-32_18047.html\"\n",
       "            frameborder=\"0\"\n",
       "            allowfullscreen\n",
       "            \n",
       "        ></iframe>\n",
       "        "
      ],
      "text/plain": [
       "<IPython.lib.display.IFrame at 0x232df5be480>"
      ]
     },
     "metadata": {},
     "output_type": "display_data"
    },
    {
     "name": "stdout",
     "output_type": "stream",
     "text": [
      "Map has been displayed inline and saved as 'results\\routes_with_buffers_map-2025-05-30_17-16-32_60870.html'.\n",
      "Map has been displayed inline and saved as 'results\\routes_with_buffers_map-2025-05-30_17-16-32_18047.html'.\n",
      "Map saved to: c:\\Users\\HUAWEI\\CanterburyCommuto\\CanterburyCommuto\\canterburycommuto\\notebooks\\results\\routes_with_buffers_map-2025-05-30_17-16-32_41756.html\n"
     ]
    },
    {
     "data": {
      "text/html": [
       "\n",
       "        <iframe\n",
       "            width=\"100%\"\n",
       "            height=\"600px\"\n",
       "            src=\"results\\routes_with_buffers_map-2025-05-30_17-16-32_41756.html\"\n",
       "            frameborder=\"0\"\n",
       "            allowfullscreen\n",
       "            \n",
       "        ></iframe>\n",
       "        "
      ],
      "text/plain": [
       "<IPython.lib.display.IFrame at 0x232df4448f0>"
      ]
     },
     "metadata": {},
     "output_type": "display_data"
    },
    {
     "name": "stdout",
     "output_type": "stream",
     "text": [
      "Map has been displayed inline and saved as 'results\\routes_with_buffers_map-2025-05-30_17-16-32_41756.html'.\n",
      "Warning: One or both buffer polygons are None. Cannot compute intersection.\n",
      "Map saved to: c:\\Users\\HUAWEI\\CanterburyCommuto\\CanterburyCommuto\\canterburycommuto\\notebooks\\results\\routes_with_buffers_map-2025-05-30_17-16-32_34065.html\n",
      "Map saved to: c:\\Users\\HUAWEI\\CanterburyCommuto\\CanterburyCommuto\\canterburycommuto\\notebooks\\results\\routes_with_buffers_map-2025-05-30_17-16-32_88841.html\n"
     ]
    },
    {
     "data": {
      "text/html": [
       "\n",
       "        <iframe\n",
       "            width=\"100%\"\n",
       "            height=\"600px\"\n",
       "            src=\"results\\routes_with_buffers_map-2025-05-30_17-16-32_34065.html\"\n",
       "            frameborder=\"0\"\n",
       "            allowfullscreen\n",
       "            \n",
       "        ></iframe>\n",
       "        "
      ],
      "text/plain": [
       "<IPython.lib.display.IFrame at 0x232df4bbe60>"
      ]
     },
     "metadata": {},
     "output_type": "display_data"
    },
    {
     "data": {
      "text/html": [
       "\n",
       "        <iframe\n",
       "            width=\"100%\"\n",
       "            height=\"600px\"\n",
       "            src=\"results\\routes_with_buffers_map-2025-05-30_17-16-32_88841.html\"\n",
       "            frameborder=\"0\"\n",
       "            allowfullscreen\n",
       "            \n",
       "        ></iframe>\n",
       "        "
      ],
      "text/plain": [
       "<IPython.lib.display.IFrame at 0x232df4b9280>"
      ]
     },
     "metadata": {},
     "output_type": "display_data"
    },
    {
     "name": "stdout",
     "output_type": "stream",
     "text": [
      "Map has been displayed inline and saved as 'results\\routes_with_buffers_map-2025-05-30_17-16-32_88841.html'.\n",
      "Map has been displayed inline and saved as 'results\\routes_with_buffers_map-2025-05-30_17-16-32_34065.html'.\n",
      "Map saved to: c:\\Users\\HUAWEI\\CanterburyCommuto\\CanterburyCommuto\\canterburycommuto\\notebooks\\results\\routes_with_buffers_map-2025-05-30_17-16-32_15745.html\n"
     ]
    },
    {
     "data": {
      "text/html": [
       "\n",
       "        <iframe\n",
       "            width=\"100%\"\n",
       "            height=\"600px\"\n",
       "            src=\"results\\routes_with_buffers_map-2025-05-30_17-16-32_15745.html\"\n",
       "            frameborder=\"0\"\n",
       "            allowfullscreen\n",
       "            \n",
       "        ></iframe>\n",
       "        "
      ],
      "text/plain": [
       "<IPython.lib.display.IFrame at 0x232df446000>"
      ]
     },
     "metadata": {},
     "output_type": "display_data"
    },
    {
     "name": "stdout",
     "output_type": "stream",
     "text": [
      "Map has been displayed inline and saved as 'results\\routes_with_buffers_map-2025-05-30_17-16-32_15745.html'.\n",
      "Warning: One or both buffer polygons are None. Cannot compute intersection.\n",
      "Error fetching directions: NOT_FOUND\n",
      "Error fetching directions: NOT_FOUND\n",
      "Warning: Not enough points to create buffer. Returning None.\n",
      "Warning: Not enough points to create buffer. Returning None.\n",
      "Warning: One or both buffer polygons are None. Cannot compute intersection.\n",
      "Warning: One or both buffer polygons are None. Cannot compute intersection.\n",
      "Log file saved to: c:\\Users\\HUAWEI\\CanterburyCommuto\\CanterburyCommuto\\canterburycommuto\\notebooks\\results\\closest_nodes_buffer_results-2025-05-30_17-16-31_42233.log\n"
     ]
    }
   ],
   "source": [
    "Overlap_Function(\n",
    "    \"origin_destination_test.csv\",\n",
    "    None,\n",
    "    50, 100, 100,\"closer to precision\", \"yes\",\n",
    "    \"home_A\", \"work_A\", \"home_B\", \"work_B\", skip_invalid=True, save_api_info=True\n",
    ")"
   ]
  },
  {
   "cell_type": "markdown",
   "id": "48d0f0ba",
   "metadata": {},
   "source": [
    "### Buffer Route Node Method (only Overlap Information)"
   ]
  },
  {
   "cell_type": "code",
   "execution_count": 10,
   "id": "e3e6481f",
   "metadata": {},
   "outputs": [
    {
     "name": "stdout",
     "output_type": "stream",
     "text": [
      "\n",
      "[INFO] Estimated number of API requests: 42\n",
      "[INFO] Estimated cost: $0.21\n",
      "[NOTICE] Actual cost may be higher or lower depending on Google’s pricing tiers and route pair complexity.\n",
      "\n",
      "[PROCESSING] Proceeding with route analysis...\n",
      "\n",
      "Error fetching directions: NOT_FOUND\n",
      "Warning: Not enough points to create buffer. Returning None.\n",
      "Map saved to: c:\\Users\\HUAWEI\\CanterburyCommuto\\CanterburyCommuto\\canterburycommuto\\notebooks\\results\\routes_with_buffers_map-2025-05-30_17-16-50_57860.html\n"
     ]
    },
    {
     "data": {
      "text/html": [
       "\n",
       "        <iframe\n",
       "            width=\"100%\"\n",
       "            height=\"600px\"\n",
       "            src=\"results\\routes_with_buffers_map-2025-05-30_17-16-50_57860.html\"\n",
       "            frameborder=\"0\"\n",
       "            allowfullscreen\n",
       "            \n",
       "        ></iframe>\n",
       "        "
      ],
      "text/plain": [
       "<IPython.lib.display.IFrame at 0x232e0af8530>"
      ]
     },
     "metadata": {},
     "output_type": "display_data"
    },
    {
     "name": "stdout",
     "output_type": "stream",
     "text": [
      "Map has been displayed inline and saved as 'results\\routes_with_buffers_map-2025-05-30_17-16-50_57860.html'.\n",
      "Warning: One or both buffer polygons are None. Cannot compute intersection.\n",
      "Map saved to: c:\\Users\\HUAWEI\\CanterburyCommuto\\CanterburyCommuto\\canterburycommuto\\notebooks\\results\\routes_with_buffers_map-2025-05-30_17-16-50_55375.html\n",
      "Map saved to: c:\\Users\\HUAWEI\\CanterburyCommuto\\CanterburyCommuto\\canterburycommuto\\notebooks\\results\\routes_with_buffers_map-2025-05-30_17-16-50_70659.html\n"
     ]
    },
    {
     "data": {
      "text/html": [
       "\n",
       "        <iframe\n",
       "            width=\"100%\"\n",
       "            height=\"600px\"\n",
       "            src=\"results\\routes_with_buffers_map-2025-05-30_17-16-50_55375.html\"\n",
       "            frameborder=\"0\"\n",
       "            allowfullscreen\n",
       "            \n",
       "        ></iframe>\n",
       "        "
      ],
      "text/plain": [
       "<IPython.lib.display.IFrame at 0x232df4150d0>"
      ]
     },
     "metadata": {},
     "output_type": "display_data"
    },
    {
     "name": "stdout",
     "output_type": "stream",
     "text": [
      "Map saved to: c:\\Users\\HUAWEI\\CanterburyCommuto\\CanterburyCommuto\\canterburycommuto\\notebooks\\results\\routes_with_buffers_map-2025-05-30_17-16-50_71761.htmlMap has been displayed inline and saved as 'results\\routes_with_buffers_map-2025-05-30_17-16-50_55375.html'.\n",
      "\n"
     ]
    },
    {
     "data": {
      "text/html": [
       "\n",
       "        <iframe\n",
       "            width=\"100%\"\n",
       "            height=\"600px\"\n",
       "            src=\"results\\routes_with_buffers_map-2025-05-30_17-16-50_70659.html\"\n",
       "            frameborder=\"0\"\n",
       "            allowfullscreen\n",
       "            \n",
       "        ></iframe>\n",
       "        "
      ],
      "text/plain": [
       "<IPython.lib.display.IFrame at 0x232e0af6bd0>"
      ]
     },
     "metadata": {},
     "output_type": "display_data"
    },
    {
     "data": {
      "text/html": [
       "\n",
       "        <iframe\n",
       "            width=\"100%\"\n",
       "            height=\"600px\"\n",
       "            src=\"results\\routes_with_buffers_map-2025-05-30_17-16-50_71761.html\"\n",
       "            frameborder=\"0\"\n",
       "            allowfullscreen\n",
       "            \n",
       "        ></iframe>\n",
       "        "
      ],
      "text/plain": [
       "<IPython.lib.display.IFrame at 0x232df3fcda0>"
      ]
     },
     "metadata": {},
     "output_type": "display_data"
    },
    {
     "name": "stdout",
     "output_type": "stream",
     "text": [
      "Map has been displayed inline and saved as 'results\\routes_with_buffers_map-2025-05-30_17-16-50_70659.html'.\n",
      "Map has been displayed inline and saved as 'results\\routes_with_buffers_map-2025-05-30_17-16-50_71761.html'.\n",
      "Error fetching directions: INVALID_REQUEST\n",
      "Map saved to: c:\\Users\\HUAWEI\\CanterburyCommuto\\CanterburyCommuto\\canterburycommuto\\notebooks\\results\\routes_with_buffers_map-2025-05-30_17-16-50_10778.html\n"
     ]
    },
    {
     "data": {
      "text/html": [
       "\n",
       "        <iframe\n",
       "            width=\"100%\"\n",
       "            height=\"600px\"\n",
       "            src=\"results\\routes_with_buffers_map-2025-05-30_17-16-50_10778.html\"\n",
       "            frameborder=\"0\"\n",
       "            allowfullscreen\n",
       "            \n",
       "        ></iframe>\n",
       "        "
      ],
      "text/plain": [
       "<IPython.lib.display.IFrame at 0x232df417b30>"
      ]
     },
     "metadata": {},
     "output_type": "display_data"
    },
    {
     "name": "stdout",
     "output_type": "stream",
     "text": [
      "Map has been displayed inline and saved as 'results\\routes_with_buffers_map-2025-05-30_17-16-50_10778.html'.\n",
      "Map saved to: c:\\Users\\HUAWEI\\CanterburyCommuto\\CanterburyCommuto\\canterburycommuto\\notebooks\\results\\routes_with_buffers_map-2025-05-30_17-16-50_99774.html\n"
     ]
    },
    {
     "data": {
      "text/html": [
       "\n",
       "        <iframe\n",
       "            width=\"100%\"\n",
       "            height=\"600px\"\n",
       "            src=\"results\\routes_with_buffers_map-2025-05-30_17-16-50_99774.html\"\n",
       "            frameborder=\"0\"\n",
       "            allowfullscreen\n",
       "            \n",
       "        ></iframe>\n",
       "        "
      ],
      "text/plain": [
       "<IPython.lib.display.IFrame at 0x232df57f590>"
      ]
     },
     "metadata": {},
     "output_type": "display_data"
    },
    {
     "name": "stdout",
     "output_type": "stream",
     "text": [
      "Map has been displayed inline and saved as 'results\\routes_with_buffers_map-2025-05-30_17-16-50_99774.html'.\n",
      "Error fetching directions: NOT_FOUND\n",
      "Map saved to: c:\\Users\\HUAWEI\\CanterburyCommuto\\CanterburyCommuto\\canterburycommuto\\notebooks\\results\\routes_with_buffers_map-2025-05-30_17-16-50_66079.html\n"
     ]
    },
    {
     "data": {
      "text/html": [
       "\n",
       "        <iframe\n",
       "            width=\"100%\"\n",
       "            height=\"600px\"\n",
       "            src=\"results\\routes_with_buffers_map-2025-05-30_17-16-50_66079.html\"\n",
       "            frameborder=\"0\"\n",
       "            allowfullscreen\n",
       "            \n",
       "        ></iframe>\n",
       "        "
      ],
      "text/plain": [
       "<IPython.lib.display.IFrame at 0x232df415160>"
      ]
     },
     "metadata": {},
     "output_type": "display_data"
    },
    {
     "name": "stdout",
     "output_type": "stream",
     "text": [
      "Map has been displayed inline and saved as 'results\\routes_with_buffers_map-2025-05-30_17-16-50_66079.html'.\n",
      "Warning: Not enough points to create buffer. Returning None.\n",
      "Warning: One or both buffer polygons are None. Cannot compute intersection.\n",
      "Error fetching directions: NOT_FOUND\n",
      "Warning: Not enough points to create buffer. Returning None.\n",
      "Warning: One or both buffer polygons are None. Cannot compute intersection.\n",
      "Warning: Not enough points to create buffer. Returning None.\n",
      "Warning: One or both buffer polygons are None. Cannot compute intersection.\n",
      "Log file saved to: c:\\Users\\HUAWEI\\CanterburyCommuto\\CanterburyCommuto\\canterburycommuto\\notebooks\\results\\closest_nodes_buffer_only_overlap-2025-05-30_17-16-49_88926.log\n"
     ]
    }
   ],
   "source": [
    "Overlap_Function(\n",
    "    \"origin_destination_test.csv\",\n",
    "    None,\n",
    "    50, 100, 100,\"closer to precision\", \"no\",\n",
    "    \"home_A\", \"work_A\", \"home_B\", \"work_B\", skip_invalid=True, save_api_info=True\n",
    ")"
   ]
  },
  {
   "cell_type": "markdown",
   "id": "10ce2bff",
   "metadata": {},
   "source": [
    "### Buffer Route Intersection Method with Commuting Information Before and After the Overlap"
   ]
  },
  {
   "cell_type": "code",
   "execution_count": 11,
   "id": "08c1d09b",
   "metadata": {},
   "outputs": [
    {
     "name": "stdout",
     "output_type": "stream",
     "text": [
      "\n",
      "[INFO] Estimated number of API requests: 82\n",
      "[INFO] Estimated cost: $0.41\n",
      "[NOTICE] Actual cost may be higher or lower depending on Google’s pricing tiers and route pair complexity.\n",
      "\n",
      "[PROCESSING] Proceeding with route analysis...\n",
      "\n",
      "Error fetching directions: NOT_FOUND\n",
      "Warning: Not enough points to create buffer. Returning None.\n",
      "Map saved to: c:\\Users\\HUAWEI\\CanterburyCommuto\\CanterburyCommuto\\canterburycommuto\\notebooks\\results\\routes_with_buffers_map-2025-05-30_17-17-05_53942.htmlMap saved to: c:\\Users\\HUAWEI\\CanterburyCommuto\\CanterburyCommuto\\canterburycommuto\\notebooks\\results\\routes_with_buffers_map-2025-05-30_17-17-05_35956.html\n",
      "\n",
      "Map saved to: c:\\Users\\HUAWEI\\CanterburyCommuto\\CanterburyCommuto\\canterburycommuto\\notebooks\\results\\routes_with_buffers_map-2025-05-30_17-17-05_27581.html\n",
      "Map saved to: c:\\Users\\HUAWEI\\CanterburyCommuto\\CanterburyCommuto\\canterburycommuto\\notebooks\\results\\routes_with_buffers_map-2025-05-30_17-17-05_71815.html\n",
      "Map saved to: c:\\Users\\HUAWEI\\CanterburyCommuto\\CanterburyCommuto\\canterburycommuto\\notebooks\\results\\routes_with_buffers_map-2025-05-30_17-17-05_68313.html\n"
     ]
    },
    {
     "data": {
      "text/html": [
       "\n",
       "        <iframe\n",
       "            width=\"100%\"\n",
       "            height=\"600px\"\n",
       "            src=\"results\\routes_with_buffers_map-2025-05-30_17-17-05_35956.html\"\n",
       "            frameborder=\"0\"\n",
       "            allowfullscreen\n",
       "            \n",
       "        ></iframe>\n",
       "        "
      ],
      "text/plain": [
       "<IPython.lib.display.IFrame at 0x232df547590>"
      ]
     },
     "metadata": {},
     "output_type": "display_data"
    },
    {
     "data": {
      "text/html": [
       "\n",
       "        <iframe\n",
       "            width=\"100%\"\n",
       "            height=\"600px\"\n",
       "            src=\"results\\routes_with_buffers_map-2025-05-30_17-17-05_53942.html\"\n",
       "            frameborder=\"0\"\n",
       "            allowfullscreen\n",
       "            \n",
       "        ></iframe>\n",
       "        "
      ],
      "text/plain": [
       "<IPython.lib.display.IFrame at 0x232df415040>"
      ]
     },
     "metadata": {},
     "output_type": "display_data"
    },
    {
     "data": {
      "text/html": [
       "\n",
       "        <iframe\n",
       "            width=\"100%\"\n",
       "            height=\"600px\"\n",
       "            src=\"results\\routes_with_buffers_map-2025-05-30_17-17-05_68313.html\"\n",
       "            frameborder=\"0\"\n",
       "            allowfullscreen\n",
       "            \n",
       "        ></iframe>\n",
       "        "
      ],
      "text/plain": [
       "<IPython.lib.display.IFrame at 0x232e0af7110>"
      ]
     },
     "metadata": {},
     "output_type": "display_data"
    },
    {
     "data": {
      "text/html": [
       "\n",
       "        <iframe\n",
       "            width=\"100%\"\n",
       "            height=\"600px\"\n",
       "            src=\"results\\routes_with_buffers_map-2025-05-30_17-17-05_71815.html\"\n",
       "            frameborder=\"0\"\n",
       "            allowfullscreen\n",
       "            \n",
       "        ></iframe>\n",
       "        "
      ],
      "text/plain": [
       "<IPython.lib.display.IFrame at 0x232e0b08050>"
      ]
     },
     "metadata": {},
     "output_type": "display_data"
    },
    {
     "data": {
      "text/html": [
       "\n",
       "        <iframe\n",
       "            width=\"100%\"\n",
       "            height=\"600px\"\n",
       "            src=\"results\\routes_with_buffers_map-2025-05-30_17-17-05_27581.html\"\n",
       "            frameborder=\"0\"\n",
       "            allowfullscreen\n",
       "            \n",
       "        ></iframe>\n",
       "        "
      ],
      "text/plain": [
       "<IPython.lib.display.IFrame at 0x232e0af8ec0>"
      ]
     },
     "metadata": {},
     "output_type": "display_data"
    },
    {
     "name": "stdout",
     "output_type": "stream",
     "text": [
      "Warning: One or both buffer polygons are None. Cannot compute intersection.\n",
      "Map has been displayed inline and saved as 'results\\routes_with_buffers_map-2025-05-30_17-17-05_35956.html'.\n",
      "Map has been displayed inline and saved as 'results\\routes_with_buffers_map-2025-05-30_17-17-05_68313.html'.\n",
      "Map has been displayed inline and saved as 'results\\routes_with_buffers_map-2025-05-30_17-17-05_71815.html'.\n",
      "Map has been displayed inline and saved as 'results\\routes_with_buffers_map-2025-05-30_17-17-05_53942.html'.\n",
      "Map has been displayed inline and saved as 'results\\routes_with_buffers_map-2025-05-30_17-17-05_27581.html'.\n",
      "Map saved to: c:\\Users\\HUAWEI\\CanterburyCommuto\\CanterburyCommuto\\canterburycommuto\\notebooks\\results\\routes_with_buffers_map-2025-05-30_17-17-05_15495.html\n",
      "Map saved to: c:\\Users\\HUAWEI\\CanterburyCommuto\\CanterburyCommuto\\canterburycommuto\\notebooks\\results\\routes_with_buffers_map-2025-05-30_17-17-05_24168.html\n"
     ]
    },
    {
     "data": {
      "text/html": [
       "\n",
       "        <iframe\n",
       "            width=\"100%\"\n",
       "            height=\"600px\"\n",
       "            src=\"results\\routes_with_buffers_map-2025-05-30_17-17-05_24168.html\"\n",
       "            frameborder=\"0\"\n",
       "            allowfullscreen\n",
       "            \n",
       "        ></iframe>\n",
       "        "
      ],
      "text/plain": [
       "<IPython.lib.display.IFrame at 0x232df4b8290>"
      ]
     },
     "metadata": {},
     "output_type": "display_data"
    },
    {
     "data": {
      "text/html": [
       "\n",
       "        <iframe\n",
       "            width=\"100%\"\n",
       "            height=\"600px\"\n",
       "            src=\"results\\routes_with_buffers_map-2025-05-30_17-17-05_15495.html\"\n",
       "            frameborder=\"0\"\n",
       "            allowfullscreen\n",
       "            \n",
       "        ></iframe>\n",
       "        "
      ],
      "text/plain": [
       "<IPython.lib.display.IFrame at 0x232e0b0d760>"
      ]
     },
     "metadata": {},
     "output_type": "display_data"
    },
    {
     "name": "stdout",
     "output_type": "stream",
     "text": [
      "Map has been displayed inline and saved as 'results\\routes_with_buffers_map-2025-05-30_17-17-05_24168.html'.\n",
      "Map has been displayed inline and saved as 'results\\routes_with_buffers_map-2025-05-30_17-17-05_15495.html'.\n",
      "Error fetching directions: INVALID_REQUEST\n",
      "Error fetching directions: NOT_FOUND\n",
      "Error fetching directions: NOT_FOUND\n",
      "Warning: Not enough points to create buffer. Returning None.\n",
      "Warning: One or both buffer polygons are None. Cannot compute intersection.\n",
      "Warning: Not enough points to create buffer. Returning None.\n",
      "Warning: Not enough points to create buffer. Returning None.\n",
      "Warning: One or both buffer polygons are None. Cannot compute intersection.\n",
      "Warning: One or both buffer polygons are None. Cannot compute intersection.\n",
      "Log file saved to: c:\\Users\\HUAWEI\\CanterburyCommuto\\CanterburyCommuto\\canterburycommuto\\notebooks\\results\\exact_intersection_buffer_results-2025-05-30_17-17-04_54296.log\n"
     ]
    }
   ],
   "source": [
    "Overlap_Function(\n",
    "    \"origin_destination_test.csv\",\n",
    "    None,\n",
    "    50, 100, 100,\"exact\", \"yes\",\n",
    "    \"home_A\", \"work_A\", \"home_B\", \"work_B\", skip_invalid=True, save_api_info=True\n",
    ")\n"
   ]
  },
  {
   "cell_type": "markdown",
   "id": "7acc47e0",
   "metadata": {},
   "source": [
    "### Buffer Route Intersection Method (only Overlap Information)"
   ]
  },
  {
   "cell_type": "code",
   "execution_count": 12,
   "id": "0722de74",
   "metadata": {},
   "outputs": [
    {
     "name": "stdout",
     "output_type": "stream",
     "text": [
      "\n",
      "[INFO] Estimated number of API requests: 42\n",
      "[INFO] Estimated cost: $0.21\n",
      "[NOTICE] Actual cost may be higher or lower depending on Google’s pricing tiers and route pair complexity.\n",
      "\n",
      "[PROCESSING] Proceeding with route analysis...\n",
      "\n",
      "Error fetching directions: NOT_FOUND\n",
      "Map saved to: c:\\Users\\HUAWEI\\CanterburyCommuto\\CanterburyCommuto\\canterburycommuto\\notebooks\\results\\routes_with_buffers_map-2025-05-30_17-17-19_66640.html\n"
     ]
    },
    {
     "data": {
      "text/html": [
       "\n",
       "        <iframe\n",
       "            width=\"100%\"\n",
       "            height=\"600px\"\n",
       "            src=\"results\\routes_with_buffers_map-2025-05-30_17-17-19_66640.html\"\n",
       "            frameborder=\"0\"\n",
       "            allowfullscreen\n",
       "            \n",
       "        ></iframe>\n",
       "        "
      ],
      "text/plain": [
       "<IPython.lib.display.IFrame at 0x232e05fca10>"
      ]
     },
     "metadata": {},
     "output_type": "display_data"
    },
    {
     "name": "stdout",
     "output_type": "stream",
     "text": [
      "Map has been displayed inline and saved as 'results\\routes_with_buffers_map-2025-05-30_17-17-19_66640.html'.\n",
      "Warning: Not enough points to create buffer. Returning None.\n",
      "Map saved to: c:\\Users\\HUAWEI\\CanterburyCommuto\\CanterburyCommuto\\canterburycommuto\\notebooks\\results\\routes_with_buffers_map-2025-05-30_17-17-19_38010.html\n",
      "Map saved to: c:\\Users\\HUAWEI\\CanterburyCommuto\\CanterburyCommuto\\canterburycommuto\\notebooks\\results\\routes_with_buffers_map-2025-05-30_17-17-19_45292.html\n"
     ]
    },
    {
     "data": {
      "text/html": [
       "\n",
       "        <iframe\n",
       "            width=\"100%\"\n",
       "            height=\"600px\"\n",
       "            src=\"results\\routes_with_buffers_map-2025-05-30_17-17-19_38010.html\"\n",
       "            frameborder=\"0\"\n",
       "            allowfullscreen\n",
       "            \n",
       "        ></iframe>\n",
       "        "
      ],
      "text/plain": [
       "<IPython.lib.display.IFrame at 0x232e17aecc0>"
      ]
     },
     "metadata": {},
     "output_type": "display_data"
    },
    {
     "data": {
      "text/html": [
       "\n",
       "        <iframe\n",
       "            width=\"100%\"\n",
       "            height=\"600px\"\n",
       "            src=\"results\\routes_with_buffers_map-2025-05-30_17-17-19_45292.html\"\n",
       "            frameborder=\"0\"\n",
       "            allowfullscreen\n",
       "            \n",
       "        ></iframe>\n",
       "        "
      ],
      "text/plain": [
       "<IPython.lib.display.IFrame at 0x232e1854b30>"
      ]
     },
     "metadata": {},
     "output_type": "display_data"
    },
    {
     "name": "stdout",
     "output_type": "stream",
     "text": [
      "Map has been displayed inline and saved as 'results\\routes_with_buffers_map-2025-05-30_17-17-19_38010.html'.\n",
      "Map saved to: c:\\Users\\HUAWEI\\CanterburyCommuto\\CanterburyCommuto\\canterburycommuto\\notebooks\\results\\routes_with_buffers_map-2025-05-30_17-17-19_33351.html\n",
      "Map has been displayed inline and saved as 'results\\routes_with_buffers_map-2025-05-30_17-17-19_45292.html'.\n",
      "Map saved to: c:\\Users\\HUAWEI\\CanterburyCommuto\\CanterburyCommuto\\canterburycommuto\\notebooks\\results\\routes_with_buffers_map-2025-05-30_17-17-19_83066.html\n"
     ]
    },
    {
     "data": {
      "text/html": [
       "\n",
       "        <iframe\n",
       "            width=\"100%\"\n",
       "            height=\"600px\"\n",
       "            src=\"results\\routes_with_buffers_map-2025-05-30_17-17-19_33351.html\"\n",
       "            frameborder=\"0\"\n",
       "            allowfullscreen\n",
       "            \n",
       "        ></iframe>\n",
       "        "
      ],
      "text/plain": [
       "<IPython.lib.display.IFrame at 0x232e18982c0>"
      ]
     },
     "metadata": {},
     "output_type": "display_data"
    },
    {
     "data": {
      "text/html": [
       "\n",
       "        <iframe\n",
       "            width=\"100%\"\n",
       "            height=\"600px\"\n",
       "            src=\"results\\routes_with_buffers_map-2025-05-30_17-17-19_83066.html\"\n",
       "            frameborder=\"0\"\n",
       "            allowfullscreen\n",
       "            \n",
       "        ></iframe>\n",
       "        "
      ],
      "text/plain": [
       "<IPython.lib.display.IFrame at 0x232e1898c80>"
      ]
     },
     "metadata": {},
     "output_type": "display_data"
    },
    {
     "name": "stdout",
     "output_type": "stream",
     "text": [
      "Map has been displayed inline and saved as 'results\\routes_with_buffers_map-2025-05-30_17-17-19_33351.html'.\n",
      "Map has been displayed inline and saved as 'results\\routes_with_buffers_map-2025-05-30_17-17-19_83066.html'.\n",
      "Error fetching directions: INVALID_REQUEST\n",
      "Warning: One or both buffer polygons are None. Cannot compute intersection.\n",
      "Map saved to: c:\\Users\\HUAWEI\\CanterburyCommuto\\CanterburyCommuto\\canterburycommuto\\notebooks\\results\\routes_with_buffers_map-2025-05-30_17-17-19_85549.html\n"
     ]
    },
    {
     "data": {
      "text/html": [
       "\n",
       "        <iframe\n",
       "            width=\"100%\"\n",
       "            height=\"600px\"\n",
       "            src=\"results\\routes_with_buffers_map-2025-05-30_17-17-19_85549.html\"\n",
       "            frameborder=\"0\"\n",
       "            allowfullscreen\n",
       "            \n",
       "        ></iframe>\n",
       "        "
      ],
      "text/plain": [
       "<IPython.lib.display.IFrame at 0x232e189b290>"
      ]
     },
     "metadata": {},
     "output_type": "display_data"
    },
    {
     "name": "stdout",
     "output_type": "stream",
     "text": [
      "Map has been displayed inline and saved as 'results\\routes_with_buffers_map-2025-05-30_17-17-19_85549.html'.\n",
      "Map saved to: c:\\Users\\HUAWEI\\CanterburyCommuto\\CanterburyCommuto\\canterburycommuto\\notebooks\\results\\routes_with_buffers_map-2025-05-30_17-17-19_36525.html\n"
     ]
    },
    {
     "data": {
      "text/html": [
       "\n",
       "        <iframe\n",
       "            width=\"100%\"\n",
       "            height=\"600px\"\n",
       "            src=\"results\\routes_with_buffers_map-2025-05-30_17-17-19_36525.html\"\n",
       "            frameborder=\"0\"\n",
       "            allowfullscreen\n",
       "            \n",
       "        ></iframe>\n",
       "        "
      ],
      "text/plain": [
       "<IPython.lib.display.IFrame at 0x232e18e11c0>"
      ]
     },
     "metadata": {},
     "output_type": "display_data"
    },
    {
     "name": "stdout",
     "output_type": "stream",
     "text": [
      "Map has been displayed inline and saved as 'results\\routes_with_buffers_map-2025-05-30_17-17-19_36525.html'.\n",
      "Error fetching directions: NOT_FOUND\n",
      "Error fetching directions: NOT_FOUND\n",
      "Warning: Not enough points to create buffer. Returning None.\n",
      "Warning: One or both buffer polygons are None. Cannot compute intersection.\n",
      "Warning: Not enough points to create buffer. Returning None.\n",
      "Warning: One or both buffer polygons are None. Cannot compute intersection.\n",
      "Warning: Not enough points to create buffer. Returning None.\n",
      "Warning: One or both buffer polygons are None. Cannot compute intersection.\n",
      "Log file saved to: c:\\Users\\HUAWEI\\CanterburyCommuto\\CanterburyCommuto\\canterburycommuto\\notebooks\\results\\exact_intersection_buffer_only_overlap-2025-05-30_17-17-18_46514.log\n"
     ]
    }
   ],
   "source": [
    "Overlap_Function(\n",
    "    \"origin_destination_test.csv\",\n",
    "    None,\n",
    "    50, 100, 100,\"exact\", \"no\",\n",
    "    \"home_A\", \"work_A\", \"home_B\", \"work_B\", skip_invalid=True, save_api_info=True\n",
    ")"
   ]
  }
 ],
 "metadata": {
  "kernelspec": {
   "display_name": "base",
   "language": "python",
   "name": "python3"
  },
  "language_info": {
   "codemirror_mode": {
    "name": "ipython",
    "version": 3
   },
   "file_extension": ".py",
   "mimetype": "text/x-python",
   "name": "python",
   "nbconvert_exporter": "python",
   "pygments_lexer": "ipython3",
   "version": "3.12.4"
  }
 },
 "nbformat": 4,
 "nbformat_minor": 5
}
