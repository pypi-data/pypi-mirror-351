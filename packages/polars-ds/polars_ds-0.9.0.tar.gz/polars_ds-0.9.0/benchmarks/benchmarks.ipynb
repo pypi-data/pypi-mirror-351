{
 "cells": [
  {
   "cell_type": "markdown",
   "metadata": {},
   "source": [
    "# Notebook Used to Generate Benchmark Results "
   ]
  },
  {
   "cell_type": "code",
   "execution_count": 1,
   "metadata": {},
   "outputs": [],
   "source": [
    "import polars as pl\n",
    "import polars_ds as pds"
   ]
  },
  {
   "cell_type": "markdown",
   "metadata": {},
   "source": [
    "# Parallel ML metrics evaluations on segments \n",
    "\n",
    "Use cases:\n",
    "\n",
    "1. Evaluate ML model performance in market A, B, C.\n",
    "2. The Dataframe contains a column that defines the \"split\" of the dataframe. Then this can simulatneously evaluate ML model's performances on each of the train, test, recent, or any other split you have.\n",
    "3. Evaluate ML model performance over time, e.g. weekly / monthly \n",
    "\n",
    "Comparison: \n",
    "\n",
    "Polars + PDS vs. Pandas + Sklearn"
   ]
  },
  {
   "cell_type": "code",
   "execution_count": 2,
   "metadata": {},
   "outputs": [],
   "source": [
    "# Generate a \n",
    "from datetime import date\n",
    "\n",
    "dates = pl.date_range(date(2020, 1, 1), date(2024, 10, 1), \"1d\", eager=True)\n",
    "df = pds.frame(size=len(dates)).select(\n",
    "    pds.random().alias(\"predicted\"),\n",
    "    (pds.random() > 0.25).cast(pl.UInt8).alias(\"actual_target\"),\n",
    "    dates = dates,\n",
    ")\n",
    "df_pd = df.to_pandas()"
   ]
  },
  {
   "cell_type": "code",
   "execution_count": 3,
   "metadata": {},
   "outputs": [
    {
     "data": {
      "text/html": [
       "<div>\n",
       "<style scoped>\n",
       "    .dataframe tbody tr th:only-of-type {\n",
       "        vertical-align: middle;\n",
       "    }\n",
       "\n",
       "    .dataframe tbody tr th {\n",
       "        vertical-align: top;\n",
       "    }\n",
       "\n",
       "    .dataframe thead th {\n",
       "        text-align: right;\n",
       "    }\n",
       "</style>\n",
       "<table border=\"1\" class=\"dataframe\">\n",
       "  <thead>\n",
       "    <tr style=\"text-align: right;\">\n",
       "      <th></th>\n",
       "      <th>predicted</th>\n",
       "      <th>actual_target</th>\n",
       "      <th>dates</th>\n",
       "    </tr>\n",
       "  </thead>\n",
       "  <tbody>\n",
       "    <tr>\n",
       "      <th>0</th>\n",
       "      <td>0.621657</td>\n",
       "      <td>0</td>\n",
       "      <td>2020-01-01</td>\n",
       "    </tr>\n",
       "    <tr>\n",
       "      <th>1</th>\n",
       "      <td>0.502729</td>\n",
       "      <td>1</td>\n",
       "      <td>2020-01-02</td>\n",
       "    </tr>\n",
       "    <tr>\n",
       "      <th>2</th>\n",
       "      <td>0.084236</td>\n",
       "      <td>0</td>\n",
       "      <td>2020-01-03</td>\n",
       "    </tr>\n",
       "    <tr>\n",
       "      <th>3</th>\n",
       "      <td>0.818261</td>\n",
       "      <td>1</td>\n",
       "      <td>2020-01-04</td>\n",
       "    </tr>\n",
       "    <tr>\n",
       "      <th>4</th>\n",
       "      <td>0.742475</td>\n",
       "      <td>1</td>\n",
       "      <td>2020-01-05</td>\n",
       "    </tr>\n",
       "    <tr>\n",
       "      <th>...</th>\n",
       "      <td>...</td>\n",
       "      <td>...</td>\n",
       "      <td>...</td>\n",
       "    </tr>\n",
       "    <tr>\n",
       "      <th>1731</th>\n",
       "      <td>0.225007</td>\n",
       "      <td>0</td>\n",
       "      <td>2024-09-27</td>\n",
       "    </tr>\n",
       "    <tr>\n",
       "      <th>1732</th>\n",
       "      <td>0.550625</td>\n",
       "      <td>0</td>\n",
       "      <td>2024-09-28</td>\n",
       "    </tr>\n",
       "    <tr>\n",
       "      <th>1733</th>\n",
       "      <td>0.351283</td>\n",
       "      <td>1</td>\n",
       "      <td>2024-09-29</td>\n",
       "    </tr>\n",
       "    <tr>\n",
       "      <th>1734</th>\n",
       "      <td>0.430682</td>\n",
       "      <td>1</td>\n",
       "      <td>2024-09-30</td>\n",
       "    </tr>\n",
       "    <tr>\n",
       "      <th>1735</th>\n",
       "      <td>0.683423</td>\n",
       "      <td>1</td>\n",
       "      <td>2024-10-01</td>\n",
       "    </tr>\n",
       "  </tbody>\n",
       "</table>\n",
       "<p>1736 rows × 3 columns</p>\n",
       "</div>"
      ],
      "text/plain": [
       "      predicted  actual_target      dates\n",
       "0      0.621657              0 2020-01-01\n",
       "1      0.502729              1 2020-01-02\n",
       "2      0.084236              0 2020-01-03\n",
       "3      0.818261              1 2020-01-04\n",
       "4      0.742475              1 2020-01-05\n",
       "...         ...            ...        ...\n",
       "1731   0.225007              0 2024-09-27\n",
       "1732   0.550625              0 2024-09-28\n",
       "1733   0.351283              1 2024-09-29\n",
       "1734   0.430682              1 2024-09-30\n",
       "1735   0.683423              1 2024-10-01\n",
       "\n",
       "[1736 rows x 3 columns]"
      ]
     },
     "execution_count": 3,
     "metadata": {},
     "output_type": "execute_result"
    }
   ],
   "source": [
    "df_pd"
   ]
  },
  {
   "cell_type": "code",
   "execution_count": 4,
   "metadata": {},
   "outputs": [],
   "source": [
    "import pandas as pd\n",
    "from sklearn.metrics import roc_auc_score, log_loss, brier_score_loss"
   ]
  },
  {
   "cell_type": "code",
   "execution_count": 5,
   "metadata": {},
   "outputs": [
    {
     "name": "stdout",
     "output_type": "stream",
     "text": [
      "5.8 ms ± 15.4 μs per loop (mean ± std. dev. of 7 runs, 100 loops each)\n"
     ]
    }
   ],
   "source": [
    "%%timeit\n",
    "df_pd[\"year\"] = df['dates'].dt.year()\n",
    "df_pd.groupby([\"year\"]).apply(\n",
    "    lambda df_group: pd.Series({\n",
    "        \"count\": len(df_group[\"actual_target\"]),\n",
    "        \"roc_auc\": roc_auc_score(df_group[\"actual_target\"], df_group[\"predicted\"]),\n",
    "        \"log_loss\": roc_auc_score(df_group[\"actual_target\"], df_group[\"predicted\"])\n",
    "    })\n",
    "    , include_groups=False\n",
    ")"
   ]
  },
  {
   "cell_type": "code",
   "execution_count": 6,
   "metadata": {},
   "outputs": [
    {
     "name": "stdout",
     "output_type": "stream",
     "text": [
      "1.32 ms ± 1.72 μs per loop (mean ± std. dev. of 7 runs, 1,000 loops each)\n"
     ]
    }
   ],
   "source": [
    "%%timeit\n",
    "df.group_by(pl.col(\"dates\").dt.year()).agg(\n",
    "    count = pl.len(),\n",
    "    roc_auc = pds.query_roc_auc(\"actual_target\", \"predicted\"),\n",
    "    log_loss = pds.query_log_loss(\"actual_target\", \"predicted\")\n",
    ").sort(\"dates\")\n",
    "# 1/4 of the time, less lines of code + easier to understand syntax"
   ]
  },
  {
   "cell_type": "markdown",
   "metadata": {},
   "source": [
    "# Common Traditional ML Pipelines\n",
    "\n",
    "Use cases:\n",
    "\n",
    "1. Data Transformation before model training\n",
    "2. Feature Engineering pipelines, etc.\n",
    "\n",
    "Comparison: \n",
    "\n",
    "Polars + PDS vs. Pandas + Sklearn vs. Polars + Sklearn"
   ]
  },
  {
   "cell_type": "code",
   "execution_count": 7,
   "metadata": {},
   "outputs": [],
   "source": [
    "# A random Dataframe with 50k records\n",
    "size = 50_000\n",
    "df_pl = pds.frame(size=size).select(\n",
    "    pds.random(0.0, 1.0).alias(\"x1\"),\n",
    "    pds.random(0.0, 1.0).alias(\"x2\"),\n",
    "    pds.random(0.0, 1.0).alias(\"x3\"),\n",
    ").with_columns(\n",
    "    x4 = pl.when(pl.col(\"x3\") > 0.3).then(None).otherwise(pl.col(\"x3\")),\n",
    "    x5 = pl.when(pl.col(\"x2\") > 0.5).then(None).otherwise(pl.col(\"x2\")),\n",
    ")\n",
    "df_pd = df_pl.to_pandas()"
   ]
  },
  {
   "cell_type": "code",
   "execution_count": 8,
   "metadata": {},
   "outputs": [
    {
     "data": {
      "text/html": [
       "<div><style>\n",
       ".dataframe > thead > tr,\n",
       ".dataframe > tbody > tr {\n",
       "  text-align: right;\n",
       "  white-space: pre-wrap;\n",
       "}\n",
       "</style>\n",
       "<small>shape: (10, 5)</small><table border=\"1\" class=\"dataframe\"><thead><tr><th>x1</th><th>x2</th><th>x3</th><th>x4</th><th>x5</th></tr><tr><td>f64</td><td>f64</td><td>f64</td><td>f64</td><td>f64</td></tr></thead><tbody><tr><td>0.57686</td><td>0.796951</td><td>0.479145</td><td>null</td><td>null</td></tr><tr><td>0.703758</td><td>0.815689</td><td>0.970173</td><td>null</td><td>null</td></tr><tr><td>0.330415</td><td>0.952443</td><td>0.30547</td><td>null</td><td>null</td></tr><tr><td>0.419666</td><td>0.402172</td><td>0.65559</td><td>null</td><td>0.402172</td></tr><tr><td>0.099082</td><td>0.565292</td><td>0.715153</td><td>null</td><td>null</td></tr><tr><td>0.691535</td><td>0.297778</td><td>0.752498</td><td>null</td><td>0.297778</td></tr><tr><td>0.923842</td><td>0.509301</td><td>0.976943</td><td>null</td><td>null</td></tr><tr><td>0.70676</td><td>0.895296</td><td>0.773036</td><td>null</td><td>null</td></tr><tr><td>0.151706</td><td>0.345859</td><td>0.892369</td><td>null</td><td>0.345859</td></tr><tr><td>0.201388</td><td>0.746721</td><td>0.885525</td><td>null</td><td>null</td></tr></tbody></table></div>"
      ],
      "text/plain": [
       "shape: (10, 5)\n",
       "┌──────────┬──────────┬──────────┬──────┬──────────┐\n",
       "│ x1       ┆ x2       ┆ x3       ┆ x4   ┆ x5       │\n",
       "│ ---      ┆ ---      ┆ ---      ┆ ---  ┆ ---      │\n",
       "│ f64      ┆ f64      ┆ f64      ┆ f64  ┆ f64      │\n",
       "╞══════════╪══════════╪══════════╪══════╪══════════╡\n",
       "│ 0.57686  ┆ 0.796951 ┆ 0.479145 ┆ null ┆ null     │\n",
       "│ 0.703758 ┆ 0.815689 ┆ 0.970173 ┆ null ┆ null     │\n",
       "│ 0.330415 ┆ 0.952443 ┆ 0.30547  ┆ null ┆ null     │\n",
       "│ 0.419666 ┆ 0.402172 ┆ 0.65559  ┆ null ┆ 0.402172 │\n",
       "│ 0.099082 ┆ 0.565292 ┆ 0.715153 ┆ null ┆ null     │\n",
       "│ 0.691535 ┆ 0.297778 ┆ 0.752498 ┆ null ┆ 0.297778 │\n",
       "│ 0.923842 ┆ 0.509301 ┆ 0.976943 ┆ null ┆ null     │\n",
       "│ 0.70676  ┆ 0.895296 ┆ 0.773036 ┆ null ┆ null     │\n",
       "│ 0.151706 ┆ 0.345859 ┆ 0.892369 ┆ null ┆ 0.345859 │\n",
       "│ 0.201388 ┆ 0.746721 ┆ 0.885525 ┆ null ┆ null     │\n",
       "└──────────┴──────────┴──────────┴──────┴──────────┘"
      ]
     },
     "execution_count": 8,
     "metadata": {},
     "output_type": "execute_result"
    }
   ],
   "source": [
    "df_pl.head(10)"
   ]
  },
  {
   "cell_type": "markdown",
   "metadata": {},
   "source": [
    "### Pandas + Sklearn"
   ]
  },
  {
   "cell_type": "code",
   "execution_count": 9,
   "metadata": {},
   "outputs": [],
   "source": [
    "from sklearn.preprocessing import StandardScaler\n",
    "from sklearn.impute import SimpleImputer\n",
    "from sklearn.pipeline import Pipeline\n",
    "from sklearn.compose import ColumnTransformer"
   ]
  },
  {
   "cell_type": "code",
   "execution_count": 10,
   "metadata": {},
   "outputs": [],
   "source": [
    "from sklearn import set_config\n",
    "set_config(transform_output=\"pandas\")"
   ]
  },
  {
   "cell_type": "code",
   "execution_count": 11,
   "metadata": {},
   "outputs": [],
   "source": [
    "impute_step = ColumnTransformer(\n",
    "    [(\"MedianImputer1\", SimpleImputer(strategy=\"median\"), [3]),\n",
    "    (\"MedianImputer2\", SimpleImputer(strategy=\"median\"), [4])],\n",
    "    remainder = \"passthrough\",\n",
    "    verbose_feature_names_out = False,\n",
    ")\n",
    "\n",
    "pipe = Pipeline(steps = [\n",
    "    (\"Imputer\", impute_step), # impute only column 3 and 4\n",
    "    (\"StandardScaler\", StandardScaler()), # Scale all columns\n",
    "])"
   ]
  },
  {
   "cell_type": "code",
   "execution_count": 12,
   "metadata": {},
   "outputs": [
    {
     "data": {
      "text/html": [
       "<div>\n",
       "<style scoped>\n",
       "    .dataframe tbody tr th:only-of-type {\n",
       "        vertical-align: middle;\n",
       "    }\n",
       "\n",
       "    .dataframe tbody tr th {\n",
       "        vertical-align: top;\n",
       "    }\n",
       "\n",
       "    .dataframe thead th {\n",
       "        text-align: right;\n",
       "    }\n",
       "</style>\n",
       "<table border=\"1\" class=\"dataframe\">\n",
       "  <thead>\n",
       "    <tr style=\"text-align: right;\">\n",
       "      <th></th>\n",
       "      <th>x1</th>\n",
       "      <th>x2</th>\n",
       "      <th>x3</th>\n",
       "      <th>x4</th>\n",
       "      <th>x5</th>\n",
       "    </tr>\n",
       "  </thead>\n",
       "  <tbody>\n",
       "    <tr>\n",
       "      <th>0</th>\n",
       "      <td>0.258282</td>\n",
       "      <td>1.036672</td>\n",
       "      <td>-0.064459</td>\n",
       "      <td>-0.003164</td>\n",
       "      <td>-0.005449</td>\n",
       "    </tr>\n",
       "    <tr>\n",
       "      <th>1</th>\n",
       "      <td>0.698742</td>\n",
       "      <td>1.101685</td>\n",
       "      <td>1.633356</td>\n",
       "      <td>-0.003164</td>\n",
       "      <td>-0.005449</td>\n",
       "    </tr>\n",
       "    <tr>\n",
       "      <th>2</th>\n",
       "      <td>-0.597123</td>\n",
       "      <td>1.576182</td>\n",
       "      <td>-0.664973</td>\n",
       "      <td>-0.003164</td>\n",
       "      <td>-0.005449</td>\n",
       "    </tr>\n",
       "    <tr>\n",
       "      <th>3</th>\n",
       "      <td>-0.287334</td>\n",
       "      <td>-0.333094</td>\n",
       "      <td>0.545629</td>\n",
       "      <td>-0.003164</td>\n",
       "      <td>1.495760</td>\n",
       "    </tr>\n",
       "    <tr>\n",
       "      <th>4</th>\n",
       "      <td>-1.400074</td>\n",
       "      <td>0.232884</td>\n",
       "      <td>0.751579</td>\n",
       "      <td>-0.003164</td>\n",
       "      <td>-0.005449</td>\n",
       "    </tr>\n",
       "    <tr>\n",
       "      <th>5</th>\n",
       "      <td>0.656316</td>\n",
       "      <td>-0.695313</td>\n",
       "      <td>0.880706</td>\n",
       "      <td>-0.003164</td>\n",
       "      <td>0.476784</td>\n",
       "    </tr>\n",
       "    <tr>\n",
       "      <th>6</th>\n",
       "      <td>1.462646</td>\n",
       "      <td>0.038612</td>\n",
       "      <td>1.656764</td>\n",
       "      <td>-0.003164</td>\n",
       "      <td>-0.005449</td>\n",
       "    </tr>\n",
       "    <tr>\n",
       "      <th>7</th>\n",
       "      <td>0.709161</td>\n",
       "      <td>1.377900</td>\n",
       "      <td>0.951719</td>\n",
       "      <td>-0.003164</td>\n",
       "      <td>-0.005449</td>\n",
       "    </tr>\n",
       "    <tr>\n",
       "      <th>8</th>\n",
       "      <td>-1.217417</td>\n",
       "      <td>-0.528484</td>\n",
       "      <td>1.364335</td>\n",
       "      <td>-0.003164</td>\n",
       "      <td>0.946099</td>\n",
       "    </tr>\n",
       "    <tr>\n",
       "      <th>9</th>\n",
       "      <td>-1.044971</td>\n",
       "      <td>0.862388</td>\n",
       "      <td>1.340669</td>\n",
       "      <td>-0.003164</td>\n",
       "      <td>-0.005449</td>\n",
       "    </tr>\n",
       "  </tbody>\n",
       "</table>\n",
       "</div>"
      ],
      "text/plain": [
       "         x1        x2        x3        x4        x5\n",
       "0  0.258282  1.036672 -0.064459 -0.003164 -0.005449\n",
       "1  0.698742  1.101685  1.633356 -0.003164 -0.005449\n",
       "2 -0.597123  1.576182 -0.664973 -0.003164 -0.005449\n",
       "3 -0.287334 -0.333094  0.545629 -0.003164  1.495760\n",
       "4 -1.400074  0.232884  0.751579 -0.003164 -0.005449\n",
       "5  0.656316 -0.695313  0.880706 -0.003164  0.476784\n",
       "6  1.462646  0.038612  1.656764 -0.003164 -0.005449\n",
       "7  0.709161  1.377900  0.951719 -0.003164 -0.005449\n",
       "8 -1.217417 -0.528484  1.364335 -0.003164  0.946099\n",
       "9 -1.044971  0.862388  1.340669 -0.003164 -0.005449"
      ]
     },
     "execution_count": 12,
     "metadata": {},
     "output_type": "execute_result"
    }
   ],
   "source": [
    "pipe.fit_transform(df_pd)[[\"x1\", \"x2\", \"x3\", \"x4\", \"x5\"]].head(10)"
   ]
  },
  {
   "cell_type": "code",
   "execution_count": 13,
   "metadata": {},
   "outputs": [
    {
     "name": "stdout",
     "output_type": "stream",
     "text": [
      "8.66 ms ± 20.4 μs per loop (mean ± std. dev. of 7 runs, 100 loops each)\n"
     ]
    }
   ],
   "source": [
    "%%timeit\n",
    "pipe.fit_transform(df_pd)"
   ]
  },
  {
   "cell_type": "markdown",
   "metadata": {},
   "source": [
    "### Polars + Sklearn"
   ]
  },
  {
   "cell_type": "code",
   "execution_count": 14,
   "metadata": {},
   "outputs": [],
   "source": [
    "from sklearn import set_config\n",
    "set_config(transform_output=\"polars\")"
   ]
  },
  {
   "cell_type": "code",
   "execution_count": 15,
   "metadata": {},
   "outputs": [
    {
     "data": {
      "text/html": [
       "<div><style>\n",
       ".dataframe > thead > tr,\n",
       ".dataframe > tbody > tr {\n",
       "  text-align: right;\n",
       "  white-space: pre-wrap;\n",
       "}\n",
       "</style>\n",
       "<small>shape: (10, 5)</small><table border=\"1\" class=\"dataframe\"><thead><tr><th>x1</th><th>x2</th><th>x3</th><th>x4</th><th>x5</th></tr><tr><td>f64</td><td>f64</td><td>f64</td><td>f64</td><td>f64</td></tr></thead><tbody><tr><td>0.258282</td><td>1.036672</td><td>-0.064459</td><td>-0.003164</td><td>-0.005449</td></tr><tr><td>0.698742</td><td>1.101685</td><td>1.633356</td><td>-0.003164</td><td>-0.005449</td></tr><tr><td>-0.597123</td><td>1.576182</td><td>-0.664973</td><td>-0.003164</td><td>-0.005449</td></tr><tr><td>-0.287334</td><td>-0.333094</td><td>0.545629</td><td>-0.003164</td><td>1.49576</td></tr><tr><td>-1.400074</td><td>0.232884</td><td>0.751579</td><td>-0.003164</td><td>-0.005449</td></tr><tr><td>0.656316</td><td>-0.695313</td><td>0.880706</td><td>-0.003164</td><td>0.476784</td></tr><tr><td>1.462646</td><td>0.038612</td><td>1.656764</td><td>-0.003164</td><td>-0.005449</td></tr><tr><td>0.709161</td><td>1.3779</td><td>0.951719</td><td>-0.003164</td><td>-0.005449</td></tr><tr><td>-1.217417</td><td>-0.528484</td><td>1.364335</td><td>-0.003164</td><td>0.946099</td></tr><tr><td>-1.044971</td><td>0.862388</td><td>1.340669</td><td>-0.003164</td><td>-0.005449</td></tr></tbody></table></div>"
      ],
      "text/plain": [
       "shape: (10, 5)\n",
       "┌───────────┬───────────┬───────────┬───────────┬───────────┐\n",
       "│ x1        ┆ x2        ┆ x3        ┆ x4        ┆ x5        │\n",
       "│ ---       ┆ ---       ┆ ---       ┆ ---       ┆ ---       │\n",
       "│ f64       ┆ f64       ┆ f64       ┆ f64       ┆ f64       │\n",
       "╞═══════════╪═══════════╪═══════════╪═══════════╪═══════════╡\n",
       "│ 0.258282  ┆ 1.036672  ┆ -0.064459 ┆ -0.003164 ┆ -0.005449 │\n",
       "│ 0.698742  ┆ 1.101685  ┆ 1.633356  ┆ -0.003164 ┆ -0.005449 │\n",
       "│ -0.597123 ┆ 1.576182  ┆ -0.664973 ┆ -0.003164 ┆ -0.005449 │\n",
       "│ -0.287334 ┆ -0.333094 ┆ 0.545629  ┆ -0.003164 ┆ 1.49576   │\n",
       "│ -1.400074 ┆ 0.232884  ┆ 0.751579  ┆ -0.003164 ┆ -0.005449 │\n",
       "│ 0.656316  ┆ -0.695313 ┆ 0.880706  ┆ -0.003164 ┆ 0.476784  │\n",
       "│ 1.462646  ┆ 0.038612  ┆ 1.656764  ┆ -0.003164 ┆ -0.005449 │\n",
       "│ 0.709161  ┆ 1.3779    ┆ 0.951719  ┆ -0.003164 ┆ -0.005449 │\n",
       "│ -1.217417 ┆ -0.528484 ┆ 1.364335  ┆ -0.003164 ┆ 0.946099  │\n",
       "│ -1.044971 ┆ 0.862388  ┆ 1.340669  ┆ -0.003164 ┆ -0.005449 │\n",
       "└───────────┴───────────┴───────────┴───────────┴───────────┘"
      ]
     },
     "execution_count": 15,
     "metadata": {},
     "output_type": "execute_result"
    }
   ],
   "source": [
    "pipe.fit_transform(df_pl).select([\"x1\", \"x2\", \"x3\", \"x4\", \"x5\"]).head(10)"
   ]
  },
  {
   "cell_type": "code",
   "execution_count": 16,
   "metadata": {},
   "outputs": [
    {
     "name": "stdout",
     "output_type": "stream",
     "text": [
      "7.35 ms ± 51.6 μs per loop (mean ± std. dev. of 7 runs, 100 loops each)\n"
     ]
    }
   ],
   "source": [
    "%%timeit\n",
    "pipe.fit_transform(df_pl)"
   ]
  },
  {
   "cell_type": "code",
   "execution_count": 17,
   "metadata": {},
   "outputs": [],
   "source": [
    "# If you use sklearn, there is not a lot of time difference because they underlying engine\n",
    "# is not parallel (there are options but they don't work properly on Linux, which is basically\n",
    "# all cloud compute nowadays.)"
   ]
  },
  {
   "cell_type": "code",
   "execution_count": 18,
   "metadata": {},
   "outputs": [],
   "source": [
    "# Polars + Polars DS "
   ]
  },
  {
   "cell_type": "code",
   "execution_count": 19,
   "metadata": {},
   "outputs": [],
   "source": [
    "from polars_ds.pipeline import Pipeline, Blueprint"
   ]
  },
  {
   "cell_type": "code",
   "execution_count": 20,
   "metadata": {},
   "outputs": [
    {
     "data": {
      "text/html": [
       "<div><style>\n",
       ".dataframe > thead > tr,\n",
       ".dataframe > tbody > tr {\n",
       "  text-align: right;\n",
       "  white-space: pre-wrap;\n",
       "}\n",
       "</style>\n",
       "<small>shape: (10, 5)</small><table border=\"1\" class=\"dataframe\"><thead><tr><th>x1</th><th>x2</th><th>x3</th><th>x4</th><th>x5</th></tr><tr><td>f64</td><td>f64</td><td>f64</td><td>f64</td><td>f64</td></tr></thead><tbody><tr><td>0.258282</td><td>1.036672</td><td>-0.064459</td><td>-0.003164</td><td>-0.005449</td></tr><tr><td>0.698742</td><td>1.101685</td><td>1.633356</td><td>-0.003164</td><td>-0.005449</td></tr><tr><td>-0.597123</td><td>1.576182</td><td>-0.664973</td><td>-0.003164</td><td>-0.005449</td></tr><tr><td>-0.287334</td><td>-0.333094</td><td>0.545629</td><td>-0.003164</td><td>1.49576</td></tr><tr><td>-1.400074</td><td>0.232884</td><td>0.751579</td><td>-0.003164</td><td>-0.005449</td></tr><tr><td>0.656316</td><td>-0.695313</td><td>0.880706</td><td>-0.003164</td><td>0.476784</td></tr><tr><td>1.462646</td><td>0.038612</td><td>1.656764</td><td>-0.003164</td><td>-0.005449</td></tr><tr><td>0.709161</td><td>1.3779</td><td>0.951719</td><td>-0.003164</td><td>-0.005449</td></tr><tr><td>-1.217417</td><td>-0.528484</td><td>1.364335</td><td>-0.003164</td><td>0.946099</td></tr><tr><td>-1.044971</td><td>0.862388</td><td>1.340669</td><td>-0.003164</td><td>-0.005449</td></tr></tbody></table></div>"
      ],
      "text/plain": [
       "shape: (10, 5)\n",
       "┌───────────┬───────────┬───────────┬───────────┬───────────┐\n",
       "│ x1        ┆ x2        ┆ x3        ┆ x4        ┆ x5        │\n",
       "│ ---       ┆ ---       ┆ ---       ┆ ---       ┆ ---       │\n",
       "│ f64       ┆ f64       ┆ f64       ┆ f64       ┆ f64       │\n",
       "╞═══════════╪═══════════╪═══════════╪═══════════╪═══════════╡\n",
       "│ 0.258282  ┆ 1.036672  ┆ -0.064459 ┆ -0.003164 ┆ -0.005449 │\n",
       "│ 0.698742  ┆ 1.101685  ┆ 1.633356  ┆ -0.003164 ┆ -0.005449 │\n",
       "│ -0.597123 ┆ 1.576182  ┆ -0.664973 ┆ -0.003164 ┆ -0.005449 │\n",
       "│ -0.287334 ┆ -0.333094 ┆ 0.545629  ┆ -0.003164 ┆ 1.49576   │\n",
       "│ -1.400074 ┆ 0.232884  ┆ 0.751579  ┆ -0.003164 ┆ -0.005449 │\n",
       "│ 0.656316  ┆ -0.695313 ┆ 0.880706  ┆ -0.003164 ┆ 0.476784  │\n",
       "│ 1.462646  ┆ 0.038612  ┆ 1.656764  ┆ -0.003164 ┆ -0.005449 │\n",
       "│ 0.709161  ┆ 1.3779    ┆ 0.951719  ┆ -0.003164 ┆ -0.005449 │\n",
       "│ -1.217417 ┆ -0.528484 ┆ 1.364335  ┆ -0.003164 ┆ 0.946099  │\n",
       "│ -1.044971 ┆ 0.862388  ┆ 1.340669  ┆ -0.003164 ┆ -0.005449 │\n",
       "└───────────┴───────────┴───────────┴───────────┴───────────┘"
      ]
     },
     "execution_count": 20,
     "metadata": {},
     "output_type": "execute_result"
    }
   ],
   "source": [
    "bp = (\n",
    "    Blueprint(df_pl, name = \"example_pipeline\") \n",
    "    .impute([\"x4\", \"x5\"], method = \"median\")\n",
    "    .scale(pl.all(), method = \"standard\")\n",
    ")\n",
    "\n",
    "pipe = bp.materialize() # bp.fit() also works\n",
    "pipe.transform(df_pl).head(10)"
   ]
  },
  {
   "cell_type": "code",
   "execution_count": 21,
   "metadata": {},
   "outputs": [
    {
     "name": "stdout",
     "output_type": "stream",
     "text": [
      "750 μs ± 1.31 μs per loop (mean ± std. dev. of 7 runs, 1,000 loops each)\n"
     ]
    }
   ],
   "source": [
    "%%timeit\n",
    "pipe = bp.materialize() # bp.fit() also works\n",
    "pipe.transform(df_pl)"
   ]
  },
  {
   "cell_type": "code",
   "execution_count": 22,
   "metadata": {},
   "outputs": [],
   "source": [
    "# This reason for this incredible speedup is\n",
    "# 1. PDS run natively in Polars, which means free parallelization\n",
    "# 2. Impute, despite being a very common data transformation, is very slow in Sklearn\n",
    "# but is extremely fast in Polars. (This is because SimpleImputer uses NumPy Array to run imputation,\n",
    "# while Polars uses ChunkedArray which has tiny overhead when it comes to finding and filling nulls.)"
   ]
  },
  {
   "cell_type": "code",
   "execution_count": null,
   "metadata": {},
   "outputs": [],
   "source": []
  }
 ],
 "metadata": {
  "kernelspec": {
   "display_name": ".venv",
   "language": "python",
   "name": "python3"
  },
  "language_info": {
   "codemirror_mode": {
    "name": "ipython",
    "version": 3
   },
   "file_extension": ".py",
   "mimetype": "text/x-python",
   "name": "python",
   "nbconvert_exporter": "python",
   "pygments_lexer": "ipython3",
   "version": "3.12.7"
  }
 },
 "nbformat": 4,
 "nbformat_minor": 2
}
