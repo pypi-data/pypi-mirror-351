{
 "cells": [
  {
   "cell_type": "markdown",
   "metadata": {},
   "source": [
    "# Constrain millisecond pulsar hypothesis for the GeV excess\n"
   ]
  },
  {
   "cell_type": "markdown",
   "metadata": {},
   "source": [
    "This tutorial aims to show how the millisecond pulsar (MSP) hypothesis for the GeV excess can be constrained using results from searches for continuous gravitational waves from the Galactic Center (GC).\n",
    "\n",
    "The GeV excess is a large concentration of gamma rays observed to be emanating from the GC by Fermi-LAT. Its origins are unclear but are thought to be caused by one of two physical phenomenon: (1) WIMP dark matter annihilating in the GC or (2) a large population of MSPs in the GC that cannot be resolved with light.\n",
    "\n",
    "We focus on constraining the second hypothesis using upper limits on neutron-star deformation size (ellipticity) from searches for continuous waves.\n",
    "\n",
    "To do this, we first need to compute the probability that we would have detected a signal, which is given by:\n",
    "\n",
    "\\begin{equation}\n",
    "P_{\\rm GW}=\\int_{f_{\\rm min}}^{f_{\\rm max}} P(f) df \\int_{\\epsilon_{\\rm UL}}^{\\epsilon_{\\rm max}} P(\\epsilon) d\\epsilon\n",
    "\\end{equation}\n",
    "where $P(f)$ and $P(\\epsilon)$ are probability density functions that describe the probility density distribution (PDFs) of frequencies and ellipticity of the unknown neutron stars in the GC. $P(f)$ is integrated over the frequency range searched $[f_{\\rm min},f_{\\rm max}]$, ensuring that $f_{\\rm min}>120$ Hz (assuming that MSPs rotate with a frequency of at least 60 Hz). $P(\\epsilon)$ is integrated from the minimum detectable ellipticity that comes from the gravitational-wave searches up to the maximum ellipicity $\\epsilon_{\\rm max}$ to which the search is sensitive. $\\epsilon_{\\rm max}$ is primarily a function of the maximum spin-up $\\dot{f}$ that a search decides to look for at each frequency and the z-component of the moment of inertia $I_{\\rm zz}$.\n",
    "\n",
    "After computing $P_{\\rm GW}$, we must determine the number of MSPs that could exist in the GC $N_{\\rm MSP}$. $N_{\\rm MSP}$ is a function of how the GeV excess is modelled: one could consider that less sources are each individually brighter to explain the GeV excess, or more sources are fainter. The model for the GeV excess is called a luminosity function. For example, if one assumes a log-normal luminosity function, $N_{\\rm MSP}=N_{\\rm MSP}(L_0,\\sigma_L)$ is a function of two free parameters $L_0$ and $\\sigma_L$. In all cases, if:\n",
    "\n",
    "\\begin{equation}\n",
    "    N_{\\rm MSP}(L_0,\\sigma_L,...) P_{\\rm GW} > 1\n",
    "\\end{equation}\n",
    "then the free parameters that give rise to $N_{\\rm MSP}$ can be excluded as being responsible for the observed GeV excess.\n",
    "\n",
    "Thus, our constraints look like exclusion regions in the parameter 2 vs. parameter 1 space."
   ]
  },
  {
   "cell_type": "markdown",
   "metadata": {},
   "source": [
    "### Import necessary packages"
   ]
  },
  {
   "cell_type": "code",
   "execution_count": 1,
   "metadata": {},
   "outputs": [],
   "source": [
    "import numpy as np\n",
    "import matplotlib.pyplot as plt\n",
    "from astropy import constants as const\n",
    "import pandas as pd\n",
    "from scipy.stats import gaussian_kde\n",
    "import matplotlib as mpl\n",
    "import os\n",
    "import sys\n",
    "from cw_constrain.GeV_constrain.gev_constrain import *"
   ]
  },
  {
   "cell_type": "code",
   "execution_count": null,
   "metadata": {},
   "outputs": [],
   "source": []
  },
  {
   "cell_type": "code",
   "execution_count": null,
   "metadata": {},
   "outputs": [],
   "source": []
  },
  {
   "cell_type": "code",
   "execution_count": 4,
   "metadata": {},
   "outputs": [
    {
     "ename": "TypeError",
     "evalue": "unsupported operand type(s) for /: 'str' and 'str'",
     "output_type": "error",
     "traceback": [
      "\u001b[0;31m---------------------------------------------------------------------------\u001b[0m",
      "\u001b[0;31mTypeError\u001b[0m                                 Traceback (most recent call last)",
      "\u001b[0;32m/var/folders/6s/_5vmyy4j3_n0rj1ml0227bq80000gn/T/ipykernel_53694/1606214737.py\u001b[0m in \u001b[0;36m<module>\u001b[0;34m\u001b[0m\n\u001b[1;32m      1\u001b[0m \u001b[0;32mfrom\u001b[0m \u001b[0mcw_constrain\u001b[0m\u001b[0;34m.\u001b[0m\u001b[0mshared\u001b[0m\u001b[0;34m.\u001b[0m\u001b[0mshared_utils\u001b[0m \u001b[0;32mimport\u001b[0m \u001b[0;34m*\u001b[0m\u001b[0;34m\u001b[0m\u001b[0;34m\u001b[0m\u001b[0m\n\u001b[0;32m----> 2\u001b[0;31m \u001b[0mload_cw_search_upper_limits\u001b[0m\u001b[0;34m(\u001b[0m\u001b[0;34m\"O4a\"\u001b[0m\u001b[0;34m,\u001b[0m\u001b[0;34m\"powerflux\"\u001b[0m\u001b[0;34m)\u001b[0m\u001b[0;34m\u001b[0m\u001b[0;34m\u001b[0m\u001b[0m\n\u001b[0m",
      "\u001b[0;32m~/opt/anaconda3/lib/python3.9/site-packages/cw_constrain/shared/shared_utils.py\u001b[0m in \u001b[0;36mload_cw_search_upper_limits\u001b[0;34m(run, search)\u001b[0m\n\u001b[1;32m     59\u001b[0m             \u001b[0mh0s_UL\u001b[0m \u001b[0;34m=\u001b[0m \u001b[0mh0s_UL_circ\u001b[0m \u001b[0;34m*\u001b[0m \u001b[0;36m2.30\u001b[0m\u001b[0;34m\u001b[0m\u001b[0;34m\u001b[0m\u001b[0m\n\u001b[1;32m     60\u001b[0m         \u001b[0;32melif\u001b[0m \u001b[0mrun\u001b[0m \u001b[0;34m==\u001b[0m \u001b[0;34m'O4a'\u001b[0m\u001b[0;34m:\u001b[0m\u001b[0;34m\u001b[0m\u001b[0;34m\u001b[0m\u001b[0m\n\u001b[0;32m---> 61\u001b[0;31m             \u001b[0;32mwith\u001b[0m \u001b[0mopen\u001b[0m\u001b[0;34m(\u001b[0m\u001b[0mdata_path\u001b[0m \u001b[0;34m/\u001b[0m \u001b[0;34m'uls_powerflux_popave_O4a.txt'\u001b[0m\u001b[0;34m,\u001b[0m \u001b[0;34m'r'\u001b[0m\u001b[0;34m)\u001b[0m \u001b[0;32mas\u001b[0m \u001b[0mfid\u001b[0m\u001b[0;34m:\u001b[0m\u001b[0;34m\u001b[0m\u001b[0;34m\u001b[0m\u001b[0m\n\u001b[0m\u001b[1;32m     62\u001b[0m                 \u001b[0mA\u001b[0m \u001b[0;34m=\u001b[0m \u001b[0;34m[\u001b[0m\u001b[0mline\u001b[0m\u001b[0;34m.\u001b[0m\u001b[0msplit\u001b[0m\u001b[0;34m(\u001b[0m\u001b[0;34m)\u001b[0m \u001b[0;32mfor\u001b[0m \u001b[0mline\u001b[0m \u001b[0;32min\u001b[0m \u001b[0mfid\u001b[0m\u001b[0;34m]\u001b[0m\u001b[0;34m\u001b[0m\u001b[0;34m\u001b[0m\u001b[0m\n\u001b[1;32m     63\u001b[0m                 \u001b[0mfs_UL\u001b[0m \u001b[0;34m=\u001b[0m \u001b[0;34m[\u001b[0m\u001b[0mfloat\u001b[0m\u001b[0;34m(\u001b[0m\u001b[0mrow\u001b[0m\u001b[0;34m[\u001b[0m\u001b[0;36m0\u001b[0m\u001b[0;34m]\u001b[0m\u001b[0;34m)\u001b[0m \u001b[0;32mfor\u001b[0m \u001b[0mrow\u001b[0m \u001b[0;32min\u001b[0m \u001b[0mA\u001b[0m\u001b[0;34m]\u001b[0m\u001b[0;34m\u001b[0m\u001b[0;34m\u001b[0m\u001b[0m\n",
      "\u001b[0;31mTypeError\u001b[0m: unsupported operand type(s) for /: 'str' and 'str'"
     ]
    }
   ],
   "source": [
    "from cw_constrain.shared.shared_utils import *\n",
    "load_cw_search_upper_limits(\"O4a\",\"powerflux\")"
   ]
  },
  {
   "cell_type": "markdown",
   "metadata": {},
   "source": [
    "# Define common parameters"
   ]
  },
  {
   "cell_type": "code",
   "execution_count": null,
   "metadata": {},
   "outputs": [],
   "source": [
    "## sdlimfact=1/0.1 = 10, so 1/10^2 energy is going into GWs\n",
    "\n",
    "dist_kpc=8.0\n",
    "Izz=1.0e38\n",
    "plot_flag=0\n",
    "N=1 ## minimum number of MSPs to be sensitive to\n",
    "savedir = '/Users/andrewmiller/Desktop/O4/O4a_CW_allsky_isolated/figures/'"
   ]
  },
  {
   "cell_type": "markdown",
   "metadata": {},
   "source": [
    "# Choose which run and method, which selects upper limits"
   ]
  },
  {
   "cell_type": "code",
   "execution_count": null,
   "metadata": {},
   "outputs": [],
   "source": [
    "which_run='O4a'\n",
    "which_search = 'powerflux'"
   ]
  },
  {
   "cell_type": "markdown",
   "metadata": {},
   "source": [
    "# Choose which luminosity function"
   ]
  },
  {
   "cell_type": "code",
   "execution_count": null,
   "metadata": {},
   "outputs": [],
   "source": [
    "lum_func ='log-norm'"
   ]
  },
  {
   "cell_type": "markdown",
   "metadata": {},
   "source": [
    "# Choose which ellipticity distribution"
   ]
  },
  {
   "cell_type": "code",
   "execution_count": null,
   "metadata": {},
   "outputs": [],
   "source": [
    "which_dist='atnf' # ellipticity spindown limits\n",
    "which_freq_dist = 'atnf'\n",
    "msp_min_frot = 60.\n",
    "sdlimfact=1/(0.05)**(1/2)# the number divided corresponds to the frac of energy going into GWs"
   ]
  },
  {
   "cell_type": "markdown",
   "metadata": {},
   "source": [
    "# Create exclusion plots for ATNF catalog ellipticity distribution"
   ]
  },
  {
   "cell_type": "code",
   "execution_count": null,
   "metadata": {
    "scrolled": true
   },
   "outputs": [],
   "source": [
    "L0,sigmaL,Nmsp,Ngw,Pgw = GeV_excess_get_constraints(which_dist,which_run,which_search,dist_kpc,Izz,plot_flag,sdlimfact,lum_func,msp_min_frot,which_freq_dist)\n",
    "\n",
    "GeV_plot_exclusions_log_norm(L0,sigmaL,Nmsp,Ngw,N)\n",
    "plt.tight_layout()\n",
    "# plt.savefig(savedir+'O4a_exclusion_plot_'+which_dist+'_'+lum_func+'_'+str(sdlimfact)+'_.png',format='png',dpi=400,facecolor='w')\n"
   ]
  },
  {
   "cell_type": "code",
   "execution_count": null,
   "metadata": {},
   "outputs": [],
   "source": [
    "# # plt.plot(L0,sigmaL,'b.')\n",
    "# plt.scatter(L0[Ngw<N],sigmaL[Ngw<N],c=Nmsp[Ngw<N],\\\n",
    "#                 cmap='magma',marker='s',s=10)#,norm=mpl.colors.LogNorm())\n",
    "# cbar=plt.colorbar(label=r'$N_{\\rm MSP}$')\n",
    "# cbar.set_label(label=r'$N_{\\rm MSP}$',size=14,rotation=270,labelpad=20)\n",
    "\n",
    "# plt.plot(L0[Ngw>N],sigmaL[Ngw>N],'k.',alpha=0.1)\n",
    "# plt.plot(L0[Ngw>2*N],sigmaL[Ngw>2*N],'r.',alpha=0.1)\n",
    "# plt.plot(L0[Ngw>3*N],sigmaL[Ngw>3*N],'b.',alpha=0.3)"
   ]
  },
  {
   "cell_type": "markdown",
   "metadata": {},
   "source": [
    "# Create exclusion plots for Log10 ellipticity randomly generated exponential distribution"
   ]
  },
  {
   "cell_type": "markdown",
   "metadata": {},
   "source": [
    "We consider 100 randomly generated log10 expoential distributions and take the average of the number of detectable GW signals, with a decay paramter $\\Lambda=2.1$"
   ]
  },
  {
   "cell_type": "code",
   "execution_count": null,
   "metadata": {
    "scrolled": true
   },
   "outputs": [],
   "source": [
    "which_dist_exp='log10exp' # ellipticity spindown limits\n",
    "Lambda = 1.4#2.1 for O4a search\n",
    "\n",
    "Nsim = 100\n",
    "Nmsp_exp_all = 0\n",
    "Ngw_exp_all = 0\n",
    "for n in range(Nsim):\n",
    "    L0_exp,sigmaL_exp,Nmsp_exp,Ngw_exp,Pgw = GeV_excess_get_constraints(which_dist_exp,which_run,which_search,dist_kpc,Izz,plot_flag,Lambda,lum_func)\n",
    "    Nmsp_exp_all += Nmsp_exp\n",
    "    Ngw_exp_all += Ngw_exp\n",
    "\n",
    "# Have summed above, now divide by Nsim to get the mean\n",
    "Nmsp_exp_all = Nmsp_exp_all / Nsim\n",
    "Ngw_exp_all = Ngw_exp_all / Nsim\n"
   ]
  },
  {
   "cell_type": "code",
   "execution_count": null,
   "metadata": {},
   "outputs": [],
   "source": [
    "GeV_plot_exclusions_log_norm(L0_exp,sigmaL_exp,Nmsp_exp_all,Ngw_exp_all,N)\n",
    "plt.tight_layout()\n",
    "# plt.savefig(savedir+'O4a_exclusion_plot_'+which_dist+'_'+lum_func_agamma+'_'+str(Lambda)+'_.png',format='png',dpi=400,facecolor='w')"
   ]
  },
  {
   "cell_type": "markdown",
   "metadata": {},
   "source": [
    "### Create a plot of one of the log10 ellipticity distributions used to get a feel for what it looks like"
   ]
  },
  {
   "cell_type": "code",
   "execution_count": null,
   "metadata": {},
   "outputs": [],
   "source": [
    "Lambda = 1.4#2.1 for O4a search\n"
   ]
  },
  {
   "cell_type": "code",
   "execution_count": null,
   "metadata": {},
   "outputs": [],
   "source": [
    "log_ellip_dist = gen_log10_exp_dist(1e-9, 1e-5, Lambda)\n",
    "plt.hist(log_ellip_dist, bins=100,color='b',density=True)\n",
    "plt.xlabel(r'$\\log\\epsilon$',size=14)\n",
    "plt.ylabel(r'$P(\\log \\epsilon)$',size=14)\n",
    "# plt.savefig(savedir+'ellip_pdf.pdf',format='pdf', bbox_inches='tight')\n",
    "plt.show() "
   ]
  },
  {
   "cell_type": "markdown",
   "metadata": {},
   "source": [
    "# Exclusion plots for other luminosity functions"
   ]
  },
  {
   "cell_type": "markdown",
   "metadata": {},
   "source": [
    "### O4a Powerflux, a-gamma lum func, atnf ellip dist"
   ]
  },
  {
   "cell_type": "code",
   "execution_count": null,
   "metadata": {},
   "outputs": [],
   "source": [
    "### a-gamma lum func\n",
    "lum_func_agamma = 'a-gamma'\n",
    "\n",
    "agamma,etamed,Nmsp_agamma,Ngw_agamma,Pgw = GeV_excess_get_constraints(which_dist,which_run,which_search,dist_kpc,Izz,plot_flag,sdlimfact,lum_func_agamma)\n",
    "\n",
    "GeV_plot_exclusions_gammas(agamma,etamed,Nmsp_agamma,Ngw_agamma,N)\n",
    "plt.ylabel(r'log$_{10}\\eta_{\\rm med}$',size=14)\n",
    "plt.xlabel(r'$a_\\gamma$',size=14);\n",
    "plt.tight_layout()\n",
    "# plt.savefig(savedir+'O4a_exclusion_plot_'+which_dist+'_'+lum_func_agamma+'_'+str(sdlimfact)+'_.png',format='png',dpi=400,facecolor='w')"
   ]
  },
  {
   "cell_type": "markdown",
   "metadata": {},
   "source": [
    "### O4a Powerflux, b-gamma lum func, atnf ellip dist"
   ]
  },
  {
   "cell_type": "code",
   "execution_count": null,
   "metadata": {},
   "outputs": [],
   "source": [
    "### b-gamma lum func\n",
    "lum_func_bgamma = 'b-gamma'\n",
    "\n",
    "bgamma,etamed_b,Nmsp_bgamma,Ngw_bgamma,Pgw = GeV_excess_get_constraints(which_dist,which_run,which_search,dist_kpc,Izz,plot_flag,sdlimfact,lum_func_bgamma)\n",
    "\n",
    "\n",
    "GeV_plot_exclusions_gammas(bgamma,etamed_b,Nmsp_bgamma,Ngw_bgamma,N)\n",
    "plt.ylabel(r'log$_{10}\\eta_{\\rm med}$',size=14)\n",
    "plt.xlabel(r'$b_\\gamma$',size=14)\n",
    "plt.tight_layout()\n",
    "# plt.savefig(savedir+'O4a_exclusion_plot_'+which_dist+'_'+lum_func_bgamma+'_'+str(sdlimfact)+'_.png',format='png',dpi=400,facecolor='w')"
   ]
  },
  {
   "cell_type": "markdown",
   "metadata": {},
   "source": [
    "### O4a Powerflux, d-gamma lum func, atnf ellip dist"
   ]
  },
  {
   "cell_type": "code",
   "execution_count": null,
   "metadata": {},
   "outputs": [],
   "source": [
    "### d-gamma lum func\n",
    "lum_func_dgamma = 'd-gamma'\n",
    "\n",
    "dgamma,etamed_d,Nmsp_dgamma,Ngw_dgamma,Pgw = GeV_excess_get_constraints(which_dist,which_run,which_search,dist_kpc,Izz,plot_flag,sdlimfact,lum_func_dgamma)\n",
    "\n",
    "\n",
    "GeV_plot_exclusions_gammas(dgamma,etamed_d,Nmsp_dgamma,Ngw_dgamma,N)\n",
    "plt.ylabel(r'log$_{10}\\eta_{\\rm med}$',size=14)\n",
    "plt.xlabel(r'$d_\\gamma$',size=14)\n",
    "plt.tight_layout()\n",
    "# plt.savefig(savedir+'O4a_exclusion_plot_'+which_dist+'_'+lum_func_dgamma+'_'+str(sdlimfact)+'_.png',format='png',dpi=400,facecolor='w')"
   ]
  },
  {
   "cell_type": "markdown",
   "metadata": {},
   "source": [
    "# Exclude your own luminosity function"
   ]
  },
  {
   "cell_type": "markdown",
   "metadata": {},
   "source": [
    "We have added the functionality for users to input their own luminosity functions to obtain constraints on their parameters.\n",
    "\n",
    "    User-supplied files must be placed in: `data/lum_funcs/`.\n",
    "\n",
    "    File format:\n",
    "        - Space- or tab-delimited.\n",
    "        - No header.\n",
    "        - 3 columns:\n",
    "            Column 0: L0 (base luminosity)\n",
    "            Column 1: sigmaL (log-width or dispersion)\n",
    "            Column 2: log10(Nmsp) — number of MSPs in log scale\n",
    "\n",
    "    Example file contents:\n",
    "        0.01  0.80  2.3010\n",
    "        0.10  0.55  2.0000\n",
    "        ...\n",
    "        \n",
    "\n",
    "The user needs only to load their luminosity function, which should predict a number of millisecond pulsars $N_{\\rm MSP}$ as a function of two model parameters, and multiply that $P_{\\rm GW}$ to obtain the number of detectable GW signals in a given observing run for a particular set of upper limits, assuming ellipticity and frequency distributions.\n",
    "\n",
    "If:\n",
    "\n",
    "\\begin{equation}\n",
    "N_{\\rm GW}=N_{\\rm MSP}(L_0,\\sigma_L)P_{\\rm GW} > 1\n",
    "\\end{equation}\n",
    "\n",
    "then $L_0$ and $\\sigma_L$ can be excluded as explaining the GeV excess\n",
    "        \n",
    " "
   ]
  },
  {
   "cell_type": "code",
   "execution_count": null,
   "metadata": {},
   "outputs": [],
   "source": [
    "def constrain_your_lum_func(lum_func_fname,Pgw):\n",
    "    \"\"\"\n",
    "    User-implemented function to constrain your chosen luminosity functino.\n",
    "\n",
    "    Parameters\n",
    "    ----------\n",
    "    lum_func_filename : str\n",
    "        One of the predefined models: 'log-norm', 'a-gamma', 'b-gamma', 'd-gamma',\n",
    "        or a custom filename placed in `data/lum_funcs/`.\n",
    "    Pgw: number\n",
    "        The probabilily of detecting GWs from non-axisymmetric rotating neutron stars, assuming particular\n",
    "        frequency and ellipticity distributions, and using upper limits from a particular search on real data.\n",
    "    Returns\n",
    "    -------\n",
    "    Ngw : float\n",
    "        The effective PBH fraction corresponding to the given merger rate density and mass fractions.\n",
    "\n",
    "    Notes\n",
    "    -----\n",
    "    \n",
    "    Some code that could work for you:\n",
    "    -----\n",
    "    var1,var2,Nmsp = load_luminosity_function(lum_func_filename)\n",
    "    Ngw = Nmsp * Pgw\n",
    "    return var1, var2, Ngw\n",
    "    \n",
    "    \"\"\"\n",
    "    raise NotImplementedError(\"You must implement this function based on your luminosity function model.\")\n",
    "\n",
    "    \n"
   ]
  },
  {
   "cell_type": "markdown",
   "metadata": {},
   "source": [
    "# Use your own ellipticity or frequency probability density function"
   ]
  },
  {
   "cell_type": "markdown",
   "metadata": {},
   "source": [
    "    Notes\n",
    "    -----\n",
    "    User-supplied ellipticity files must be placed in: `data/ellipticity_distributions/`.\n",
    "    \n",
    "    User-supplied frequency files must be placed in: `data/frequency_distributions/`.\n",
    "\n",
    "    File format:\n",
    "        - Space- or tab-delimited.\n",
    "        - No header.\n",
    "        - 1 column:\n",
    "            Column 0: ellipticity\n",
    "\n",
    "    Example file contents:\n",
    "        1.0e-7 \n",
    "        1.1e-7 \n",
    "        ...\n",
    "    Or\n",
    "        25\n",
    "        25.1\n",
    "        ...\n",
    "        \n",
    "    Example filename: atnf_ellip_1perc_1e38_.txt  ; atnf_freq_ex.txt"
   ]
  },
  {
   "cell_type": "code",
   "execution_count": null,
   "metadata": {},
   "outputs": [],
   "source": [
    "def constrain_with_your_ellip_freq_distribution_funcs(ellip_dist,freq_dist):\n",
    "    \"\"\"\n",
    "    User-implemented function to use a custom-designed ellipticity and/or frequency PDF.\n",
    "\n",
    "    \n",
    "    Some code that could work for you:\n",
    "    -----\n",
    "    L0,sigmaL,Nmsp,Ngw,Pgw = GeV_excess_get_constraints(ellip_dist='atnf_ellip_1perc_1e38_.txt',freq_dist='atnf_freq_ex.txt',lum_func='log_norm')\n",
    "    \n",
    "    \"\"\"\n",
    "    raise NotImplementedError(\"You must implement this function based on your ellipticity and/or frequency PDFs.\")\n",
    "\n",
    "    \n"
   ]
  },
  {
   "cell_type": "code",
   "execution_count": null,
   "metadata": {},
   "outputs": [],
   "source": []
  },
  {
   "cell_type": "code",
   "execution_count": null,
   "metadata": {},
   "outputs": [],
   "source": [
    "%reset"
   ]
  },
  {
   "cell_type": "code",
   "execution_count": null,
   "metadata": {},
   "outputs": [],
   "source": []
  }
 ],
 "metadata": {
  "kernelspec": {
   "display_name": "Python 3 (ipykernel)",
   "language": "python",
   "name": "python3"
  },
  "language_info": {
   "codemirror_mode": {
    "name": "ipython",
    "version": 3
   },
   "file_extension": ".py",
   "mimetype": "text/x-python",
   "name": "python",
   "nbconvert_exporter": "python",
   "pygments_lexer": "ipython3",
   "version": "3.9.13"
  }
 },
 "nbformat": 4,
 "nbformat_minor": 4
}
