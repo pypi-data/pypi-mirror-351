{
 "cells": [
  {
   "cell_type": "markdown",
   "metadata": {},
   "source": [
    "# Constrain dark matter fraction that asteroid-mass PBHs could compose"
   ]
  },
  {
   "cell_type": "markdown",
   "metadata": {},
   "source": [
    "This tutorial walks the user through computing constraints on the fraction of dark matter that asteroid-mass PBHs could compose using O4a all-sky search for CWs upper limits.\n",
    "\n",
    "The user may input their own mass function or suppression factor and use the model-independent rate densities to calculate constraints on their own PBH models."
   ]
  },
  {
   "cell_type": "markdown",
   "metadata": {},
   "source": [
    "## Import necessary packages"
   ]
  },
  {
   "cell_type": "code",
   "execution_count": 11,
   "metadata": {},
   "outputs": [],
   "source": [
    "import numpy as np\n",
    "import matplotlib as mpl\n",
    "import matplotlib.pyplot as plt\n",
    "import cmasher as cmr\n",
    "choice_cmap='magma'\n",
    "import matplotlib.ticker as mticker\n",
    "import os\n",
    "import sys\n",
    "sys.path.append('/Users/andrewmiller/Desktop/O4/cw_constrain/')\n",
    "from cw_constrain.PBH_constrain.pbh_constrain import pbh_get_constraints\n",
    "savedir = '/Users/andrewmiller/Desktop/O4/O4a_CW_allsky_isolated/figures/'"
   ]
  },
  {
   "cell_type": "markdown",
   "metadata": {},
   "source": [
    "## Choose $m_1$ values to consider, the search limits you wish to use, and the observing run"
   ]
  },
  {
   "cell_type": "code",
   "execution_count": 14,
   "metadata": {},
   "outputs": [],
   "source": [
    "m1s = [1e-3,1e-2,1e-1,2.5]\n",
    "labels = [r'$10^{-3}$',r'$10^{-2}$',r'$10^{-1}$','2.5']\n",
    "run='O3' ##replace with O4a when results become public\n",
    "search = 'FH'"
   ]
  },
  {
   "cell_type": "markdown",
   "metadata": {},
   "source": [
    "## How to compute the upper limit on $\\tilde{f}$"
   ]
  },
  {
   "cell_type": "markdown",
   "metadata": {},
   "source": [
    "We have considered the prescriptions in Raidal et al. (2018) arXiv:1812.01930 and Hutsi et al. (2021) arXiv:2012.02786 , re-presented in Miller et al. (2022) arXiv:2110.06188, in which\n",
    "\n",
    "\\begin{equation}\n",
    "\\mathcal{R} = 5.28 \\times 10^{-7}\\, \\mathrm{kpc}^{-3} \\mathrm{yr}^{-1} \\left(\\frac{m_1}{M_\\odot}\\right)^{-32/37} \\left(\\frac{m_2}{m_1}\\right)^{-34/37} \\tilde{f}^{53/37}\n",
    "\\end{equation}\n",
    "\n",
    "where \n",
    "\n",
    "\\begin{equation}\n",
    "\\tilde f^{53/37} \\equiv f_{\\rm sup} f(m_1) f(m_2) f_{\\rm PBH}^{53/37}\n",
    "\\end{equation}\n",
    "\n",
    "Here, $f_{\\rm sup}$ is the suppression factor that tells us to what extent binaries in the early universe were broken apart by nearby objects, $f(m)$ are the mass functions for $m_1$ and $m_2$, and $f_{\\rm PBH}$ is the infamous fraction of dark matter that PBHs could compose. \n",
    "\n",
    "The mass functions are normalized such that $\\int f(m) {\\rm d} \\ln m = 1$. $f_{\\rm sup}=1$ for zero rate suppression (and gives the strongest constraint on $f_{\\rm PBH}$.)\n",
    "\n",
    "The model-independent output of continuous-wave searches is $\\mathcal{R}_{95\\%}$. We equate $\\mathcal{R}_{95\\%}=\\mathcal{R}$ and solve for $\\tilde{f}$ as a function of $m_1$,$m_2$.\n"
   ]
  },
  {
   "cell_type": "markdown",
   "metadata": {},
   "source": [
    "## Compute constraint on $\\tilde{f}$ and plot for equal- and asymmetric mass-ratio cases"
   ]
  },
  {
   "cell_type": "code",
   "execution_count": 15,
   "metadata": {},
   "outputs": [
    {
     "ename": "UnboundLocalError",
     "evalue": "local variable 'fmin' referenced before assignment",
     "output_type": "error",
     "traceback": [
      "\u001b[0;31m---------------------------------------------------------------------------\u001b[0m",
      "\u001b[0;31mUnboundLocalError\u001b[0m                         Traceback (most recent call last)",
      "\u001b[0;32m/var/folders/6s/_5vmyy4j3_n0rj1ml0227bq80000gn/T/ipykernel_37888/3499726866.py\u001b[0m in \u001b[0;36m<module>\u001b[0;34m\u001b[0m\n\u001b[1;32m      8\u001b[0m \u001b[0;34m\u001b[0m\u001b[0m\n\u001b[1;32m      9\u001b[0m \u001b[0;32mfor\u001b[0m \u001b[0mi\u001b[0m \u001b[0;32min\u001b[0m \u001b[0mrange\u001b[0m\u001b[0;34m(\u001b[0m\u001b[0mlen\u001b[0m\u001b[0;34m(\u001b[0m\u001b[0mm1s\u001b[0m\u001b[0;34m)\u001b[0m\u001b[0;34m)\u001b[0m\u001b[0;34m:\u001b[0m\u001b[0;34m\u001b[0m\u001b[0;34m\u001b[0m\u001b[0m\n\u001b[0;32m---> 10\u001b[0;31m     \u001b[0mrate_density\u001b[0m\u001b[0;34m,\u001b[0m\u001b[0mMcs\u001b[0m\u001b[0;34m,\u001b[0m\u001b[0mftilde_equal\u001b[0m\u001b[0;34m,\u001b[0m\u001b[0mftilde_asymm\u001b[0m\u001b[0;34m,\u001b[0m\u001b[0mm2\u001b[0m\u001b[0;34m=\u001b[0m\u001b[0mpbh_get_constraints\u001b[0m\u001b[0;34m(\u001b[0m\u001b[0mm1s\u001b[0m\u001b[0;34m[\u001b[0m\u001b[0mi\u001b[0m\u001b[0;34m]\u001b[0m\u001b[0;34m,\u001b[0m\u001b[0mrun\u001b[0m\u001b[0;34m,\u001b[0m\u001b[0msearch\u001b[0m\u001b[0;34m)\u001b[0m\u001b[0;34m\u001b[0m\u001b[0;34m\u001b[0m\u001b[0m\n\u001b[0m\u001b[1;32m     11\u001b[0m \u001b[0;34m\u001b[0m\u001b[0m\n\u001b[1;32m     12\u001b[0m     \u001b[0max\u001b[0m\u001b[0;34m.\u001b[0m\u001b[0mloglog\u001b[0m\u001b[0;34m(\u001b[0m\u001b[0mm2\u001b[0m\u001b[0;34m.\u001b[0m\u001b[0mT\u001b[0m\u001b[0;34m,\u001b[0m\u001b[0mftilde_asymm\u001b[0m\u001b[0;34m.\u001b[0m\u001b[0mT\u001b[0m\u001b[0;34m,\u001b[0m\u001b[0mcolor\u001b[0m\u001b[0;34m=\u001b[0m\u001b[0mcolors\u001b[0m\u001b[0;34m[\u001b[0m\u001b[0mi\u001b[0m\u001b[0;34m]\u001b[0m\u001b[0;34m,\u001b[0m\u001b[0mlabel\u001b[0m\u001b[0;34m=\u001b[0m\u001b[0mlabels\u001b[0m\u001b[0;34m[\u001b[0m\u001b[0mi\u001b[0m\u001b[0;34m]\u001b[0m\u001b[0;34m,\u001b[0m\u001b[0mlinestyle\u001b[0m\u001b[0;34m=\u001b[0m\u001b[0mlinesty\u001b[0m\u001b[0;34m[\u001b[0m\u001b[0mi\u001b[0m\u001b[0;34m]\u001b[0m\u001b[0;34m)\u001b[0m\u001b[0;34m\u001b[0m\u001b[0;34m\u001b[0m\u001b[0m\n",
      "\u001b[0;32m~/Desktop/O4/cw_constrain/cw_constrain/PBH_constrain/pbh_constrain.py\u001b[0m in \u001b[0;36mpbh_get_constraints\u001b[0;34m(m1, run, search, lin_flag, Mcs)\u001b[0m\n\u001b[1;32m     28\u001b[0m     \u001b[0mh0s_UL\u001b[0m \u001b[0;34m=\u001b[0m \u001b[0mh0s_UL\u001b[0m\u001b[0;34m[\u001b[0m\u001b[0mvalid\u001b[0m\u001b[0;34m]\u001b[0m\u001b[0;34m\u001b[0m\u001b[0;34m\u001b[0m\u001b[0m\n\u001b[1;32m     29\u001b[0m \u001b[0;34m\u001b[0m\u001b[0m\n\u001b[0;32m---> 30\u001b[0;31m     \u001b[0mfmin\u001b[0m\u001b[0;34m,\u001b[0m \u001b[0mfmax\u001b[0m\u001b[0;34m,\u001b[0m \u001b[0mfdotmin\u001b[0m\u001b[0;34m,\u001b[0m \u001b[0mfdotmax\u001b[0m \u001b[0;34m=\u001b[0m \u001b[0mget_cw_search_parms\u001b[0m\u001b[0;34m(\u001b[0m\u001b[0mrun\u001b[0m\u001b[0;34m,\u001b[0m \u001b[0msearch\u001b[0m\u001b[0;34m)\u001b[0m\u001b[0;34m\u001b[0m\u001b[0;34m\u001b[0m\u001b[0m\n\u001b[0m\u001b[1;32m     31\u001b[0m     \u001b[0mdelta_f\u001b[0m \u001b[0;34m=\u001b[0m \u001b[0mfdotmax\u001b[0m \u001b[0;34m*\u001b[0m \u001b[0mTobs\u001b[0m\u001b[0;34m\u001b[0m\u001b[0;34m\u001b[0m\u001b[0m\n\u001b[1;32m     32\u001b[0m \u001b[0;34m\u001b[0m\u001b[0m\n",
      "\u001b[0;32m~/Desktop/O4/cw_constrain/cw_constrain/shared/shared_utils.py\u001b[0m in \u001b[0;36mget_cw_search_parms\u001b[0;34m(run, search)\u001b[0m\n\u001b[1;32m     89\u001b[0m         \u001b[0mfdotmax\u001b[0m \u001b[0;34m=\u001b[0m \u001b[0;36m1e-8\u001b[0m\u001b[0;34m\u001b[0m\u001b[0;34m\u001b[0m\u001b[0m\n\u001b[1;32m     90\u001b[0m \u001b[0;34m\u001b[0m\u001b[0m\n\u001b[0;32m---> 91\u001b[0;31m     \u001b[0;32mreturn\u001b[0m \u001b[0mfmin\u001b[0m\u001b[0;34m,\u001b[0m \u001b[0mfmax\u001b[0m\u001b[0;34m,\u001b[0m \u001b[0mfdotmin\u001b[0m\u001b[0;34m,\u001b[0m \u001b[0mfdotmax\u001b[0m\u001b[0;34m\u001b[0m\u001b[0;34m\u001b[0m\u001b[0m\n\u001b[0m\u001b[1;32m     92\u001b[0m \u001b[0;34m\u001b[0m\u001b[0m\n\u001b[1;32m     93\u001b[0m \u001b[0;32mdef\u001b[0m \u001b[0mget_cw_search_TFFTs\u001b[0m\u001b[0;34m(\u001b[0m\u001b[0mrun\u001b[0m\u001b[0;34m,\u001b[0m \u001b[0msearch\u001b[0m\u001b[0;34m,\u001b[0m \u001b[0mfs_UL\u001b[0m\u001b[0;34m)\u001b[0m\u001b[0;34m:\u001b[0m\u001b[0;34m\u001b[0m\u001b[0;34m\u001b[0m\u001b[0m\n",
      "\u001b[0;31mUnboundLocalError\u001b[0m: local variable 'fmin' referenced before assignment"
     ]
    },
    {
     "data": {
      "image/png": "[encoded data removed]",
      "text/plain": [
       "<Figure size 640x480 with 1 Axes>"
      ]
     },
     "metadata": {},
     "output_type": "display_data"
    }
   ],
   "source": [
    "\n",
    "\n",
    "colors = ['b','g','r','k']\n",
    "linesty = ['dotted','--','-.','-']\n",
    "\n",
    "\n",
    "\n",
    "fig, ax = plt.subplots()\n",
    "ax.grid(True)\n",
    "\n",
    "for i in range(len(m1s)):\n",
    "    rate_density,Mcs,ftilde_equal,ftilde_asymm,m2=pbh_get_constraints(m1s[i],run,search)\n",
    "\n",
    "    ax.loglog(m2.T,ftilde_asymm.T,color=colors[i],label=labels[i],linestyle=linesty[i])\n",
    "\n",
    "    \n",
    "# Create separate y-axis for equal-mass case    \n",
    "ax_top = ax.twiny()\n",
    "ax_top.loglog(2**(1/5)*Mcs,ftilde_equal.transpose(),'m-',label=r'$m_1=m_2$',linewidth=0.6)\n",
    "\n",
    "# Do this so that the rate density can appear as color for the equal-mass case\n",
    "sc=ax_top.scatter(2**(1/5)*Mcs,ftilde_equal.transpose(),c=(rate_density.transpose()),cmap=choice_cmap,norm=mpl.colors.LogNorm(),marker='.',s=50)\n",
    "ax_top.set_xscale('log')\n",
    "cbar = fig.colorbar(sc, ax=ax)\n",
    "\n",
    "# Labelling and coloring\n",
    "cbar.set_label(label=r'rate density (kpc$^{-3}$ yr$^{-1}$)',rotation=270, labelpad=18)\n",
    "ax_top.set_xlabel(r'$M_{\\rm PBH}$ ($M_{\\odot}$)',size=14)\n",
    "ax.set_xlabel(r'$m_2$ ($M_{\\odot}$)',size=14)\n",
    "ax.set_ylabel(r'$\\tilde{f}$',size=14)\n",
    "ax_top.set_xlabel(r'$M_{\\rm PBH}$ ($M_{\\odot}$)',size=14)\n",
    "ax_top.tick_params(axis='x', labelcolor='m')\n",
    "ax_top.spines['top'].set_color('m')\n",
    "\n",
    "# Get legend handles and labels from both axes\n",
    "handles_ax, labels_ax = ax.get_legend_handles_labels()\n",
    "handles_top, labels_top = ax_top.get_legend_handles_labels()\n",
    "\n",
    "# Combine them\n",
    "combined_handles = handles_ax + handles_top\n",
    "combined_labels = labels_ax + labels_top\n",
    "\n",
    "# Create one legend on ax (or ax_top, whichever you prefer)\n",
    "ax.legend(combined_handles, combined_labels, title=r'$m_1$ ($M_\\odot$)', loc='lower right')\n",
    "\n",
    "# fig.savefig(savedir+'ftilde_vs_m2_diff_m1s_and_equal.pdf',format='pdf', bbox_inches='tight')\n"
   ]
  },
  {
   "cell_type": "markdown",
   "metadata": {},
   "source": [
    "Above, the colorbar shows the model-independent rate density and refers to the circular points joined by the magneta line. That magenta line only refers to the top, magenta x-axis.\n",
    "\n",
    "The different colored curves correspond to different choices of $m_1$, and these curves should be referred to the bottom x-axis only. \n",
    "\n",
    "For equal mass and asymmetric mass-ratio cases, the input rate densties to constrain $\\tilde{f}$ are the same."
   ]
  },
  {
   "cell_type": "markdown",
   "metadata": {},
   "source": [
    "# Use the rate density upper limits to constrain your own PBH function"
   ]
  },
  {
   "cell_type": "markdown",
   "metadata": {},
   "source": [
    "### Specify the value of $m_1$, the run and the search whose upper limits you wish to use"
   ]
  },
  {
   "cell_type": "code",
   "execution_count": 5,
   "metadata": {},
   "outputs": [],
   "source": [
    "m1 = 2.5\n",
    "run='O4a'\n",
    "search = 'powerflux'\n",
    "lin_flag = 1"
   ]
  },
  {
   "cell_type": "markdown",
   "metadata": {},
   "source": [
    "### Compute the model-independent rate density upper limit as a function of chirp mass"
   ]
  },
  {
   "cell_type": "code",
   "execution_count": 6,
   "metadata": {},
   "outputs": [],
   "source": [
    "Mcs = np.logspace(-7, -4, 50)\n",
    "rate_density,_,ftilde_equal,ftilde_asymm,m2=pbh_get_constraints(m1,run,search,lin_flag,Mcs)"
   ]
  },
  {
   "cell_type": "markdown",
   "metadata": {},
   "source": [
    "The above code outputs a PBH-model-independent rate density $=\\mathcal{R}_{95\\%}$, which can be used directly to constrain any PBH model that relates a rate density to $f_{\\rm PBH}$. Basically\n",
    "\n",
    "\\begin{equation}\n",
    "\\mathcal{R}_{95\\%} = \\mathcal{R}\\propto f_{\\rm sup}f(m_1)f(m_2)f_{\\rm PBH}F(m_1,m_2)\n",
    "\\end{equation}\n",
    "\n",
    "Thus, you can code up your own expression for $\\mathcal{R}$, or, if you wish to use the prescriptions given above and change the mass functions for $m_1$ $m_2$, or the suppression factor $f_{\\rm sup}$, you can directly use $\\tilde{f}$. Two values are output for $\\tilde{f}$ from the code: one assuming equal-mass objects, and one for asymmetric mass-ratio objects"
   ]
  },
  {
   "cell_type": "code",
   "execution_count": 7,
   "metadata": {},
   "outputs": [],
   "source": [
    "def constrain_your_fpbh(rate_density, fm1, fm2,fsup):\n",
    "    \"\"\"\n",
    "    User-implemented function to map your rate density to the effective parameter f_PBH.\n",
    "\n",
    "    Parameters\n",
    "    ----------\n",
    "    rate_density : float or array-like\n",
    "        The merger rate density [e.g., in kpc⁻³ yr⁻¹].\n",
    "\n",
    "    fm1 : float\n",
    "        The fraction of PBHs in the first mass bin (or mass distribution parameter).\n",
    "\n",
    "    fm2 : float\n",
    "        The fraction of PBHs in the second mass bin (or other relevant mass distribution parameter).\n",
    "    \n",
    "    fsup : float\n",
    "        Suppression of binary formation parameter.\n",
    "\n",
    "    Returns\n",
    "    -------\n",
    "    fpbh : float\n",
    "        The effective PBH fraction corresponding to the given merger rate density and mass fractions.\n",
    "\n",
    "    Notes\n",
    "    -----\n",
    "    You must define this function based on how your physical model links the observed or predicted \n",
    "    rate density to f_PBH. This varies depending on your assumptions (e.g., clustering, binaries \n",
    "    formed in the early universe, mass function, etc.).\n",
    "    \"\"\"\n",
    "    raise NotImplementedError(\"You must implement this function based on your PBH model.\")\n"
   ]
  },
  {
   "cell_type": "code",
   "execution_count": null,
   "metadata": {},
   "outputs": [],
   "source": []
  },
  {
   "cell_type": "code",
   "execution_count": null,
   "metadata": {},
   "outputs": [],
   "source": []
  },
  {
   "cell_type": "code",
   "execution_count": null,
   "metadata": {},
   "outputs": [],
   "source": []
  },
  {
   "cell_type": "code",
   "execution_count": null,
   "metadata": {},
   "outputs": [],
   "source": []
  },
  {
   "cell_type": "code",
   "execution_count": null,
   "metadata": {},
   "outputs": [],
   "source": []
  },
  {
   "cell_type": "code",
   "execution_count": null,
   "metadata": {},
   "outputs": [],
   "source": []
  },
  {
   "cell_type": "code",
   "execution_count": 10,
   "metadata": {},
   "outputs": [
    {
     "name": "stdout",
     "output_type": "stream",
     "text": [
      "Once deleted, variables cannot be recovered. Proceed (y/[n])? y\n"
     ]
    }
   ],
   "source": [
    "%reset"
   ]
  },
  {
   "cell_type": "code",
   "execution_count": null,
   "metadata": {},
   "outputs": [],
   "source": []
  }
 ],
 "metadata": {
  "kernelspec": {
   "display_name": "Python 3 (ipykernel)",
   "language": "python",
   "name": "python3"
  },
  "language_info": {
   "codemirror_mode": {
    "name": "ipython",
    "version": 3
   },
   "file_extension": ".py",
   "mimetype": "text/x-python",
   "name": "python",
   "nbconvert_exporter": "python",
   "pygments_lexer": "ipython3",
   "version": "3.9.13"
  }
 },
 "nbformat": 4,
 "nbformat_minor": 4
}
